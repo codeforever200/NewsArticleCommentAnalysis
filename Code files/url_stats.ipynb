{
  "nbformat": 4,
  "nbformat_minor": 0,
  "metadata": {
    "colab": {
      "name": "url_stats.ipynb",
      "provenance": []
    },
    "kernelspec": {
      "display_name": "Python 3",
      "name": "python3"
    },
    "language_info": {
      "name": "python"
    }
  },
  "cells": [
    {
      "cell_type": "code",
      "metadata": {
        "id": "0Rkrmg0MY2R5"
      },
      "source": [
        "import pandas as pd\n",
        "import numpy as np\n",
        "import csv\n",
        "import pylab as pl"
      ],
      "execution_count": null,
      "outputs": []
    },
    {
      "cell_type": "code",
      "metadata": {
        "id": "QRQYs6GxU29Z"
      },
      "source": [
        "df1 = pd.read_csv(\"/content/all_long_urls.csv\")\n",
        "df2 =pd.read_csv(\"/content/all_short_url.csv\")"
      ],
      "execution_count": null,
      "outputs": []
    },
    {
      "cell_type": "code",
      "metadata": {
        "id": "QCBc58QFZIqi"
      },
      "source": [
        "frames = [df1, df2]\n",
        "df3 = pd.concat(frames)\n",
        "df3"
      ],
      "execution_count": null,
      "outputs": []
    },
    {
      "cell_type": "code",
      "metadata": {
        "id": "3dm9bA55av_I"
      },
      "source": [
        "df3[['articleID','commentID']] = df3['article_id'].str.split('_',n=1, expand=True)\n",
        "df3"
      ],
      "execution_count": null,
      "outputs": []
    },
    {
      "cell_type": "code",
      "metadata": {
        "colab": {
          "base_uri": "https://localhost:8080/",
          "height": 417
        },
        "id": "fK21OqTjf9zY",
        "outputId": "1acec4b5-8bb8-4619-c798-de2f9182436f"
      },
      "source": [
        "df3 = df3[df3.month != 2019]\n",
        "df3"
      ],
      "execution_count": null,
      "outputs": [
        {
          "data": {
            "text/html": [
              "<div>\n",
              "<style scoped>\n",
              "    .dataframe tbody tr th:only-of-type {\n",
              "        vertical-align: middle;\n",
              "    }\n",
              "\n",
              "    .dataframe tbody tr th {\n",
              "        vertical-align: top;\n",
              "    }\n",
              "\n",
              "    .dataframe thead th {\n",
              "        text-align: right;\n",
              "    }\n",
              "</style>\n",
              "<table border=\"1\" class=\"dataframe\">\n",
              "  <thead>\n",
              "    <tr style=\"text-align: right;\">\n",
              "      <th></th>\n",
              "      <th>article_id</th>\n",
              "      <th>main_site</th>\n",
              "      <th>year</th>\n",
              "      <th>month</th>\n",
              "      <th>day</th>\n",
              "      <th>section</th>\n",
              "      <th>subsection</th>\n",
              "      <th>news</th>\n",
              "      <th>articleID</th>\n",
              "      <th>commentID</th>\n",
              "    </tr>\n",
              "  </thead>\n",
              "  <tbody>\n",
              "    <tr>\n",
              "      <th>0</th>\n",
              "      <td>1375199_31369748</td>\n",
              "      <td>www.nytimes.com</td>\n",
              "      <td>2019</td>\n",
              "      <td>4</td>\n",
              "      <td>2</td>\n",
              "      <td>world</td>\n",
              "      <td>canada</td>\n",
              "      <td>quebec-montreal-head-scarf-religion.html</td>\n",
              "      <td>1375199</td>\n",
              "      <td>31369748</td>\n",
              "    </tr>\n",
              "    <tr>\n",
              "      <th>1</th>\n",
              "      <td>1375200_31321557</td>\n",
              "      <td>www.nytimes.com</td>\n",
              "      <td>2019</td>\n",
              "      <td>3</td>\n",
              "      <td>31</td>\n",
              "      <td>arts</td>\n",
              "      <td>television</td>\n",
              "      <td>billions-chickentown-review.html</td>\n",
              "      <td>1375200</td>\n",
              "      <td>31321557</td>\n",
              "    </tr>\n",
              "    <tr>\n",
              "      <th>2</th>\n",
              "      <td>1375201_31346462</td>\n",
              "      <td>www.nytimes.com</td>\n",
              "      <td>2019</td>\n",
              "      <td>4</td>\n",
              "      <td>2</td>\n",
              "      <td>arts</td>\n",
              "      <td>television</td>\n",
              "      <td>stephen-colbert-joe-biden-misconduct.html</td>\n",
              "      <td>1375201</td>\n",
              "      <td>31346462</td>\n",
              "    </tr>\n",
              "    <tr>\n",
              "      <th>3</th>\n",
              "      <td>1375702_31367328</td>\n",
              "      <td>www.nytimes.com</td>\n",
              "      <td>2019</td>\n",
              "      <td>4</td>\n",
              "      <td>3</td>\n",
              "      <td>world</td>\n",
              "      <td>europe</td>\n",
              "      <td>theresa-may-jeremy-corbyn-brexit.html</td>\n",
              "      <td>1375702</td>\n",
              "      <td>31367328</td>\n",
              "    </tr>\n",
              "    <tr>\n",
              "      <th>4</th>\n",
              "      <td>1375209_31323670</td>\n",
              "      <td>www.nytimes.com</td>\n",
              "      <td>2019</td>\n",
              "      <td>4</td>\n",
              "      <td>1</td>\n",
              "      <td>us</td>\n",
              "      <td>politics</td>\n",
              "      <td>trump-putin-venezuela-red-line.html</td>\n",
              "      <td>1375209</td>\n",
              "      <td>31323670</td>\n",
              "    </tr>\n",
              "    <tr>\n",
              "      <th>...</th>\n",
              "      <td>...</td>\n",
              "      <td>...</td>\n",
              "      <td>...</td>\n",
              "      <td>...</td>\n",
              "      <td>...</td>\n",
              "      <td>...</td>\n",
              "      <td>...</td>\n",
              "      <td>...</td>\n",
              "      <td>...</td>\n",
              "      <td>...</td>\n",
              "    </tr>\n",
              "    <tr>\n",
              "      <th>2861</th>\n",
              "      <td>1381951_100269562</td>\n",
              "      <td>www.nytimes.com</td>\n",
              "      <td>2019</td>\n",
              "      <td>4</td>\n",
              "      <td>30</td>\n",
              "      <td>us</td>\n",
              "      <td>NaN</td>\n",
              "      <td>unc-charlotte-shooting.html</td>\n",
              "      <td>1381951</td>\n",
              "      <td>100269562</td>\n",
              "    </tr>\n",
              "    <tr>\n",
              "      <th>2862</th>\n",
              "      <td>1381951_100267509</td>\n",
              "      <td>www.nytimes.com</td>\n",
              "      <td>2019</td>\n",
              "      <td>4</td>\n",
              "      <td>30</td>\n",
              "      <td>us</td>\n",
              "      <td>NaN</td>\n",
              "      <td>unc-charlotte-shooting.html</td>\n",
              "      <td>1381951</td>\n",
              "      <td>100267509</td>\n",
              "    </tr>\n",
              "    <tr>\n",
              "      <th>2863</th>\n",
              "      <td>1382535_100419171</td>\n",
              "      <td>www.nytimes.com</td>\n",
              "      <td>2019</td>\n",
              "      <td>5</td>\n",
              "      <td>1</td>\n",
              "      <td>upshot</td>\n",
              "      <td>NaN</td>\n",
              "      <td>all-white-neighborhoods-are-dwindling-as-ameri...</td>\n",
              "      <td>1382535</td>\n",
              "      <td>100419171</td>\n",
              "    </tr>\n",
              "    <tr>\n",
              "      <th>2864</th>\n",
              "      <td>1382535_100288251</td>\n",
              "      <td>www.nytimes.com</td>\n",
              "      <td>2019</td>\n",
              "      <td>5</td>\n",
              "      <td>1</td>\n",
              "      <td>upshot</td>\n",
              "      <td>NaN</td>\n",
              "      <td>all-white-neighborhoods-are-dwindling-as-ameri...</td>\n",
              "      <td>1382535</td>\n",
              "      <td>100288251</td>\n",
              "    </tr>\n",
              "    <tr>\n",
              "      <th>2865</th>\n",
              "      <td>1382535_100264371</td>\n",
              "      <td>www.nytimes.com</td>\n",
              "      <td>2019</td>\n",
              "      <td>5</td>\n",
              "      <td>1</td>\n",
              "      <td>upshot</td>\n",
              "      <td>NaN</td>\n",
              "      <td>all-white-neighborhoods-are-dwindling-as-ameri...</td>\n",
              "      <td>1382535</td>\n",
              "      <td>100264371</td>\n",
              "    </tr>\n",
              "  </tbody>\n",
              "</table>\n",
              "<p>4340 rows × 10 columns</p>\n",
              "</div>"
            ],
            "text/plain": [
              "             article_id        main_site  ... articleID  commentID\n",
              "0      1375199_31369748  www.nytimes.com  ...   1375199   31369748\n",
              "1      1375200_31321557  www.nytimes.com  ...   1375200   31321557\n",
              "2      1375201_31346462  www.nytimes.com  ...   1375201   31346462\n",
              "3      1375702_31367328  www.nytimes.com  ...   1375702   31367328\n",
              "4      1375209_31323670  www.nytimes.com  ...   1375209   31323670\n",
              "...                 ...              ...  ...       ...        ...\n",
              "2861  1381951_100269562  www.nytimes.com  ...   1381951  100269562\n",
              "2862  1381951_100267509  www.nytimes.com  ...   1381951  100267509\n",
              "2863  1382535_100419171  www.nytimes.com  ...   1382535  100419171\n",
              "2864  1382535_100288251  www.nytimes.com  ...   1382535  100288251\n",
              "2865  1382535_100264371  www.nytimes.com  ...   1382535  100264371\n",
              "\n",
              "[4340 rows x 10 columns]"
            ]
          },
          "execution_count": 5,
          "metadata": {},
          "output_type": "execute_result"
        }
      ]
    },
    {
      "cell_type": "markdown",
      "metadata": {
        "id": "b0SBQtV0dZ7E"
      },
      "source": [
        "All data if for the year 2019"
      ]
    },
    {
      "cell_type": "code",
      "metadata": {
        "colab": {
          "base_uri": "https://localhost:8080/",
          "height": 142
        },
        "id": "ic6-tWsKZpU7",
        "outputId": "be4f35be-a8d3-447e-b68a-e1c5cc1467b7"
      },
      "source": [
        "# Total number of articles per Month\n",
        "\n",
        "count_article = pd.DataFrame(df3.month.value_counts())\n",
        "count_article"
      ],
      "execution_count": null,
      "outputs": [
        {
          "data": {
            "text/html": [
              "<div>\n",
              "<style scoped>\n",
              "    .dataframe tbody tr th:only-of-type {\n",
              "        vertical-align: middle;\n",
              "    }\n",
              "\n",
              "    .dataframe tbody tr th {\n",
              "        vertical-align: top;\n",
              "    }\n",
              "\n",
              "    .dataframe thead th {\n",
              "        text-align: right;\n",
              "    }\n",
              "</style>\n",
              "<table border=\"1\" class=\"dataframe\">\n",
              "  <thead>\n",
              "    <tr style=\"text-align: right;\">\n",
              "      <th></th>\n",
              "      <th>month</th>\n",
              "    </tr>\n",
              "  </thead>\n",
              "  <tbody>\n",
              "    <tr>\n",
              "      <th>4</th>\n",
              "      <td>4160</td>\n",
              "    </tr>\n",
              "    <tr>\n",
              "      <th>5</th>\n",
              "      <td>170</td>\n",
              "    </tr>\n",
              "    <tr>\n",
              "      <th>3</th>\n",
              "      <td>10</td>\n",
              "    </tr>\n",
              "  </tbody>\n",
              "</table>\n",
              "</div>"
            ],
            "text/plain": [
              "   month\n",
              "4   4160\n",
              "5    170\n",
              "3     10"
            ]
          },
          "execution_count": 6,
          "metadata": {},
          "output_type": "execute_result"
        }
      ]
    },
    {
      "cell_type": "markdown",
      "metadata": {
        "id": "qYcGJt7UTQyH"
      },
      "source": [
        "![Count vs. Month.png](data:image/png;base64,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)"
      ]
    },
    {
      "cell_type": "code",
      "metadata": {
        "colab": {
          "base_uri": "https://localhost:8080/",
          "height": 973
        },
        "id": "T1KmbQuAtxo0",
        "outputId": "44a39712-d85b-486e-9b27-529b9aea33bc"
      },
      "source": [
        "# Total count of section for year 2019\n",
        "\n",
        "count_section = pd.DataFrame(df3.section.value_counts())\n",
        "count_section"
      ],
      "execution_count": null,
      "outputs": [
        {
          "data": {
            "text/html": [
              "<div>\n",
              "<style scoped>\n",
              "    .dataframe tbody tr th:only-of-type {\n",
              "        vertical-align: middle;\n",
              "    }\n",
              "\n",
              "    .dataframe tbody tr th {\n",
              "        vertical-align: top;\n",
              "    }\n",
              "\n",
              "    .dataframe thead th {\n",
              "        text-align: right;\n",
              "    }\n",
              "</style>\n",
              "<table border=\"1\" class=\"dataframe\">\n",
              "  <thead>\n",
              "    <tr style=\"text-align: right;\">\n",
              "      <th></th>\n",
              "      <th>section</th>\n",
              "    </tr>\n",
              "  </thead>\n",
              "  <tbody>\n",
              "    <tr>\n",
              "      <th>opinion</th>\n",
              "      <td>746</td>\n",
              "    </tr>\n",
              "    <tr>\n",
              "      <th>us</th>\n",
              "      <td>678</td>\n",
              "    </tr>\n",
              "    <tr>\n",
              "      <th>crosswords</th>\n",
              "      <td>559</td>\n",
              "    </tr>\n",
              "    <tr>\n",
              "      <th>world</th>\n",
              "      <td>422</td>\n",
              "    </tr>\n",
              "    <tr>\n",
              "      <th>nyregion</th>\n",
              "      <td>350</td>\n",
              "    </tr>\n",
              "    <tr>\n",
              "      <th>well</th>\n",
              "      <td>260</td>\n",
              "    </tr>\n",
              "    <tr>\n",
              "      <th>business</th>\n",
              "      <td>162</td>\n",
              "    </tr>\n",
              "    <tr>\n",
              "      <th>health</th>\n",
              "      <td>143</td>\n",
              "    </tr>\n",
              "    <tr>\n",
              "      <th>arts</th>\n",
              "      <td>139</td>\n",
              "    </tr>\n",
              "    <tr>\n",
              "      <th>magazine</th>\n",
              "      <td>126</td>\n",
              "    </tr>\n",
              "    <tr>\n",
              "      <th>sports</th>\n",
              "      <td>97</td>\n",
              "    </tr>\n",
              "    <tr>\n",
              "      <th>upshot</th>\n",
              "      <td>96</td>\n",
              "    </tr>\n",
              "    <tr>\n",
              "      <th>dining</th>\n",
              "      <td>81</td>\n",
              "    </tr>\n",
              "    <tr>\n",
              "      <th>realestate</th>\n",
              "      <td>70</td>\n",
              "    </tr>\n",
              "    <tr>\n",
              "      <th>books</th>\n",
              "      <td>51</td>\n",
              "    </tr>\n",
              "    <tr>\n",
              "      <th>travel</th>\n",
              "      <td>47</td>\n",
              "    </tr>\n",
              "    <tr>\n",
              "      <th>science</th>\n",
              "      <td>46</td>\n",
              "    </tr>\n",
              "    <tr>\n",
              "      <th>theater</th>\n",
              "      <td>39</td>\n",
              "    </tr>\n",
              "    <tr>\n",
              "      <th>style</th>\n",
              "      <td>37</td>\n",
              "    </tr>\n",
              "    <tr>\n",
              "      <th>technology</th>\n",
              "      <td>36</td>\n",
              "    </tr>\n",
              "    <tr>\n",
              "      <th>movies</th>\n",
              "      <td>29</td>\n",
              "    </tr>\n",
              "    <tr>\n",
              "      <th>reader-center</th>\n",
              "      <td>23</td>\n",
              "    </tr>\n",
              "    <tr>\n",
              "      <th>lens</th>\n",
              "      <td>20</td>\n",
              "    </tr>\n",
              "    <tr>\n",
              "      <th>fashion</th>\n",
              "      <td>17</td>\n",
              "    </tr>\n",
              "    <tr>\n",
              "      <th>learning</th>\n",
              "      <td>17</td>\n",
              "    </tr>\n",
              "    <tr>\n",
              "      <th>obituaries</th>\n",
              "      <td>14</td>\n",
              "    </tr>\n",
              "    <tr>\n",
              "      <th>climate</th>\n",
              "      <td>11</td>\n",
              "    </tr>\n",
              "    <tr>\n",
              "      <th>podcasts</th>\n",
              "      <td>10</td>\n",
              "    </tr>\n",
              "    <tr>\n",
              "      <th>education</th>\n",
              "      <td>10</td>\n",
              "    </tr>\n",
              "    <tr>\n",
              "      <th>sunday-review</th>\n",
              "      <td>4</td>\n",
              "    </tr>\n",
              "  </tbody>\n",
              "</table>\n",
              "</div>"
            ],
            "text/plain": [
              "               section\n",
              "opinion            746\n",
              "us                 678\n",
              "crosswords         559\n",
              "world              422\n",
              "nyregion           350\n",
              "well               260\n",
              "business           162\n",
              "health             143\n",
              "arts               139\n",
              "magazine           126\n",
              "sports              97\n",
              "upshot              96\n",
              "dining              81\n",
              "realestate          70\n",
              "books               51\n",
              "travel              47\n",
              "science             46\n",
              "theater             39\n",
              "style               37\n",
              "technology          36\n",
              "movies              29\n",
              "reader-center       23\n",
              "lens                20\n",
              "fashion             17\n",
              "learning            17\n",
              "obituaries          14\n",
              "climate             11\n",
              "podcasts            10\n",
              "education           10\n",
              "sunday-review        4"
            ]
          },
          "execution_count": 16,
          "metadata": {},
          "output_type": "execute_result"
        }
      ]
    },
    {
      "cell_type": "markdown",
      "metadata": {
        "id": "qlTd01_UUpTR"
      },
      "source": [
        "![count.png](data:image/png;base64,iVBORw0KGgoAAAANSUhEUgAAAxMAAAHDCAYAAABf+0dWAACAAElEQVR4XuydCXxUVZq3v9m+b76Z6fl6pqc3nUFtF1RsRXaRHWQL+yKICtrtTNubdruDCiKyoyIKStg3WWXJStgCBELYQhKyQPZ9r6T2PfV+dU6om3vvqapUilQSwv/p3//XVffeJDO0lOfJed/3/C8CAAAAAAAAgCD4X+oLAAAAAAAAABAIkAkAAAAAAABAUEAmAAAAAAAAAEEBmQAAAAAAAAAEBWQCAAAAAAAAEBSQCQAAAAAAAEBQQCYAAAAAAAAAQQGZAAAAAAAAAAQFZAIAAAAAAAAQFJAJAAAAAAAAQFBAJgAAAAAAAABBAZkAAAAAAAAABAVkAgAAAAAAABAUkAkAAAAAAABAUEAmAAAAAAAAAEEBmQAAAAAAAAAEBWQCAAAAAAAAEBSQCQAAAAAAAEBQQCYAAAAAAAAAQQGZAAAAAAAAAAQFZAIAAAAAAAAQFJAJAAAAAAAAQFBAJgAAAAAAAABBAZkAAAAAAAAABAVkAgAAAAAAABAUkAkAAAAAAABAUEAm3LhcLkpOTlZfBgAAAAAAAPgBMuHm888/p3fffVd9GQAAAAAAAOAHyIQbJhKQCQAAAAAAAFoGZIIgEwAAAAAAAARDm8iExWKhI0eO0GeffUZz586ltWvXUklJifoxstvtFBsbS0uWLKEPPviAli5dSkePHiWHw6F4ztfiX33d8766upo2btxI8+bNo08++YQiIyPJ6XQqnpEHAAAAAAAA0DwhlwkmAl988YWwYP/4449Jp9NJz7HF/bfffis8x7J+/XpqaGiQnvW16Fdf97xftGiR8D2PHTumeEYeAAAAAAAAQPOEXCbOnj3LF+hsl4HtRphMJtq8eTO/dvDgQem5xMREfm3BggWUmZnJdzMyMjL4e3b9woUL0rO+Fv3q6573rMG6tLSUjEYj3yFh15YtWyY8BwAAAAAAAAickMuEZ7chLS1NusbKjjyC4WHdunX8WlJSknSNwSSCXWelUR58Lf7V1z3vc3NzpWtsN4RdY2VU6ucAAAAAAAAAgRNymfDsLOj1evUtBfPnz+fPabVaxfX6+np+nZVFefC1+Fdf97y3Wq3SNVYu5es5AAAAAAAAQOCEXCbef/99vlD3NDz7wvOcutmavWfXm9tJYAfPqa+r3/u6rn4PAAAAAAAAaJ6QywTbUWALdYPBoL6lwLMzwXYi5NTV1fHrCxculK55Fv/ypmzWY6GWAvV7X9fV7wEAAAAAAADNE3KZWLNmDV+op6enS9c0Gg2/Ju+ZYD0R7Jq6Z8LTmM16LzywXQp2TS4o2dnZghSo3/u6rn4PAAAAAAAAaJ6Qy8SpU6f4Qn3lypVUWVnJJypt3bqVXzt06JD03Llz5/g1X9Oczp8/Lz3LJjGxa3Fxcbwfory8nFatWiVIgfq9r+ueEis28QkAAAAAAAAQGCGXCZvNRitWrJAW8J6ww+PkOwusp+Kbb74RnmNhuxLykiZ2sJ36GY+gyCVB/d7X9cWLF0vXPv30U9mTAAAAAAAAAF+EXCYYTBr27NnDdxnYCdjh4eFUUVGhfoyLR3R0NF/cs1ImtgPBDpdTN2Uz8YiKiuJC8tFHH3GRYDseaklQv/d1PSsriwsP+5nsZwMAAAAAAACap01kAgAAAAAAAND5gEwAAAAAAAAAggIyAQAAAAAAAAgKyAQAAAAAAAAgKCATAAAAAAAAgKCATAAAAAAAAACCAjIBAAAAAAAACArIBAAAAAAAACAoIBMAAAAAAACAoIBMAAAAAAAAAIICMgEAAAAAAAAICsgEAAAAAAAAICggEwAAAAAAAICggEwAAAAAAAAAggIyAQAAAAAAAAgKyAQAAAAAAAAgKCATAAAAAAAAgKCATAAAAAAAAACCAjIBAAAAAAAACArIBAAA3GVU1tRSQWkpXbmWSfFnL/McizxGh74/QKcPRBLtb8zNwxEUd+oaxaU5hCTccFJKYWNKNQ1UoXWRzuxS/ygAAACdHMgEAAB0Alzu/zhcLrI1NJDV2UBmh5M+eud39NsXxtLzYf1pSK8HaMbMCfR3D3eV8vTgafQ3P3qaZ0j3ofTYvz1A0/o9R/RfPXhOTJpJv/3dpzRssbFFGbvCSLO+MdGb2y300T4LLY+00tazNjp42U7nbjopp7KB9BaIBwAAdAYgEwAAcIfQ4JYFe4ODGuxmIouOyFRHZKgh0lWQ01RPGqtNkQkjetDDP/8bKdOmPKeQib4jX5BkYnjvUVwmJvUeJsnEySBlItCMW2mi34abad5eC607bqOIqw5KK3ZSvQmiAQAAdwqQCQAA6HC4F9MNdrI5rGSwm0hr1VOtpZ5qzHU8FrOWSFuuiMtQK8jEm6+/qJCJKeMGKWTi2fEvSTIxsn8Yl4mwp4dIMnFq0gshlQl/mfi5if64xUyrY210+IqdbpQ3kNWu/nMCAADQ3kAmAACgvXG5V8lOE5HDLQm2GiJrOY/V2iQQ8hgt3mSiWpCJz5cvUMjEuOd6K2Ri8OTZkkyMGjSJy8SopwZIMnF68qx2kwlvGe4O28n47LCVfrhkp5sVDeRsUP9hAgAAaEsgEwAA0Ja4XG53sJPLZCKXUe+WhgpJHtRx2ESRYNF5kQlW6qSWid3fb1HIxHPPPqaQiaHT5kgyMWboVC4Tw7s9I8nEmcnttzMRaMasMNJfdlgo/JSNzmc7yWhFiRQAALQlkAkAAAg1Drc8mN3yoNNSg6aWGmprGuN+rRYIeVz2GkEkWOq8yYQ79RaLQiZOxMcpZOLZJ+9VysT0JpkYO2IGl4lBj/SWZOLslBc7vEyoM3yJkX6/2czl4kq+k6wO9f8YAAAAWhPIBAAAtDKs9MZuc4jy4CVkbiprElMpiARLrbleEAkWg8WskIlr11MUMvHkA/+ikIlhzzfJxLhRs7hM9H/waUkmznWwMqdgMmqZkf6600LfJ9qpqAY1UQAA0NpAJgAAoBVwOIlMNhefRFRrcJHe5BTEwVtcbCKTIBFN0coar+VxGqoFmbBYjAqZyC0uUsgEyz93e0KSiSHPvyzJxPgxL3OZ6NPl15JMnL8Ddyaay6y1Jvo6rnHXwu5U/68IAACgpUAmAAAgSNhilNXo1xkbBUIejfuaWhy8xaWrFwRCHpPNu0zYjBpBJmwWvUImyus0gkx06dtXkomB02Y17UyEzeEy8fQ9j0sykTi588mEPGErTbT4sJUfwGdDORQAAAQFZAIAAALE5SKqtFhJa3ZyWVALhDo2vVGQByHuBb9aIOSx+2jCNnsZD+twX5PLRI3JLMjEE8MGSzLRb/LzMpl4hcvEr3/2sCQTFzq5TMjDxeKIlR+qB7EAAIDAgUwAAEAz6OwOytTq6XhFNUWXVVKOziSIg7eYTHZRHryErNWCRHjSYKsVRILFwA6tU8lEg1GjkIk6d9Qy0X/sSEkmeoyfJMlEWNirXCYe//dfkatLTy4TFzthmVMgGbfKRCujrPwAPQAAAP6BTAAAgBdsDQ1UYDRRQnUtFwh5LtTUCeLgLfXGBkEcvMVv34StWhAJFq0XmXAZahQywTKo530KmRgxcawkE91Gj20aDTu2cWeCxf5AXy4Tl+5SmZDnxbUm2p5gp0otRs4CAIA3IBMAAHALTxnTFU09xZQrBUKeGHeqDE5BHrzFUV8vyIM6LoP/vgmNWeyb0HgbD6urFGTiN7PGKmRi3LRxkkw8OGS4JBOjRjfJhPmRxrMmLk956a6XCXne2WWhM1kOcmAoFAAASEAmAADAZiQqukQ1BVcEcfCVbK1REAdvsRisgjwI0frZmXDH4OMkbJe+QhCKercMyWVi4YdvKmRi8rQwSSbu6ddfkokRMpnQPz6Iy8QVyITXTP/KRFvO2Khaj90KAACATAAA7l507sX4jeNEiRuIzq8n1+WdFFtaLoiDtyRWB1bqFOiIWLL4Pgnb6mOik8NQK8iE3qo8uG7ThjUKmZg6ranM6V+fbBQJlqHPNU5zYtH8eiiXieQpL0Mm/OS5pUb6eL+FkgvQWwEAuHuBTAAA7i5cDURVN4lSDnCBUCevKF0QB29hpU6VeocgD+oEPCLW7Huqk9OmEUSCxcp6LVQyYbaYFDIRFX1QIRPTJj8nycTfP/Io/d3/68llYtDwxnMmWKp6jOAycW0ydiYCzf9sNNOJ6yiBAgDcfUAmAAB3B047UVka0eWdgkDIY78eKYiDr9yoD6zUyaprfkSsy+i71Mll996EbfLSN2G1GBQyceFSokImpowbJMkE352491kuE88MbjwBm6W010guEynYmWhxZqwx0b4kOz9/BAAA7gYgEwCAzo3dQlR0mejiVkEcvCeckkoLBXHwlnM1GkEcvCWQEbEurb8m7ApBJFj0XiY6Ocw6hUxk5d5UyMT453orZOKXXRubsHsNmCnJRGHfMVwmUiETQWf8KhNtOm0jnRlSAQDo3EAmAACdEqvTRtdrb1JRbrwXYfCf+uwEQRx8pSKAUidtICNiNbVeJKIpOovYN1HvRSacxjqFTJRUVSlkYuSAxxUy8eDTjeNhn+o7VZKJ3P5hXCbSIBO3HXYY3vqTNqo3QSoAAJ2Tu0omHI7AjjUN9DkAQMfD5rRTem02Hck/SQdzj1Fc4RlyJW4UhMFvLm2jOD+jYeXJ0hoEefCWQEbEkoUdYCeKBIvZphVkotYtGGqZcBlrFTJRpdcrZGJA9/9SyMQT/SdzmXisx0RJJm4MnMBlIh0y0WoZs8JI6064pcIIqQAAdC7uGJm455571JdazODBg9WXvBLocwCAjoO9wU4ZmhyKyD/FJUKeouyTojA0k8LCVEEcvOVsda0gDt4SyIhYf4fX2W1imRNLg65KKRT6KoVMaKxWhUw8+asfKWSi57DnuUz86okwSSauD5kMmQhR2E4FGytrQk8FAIACX98G+lx7cFfJRKDfI9DnAADtT4OrgbLrCykyP16QCE+OF54l1/lwQRj8xZF2RBAHXyk32AV5UCeQEbEuve++iQZbrSASLHaTOB5WKRM2euqBHymE4p8e7ybJxDOjZ3GZuPeR5ySZuDZsCpeJTExzClkmf2mi/Ul2smOqLADgDifkMsEW5qtXr6aRI0fy93q9nl577TXq2rUr/eY3vyGDwSA9m5ycTOPHj6eHHnqIunfvTvv375fuyRf4/r5HTEwMdenShR544AEKCwujpKQkfp19vScMXz9L/Zy/nwUAaF9KDBV0tChBkAdvKc0+IQhDc7lcki+Ig7dk1jdf6hTQiNh63zsTZKsSRILFYhZLnXRW5cF1U0f3VcjEvX2bmrAHjn+Zy8RP7xsqycSlEdO4TGRhZyLkmfm1ieLSHIR9CgDubOrr62n27Nl8vThnzhzSarXSPbamjIiI4PcmT55MNTU1invy1+Hh4dSvXz++lo2NjfX6XHM/y9f3CBVtIhPbtm0jnU7H38+fP5+ysrLI6v6X3aFDh2jRokXSs6y8KCoqit/bvXs3PfHEE9I9+R+iv+/B/uDYz3M6nfx79e/fX7on/x6t8bMAAO0DW0THlyQJwuAvJwsTBFloLrqbZwRx8JYzVYGVOtm0BlEgVCFrpSgSt6KxiDJh9DIe1qg6a+LtN15RyMQTQwdLMjFkyhwuEz/6xbOSTCSOfJ7LxA3IRJvl95vNlF6CbQoA7lTmzZtHGzduJKPRyBfzc+fOle6xdeUbb7zBf0HN7r311luKe/LXH374IZlMJoqOjuZrWm/PNfezfH2PUNEmMiE3sD59+kgNzg0NDfTMM89I9+SwZ9R/wB78fY+ZM2fynYSEhAQym83SdYb8e8gJ9mcBANoYp5FcmpNUVXVCkIVAUn7jmCAMfnNxCx0vC+xE7DJ986VOJpNNkAd1/B1eZ7SKE510XmTCojprYvXnixQy0W9008F1Q6e/wmXi73/cU5KJs6NncJm4CZlo8yw+YqVqPfYpALjT6Nu3r7RDwHYOevbsKd1j68qCggLpHquIkd+Tv/a3a+GhuZ/l63uEijaRCZer6YPx/vvv59c8ue+++6R7dXV1vCSKyQDbnvH1h+jve9TW1tKUKVP4NVbClJqaKt2Tf4/W+FkAgDbC1UAufQo1lG2lhtIN7v/eQvGFjdOaWpL4onOiMDSTkvxkQRy8Jb2u+VKnQEbEuoy++yZsNlEm6rzIhF111sT+fTsUMjF80lhJJoY93ygTLE/+vCuXiVNjX+AykY2eiXYJm/y0PQH9FADcSbD1IvulM4NVx6h3Fex2O3/NfkGtvufttfq9em3q72fJUb8PBW0iE3J69Ojhc/TqpEmT6PPPP6eTJ0/y0iJff4j+vocHVpa0a9cun/bXmj8LABA6XNYyaqjc3ygRshiqYgRZCCSVN2IFYfAXZ8oPgjh4S3xljSAP3uKoa2ZErNZ334TTrhFkotYdtUw4TfUKmYg/e0IhE+OmhTXtTMyYLclEzy5PcpmIC3uRy0TO5NmQiXbMy9+a6WoBjAKAOwG2O8DKjhjsF9ZPPfWUdI+tKysqKqR7vXr1Utzz9lr9Xv66uZ8lR/0+FLS5TLz33nuUkZFBNpuNduzYwZugPbBGEraTwPorWD2Zrz9Ef99jyJAhvMmFCYCnGdsDe11dXc1f+/tZ8uf8/SwAQAhxmnlJk1oi5Eku9T3ByVdOF50XhKG5pBTnCfLgLSV6myAP6lgMFlEg5GGH11kqBJFgcdmqBZlgcRqqFTLhMijPmkjJSFXIxJTpTTIx+PmXJJno+1AfLhPR4xtlIncSypw6QpYcseJ8CgA6OGy9uHfvXt6rwPoY3nzzTekeW2OyPgc2xOe7776jjz76SHHP22v1e/U62N/PkqN+HwraXCZYbderr75KDz/8MI0aNYpu3rwp3WMN0QMHDuS7AewPx9cfor/vcfXqVRoxYgQXAhYmFB5ef/11evDBB/lrfz9L/py/nwUACA0uUzY1lG8X5EEdW+VBQRYCSXVmtCAM/mK8cVIQB29Jq9ML8qCOIYARsb4Pr6sQRILFZtQodyf01QqZyC8tUcjEtOlNZU7PTn1BkokBTwzgMnF4/EtcJvImQyY6SiZ+bqKoa5j6BEBHRaPR0EsvvcRL7GfNmsXfe2BrzPXr1/O1JFtTskZs+T1vr9Xv5a+b+1ly1O9DQchlAgAAAsZpIFdtrCAN/pJX0fLdiYSW7k4kbaKTZaWCPKhzsrKaarwIhDyBjIj11zeh99KEbTar+iZ0FQqZqKivU8rElKYG7D4Tp0kyMeTp4VwmDkx8mctEPmSiw+WtnRaq0EIpALiTaIsFfXsCmQAAdAhcxoymBusWxFmxi6LyWz7dqTYjUpQGPynPuyrIg7cU662CQKhj0+oFgVDIhM5334TFi0wYrDqhb0IrO2ui1mxWljmNGyTJRPewiZJMjOg7msvEnomNOxMFkIkOGXaK9pGrdvVfIQBABwUyAQAAIcTlXujar16ghpLmy5p8pbrquCALzeV8cct2JxqS9wni4C0pdTpBHtRpdkRsne/xsA6b2ISt9TLRyWgxK3Ynuv7y7ySZGD+yjyQTjz43WpKJkc+O4zKx89bOROEkTHNqi8z+PJt++0UGjVisE+75yzu7LFSJXQoAQDsDmQAAtBvO8lKyxkWSJeog2a+cEiQh4JRtodNFLR8VW5d+RJAGf0kvzhbkQZ3jFc2XOmlNzY+IJUu1IBIsLlutIBMaLzJhsRgVMjG87yOSTIwc0E2SifsHDZFkYsygyVwmtkyazWWiaCJkItR55+tE2rx5M8+Sb6OF+81l3EoTxaZi4iAAoP0ImUwcO3aM3n33XQTpdFm8eDGtW7eOvv/+e97gf+HCBT5euLKyko8kBgHgcJA99SqXCHmcuTGiKAQYYxCjYi8UJQrC4C/mrGOCPHhLka75Uienpk4QCHlcJh+lTrZKQSZYXPoKhUzYzHqFTPzP7ImSTAx4uoskEz/r3U+SibHDpnOZ2DCpcWeiGNOcQp6vwvdJMsHy/vvvC585CIIgtxu2Lg8VIZMJADorbKZzXl4enxx24sQJOnDgAD/WftWqVfwI+wULFtCXX35JW7ZsoUOHDtHp06cpJSWFioqK+Cjiu52G+jqyxscJIsFiPR5NzpIdgigEmmulLW/G1l4/KEiDz1zYSKdLm2/ETtY0X+rU3IhYl8F3E3a9ReybcBhqFTLhNGsVMrH4k3clmej+4L9KMvHPTzwpyUTYiBe4TKy71TNRjDKnkGfeN6clkVi5/rBwvyWZ+bWJrhfjXAoAQNsCmQCglWFzn0vdC8709HRKSEigyMhIfkbJmjVr6NNPP6UPPviAli1bxmdNsznR7LcFly9fppycHKqpqeGnWXZKXC5y5NwkS/RhQSLksV8OvtzJXnWADuW2rH/iYnHLdieqci8J8qDOMVbqpG8QBEIeg9EhCIQi9b77JkxeTsK2sp0MmUw0GDUKmdi6aa0kE4/84m/p/z76uCQU//snvblMjBv9IpeJNbd2JkohEyHPiMV6+t2XKfSn1VdpzNJ64X5LM2KJkbacsVEDWikAAG0EZAKANobJApMGJg9MIphMMKlgcsEkg8kGkw4mH0xCmIwwKWFywiSFycqdhstqIduFs4I4+Ioju2XjYeUpqDglCIO/MPnQp/4gSIOvuK7sphgvAqFOoc4iCIQ8dQGMiCVLpSASLDabWOZkUvVNuAw1CpmIPRqhmOh0b5/ekkz8e5fBjTIx5mUuE1/c2pkoRc/EHZu/7rTwMcQAABBq2kQmWB35nj171JcVuFwuSkxMpO3bt/OyEc+x44zCwkLaunUrDysVYbDD5A4fPiw9A0BngpVDsX/WWXkUK5Ni5VKsbIqVT7EyKlZOxcqqWHkV+/vCyq1Y2RUrv2JlWB0JNpnIeiJGEAZ/sR6LImfxLkEUAomzYifFFLRsVOzlFvZO3CjKEuRBnasarSAQ6th0zYyINdcKIsHS4GWik96iGg+rq1TIxKWrFxUy0W1I03jY/3xsZKNMjJ3DZWLFhEaZKJsAmbiTM/0rE6Wh7AmAdsfXOljeL8XC/j3vjaqqKr7m3bZtG/8Fo1arle51hDVyyGWCLYqOHDnC/5D8kZmZSVeuXCGHw0EFBQV8geTB8wfk+QNjsN/Ust/sAnA3wj6YWMM3a/xmDeCsEZw1hLPGcNYgzpqtOkKjuLMwnywx/suafMV+Mfhyp9oWjoo9lHecjNf2CdLgK5aMo4I8qBNXXtVsqZPJaBcEQiETvg6vs1ULMlGvlgkt661oOmviRl6uQib6jR4hycQjvSY09kyEvcJlYvGEF7lMlI9/ETJxh+e5pUbam4QzKQBoLwJdB7NfBrJ1sDfYmri4uJhXNqSmplJ0dLR0ryOskUMuE7t376bs7Oxm/xCjoqKotrZWfZkj/1r22mw20/79+6mhoUH2FABATrs2irv/bnqb1tTSOG7GCaIQUMo209nilpU7XW3J7kTiBjpXWiwIhDr5OrMgEPI0NyLWpfUx0ckdjVnZN1FrqRdkwmCxSDJRWlOtkIlhE8dIMvHkgKm3ZOJVLhOfjJvFZaICMtFpsuCAlUw2lD0B0NYEsg5mv+Bj/x4OpGeS/dKdVfF46Ahr5JDLBPt/iuHvD5Gxc+dOblvsvyMiIkiv10v3mGkx42KLHPaamVtaWprsqwEALSVUjeIui5ls5+IFMQgm7AwKZ9FuURYCiLkqWhAGfzmcd5xMyXtFcfCR2pwLgjyoczmAUienRiNIhBSN9zInFr1VK+xONOgqFTJhtpgkmagxGBUyETY1TJKJ3iNmNp4zMbZRJj4Km8llohIy0any23AzVdRDKABoSwJZB7N/t7LKgUAwGo18neyhI6yRQy4THvz9ITLYb0cvXbpEdrudlzkdP35cuievB8vNzaV9+/Zxy1PXiAEAWo9gGsXPHj1K13Zto/zdO6ju8D5BDtSpi/iBTJE/CNflsV04KYhCoEkpa9mo2GuFgZ+K7bqyi2JLKwSBkOcoK3Uy+i91surNokTIQuYaQSRYrF4mOtlNGoVM2CyGpr4Ji1UhE5Onj5Nkov/YlxpPwB7TWOb0wdgZXCaqIBOdLpO/NFFKkfdfBAAAQoevdTDbaWD/bmXr30Bgv3hnJU8eOsIaucPIBGsqsdls/DXbmmE7FN5gvRVJSUlea8QAAG2LvFH8cPQp2vvNN7Rp2RL6fOEnNH/eXPrQLRwrP1lA4UsX094vVtHRtWsoadN6yty5lY5s28o/F/a4//5WHzkgSIQ8jhvHBVEIJPbKA3S4BaNiD+edIPPV3YI4+EpuUYYgEOrkNVPqZDA5BIGQx9fhdU4vE50sZmWpk8OsUzRh93zk3yWZmDZ9rCQTgybO4TIxfFRjA/Y7o6dzmageNwsy0QkzcqmRIpNxajYAbYmvdXB+fj7Fx8erL3uFlS9fvHhRfVmivdbIHUYmfvjhB751w2C/EfUmE2ziE6v7NhgMQo0YAKB9YEUTGaUNfHFyNt1GxqNRkgRoj+ynon27KHXbJjob/i1FrFlNO1Yup29XruB/bz05v3uXIBCKHI0gZ9EeQRYCSWELR8WmtmB3wpYeJciDOhdr6wWBkKe5EbEuvfcmbJe9RpAJo6oJu8FYp5CJGeMHSjIxfcpISSaGTGmUiSEjZnOZeHPUtFsygZ2Jzpyv43AeBQBtha+16tmzZ/lOQnOwNfK5c+d8lxi34xq5w8gEK6NgWzfsD8mXpbHyJ891dY0YAKDtcTa4/+7mO7lIeHIp00iW6EOiEMhSfmi/QiaS9+0WnlHHlnhCEIVA4izfQbEFJwVp8JUjeSfJemWnIA7eE04XSosEgZAntryKqgxOQSLk8Tsits7X4XUVgkzoVDLhMtQqZGLuW/8jycSU8YMlmRg6/RUuEwOGvsRl4o8jp3CZqAnDzkRnz8f7LWQNrLoCAHAb+FoHHzx4kKqrq9WXFbDRsKzUmJVE+aI918jtKhPya0wimJ2x2ms22cnbwVzsOqvhZshrxNhrAEDbYnV/piXcUIqEJxnpNYIMqJO2fw8d2bGNEnbvImOkeN9bHFnHBVkIJJoqURr85XrhOS/i4D11OecEgVAnV2cSBEIek9EmSoQsZK32IhPlpLUo+ybqVAfXkb5KIRPfrFkmycSEUX0lmRg2fTaXiX6DXuAy8bvhk7hM1EIm7or8aauZtCZsUQAQSrytgxlsMpO3ce3y59l0Jvkv4Lx9r/ZcI7eZTAAAOg8mq4tOZngXCU+KkvMEGbjtxB4hZ+E+QRaaTdkmOlcUeLlTRP4psl3eIYiDt7gubae4clEg5EmqqRMEQh5dcyNizd53J0xemrAVMuGOxtp01sTBH3ZLMjFqQLemMqfnX+Yy0fPZGVwmfjNkPJcJTdhMyMRdkpe/NVNZXduNkgQAdB4gEwCAFqEzu+jYdVEe1IlOcVDVhds/a0Id2/kT1FCyURSGZmKuihKkwV8yCxIEcfCVgsI0QSDkiXGnuVInfyNiXQbvfRN2L03YTkONQiZ0Mpk4ey5ekomBT3dpasCeNovLxJN9pnKZmD0o7JZMvACZuIsyZbWJbpRDKAAALQMyAQAIGLbojU0VxcFXjqXaSRt/RhCC2409I7j+iestGBUbmX+K7Je2CeLgLfa0I4JAqJOj9V/q5HdErI/D6xpstYJM2IzK8bAmi1mSietZ6ZJMPP3Q/2saDTtlBpeJrk9P4DIx69nRXCbqxmBn4m7LuJUmSsXoWABAC4BMAAAColLr4rsNamFoLmfSbWSIixGE4LYSw8qdDgiy0Fwclfv44XRqcfCVGwVnBXHwlcslBYJAyJNY7b/UqbkRsWSpEGSCbFWCTJhVfRNWi1GSiYLyMkkmHvnF39I/dn2My0SvCVO4TDzw+FguE9P7jeQyUQ+ZuCszZoWRLuZCKAAAgQGZAAA0S3m9i6KuiaIQaC5mmsgcc1iUgtuILeE4NZRsEoShuZRUBt47EVVwihwXtwri4C26m2cFgZCHlTpV6n2XOjU7Itbs/TRsjaoJ22BVTnSyy86aqNRqJZlguad3by4TT44dz2XinodGcJmY3GcElwntaMjE3ZqRy4x0Jsv35BgAAPDQ5jJxzz33eH3tj0CfAwC0PqV1tycSnqRn1ApCcLuxpwdxOnb5Djqaf0IQB1/Jzj8jiIPXuKXjeFm5IBHy3NAaBYmQx671PSLWZfRe6mS0KmVCq9qZcJrqmyY6mS0KmXh8yCAuE11HjOQy8ZMug7lMjO85pFEmRs2ATNzFGbHESEdTIRQAAP+0q0wAADo2xbUNrSISnhSktPKEp5jD5Cz4QRSGZlLfglGx0QXx5EzaLMqDlxQXpAgCIc+5ao0gEPL4GxHr0nlvwraqmrA1KplwGWoU42Efu/cfJJnoO2YEl4kuAwdxmfjnnz3DZWL0UwO5TOhGPQ+ZuMsz3C0UMSkQCgCAb0IuExqNhqZPn05du3al77//3ufOBHsdHh5O/fr1oy5dulBsbGyLn2PHjE+dOpWeeuopPlsX4gJA8BQxkfAiBLeTaLeYVF64JkrBbcR25hgf/aoWBr9xP59YEni5U27eaUEcvMWRelAQCHUqDA5BIjzxOyJW473MyWnXCH0TLn1Fk1CozpoYPbCbJBPDJo7hMvEfPXtzmfjbf+1Bj//7r2hEt/6QCUQKEwrsUAAAfBFymXj77bdpy5YtpNfr+Wu1GMhff/jhh/ywuujoaC4KLX3uvffeo9WrV/Of9Ze//AUyAUCQlGhcAYnEofM1tGNfNG3ffZh+OFMs3PeWuDQH1Z8+LUjB7cSR1vJyJ0tVhCANvhJbcIYakjYJ8uAtySV5gkDIk6U1CBIhj78RsWQRD69z2aoFmXAYamW7ExUKmfjDb6dJMhE2JYzLxD8+1o3LBMtTv3ichnTty2VCPxIygTSGlTyxv7sAAKAm5DLRvXt30ul0/DU71lstBvLXnpP7vN2Tv/b1XI8ePai2tpa/Vv8sAEBglLWgR2LH3kjpNM4t23ZR5FW78Iy3nE63t+6Ep+hD5Cg4JAhDc8lowajY/Lx4QRy8xXDjlCAQ8pytrhUEQh6r3iRIhCcuk7e+iQpBJqzsOVmpk/ysieWfzZVkYtL0Rplg+aef9eUy0euBp+nZh3pymTA8Nx0ygUhhQnHiOoQCAKAk5DLBdg6czsYRc3a7XRADb6/V7329Vr9nP8vhaPygU/8sAEDzVPiY2nQwsZ6+P1FIWyJS6LvdZ+irzRG08pudFL5hY5NMbN3mlgmb8LW+ktTKE56s8UfdgrBFEAZ/cVTspYg8URy85SjbnUjcKMiDkKTNdLK0TJAIecoNdkEiPDH6GRHr0mu9yIRbFlQTnUyqvgmj1STJxI5t4ZJMTJ0+VpKJn/5qCJeJZx7pS33vfwoygXgNEwpMeQIAyAm5TLDdAtbLwCgrK/MpBuqFv697/p7r3bu3tDNRUlIiPAsAELFYLFRRUUGnkq/RVxFH6ettMbTq2920eNW3NH/hUnrv/Q9o3scL6dOlq2nZV1voy/AfaN2uk7T50BXaEXHJLRHbacuWrbQv7rogDM3leoZGkILbiSPllCAMzaW08qQgDr5SmHtKlAcvKcu/KgiEPBn1vkud/I6IrdcIIsFitillQm9Rjoe1WAySTBw7Hi3JxLQpIyWZ6PLEKC4TA349kHr+ZzcuE8bh0yATiJBRy4x0NR/nUAAAGgm5TMydO5fWrVvH+xg++OADn2KgXvj7uufvuY8//pi++uor/rNY/8S9994rexKAuw+2U8cEOzc3l65cuULHjx+n/fv308aNG2nVqlX87wzL0hUrae7qr+iD9Rto+Z4faNOhi7Qj9ibtP1tFRy5bBAmQJ4LtRly1CtcDTX5KgSAFQYeVO+VHCMLgN+Xb6VhBYEJxrPAsuS6EC/KgTsO1/YJAyHOmyn+pk12rE0XiVshSKciEQzXRqV4lE/KzJq5cu9K0MzFhiCQTj/aZwGViaI/h9OTPH2mUiRGQCcR7wlaaKKusQf2RAwC4Cwm5TLCF/Ysvvsh7J/bu3etTDPxJgq/X6veeaU5PPPEEn/jEJkgB0Jlh/8wXFBTQtWvXKD4+ng4dOsQnmTGpXrhwIRf4ZcuW0Xfffcf//h09epSSkpIoKyuL70awXYka9wJzWUY2zU/NkrL+ZhFFpQResnQ74ROeLqaIYhBkrKeOUkPJVlEa/ERbFSeIg68U55wQ5MFbrhdnCxIhT7ned6mT2d+IWLO4O9Fgq1XIRK2lXiET8rMmsgvzJZmYOKqfJBPdB0/lMjGi3xg+0YnJhGn4VMgE4jOTvjBRYQ2EAoC7nZDLRHvAfhu7adMmmjFjhvoWAHcMBoOBl+tdv36dEhISKCoqinbt2kVr166lxYsX07vvvsv/m71n19l99hx7nn0d+/rm0Nkd9EVWrkIkPFl3s4Ci04LfcWhJ+ISnM2cFMQg29mvxgjD4zyZKKg6sGft44Vm3LDS/O2HKOiEIhDzpdb5LnfyNiPV6eJ2tSmjCbtBVSjLhMtRKMlHq/h4emRg16NeSTPQZOZPLxKgBE/hZE877e5Np2BTIBOI3z68xUaXWpf5oAQDcRXQqmXjrrbfoscceo/vuu48mTZrEf2MLQEfE06fAdgjYTgHbMWA7B2wHge0ksB0FtrPAdhjYTgPbcWA7D2wHgv1z7elDuh3MTid9czNfkAh51tzIp6jr/sucWivx6XYyHosVxCCoRB8iZ16kF2nwHWvVEUEcfKX05jFBHoRc2Einy0oFifAkvqpGkAhPNAY/I2K13g+vq7MoZcJu0shkolqSiRqjUZKJQT3vl2Ti2bAXuUyMGTKFy4TlkWfIPBQygTSfV9ebyWCBUABwt9KpZAKAjkCgfQrsNbvG7rFn2LPsa9jXeqaShQqny0Vb8ooEefCWL7Py3EJhFhb/ociFDDOZo1tnwpP1ZAw1FG8TpMFfssoD2504WZQgyoOXVOZdEiRCnlKDTRAJT3yOiOWH14l9E0arsgnbYpaVOulkZ01YrJJM9Hj4x5JMDJo4m8vE2OHTuUwYHhvolonJkAkkoLy9y0IOVDwBcFcCmQCghbRGn0J7c6i4XJAGf1mVkUsx6W0jFGkZdYIYBBt7csvKnRpHxZ4Q5MFbKm4cFeRBnYarewWBkCetXi9IhCf+RsSSRTwN26aa6GRUNWHXu/+58whF3yd+zmWi6y//jv7Po49zmRgydQ6XibDnXuAyUf/EYLIMngSZQALO8kir+qMGAHAXEDKZOHbsGK/pRpDOltvtU2hvzlbVCrIQSJZn5FB0ZtsIRV5qkSAGwcaZGy1Ig7+UVwU22Sm+8LwgD96SWXxDkAhPTlb6LnWqN/keEevt8DqnXaOQCZ1KJgwWsyQTL04dLu1O/KJXLy4TQ6c3ysS40S9ymajuPowsQ7AzgbQs2xPs6o8cAEAnJ2QyAQDoeGRo9bTAiygEmqXp2RSdZRQW/60ddnBexcU0QQyCifVEDDlLdgjS4DPl2+h4YWC7E1VZMYI8qGPJOCpIhDwlet+lTvZ67yNiXTpRJly2aoVM1KkOrrNYjJJMfPTeHySZeGzQAC4Tw2bckokxL3OZKO/5HFkHTYRMIC3KcHdOpoe2TBMA0LGATABwl1BmttCi6zcFQWhpPnN/j6gbBkEAWjtHUx1UdzZBkINgYr/csnInXdVRQRy85UxRALsTiRvobFmxIBGepNb5LnXyOSK2ThwPy1JrVu5OyGXCZtFLMvHdulWSTPQeNbyxzOn5lxtlYuwcLhPFfUZDJpCgMma5kXIq0UABwN0CZAKAuwCjw0mfZ3ofARtMPk27QZE3dYIAtHZOXbeT4fhRQQ6CiTMnRpAG39lIF0sCa8auyYwWBUKVmtwkQSI8OVFRTTVeRIJFZ3KKInErZKkSZEKvasJ2GmokmXCYtZJMHDq8V5KJYRPHcJkYOH1WY89E2KtcJvL6h5FtwATIBBJUXvjGxEv1AACdnzaRCavVSnv27FFfVmAymSg2NpZ27NhBp0+fJqfTKd0rLCzkDa4sRUVF/Fp9fT0dPnxYegYA4J2GFkxuakkWuoXiSHa9IACtncRMNuHpiCAHLY31eBQ5i3d6EQfvsVUdFsTBWxIC2J1wXdlFsWUVgkh4UqyzCiLBwkfE1nkfEeutb8KikgmbsWk8bIP7tUcmzl9IkGRi7NQwLhPPTHleIRM3B06ATCC3lb/usJATGxQAdHpCLhM6nY6OHDlCmzdvVt9ScOrUKbp58yYfiZmfn8/HZHrwSIRHKhis6TUnJ0d6BgDgnaPlVYIItFY+Scuiwzl1ggC0dlIz6gU5CCb2S6cEafCXm+WnBHnwFk16pCAQ6mQXZQoS4ck1jU4QCU9sPkbEugzieRMOW5NIsJhlJ2G7DDWSTKRnZ0oyMWn6OC4TPcdPbjxnYmyjTKQPmkT2/uMgE8htZU2cTf2RBADoZIRcJnbv3k3Z2dnNygSbjOOZrc92JQ4ePCjdk38te202m/ls/oYG/MoDAH+k1esEAVDn08up9GVMHK06EU8LUjKF+82FNXQfzKkVBKC1k5taLMhBMHHcPCpIg684y3dTZN5xQR7USSxKFORBHWt6tCARnhxjpU56USRYjCa7IBI89eLOhMtWo5AJg1U20UlXKclEYUWFJBPTpjfuTDwxOozLxMgxjTKRMmyyWybCIBPIbYedcA8A6LyEXCbYwp/RnEzs3LlTkgNWFrV9+3bpHtuNYLsSbHeCvWa7FmlpadJ9AIBIpcXabMP1gtRMCt/1Pf/7ybI6KlZ4JtDsz60WBKA1wyY8lV++LshBS2M9FknO4l2COPhKRYCjYuuvHxIEQpHEcEosLRJEwpMinUUQCRZ/I2LJUqEUClulQia0qolO9e5/JphMVOp0TTIxZSSXiYeHjuAyMXxkYwP2leFTyf4MZAK5/YxdYaTCGvzyD4DOSshlwkNzMsFOAGYHgTH5OHnyJG3ZskW6J++ZYCcE79u3j+92qPsoAACN2Nxi/vWNPGHBr86CE2ckkWD5ds8+4ZmWZE9OpSABrRk24Ulz9rwgCC2N7WILyp3KttLJguaF4kIAuxN1OecFifDkqkYriIQn9nqtIBK81MksTnWqtzT1TWhUMqG33jq4TnYK9tQJQ7hM3PvMAC4Tg0c0joZNGjGdHP3GQiaQVslvws1kxREUAHRKOoxM6PV6ioiI4DsU6enptG3bNvUjnMzMTH6asLc+CgBAI35PuL6WQR9GRNP7K1bRe598Qmu3bpNk4vNjJ8XnW5hdueV8F0EtAq2VU+l2MpyIEwShpXHciBPFwUcMVbGCPHiLLvWgIBDyuC7voNiyckEkWOLKq6hW3yCIBIvZaBVEgsuEUeybMNm0it0Jl75CkgmzxSSVOnXr8o9cJiaO6sdl4sfde3CZeHZo46F1CaNnkKPvGMgE0mpZFoETsgHojHQYmZCj1Wq9Tn9yuVx04MABfsqwuo8CANBIqo8+iY8vJtO8nbvpvfkL6P1VX9CHUUdpfkoGLXDLxbLT52jJ+UvC1wSbbTllFHnNLohAa+V8hoXMMRGCILQk1jhW7rRbEAfv2UhXAhgVeymA3Ym8ouuCSHiSr/de6qT3MSLWpRX7JuyqJmyHoVaSCavFIMnEuGHduUyMHvRrLhP/0PUx+tt/7UF9B87iMhE/5gVy9oFMIK0btrsIAOhcdBiZYJLAdhpsNhulpqZSfHy8+hFeBuW5ru6jAAAQ1boXiYtVfRIfnTpLH6z7jt778EP6IHwTfXQmUVj8hyKbckooKiV0QpGSqRUEoaWxXTjpRRy8x1Z5SJAHdQ7lHidDyn5BIOSxp0UIEuHJFR+lThqji5waLyNiNbWCTDTYahUyYTU1TXRymHWSTLzx+iwuE4N7PcBlguVfftmfevR/nsvE8TC3TPQeDZlAWjVjVhipqBb9EwB0JtpVJuTXysvL+YQmds4EEwbWhK0mKiqKampq+Gt5HwV7DcBdT4ODdt280biYZ6VMh6Po/WUr6L2Fn9K8Pftp/uVUYcEf6oRnF7mFwiaIQGslJ61UEISWxpF1TBAHX8mpaH534koA505cLCkURIKFjfGtMXgvdbLpjaJMuEPmGqVQ2KoVMmGS9U00GOskmVi17GMuEz0f+XdJJn7+8DB6otcULhMx42a5ZWIUZAJp9fx+s5kc8AkAOg1tJhMAgBBzcRvVb/kNrd36Hb03fz598MVq+jA6juYHMe61NbPuZiFFpVoFEWiNsN6MsssZgiC0KEcjyFm4VxAHb3FWfE9RzYyKPeS+b7y2TxAIebTZCYJIeJKnMwsiwWI0eh8R6+3wOo25qQlbb2kaD+sy1koy8f2uzVwmuv7y7+h/P/o4l4kHuo+lR56awGUiYvyL5Ow1EjKBhCSbTtvUn2AAgDsUyAQAnYDC5DO089PXacEHb9Ghz16j1Mg1tCi1fSVCnjVZ+RSVZhFkoDUSm+qg2oREURJaENv5E8T6ItTy4C1VVScEgVAnubndCbf4xfk4EftSbb0gEiy+RsS69GITtsHa1IRdL5/opK+SZOLEqaPSRKef9+zJZaJbv0l032OjuUwcHP8SNfR4DjKBhCQjlhgpvcSp/igDANyBQCYAuENhhzxevnyZVn/5Ba34+G1KWD6bLN9OJFo/nsd+4E3adi1JWNi3V77MyqPodLMgA62Rk9cdZDh+XJCElsSRyYRClAchZVsovtD/ydiH806QOXm3KBGyFBWkCCLBElteRdU+Sp0c3kbE1ok7E1Zb085ErbmpZ4LFIxPJadckmeg6aACXiR5DnqdfPDicy8TeiS9DJpCQ5sW1JjLZXOqPNgDAHQZkAoA7DDbtLCYmhhYuXMj7jrIOfC4JhJDN0ykl8fbOjmjNfJ6ZS1EhEorzmRYyxd7GhKfYI+Qs3C/Kg5cYq2MEgVAnpZndCUfqIUEkPMnVmQSRYDEbvI+IJWuVQiacNo2ib6JBVynJhM7aeHBdblGhJBO9Rw3nMtFv1Cz68b0DuUzsmjSbGroPh0wgIc2qaLE/EgBwZ3FXyQT7TS4Adyp5eXn8ZPgFCxbwM1lqa2uJSq65pWGCKBGq6KM+pdUpKcLivj2yPCOHojJDIxTXMvSiJLQgtnPHqaEksHKn5FL/zdhH8k6Q5eouQSLkSS7NE0SC5WJNnSASLD5HxKoOr3PZaxQyYTdpJJkw3jproqxOI8nE0AmjuUwMGP8y/d+f9uUysZXJxFPDIBNISDPcnasFKHcC4E7mjpSJe+65R30pIAYPHqy+BECHxm6380Mav/jiC1q1ahUlJiby8cmNNy1Eu34jiIOvuHa8QnGXjwuL+/bI0vRsis40CTLQGsm+XiZIQktiTw/sdGxb5UFBINRJK/S/O2G4ES+IBEtMeSVVGpyCTLARsWqR4DJhUPdNVChkwiIrdfKcNVFjMkkyMWZKGJeJwVPm8LMmuv3kQdo46WVyPTkUMoGEPKzcyYLTsQG4Y7mrZCLYrwOgramrq+OjkD/55BM+/jg7O1v9iHsxGi4IQ7MJn0Blp9bSZ6kZwgK/rcPOw4i6YRBk4HYT5U7plSxBEgJOzGFyFh4Q5MFb8psZFXsk/yRZL+8QJEJK0hY6XlomyARLttZ7qZPXEbFeDq/TWppkwiib6GS/ddZEnTsemZg0fRyXiaHTX+WnYHe/txt9NxEygbRd1h6/9UsSAMAdR8hlQr2Al79nr1m5RteuXWny5MnSGRIMVhPepUsXeuCBBygsLIz/dlb+dYcOHaJu3brxZ2JjY6V79fX1NHv2bP4958yZw+vLPV/jCQAdFSYNTB6YRDCZYFLhlWq3XIQ3NVu3NPZ9f6ad19rm8Dp/WXT9BkXd1AlCcLuJTXFQzbkkURQCjO0sO3tisyAP6jgrdlFUvv/pTukFCaJEyFKWnyyIBMsFH6VOJpP3EbFkqVDIhNnWNNFJZ22SCaepXmrCHvD0f3GZmDptLJeJYc+/wmWiz6960DdsZ+KJwZAJpE0yfImRMkpx+AQAdyLtLhNvvPEG6fV6Cg8Pp7feeku6xyRh27Zt5HQ6+aKqf//+iq/76KOPyGw2U3R0NH/Ww7x582jjxo1kNBr595w7d67i6wDoaLCyJVa+xMqYWDkTE2dW3uSTBifRgTcEQWhxNk2j6+f3CAv8ts7CtBsUka0VhOB2c+K6nfQng5/wZL8eWLlTTZX/cyci8k+R/fI2QSI8cV47IIgEL3Vyp0ovljrVGxsEkeAyYVaehm23Ne1M1MnGw7oMTWdNvDJzDJeJaVNHNe5MPD+Hy8QzXfvRl0wmukEmkLbLq+vN5ED7BAB3HO0uEwUFBfw121Ho3r27dG/mzJn02muvUUJCApcGOezrPDsOnvce+vbtK91j37Nnz57SPfX/LQC0J6yBmu3MsYZq1ljNGqwDwr34FMTgNmKMWkBfpyQLi/y2zCdpWXQ4p14QgtvNuQwrmWIjBVEIKNGHyVFwUJAHIWVb6EzRSUEi5MlsZncirThHkAmWm1qjIBMsDvdnm1omXEZl30SDrVbRNyGNh9VXSzLxybw3G2Vi4tDGnonpL3OZGPTkYFo58SVyPTYQMoG0ab5P9POLFABAh6TdZcLzG1g2aUm+w8AWWlOmTKH77ruPHnroIUpNTZXu+fue999/PzU0NG6Vsl0N+fdUfx0A7UFWVhYf6cpGu7JyPrkYN4u+kmjTVEEIbjeuHbPpxKWjwiK/LbPAnUM5GkEIbjdXM4Of8GQ9HUeBlDuZqqIFgZAnMj+eHBe3ChLhiTHrhCASLOerNYJIsFi8jIh16VRN2LYqhUw4DdWNMqGrkGRiw/rVXCYmjOrXOM1p6gtcJob1fI6WTHiRXI8OgEwgbZqxK4xUpcPZEwDcSbSpTGg0GkEmKioq+GtWG96rVy/pnger1Uq7du1S7FqopUD+nu1EsBInBvueTz31lHRP/XUAtBUWi4Xvsq1YsYJWr17ND5sLalRx3GJBBFovE6jixNe0JOW6sNBvyxzIqRaE4HZzM71CEIVA40gLrNwppdR/M/bN/LOCREi5sIniy0oFmWCp0DsEmfA6Itb9+apuwtZYm2TCZmrandDaGs+aiIz6gcvE6MFPcpnoO2k6l4kR/cLo0/GziLo+C5lA2jwLDuDsCQDuJEIuE2xngP32lZUqvffee4JMsB4Hg8FA3333He+D8DBkyBBeAsIWXJ5mbPnXyZG/Zz9j7969ZDKZeM/Em2++Kd1j36O6ulp6D0Coqaqq4sMCWCnTzp07qbCwUP1I4JQkexGA1o9j3x9pT/J5YZHfltmXWykIwe2kccLTDUEUAkr0IXIUHBHkQR175QE6nOu7fyK6IJ6cSZtFkbiVivwrgkiw3NAaBJnwNSKWLNUKmTBam07CNluaxsMaLWYuE4kXz3OZGNLrV1wmnh43icvE6IETaX7YC5AJpN1yKQ/NEwDcKYRcJjwN0o899hivC1fLxPr16+nhhx+mV199lTdie7h69SqNGDGCf61HSORfJ0e9+/HSSy/x0qhZs2bx9x5ef/11evDBB6X3AIQCl8tFGRkZtGHDBvr0008pLi6OdDqd+rGWwZqu9/5BWPjLUxr+Gh3ftIQubvyQ7OsnC/dblI1TKfPcLl56pF7ot1W+zy3nEqAWg2ATk+Kg2nMXRVkIINZ4Vu60RRAIdQqaGRWbnXdGkAhPGq7uEUSCJcFHqZNVJ46IdZmVI2JtsiZsg2yik8Vi5DKRlXuTy0Svrj/hMvH4yDFcJsYMnUbzwmYSPfwMZAJpl7z8rZns8AkA7ghCLhP+UEsBAHcybPftzJkztHTpUlqzZg0lJyfzvp1WIfWQuOCXxbJ+Gm3btIH3YrBc3DhPeCaYmCI+onUpV4WFfltle04ZRV6zC2IQbPiEpxMnBVkIJI6UeEEe1HFW7KCYAt+jYmMKTvvdncgsviHIBEu5l1InbyNiXXpl34TT3iQTWtlEJ7tZz2WiuKqSy8Sj9/w9/UPXx+hXg4dymQgbMYPeHfM80UP9IBNIu2XPBbv6kxAA0AGBTABwm7C+nx9++IHmz59Pu3fvpuLiYvUjtwc7vXjLDGGhL09d+EuSSLCc2PiZ8EywcW17iU5fihYW+m2VLdklFJnSekKRkBnkhCdW7pQfIQiEOrXNjIrNyzstSIQn5sw4QSRYMuvFUiettxGx9RqFTLhs1ZJMaGQy4TRpuUxU6fXSwXU/69mDftG3H5eJcSNfoL+Onk70q76QCaTdMn6VibQmNGMD0NFpV5kA4E6FTQy7fv067/VZtGgRnThxgvf+hISza4UFvjqnl71C675ezUVi++ZwKg//jfDM7abq+Je0LLV9mrM3ZBdTVIpNEINgE+yEJ+vJWGoo2SYIhCJlm+ls0SlBIjyJLThDDYkbBJHgcV8/W1oiyMSZqlpBJli8jYgla5VMKCoUE51c+gouEw1Gza2JThZJJroOGkA/evKpRpkY/RL9eeQ0ogf6QCaQds2aOJv6ExEA0MGATADQAlhjf3x8PC1evJjWrl1LKSkprVfK5I36UqINk4SFvScN6yfQ/kX/TV9+9GfSrp3Cdyhs4a0/OtYT557f0/6rCcJivy3y7Y1Cikq1CmIQbG6kVwqyEEjsyc1PdzJXRQkSIU9BbrwoErdSnXdRkAmWMoNdkAmvI2JNysPrdLImbIeh9tbBdTXSeNgn7/+Xxr6JUcPp7x95lP7+xz1o3NjZ9PoI9z93D/SGTCDtmpFLjVRci5OxAejIhEwmjh07Ru+++y6CdKqwE9X37dtHZWVl6n/kQ8OxJcKC3hPzuom0fv4faMsnvyfbtxOF+yHLhsl0M2E7fZKaKSz4Q52vbxRQdFrrCUVJcrYgC4HEmRspCIQ6qWWnBYnwJK7wDLkSNwoiweK6+j3FllUIMpHhpdTJ24hYl1HZhG2xNcmElZXM8bMmKiWZmDyqD5eJweNH8ybsH//nAAobO4deG+r+Z+q+XpAJpN3z8X6L+pMRANCBCJlMAABuk6obxM5+EBbz7mjWTqWVH75JkYt/Sy4v99si5iNz6btrV4QFf6izOiuPoq5bBDEIJmzCU835y4IsNJfGcqftgkDIY6/c73dUbFHOSUEkPLlZmCXIxOmqGkEmvI6IVR1e57BpJJkwyfom6i2NZ028/edXuEyMmTKWy8S9j46gsLBX6ZXB7v+du/SETCDtnpeWV5Amp0j9CQkA6CBAJgDoqER8ICzgWQq+mkGL5r5FF1a8LNxr67i2zqKEi1HCgj/U+Twzl6IzWkcojqfZSXfqlCAMzcV+tflyp6IK370TxwoTyJUYLogEizUjRpAJllK9TRAKm9aglAmNsszJZauVZEJvaRoPa7BYuEx89fmnXCYmTgvjMvFQj3E0Nuw39OLAsUT/1YNeex0ygbRPJi+toXOfhVP1hKFU//br6k9IAEAHATIBQAekviKDGjaIZ0Ukr3qJFn7wFmWvninca8/UHltFK9r45OwVmTluoTALchBMzmbYyHg0ShCG5uLMjRYEQh5n+Q6Kzfc9KrYk+7ggEjyJG+h8aZEgE9e9lDqZTDZhd4LMrBH7llDYKiWZqJftTJgtJi4Te/du5zIxdVrjzsSvn51Mo8e8QjP6j+Yy8d+vLxIWeQgSyoxdrKWYZbupeuooqh7eW4o97Zr6oxIA0AEIuUywE4APHz5M27Zto8jISNJqtepHOP6eY6cGb926laeoqHGrs76+nj8PQGfki+QttPTiWrp2ajm51jf2Q8QtfZWWzvsLVX4dugbr24lz9//QwatnhEV/KLMsPZuis0yCHASTy5kGQRaai/V4NDlLdggSIY+mSpQIT04UJrjlwfvuhCY3UZCJU5ViqZO3EbEuk7Jvot7S2DdR6+mZcMdmMXCZiD9zgsvENPfCjclErxEz6LnRr9CUvs9xmfjd64uFxR6ChCIjPjPQ3hWRVPXiZIVEeKJ95w/qj0oAQAcg5DJx4MABPnefTbxJTU3lJ2J7w99zHonwSAUjISGBcnJypGcA6Cxk1uXRX88ulbIyaR2t+3weffPxn8iwzvdkpw6RDZMo98wWWtiGzdmL029S1A2DIAfBJCu9ShCG5mK/3MxhdmWb6JyfUbFlN48JIsHiuryTYkvLBaEo9lLqpB4R61L1TZhkTdgN+iouEw6zjstESnpqo0xMHMZl4pmxs2jYyDk0oedQLhO//wNkAgl9vl11hip++5IgEOrY01PUH5kAgHYm5DIhx+Fw0Pbt29WXBdTPsdn58tfspOH9+/fzWf8AdDa+StneJBPHF9M7S+bS26s/pC+TvqWbRz8RF/AdMJZD79GGlMvCwj9UWXTdLRQ39YIcBJPi5BxBGJqLI+eoKBGyWKoiBYnw5FTROUEkPMkrvC7IRFqdXpAJi8Gi3J2o0yhkwmZrOmvCbtLcOmuijstEfkkxl4lJo5/hMjFwwss0aMTLNLb7IC4Tf/jjEmHhhyCtlSUrr1LJH38nSIOvaN//k/ojEwDQzrSpTBiNRoqIiFBfFlA/x3Yj2K4E251gr69cuUJpaWmyrwCgc5BdX9AkEtGf0bsL3qe3N8xX7FR8czmc8qM/EhbwHS2uLTMpKemIsPAPVRam3aDIbK0gBy0Nm/BUnXhFEAZ/sR6LImfxLkEi5Lle7ntUbMWNo4JIsNivRwoycaKymmpUMmHwMiKWrNWSTDTIJjpZbpU6uQy1XCYq6uu4TIwd8hSXiSFT5lD/IbNo5K+f5TLxpz8uExaACHK7eXflDcp7+z1BFgKJPfO6+qMTANCOtKlMsPIlVsrUHOrn5D0Tubm5fM5/dna20EcBwJ3ON6m7uDC8dfBTevcjt0jsXqgQCXnWX95AJRHvCov4jpa6o8tpVUqqsPgPRT5Jy6KInHpBEFqaY2l20sbHC9LgL/aL/qc7OSr30eF8USRYTvvcnQinpNJCQSiKdVaFTHgbESvvm3DZqiSZMHomOumruEzUms1cJob0fpDLxNBpc6j3gJk09LG+XCbe+NNyYSGIIMHmdyuKKOPDT6l6ZD9BEgKNdu6b6o9OAEA70mYyUVdXRxcvXlRfFmjuuczMTEpKSvLaRwHAnUyutrhRJHYsoHc/fp/eOrxIEAhv2eyWiopDfxUW8R0pDbt+S0euxAuL/1BkgTuHcjWCILQ0Z9NbPuHJcTNOkAh5Sip9905UZcZ4kYn1VJ+dIMhEikYnlDrZtHqlTBiUfRMac2PfhM7aNB5WY208a+KRX/wt9Xr0P7hMDHt+Dj39zHQa+HAvLhNvQiaQVsis5VV05ZPVVDPmWUEOgokjK139EQoAaCfaRCZY2dK5c+d4c7U/mnvO5XLxRm2DwSD0UQBwp/Nt6m5657uP6d2FH9BbRxcL0uAvb51dRjvcUlF94E/CQr7DZMMkKjizkRamtU1z9oGcGkEQWppLmUayRB8SpMFXrHFR5Cz6XpAIKeXbKc7HqNizxecFkeC5tI3iVCdiH68QS52EEbFa5UQnvbVRJuosTROd9LdkYmifh+jRe/+B/qHrYzT0+dnUredkeuZXT3OZeOtPK4SFIYIEmglLNXRm8SaqnjhMEILbiXbeX9QfoQCAdiLkMsFGvh47dow3VfsjkOcKCgooPj6ev1b3UQBwJ5NXV0zvrJpH7yyfS389uUSQhUDzdsJy2nNpA9Xt/Z24mO8gsR18mzZduyQs/kORfTlVgiC0NBnpNYI0+IstyX+5U311nCASntRmRooy4U5hQaqwO1GoV5Y6aU3iiFiyVEgyYb0lEyykreAyYbKYuUz898sTeKnTfzzdgwZNf5EefnIc9frPbo0y8QZkAml5xizRUeSyfVQ9fawgAq2SEX3IcTNL/VEKAGgHQi4TbOoS2zmQx4P8tb/nPERFRVFNTQ1/Le+jYK8BuFNhZ6rMX7aQ3v76I/rrGVEQgsm751bQD5fCSf/9b4TFfIfIlhl05cIPwuI/FPk+t5yivEhCS1KUnCdIg784bhwTJEJK2SZKLPFe7nTOx+6EI+2wIBPJdWKpk1NTpyx1MmskmXDIJjo5DdVcJqy3zppYtOBtLhMPD3iW+k+dSV26jqLuv3iUy8Q7b64UFooI4i+7VsRS1UtTRQFo5eiWfKz+OAUAtAMhlwkAgG9KS0tp0aJF9M6WTwQhaI28d24lRSatJ+OO2eKCvgNEG7uYvkgNfXP2jpxyirwmSkKgiU5xUNWFq4I0+MzRCHIW7RZF4lasVRGCSHhSl35EkAmWKyX5CpmIq6iiGn2DQibUI2JdRlkTtr1Gkgkba86WnTWxZdM3XCZ6jRxOvSdOpZ89MIye+I+HuEy89wZkAgksX686R+X/PUdY9IcqNaOfbRyDDABoVyATALQT6enptHDhQtoRv0+QgNbO3PNf0NEL35Jl2yxhQd/eadj5KsVcOSkIQGtnS06pWyjsgigEmmOpbMLTGVEcfMSWeFKQCHkyy+IFkWBJLEoURIJFf/O0sDtRoLMoZMJgdChlQitvwq6UZMJ8q2/CaWo8ayIm9giXicHjR1P3sRPoX3/5LD32bw9Qw/296IM3PxcWjQgiz6crU6j4z38UFvttEdNOsYoBANC2QCYAaAdOnz5Nn332GRUVF9P8pDXC4j9U+TDxCzpxfi3ZtswQFvXtmvCJVBz/HS0K8cnZG7KLKSrFJohCoDmTbiNDXIwgDr7iyDouSIQnjoq9FJEnygRLfdphQSYoaQsdL1OeiH1Vo1XIRJ16RKymVtGErbU09k0Ybk10chlquExcvJLEZWLMlDB6dMRo+j8/6cNlwvZgX8gE4jNvrcymnHfn8v4F9SK/rVI7cxyRj6EtAIC2ATIBQBvCTm1n/UFffvkl75W4VJkmLPjbIvMvfEVnz60hx6Zp4sK+HWM/8Bfadi1JkIDWzHc3CykyNXihuJhpInPMYUEcvCb2CDmL9gki4UlZ5UlBJFiSirz3TpTmJytk4mh5FdUYlKVONp1yRCxZmg6vM9kaZUKrOmviRl4Ol4mJ08fR/QOH0N/86Gnq9tOHyfjos/ThX74QFpHI3Z3fLi+h9I8WU/WoZ4TFfXvEevak+qMWANCGdAqZ8DcBCoCOgtlspvXr19OWLVvIZrPxa6uSNwsL/bbMwqSv6cLZL6hh42RhYd9u2TydriXuFySgNfPNjQKKSrMKohBo0tNrRXHwEdv549RQslEQCZ7y7XSsUBwVeyj3OOlSDwgy4Uz5QSh1ytOZFTJhMtqVpU6yw+vst5qwNRbtrfGwFVwmSquruUxMnTaWfta7L5eJHv/1BGm7DXTLxJfCYhK5OzNjeTVdXPgN1YwdKCzo2zP1b7+u+rQFALQlnUImBg8erL4EQIdCo9HQypUrKTIykp+Xwsi7dUhdR8hnSd/QlfhV5NowUVzct1P00Z/S6pQUQQRaK19l5VF0mkUQhUBTkJIviIOv2DN8909oq44KMsFy2cfuREpxrkImLtfWK2RCPSLWpW/qm2iw1Up9Ey5943hYndVK1QYDl4lpU0fRP3X7NZeJPg/1otqnhtH8v6wWFpXI3ZVxS+vo5OKtVD1xuLCQ7xAZ0YechfmqT10AQFvRKWTinnvuUV8CoMPAzkdhE5suXLiguL7zRoSwqG/vLLu4jlJOLnUv5icIi/v2iGvHKxR3+bggAq2VLzLdC/OM4IQi+pqDKpOuCeLgNazcqXC/IBKN2URJxWIzNtudMKTsF2TCeOOUQiZiy6uo2qgsdXK65VUSinrZ4XW2akkmHIZaLhNGq4k0FmvjzsSkYfwU7H/8aV96ttuzVNnzOVrwV8jE3ZpRS/R0ePkPVD1jnLiA72AxfLVc8fkKAGg7Qi4TMTEx1KVLF3rggQcoLCyMkpKSpHtMAiIiIqhr1640efJk6QwJRn19Pc2ePZvfmzNnDq8vl3/d6tWraeTIkfy1Jwx/Pw+AtiY5OZlPbMrOzlZctzis9P65VcJi3pN3Ti+n5Ye+ppU/fEPvn1wh3A91Vl36ljKPLRIW9+2S8AlUdnIdfZaaIchAa2RFRg5FZ5oFWQgkcWkOqj99WpQHL7ElsHKnTV5kgo2KPSzIBMsVb5OdkjbRybJShVDkapWlTla9Wdk3Ya2UhEJjbuybsJobJzpZbp010ePhf6NJY/pzmfjJA4Np8FNDqKT3KPrkr18Ji0yk82frimNUOXu6sGjvqKkZP5hcJqPicxYA0DaEXCbYwn7btm3kdDr5oXP9+/eX7jEBeOONN0iv11N4eDi99dZb0r158+bRxo0byWg08ntz585VfB37njqdTnrvwd/PA6AtiYuLo6VLl1JlZaX6FiVWXBMW8PJ8uW+ddHjjdzs2CPfbKl9dXk85MfPFBX47xL7/z7Qz+bwgA62R5RnZFJ1lEmQhkJxOtwc84cme7rvcKatc3J04nHecTMl7BaGoyLuikIkkVamTweRQljrJDq8z3DoJ23Srb8J+66yJ58cNoLFDu3OZ+K9uo2hYr5FU8MxYWvjXNcJCE+m8+XLVBSr/n1eFxfqdEPOhveqPWgBAGxBymZg5cya99tprlJCQwBtQ5TAJYCUgDLYT0b17d+le3759pd0Idq9nz57SPfZ18l0MuUz4+3kAtAVsIMCuXbvom2++IYPBoL7NWX1tm7Bwl+fbnRskmdjkzttnlgnPtGXWXd5AhVFzhQV+m2fTNLp+fo8gA62RJek3KeqGUZCFQJLEJjxFBzDhKeYwOQt/EESCxVGxhyLyxGbsa156JxrcgiGXiZjySqoyOCWZUI+IdRmb+iastyY66W9NdHKa6rlMvP/X12hon4e4THTtPZ6eeyaMsp8dR4ve/lpYcCKdLx+vuE5Fb/xZWKDfSal77QX1Ry0AoA0IuUzU1tbSlClT6L777qOHHnqIUlNTpXtMAux2O3/NFmBsV8HD/fffz8doMtgug/we+zpPE6vnvQd/Pw+AUMPkgUkEkwlfU8YqTTXCYl2dxRFrJJn4fP9a4X57ZYNbKkqPvC0u8ts4hqgF9HVKsiAEt5vPrjOh0AuyEEiuZ2hEefAS25lj1FDmvdypvEocFXvYLRjmq98LQpFenK0QihydSbE7oRgRKzu8zmnTcJmov7Uz4TLUcpn4+qul1Oexn3KZeGrgVBo9aCJlDpxAiyETnTpvrMihm+99RNUj+gqL8zsxjvwc9UcuACDEhFwmPFitVr7Aku8+MAmoqKjgr+vq6qjX/2fvTcCivNK87+ubme6Znpl3vlm+mXcm3W+Snk4mnZ6erzOZdGLS2eMWjfsao0k0JjGrxn1FUAQREfddAXFDUfZ933cRZAdZFBGKpaCogqpi+b+cB6qoek6BLFVFFdy/6/pdVtVTkqQvr9P333Pu+7zyivYZ24lgR5w0z/7whz9on4kbrsXvGYb+eQRhSthxJnasiR1vGgz/8miuSBe74ZwNdrjaYWe4C9YbeD6Wsn8f955QUXtrLVfkm9Nuz08RmRHKBYLRuie3CAHFzVxYGIrlORVceDBkx71oLkgIPnJHhIFRsTmV/O5EW0G4XphIqW/SCxMKuao/TLDL69ofC2GiW93bhN3Q1zPR3SoRwsQt7yv47S9/hr/4j9/ij5OXYMb7C5H73lw4UJgYl3524BFydzlBMu0NriC3ZuXnT4iXXIIgTIzJw8S7774rNFmzv6XVNEdrYCGA9Uawv809ffo0du7cqX22efNmeHl5QaFQCD0Ta9eu1ft9urCfKZFIhNeD/fMIwlSwBmvWaM0argejq7vriTder/fbi027tmB9pAP3zJLckLAfV9LPoeHmt1yhbz5n43HkMey7m8eFgtFo2xMo/EuauLDwJIUJT2l3ufDAGeSLjgofPkz02CIJ4cKE3/1ItGeKdidSziO2ur8RO/iR/lGnFtGIWLSzRmy2O/FYO9GpS1YHtPTeNRGXEC1MdPqnl/4bb8z4BDN7AkXWBwvguOE4V4iS1uvC/Q1I3nMK9R+9wxXi48HGT+YAOicXCIIwPSYPE1lZWZg8ebJQ1DNZga+BhQJ2idfzzz+PlStXCo3YGthc/uXLlwtHlZYtWya81/19uqxZswa/+c1vhNeD/fMIwhSwka9s9Kum/2cw8hpLuaJc1/UxjthkuxXrb9hxzyzVjQlOuJF+FtJrXxoo9s1jx43vcM3Izdm7e/QpbeQCw5MUJjzFxfMBQqQyNqwnPLhxYaKr+jzSH/LN2PcqE7ndCUlZut7uREmzXG93QndEbLe8f0RsS3tv34Ra0SjsTkiV7cgtvCeEiefefANvz/kUM6ctQ9qUhdi/8QRXkJLW50xHKSIcPFE/bwpXgI831fm54qWXIAgTYvIwMRjiUEAQ1gTr22GX0LHL6HTD7mA86W6JDcd2Coo/twY3JR6AT9pZtF75nCv2zeL5BchPvCKEAHEwGI23yuq5wPAkY/LUkIeHcAFCbEeO4eNOhkbF+pdHQZXhqRcmujOvCTsSmjCRJGnUCxO6I2K7W/rDRJuqWQgT7X1HnVrb21D+qFoIE/899X28u+AzfDR9OZKmLcYB2pmwaqc4yODt5AfJx7O5onu82nrMWbz0EgRhQihMEMQIUKlUcHNzE3bWhjo1rKOrE9uSDnFFuEa2GyHsSsTwz6zJLUkHEZh6Gm2XVvAFvxlU+O/EiewsLhSMxptldVxgeJIp+W1PnvAU5IOOcj8uTDBLHvO7E/kVCdzuRFFVod5Rp1pZhzZM6I2IbWrUhgm1qveYk7xvolN7uxy1UqkQJt7+aBreW/Q5PprxKWKnL4XzBtqZsFbPO0eh9rOlXLE93m1YOA3oG+BCEITpGdMwQRDWCBtZ7Orqips3b2onjg2FwY44sf4IoU/Cby/3zFrdnnwIYcknoXT/mCv4TW33peWIzQjmQsFovFb6mAsMTzI3v4kPECKV0aHoeujOhYnOmmsIuB+hFyYCyqOhTr+kFyba80L0jjoVS/uPOolHxKJdIoSJLlWDECZalL1hQtUmQ0NbuxAmps+bgfeXfI6ZMz5H5IylcNl0kitSScvW2SUdj9as5orsiaQqky6sJQhzQWGCIIZBdXU17O3tERsbK370RK4UBXAFt8aNB3cIE5zEn48Hdya7IjrpODouLuSKflNbF3EYjjnGa86+XFqDgGw+NAzm/ZwqLkCIVWcbPu5UW8dPdioU704kn0Ni9QNtmEgQHXVSN/ePiO1W9B11UtUJYaKpvfeYU0dbs9CE/dun/gJzFn6E9xZ/ihk9YSJ05jK4bKQwYS1ucy5AxU8/cYX1RFTmvEe8BBMEYSJMFibCw8OxadMmkhxX7tixA3l5eeI/7k+ks7sT23uKanGhzdzgaYuN+7bhpzj+2Xhyd8oRJCYeQef5+VzRb0o7r3+Dm3cSuGAwUt1LqxGYreZCw0AG9oSPx2m5XIDQM8gHnfcDuDDBRsVGVerfPRFYHoOONDe9QNFQmqy3O/FY56iT7ojY7tb++yYa23uPOqG5Fl3yRiFMTPvT77Bg0Uy8vegTzJi5EgGzluPwplNc0Upalt8duI+irbshmTI+7oowhvWz30O3WiVeigmCMAEmCxMEQfRT0FjGFdeCwfbYuGOz8Cv3bJy6N/UY0uJc0HV+Hlf4m8xz81Cc4AnbnAIuHIzE8yUPEHh36IEiNKcDTfEJfIjQURkdjK4HHlygaK3jR8UWl8frN2JnXEZI9WNtmChsbtWGCb0RsdJGbZiQK3snOnW2SnpCRr0QJr5ZtQALF07HG/OXYPqHK+EzezmOUJiwWFc41SDb5iDqp/+JK6bJP0KZECNeigmCMAEUJgjCDFwrDuKKarYTwXYk2M4E92wC6JB2AlkxTug+O4cv/k1km982nM7O5MLBSDxTXIXAHBUXHAYy+p4arRGhXIjQVX3H0HGn88gUjYoNqohBZ+pFvUBRVpWnDRNxkga9o066I2LRXiuECZWqN0yo2NGnllohTDju3YqFcz/AK7MXYMr0lbg5ZwWObTrNFbHk2DrfsR6Je89AMutdroAm+5Xt3y1eigmCMAEUJgjC1HR3wv/eSWyI17+EjvVIsF4JcZE90TyQfgr3Ih24wt9UdnssQ0J6IBcORuKJogoE5iq54DCQyQVswpMfFyJ07SwL5AKFqvY2tztRWh6nFyZU9wL1jjrVtKp1RsQq+o86tTUIYaJT3SiEibb25t67JtqVuOR+BnM/fAP/9eEsvDflU1ylMGFRznBoRrDjNdTPn8oVziRvw6LpdIEdQZgBk4eJuro6+Pr6wsPDQ5jJzybhGGKw71VWVsLd3V2wqqpK+EwqlQrfJwhLp1tegM67c9CR9ylqi+0Qcc8V2/33WcUt1+bUNeM0ikLtuOLfVNaHu8Ap5x4XEIbr0aLynkDRzgWHgczJb+YChK7KyGB0PrzEBYpS0ajY4IpYdKVe0AkUZ5HysEobJgqk/Ued5DojYrvlvX0T3SqJECZa+yY6yZTtCAsPxIz3XsJ/fDAVb32wApfmLMeJzWe4opY0r5P3tcLLOQCST+ZxBTM5uB2lReIlmSAII2PyMOHt7Y0HDx6gs7MTOTk5CAoKEn9FYLDvaUKEJlQwEhISUFpaqv0OQVgqXY+vCGFCY1vmPOzf8xPSw7civfAQDqa6cIX1RPZ4xlncD9rBFf+msPPaV7idFc8FhOHqWlCGoHtDDxRlOQ+5EKGrOpM/7tT5+CoCRaNi75fF6O1OSEsStWEitq7/qJPuiNjuZs3ldY+FMNHcd9dEW7sCGdkZeO/V5/B//vQWXn9nGS7OXYGTm2lnYiw95RyL2lXLuCKZHJqKq27iJZkgCCNj8jChS0dHBy5duiT+mEP8vYsXL+q9ZpeEDXfGP0GMFV0lG/XCxI0zXwnqftZeuA7FRQfgdsfwxKeJ6OmMc6jy38wFAKN7bi5K491hN8rmbOf8UgTlt3HBwZBswlNNRh4XInTtLA3mAkWdaFRsaEUcupLP9zdip19CWE3/UadHsv6jTurmlt5A0dh7zIkpU0rR2HfMSdneipKK+3jtd/+Cf3z5FbzypyU4M/dTnKadiTHR8WAmHn77NVcck8NT+tPX4iWZIAgjY9YwIZfL4e/vL/6YQ/w9thvBdiXY7gR7nZmZidzcXJ3fQRAWSocMnTnztKEhN/AT7N+zTtid0A0Tuqrzv0B1sT38c1yxJcGJK7InmhczzqPm9jo+BBjZdp8tOJudwYWE4bg/vwRBBQouPBiSTXhqjE/iQoRGZUQQOh9c1g8Uj9wQUxmtFygqy6L1dicqK3O1YSKvqf+oU5vOiFi01Qthor1volN3Sy062lpQ3fPsxV/9HH/529/hD68txIm5K3Bm81mu0CVN5+aDhShfv4kriskROu11dCvk4pWZIAgjYtYwwY4vsaNMT0L8Pd2eibKyMty4cQMlJSVcHwVBWBrd0gRtSGhOXYC9NutRHrmECxADmrsUDcU2SMx3xd6UA1yhPVFcH78fnunnIPH+gQsBxrTbbSlSUv24kDAcHfJKEFgk58KDIaPy2ISncC5IaFRn8Med5JJgvTARVhmP7pRz2jChzvXThono2nqDI2I1l9d1qHqbsDvkPZ/Lm1Avlwu3YP/jSy/hpdcX40hPmDhLYcIsfn2gEgXb7SCZOokviMlRSSNiCcK0mC1MNDU1IS0tTfwxx5O+V1BQgNTUVIN9FARhaXQ9OKYNBhcOf4vQS1/wgWGo5syHvGgDcgsP4kTGxOyz2JDghOs9oaLpxtdcEDCmjWFOcM7J5YLCULW/V9wTKGRceDBkUn472oL9uSChsaMklAsUd6r1m7EflETq7U5kVFdoA8VDmUoIE406I2K7ZZom7AYhTCjbpOiWN6CxXSmEid/86Q28/OYSHJy9HOe3UJgwpcucapG5+zDqP6S7Ikyl7JCDeGkmCMKImCVMsGNLiYmJQnP1YDzpe93d3UKjdmtrK9dHQRCWSGf+KiEIJN38DEf2/wB19lw+JIxQZcEa3C/ajxt3XbHBQOE9nt2YcAC30s+i5eoqLggYy64rX8AvK5YLCkN1T24RAkpauPBgyLsFA094UoYHoPPBFb0woaq7BZ+y/mbsiKp4dCed1YaJluI4bZjIbZLxI2KbGnv7JlS1QphQsL4JWZ1w18Qff/cv+O8p7+GVd5di/+xPcGHzOa4AJkfvnP0NiLM/D8mc97nilzSujctmi5dmgiCMiMnDBBv5Gh4eLjRVD8ZQvldRUYGYmBjhtbiPgiAsje72KqHofxy/ELY71wu/igOBsezIW9E3dvYwdiZNnONQmxOd4Z92BnLPz7gwYBTPzUV57HnY5Y6sOdu2J1D4lUi58GDI0txqLkhoVKVFcbsT5aJRsdUlEf27E2luiHhUI4SJqFoJ6g2MiIWyTggU0nYpZH0TnViY+GTee3j7o+l49YOPYT9rGdy2UJgwph86tCDQ0QuShR9yRS9pOjurKsRLNEEQRsLkYYJNXWI7B7pq0H092Pc0BAYGor6+Xnit20fBXhOEpdEt8RN2ItiOBNuZEAcAk5m7CC3FW5FecAgH0w5yBfh4dGuSC0JSTqHd4xM+EBhB5e0NuJCdzoWFobi7R9/SJi48iGUTnh5lFHBBQmNHUZhemOh8fAVB5f3TnaIqE/SOOj2oyNbuTjyQKYUwIVXojIhtaxTChEIl7QkUvROdWpRK7Nj0DabOn4HXpn6M3T1hwp3ChFH8oMerB4JQ98l8rtAlTW+b91XxEk0QhJEweZggiIlKV4WT0CPBeiW4gt+Mtheu7R07mzX+x87uSD6EyOQTUF1cwgWCUeu2BBmpt7mwMFRvlzZwAUJsSE4HGhKSuSDBVIax405X9QJFvWhUbE1RuDZMdObc1oaJu00t/SNipb0jYrtbe/smVKomNLRJhTAhb1fg1HFnzF44E5OmL8OOmUvhQcecRu2xgwmoWb2CK3BJ89mye7N4iSYIwkhQmCAIE1Ee86UwvYlNcRIX+GOlOn9V79jZ3PE9dnZX8mHEJR5Fx4WFfCgYpdLgfXAZYXP2zTIJFyDERt3rQGtEBBcmhONOKaLjTo/cEFfVPyo2pipRb3ci+2GZECYiHvcfddKOiO27vK6rb6JTl0wi3DVx2+c6FiyagTdnLce2mR/Dg3YmRqz9wWw8/P4brrAlzW/DkhniJZogCCNBYYIgTICq9ZFwnwS7V0Jc0FuMuUvRWLxLGDtrP07HztqlHkVyvCs6z8/jQsFo7Lq8CoGZUVxYGIrXyx7D30CI0DWpoB2KEMMTnjoKI/QChaIuSG93orYoVBsmWouitbsTVS29R51aFJ39fRPtj3v+sEqEMKFW9NjWgsTkeCxcOB3vzPsMW2cvh+dWChPDdb1zCco2buUKWnJs7ZLUiZdqgiCMAIUJgjABN68c4265tmj7xs7eKzqIk5mHuKLc2rVPPY6MuIPoOjuXCwYj9uwcVMWcwd4R3Jx9pewRArL5EKFrdr6MCxKCof7orPLSCxR3dUbFxlUl9e9OpF5EVHW1ECbuNPYedRJGxDb1jYht670Nu7FNivYeOxVS5BXnY+HcD/Degs+xec4KXKadiSG7+sAD5G23Fy5KExey5NirjI8SL9UEQRgBChMEYWTy8vKw3377oLdcW7qqcTp2dn/aCdyN3t8TBmbz4WCEqrzXweNuGhcYnqRHaTX8s9VciNC15N4jPkz0qEpix53Oa8OEutYbvjqjYiUFgdpAUVOeJYSJcHbUSdYlBApV34jYbnnvUSeZshny9mZ0tzag8nEN5s14E+8v/hwb5n2GK1vPc0Uzqe/S/XVItzuG+hlvcQUsaTnKzxwVL9cEQRiBCRkmnnrqKfFHBGEU2B0oe/fuRXnCRq5At1bZ2Nm6YjtE3nMdN2NnD6adRn64PRcMRuzFRchOvskFhid5oeQhAu8OHCgCe6zOLOTChHDcqUD/uFNFbf/uRILO7kTXnRvao06VLe19I2LVvWGipbcJW6mSokXZAsgkqG1uwcz3X+4JE59h/byVuEphYkBnOTYhep8bJHM+4ApX0vKU/vSVeMkmCMIITMgwQRCmgo00DgsNFo4NiYvycWHOIrQUbUFGwSG4pFn/LdxHMs6gJGQ3Hw5GqCxoD1zv3uVCw2CeKa7qCRQqLkhoDLnbgfrEVC5MtIf4obPyhjZMdD72RHBF/3SnhrwAbaC497BECBNZjc36I2Ibe485daqa0MTGw7Y8Fm7B/mDSf+DdxSuwbsEXuL6FwoTYaQ4y+DndgmTJTK5gJS3X+plvAwNciksQxMgxeZhguwBeXl74/e9/LxgWFiZcPPfSSy/h6aefRkhIiPa7d+7cwaxZs/Dcc88Jz9ndExqampqwYMEC/OEPfxDultDdXRjo97Hv6PqrX/1K+7kG9vrs2bOYNGkS9+8jk8mwevVqvPDCC1i1apXwt84EMRApKSk4evQoOmV5fBE+TmVjZ0uKnOBh5WNnT2ScQ0XgNi4cjMQuz5UIy4zkQsNgniyuQFCukgsSGiPvqSGL4ic8qRIj0PWw/7hTo6T/qFOSzu6EojBCCBOhNXXao05qaXNfE7YE3ep6oQkbzbVoVinx5ktP482FH+OHnjDhRWFCz0vOYahdsYgrVEnrsKO0SLx0EwQxSswSJtatWycU4uzSualTp8LFxQVyuRxBQUFCAa/hnXfeEb6jVCpx7do1IXxo2Lx5Mw4fPiwU+Ozn6QaCwX6fBvZ72T+XIQ4TO3bsgEKh4P59bGxsUFhYKPxcHx8f4fgKQRhCIpHA1tZW+LVb4sMV3bqWRH+HWN89KIxayz2zZoWxsyW9Y2e3Jlrn2NmzPaGi2m8jFxCG7dnZqI46Oazm7GNF5Qi8184FCY2J+UooQgK4QKHO1xkX++gi4nVGxTbd8+sNFCnnEfuotxG7vKWtb0Sssq8Jm/VNPBbCRGerBPL2NsyZ/D+YNG8RvlvwJW5uvcAV1BPRwweTUfPVSq44Ja3LNv9b4uWbIIhRYpYwobm1uqOjQ3gvlUr1nhtC810NL7/8MhoaGoTXVVVVQ/59DLZzsWLFCnR1dQnvxWFC8+8nfvbqq68KP4/Bfu/rr7+ufUYQGtifDbYjwXYmhPdVh7lCW+OjhFV6t7xXxH7NfWdc2Dd2NkkYO+vMFe2W7Poe3TPOo/b2Wj4kDFP1zR9w+U4yFxwG0rXwfk+gaOOChMasAgMTnoL90Fl1Sxso2iSB2jCRorM7UXs/XQgTGQ1SIUzI+kbEdsuahaNOze1SqBRNaG+X48evl+KNeQuxhsIEdh/MRdWP33NFKWmdyg7YiVZwgiBGi1nCRHd3t957XXTfs6NMbAeBHS1ix450n7EdA01hr1arh/z72I4IOx7V2Nio/UwcJnTRff/ss88K7zU+88wz/V8kiD7Y0T0WDDR0Fa/ni+s+8yPW6oWJ7NDx06g9oH1jZ/PY2NkM6xk7uyFhP670hIqGm99xIWFYXliI3KTrXHAYyIP5ZQjOGzhQFOc95gKFKp41Y1/UBoqcR7HaQNF873ZvI3bWde1RJ4m8C43ybnT2rItd0kYhTChUUrS1N0PdJoOz4068s2AhvuwJE7e2TMwwsfZAKUo274Bk8qtcQUpar40rF+ms3gRBGAOzhImhvp87d65wFCkqKko4XqT77I9//KN2Z+Lhw4dD/n0bNmxAZmam9j1jqGGC7YZoAgxBGKKyslI4/qbtp+nuQmfuIr6g7rM1YwncL54SgsTVS6chTfuY+854V1XwtTB29ubdw9gQv58r4i3NjQlO8Eo/B+n1L/mgMAxbA3fj6N1sLjwY0im/FEEFhgNF74SnIi5QqO/1H3dS197UjopNe5Cs3Z0oeFAoBIr7fUedVDJ5b9+EshZqVRNa21vQqWjGlcsXMGXhAqxc8DVuT7CeiZVO1cjd6QjJtDe4QpQcB06dxI4w6C/kBEGMCosKE6zROScnBy0tLVi/fr3es127duHIkSNCzwTrn/jlL3/5xN/H+hzs7PgtzaGGCfbPyc/Ph0qlgqenp9DkTRAa2J+L/fv3C/dKaFE+4opnXdndE3a7NqIw/Gu0ZS3knk80O/KWo67YFlF5rtiVbNl9FpsSD8An/Qxar6zkgsJQ7fb8FJEZoVx4MKRjXgmCCuVcmGAGswlPSWmi406+6Ki4rQ0UVY97R8X69IQK2V1vIUy054cJYSKt76iTXN43IratEV2qBjT3hIkueSMiokLw4aL5+HT+1/CdIDsTi/fXI2XPSdR/9A5fgJLjys6qiv41myCIUWNRYYI1Ub/11lvCjgCbsKT7TDPNiTVXs2csQDzp97EeB/ZaV8ZQwwTr7Vi5ciWef/55TJs2DcXFxTrfJCY6bGqY7sQxRndzClcw6xp3/XNcOraG+5ycI4ydlfWNnT2UfpAr5i3FLUkHEZh6CoqeYCAOC0NzNmqijmPf3TwuQIi1v1eMwKJWLkwweyc8RekFCmVceE+QuNA7KrbGEyHlvaNiM6r6dieSzyGh+gFCaupQ19qpHRErXF6nqkNjuxTdrfW4k3MHMxfPxrKeMOE3zsPETIcmRDpeQv28KVzRSY5PlYmxeus2QRCjw+RhwtiwY0cXLlzAkiVLxI8IwmwIt1zv3y/sTujSXevFF8l9qrPnwsH2J1RFL+GekbztRWzs7AF43LHMsbPbkl0QlnIKSo9lBgLDk+248T2u3kniAoTYPblFCCxu4cIEM8HAhKeO3Gjt7kRTXW/fhM/9CMizvYRAUV+WIuxOlLYohN2JDjYitu/yOiFMyOpQWlWBOYs+wuK5X8J/nIaJKQ4y3HLyhWTpbK7YJMe3imseeus2QRCjw2rCBDu+9OKLLwpN0KxHoqKiQvwVgjALmluuWb+EmK5KZ64o1pjpuwKnXb7jPiefLBs7+6jEHgG5hy1u7OzOZFdEJx2H+uJiLjA80fMLkJ94FbsNhAhd7XoChX+JlAsTzEzxhKcgH3SU+/aNir2AxL5RsVl9uxPdmVcQUv0YqfVNvSNiW5V9l9fVQq6UokNej0cSCRYsmoHFC7/uCRMXuULc2r14IAJ1ny3hikxyYihz3iNeugmCGAVWEyYIwlIQbrkOCxN/LNBV9ANXCGt02fcjCkOWcZ+TwzR3iXbs7L5UyzkOZZNyGAkJR9B5YQEfGp6g3H8XTty9w4UIXW1zC+Fb2sSFCWZhXq3+caeY0J4w4SYEiva6ACFM+N6PgOLOdSFQlFQVIPhRrXDUSTMiFu31UKqaoGyTorFZioULp2PRkm8QNI52Jg46p+HRmi+44pKcWEp//EK8dBMEMQooTBDEMNDccq25s0SP7k5hDCpX/PbIQgQLE+LPyVGaM087dvaUhYyd3ZN6DKlxLug6P48LDYPZfWk5YjKCuRChK9vB8Clr4MIE8+GdEv3jTjn9x53yanpHxWZX9t47ocoLEo46lTTLhRGxQt+Eogmd6kYo2pshV7Ri4dwPsOjj8REmth/MR+XatVxRSU5MG+ZNFq/eBEGMApOFifDwcGzatIkkx5XstnR2y7VBVLV8sdsnO97EjjmJPyeNKxs7W17siJs5Yz921iHtOLKindF9bjYXHAazNvIIHHMGb872LpNwYaJ3wlOG/nGn+/5CmOiovQHf8nD43Y9Ee+ZVIPkskqurkCzpPerERsR2t0jRrZJA1t4CVXsrPl8xF4uWfYMQKw4T3zvdR/FWG0gmv8YVlOTEtqu5//JcgiBGh8nCBEFMNLpb87jilskarlnjNWvAFj8jTafu2Fmb5ANcsW8uD6SfQm6UAxcaBrPT6xvcuJPAhQhdvcpquUARkatGS3RM/3GnqBB0PXQXAsXD2t7eidzKRGF3oqk0STjqVCvrhEKhRldTI6B8DGl7MzraWrB54zdY8Mk3CLbCMPGpUw2ybZzprghyQNV5d8VLOEEQI4TCBEEYie6maK6gZbJRsGwkrPhz0owKY2e3IqPQBa7pLlzBbw4PpZ9GYdgeLjgM6Ll5KErwhG1OARckNF4prUFgtn6giM9XQR4aqA0U6jt9x51qLiGsPAp+96OgzLyM7nRPhDyqQZFUDqm8q+/yujrIlFJ0yZtwyNke85evQaAVNWAvcKxH0t7TkMyiuyLIwW0P8RMv4QRBjBAKEwRhJAyNha1LWAjbneuFy+rEz8ixs73oR5QUOeHSGIydPZp+BmXBO/nwMIBtfttw+m4WFyQ0Xip9hIBstV6gyCho1euf6CwLFAKFVNI7Kjavond3orzqHhIljX0jYqVC30SbSorOnjBx6dJZzPt0DXy2Wn6YmOEoRajjVdTPn8oVjSRpSPnZo+IlnCCIEWLyMFFXVwdfX194eHggICAAzc3N4q8IKBQKhISECDdNx8bGorOzU/uMjeB0d3cXrKqqEj5jF8qxn0sQlkLXg+Nc0Xrr3FcIvfQF9zlpOarzVuJR8V5h7Oy2JPP1WZzKOIuqgK1ceDBkt8cyJKQHckFC48WShwi4qx8oCvLq9I87PfAQRsUmP4yGf3k0VBmeUOf6CY3YNa0daG9VortVig5VE1RtTQjs+X1ze8KE9zY3rni3FCfva8UNJ39IPp7DFYskOZgt+3aKl3CCIEaIycOEt7c3Hjx4IISDnJwcBAUFib8iEB0dLdwwzS6lKy8vR2ZmpvaZJkRoQgUjISEBpaWl2u8QxFjTdX+3XpHanDofu3duEH4VF7CkhaodO3sIDinOXAAwheczz6HGZz0XIAxZH34ITjn3uDDBPFtShcC7Kr1AUXWntP+4U1bvcSdlnb+wO1FQkSDsTqQ/rEBhc2vviNjmJnSpGtDe1oyklHjM/+xrXN3mwRXxluAZ5xjUrvyYKxJJcig2b/xWvIQTBDFCTB4mdGFB4dKlS+KPBa5cuSI8Z7Dgcfv2be0zNtdf93VbWxtu3rxpeDwnQYwRnYXf6hWmbEeC7UxwBStpHbKxs4UbkFfojNOZpu2zWN/jpYxzqLv1AxcgxHZe+xq3suK5MME8WVyJwBylNkywCU+S5Eyd405BQqAoeBSDgPJoqNM80FwSj3hJQ++IWOHyOgnk7c3Iy8/G4pVfwtPCdib2O2eg+tuvuOKQJIdj0xdLxUs4QRAjxKxhQi6Xw9/fX/yxwOXLl7XhQKlU6oUOthvBdiXY7gR7zXYtcnNztc8JwhLozF2kLURZjwTrlWA9E1yRSlqlqoKvUF7sAO+cw9iYYJrjUBsSnHC1J1Q0eq3hQoSe5+aiNN4ddgaas48VliMwt10bKMJz1WiO6Z3wpIwMQudDT3Q8vg7/+xEoKk8A0twR/ugxalrVULbI0d3WiFZlMx5UlODjlavhvs2dK+jHwi3OhShfv4ErCklyJDbMnypewgmCGCFmDRPsmBM78mSIiIgIVFRUCLsOUVFRcHNz0z7T7ZkoKyvDjRs3UFJSwvVREMSYoWyBOu07dGT13iXBpjexKU7igpQcH2rGzkbnHTbJ2NmNCQdwM/0sWq5+wQcJHdt9tuBsdiYXKFwL7yMor00bKOLy+ic8qTN6jzs9qo1GYEU0OlPdUFV5F/nSVmFEbLdcijZVMxrrqnvCxEqc3zq2x5y+OVCBwu22kEyhuyJIIzr5NXZcQrySEwQxAswWJpqampCWlib+WItMJhN2LdgORV5entCwbYiCggKkpqYa7KMgiLGis+4xmnesF2zatRH2W7eg2HUfFG4uaLvuinY/FyjDHaGK3Q110mao09nxpwVckUpaoTkLISvagszCQ3BNN+4t3JsSneGXdgZyz8+5IKGx220pUtL8uUDhUlCGQJ1AkV4gFy6yY4GiozQEXTUeiKiMQkl5PDpyfBBX14BmeRe6m5ugUkmhaGnE8s9W4PT2sdmZ+MSpFlm2rqif/ie+ECRJI9jVMMAFpARBDAuzhAl2vCkxMVFvQtNgsIlP169fF3+M7u5uoaG7tbWV66MgiLGko+K+NkwkbtuAE1s2ad8PZov9dsgO2UN+5gAUVw6h/VaPgQehjNwHdcIOqFPXoiNzJV/AkhZre+EPKCl2wqVs442d3ZrkguDUU2jzWMaFCY2NYU5wzsnVCxRO+aUIKugPFPl59b3HncID0fngMlrqwhBcEYPO1Iu48/A+HsnU6OhZfzvVjVC1tWDl6s9wYqt5eybm7m9A/N5zkMx+jyv+SNKYdpQUipdygiBGgMnDBBsNGx4erm2uHggWEthOg0qlEo5DxcTEiL8iHIPSfC7uoyCIsURdmKcNCM6bN+LO9g1ccBitsgN2aD2+H/ILB9F2tSd0+LtAGeoEVfQeqBO3CbsdHdlLueKWHDvVeauEsbOBRho7uz35ECKST0LpvoQLE8yuq6vhmxWrFyj255X0BAqFzoSn+73HndKi0FV9HmkPolF2PxatxTHIa2rtHRHb3oj2dhk2bt2Ao2bqmZixrxmBjl6QLJzOFX0kaQpVaUnipZwgiBFg8jDBpi6xnQNdNei+rqmpEb7L7plggYE1YYsJDAxEfX298Fq3j4K9JoixRJWVLhT8LESwMCEOAua0xW4rZM52vbsdnofQdtO1J3j07XbE74I6ZT3UmTRlyuzmLkFT0U4kF7iOeuzsruTDiE06ho4Li7hAwZqzy+MuwC63vzl7371iBBa1CmEi6G4H6lKyeo87lYRBWeeLkIo4dKV7IKm2VhgR262QQtHejAOuB+Fi4jDxQY/XDgSibvl8rtgjSVPaHhogXsoJghgBJg8TBDERUCbFCYU8O97EjjmJC3xLtcVxF1qP7oP8nHPvbodvjyEHoIqy793tSPsWHXeW84UxOTpz5kFRuAH5wtjZkfdZ2KYcRVL8YXSen8+FCuXtDbiQna4NFHvvFSGwuKV3wlMOm/AUB2UYO+50FUWPY1F+PwaPKu6gWqZCt0wKpbIZbpc9cGDbJS4AGMsTzvF4/MUKrsgjSXOouEanGgjCGFCYIAgj0B4ZgsLtG2C/eROaDBTtVq/NJmG3o/XUgb6m8kO9TeVhjlDF2UKdtKmvqZwu6BuJbOxsRbEjbo1w7Oze1ONIjz2IrrNz9UOF2xJkpPhoA4VdbhECSpt7Jzzlq9AaFgxVapQwKjayMh4dd28hVyqDulUOtVIKvwAf7NvuyYWA0brv4B08+H4NV9yRpDltPXlIvJQTBDECKEwQhBFo87+Fi1s2ImKr9exKmMoW+x2Queo0ld9mTeXOfU3l26FO/REdWdRUPpAdeZ9AUmKH6HzXYY+ddUw7iexoJ3SfmaMXKqQhDnDpa862zS2EX6lUCBRpBQq0BfuiozAcNXVRqCqLRtGj+1AoVOjoCRPx8ZHYs/0KFwZG6kbnIpRt2sIVdSQ5Fsqc94qXcoKwCp566qkB3wcHB+Ppp5/Gr3/9a8ycOVOYgGpqKEwQhBF46HkBuzdtRL2B4pocWNkBW/2mcrbbEbofqpi9UCVu7WsqX8IV3BNG7dhZF7imD/0Wbuf0U8iPsNcLFF2XVyEwM0oIFLt79CltFAJFXl6DcHa846E3Uh4moLUwCo9k7ehsa8bdO2mw2XGZCwXD9csDVcjbvheSqZO4go4kx8oWh13ipZwgrILBwgQLEux6BTZBlfUav/HGGzrfNA0WFSaeNPGJICwVL0d7+G8d28br8WyL3TbIDu7pbyq/waZZ9TWVx+2COpk1lX/JF+PjTCUbO1vkBM8hjp09nH4GxaG7+0PF2TmoijmLvX03Z3uX1QuBouJuOVTJUZDVhaKqLAZFjY3okMtQUpqPHTtHvjOxbH8dMmyPon7Gm1whR5JjbYvtFvFSThBWwWBhYunSpVi9ejUSEhKEi6DNgUWFiXfeeUf8EUFYPOzeE5utW/BoO18Ek+a3Zb8NWo869DeV+7igPdipv6k8/Tt03PmEK9StTXXeStQIY2ddsS3JiQsSup5IP4vyoO3aUKG69RPcs9OEQOFVVoug7A7Upt5FR2Ek8h8lor4iC20KJR49qsDWEYSJ2Y5NiLG/CMmc97kCjiQtxebt68TLOUFYBYOFiYaGBhZ+UiUAAE+NSURBVMyfPx/PPPMMnnvuOeG6BVNjUWFC/D8OQVgDYWFh8NpryxW1pIWr21Tufqi/qVxzU3mypql8HlfIW5zC2NkdSM4/NOjY2bMZ5/DQb1NvqLi4CHdSvIVAcaWsRpjwJGV/k1UdhqryRNS0tKFFWoONu4begD3doQX++70hWTyDK9xI0tJs3viteDknCKtAt15ubGw0WD+zKxauXLmCl156SfzI6Jg8TNy5cwezZs0S0hH7D2J3SWhg//GHDx/G1KlThdcaGWPRQEIQw4Vdsmhra4sHR5z5YpUcN7bs26ltKhd2O1hTeZCmqZyN0GVN5Z/zRf6YOBeKwvXILzw44NhZt55Q8fj2OiFUtATthevdu7hU+gix+UooUhNQ/SgWdY/LoVI0YdNODy40GNLzQAjqVizkCjaStFSla78UL+kEYRWw+pjVyewY0+bNm/XCxLvvvgt/f3+hdUBTS5sak4cJdnSJNYCwhHTt2jX8/ve/1z5j//GsSaSlpUX7XsNYNJAQxHBhZxLZRYutxyhMkL0Kux3HHSG/qNNUHsaayvdAlaRpKl9sIASYRlXB131jZ12xKaE/UKyP34/LPaGi/sZ36PJcidDMCLiVPERKoRztBfGofHgHyjYF9rj4ccFB16MHk1Hz1edcoUaSlm7Tt5+Jl3SCsAqCgoKEOvnFF1/EpUuX9OrnrKwsTJ48WXiuCR2mxuRhQheWknT/g9lrzY3WmvcaxqKBhCCGQ1dXFxwcHPDw4UPIDjtxRSVJDmbLHgNN5QGapvKdfTeVr+bCwWgUxs4W2yImr3/s7MYEJ3iln0OT19eojj4Ft+JK3CusR1NVIhqbG3DMPZ4LEEzbgzl48ON3XIFGktZi0+qPxcs6QRAjwORhoqmpSTjKxILBpEmTuDDR3d2t917DWDSQEMRwYEf4zpw5I7yWHXLgikWSNJYyRxu0HhE1lQs3le/taypnN5UPs6k8ZyFaizYjq9AFh9NdsCnxAG6nn0VD4G4E593B/aJK1NUVwCMgTy9E/HSgBCWbd0Ay+VWuOCNJa7Lx0/miVZ0giJFg8jAxd+5cuLi4ICoqCoWFhVyY0EX8nmHOBhKCGA6HDh1CcXGx8Fp20J4rAEnS7O7eLByzkp9ygsJd56ZyoancBurkzb1N5dlzuXDRO3b2ALzuHoV/2nlkZwWioqIYvrGVQohY6VSNezscIJn2OleUkaQlmfrDl7h8+hR8Djiics4H3HONDUs/Eq3qBEGMBJOHiRdeeEHYVWB9EevXrx80TLCzXRKJRHg9Fg0kBDFUWIhgYUKD7MAevrDT8aHtNhTts0HjTrohm7QM9ZvKXdF+q/+m8rZkezzKOorSu9cQkXQPqXYnUD/zba4YI0lLs2rO+7h44QIuXrwoGG6zjfuOxoYFU3VWdYIgRorJwwRrnn7rrbfw8ssv4+zZs4OGiTVr1uA3v/mN8HosGkgIYqiw403smJOGlv0Dj4bNd7CFW9//ufmeOoEmA98hybGydr8Dyk674+6VMCT6ZCIksBReIY9xMb4SXtFhCI3chrbr89Awk3YkSMuX7UTohglXV1ds2rSJJCe84eHhOlWMcTF5mCCI8QZruGaN16wBW0OLgw1XpGkMPnZY+39szKo9O7jvkKQprLe3Q8WJ88i9FIDkW6kIDyzCzdAanA9phmugAra32rHjRr/7wqXYnVaBpQmZOBHsDpntbzDL/0uoI3+GjvhnoLi4AJKp1CtBWrZJa9fg0tkz8HZxRsW8KdxzjXTMiSCMA4UJghgmbBQsmzKmi2yQnYkUFydtkPA8fw71uzZx3yHJ4dpgux1VR08i390Hqd5JCA8oxK2QariFNuFIkBx7ffSDwkDuCWyFfUo1vkzJwdSoZMHb/oeBn/4KAVeX45XrC1CY8AY6Iv9CsDP+t5AfmccVZiRpbVIDNkEYBwoTBDEM2JQxdkkdu6xOF5nLPq7Y0xZ9OzfAdf9+hLgeRCXtSpBDUNoTOB+6HkWB2y2k34xHlP89+IRUwSO0Acd6goKDLx8KhuPu2wo4Jj3G2rR8TI9O0YYIZsqNHcCPfw788P/g26C1QphwS1ijDRNa4/4HMvvZXIFGktYijYYlCONAYYIghsHt27cRFhYm/hitRw9wBaHG1G0bcGwL7UaQ/T465IqiC9eR6RWNWL+78A+uxOXQepwMboWTP1/8G8NdN9vhEFuPLeklmB2bqhcgmNOjE1Hm/qUQIpj1u5/Bq16LhDCxJnwtHyb6VMe8ieaNM7hCjSQt3aZvPhUv5QRhEthk0uvXr4s/hkKh0DsGzTQEu0YhOTlZuKDO29sbjx8/1j6rrKyEu7u7YFVVlfCZVCqFr6+v9jumxmRhgjV6iJs/SNLa3b59O1pbW8V/3NF60pUrGDWyIMEChfhzcnz6+IATSs94IvtqGOJ9shAUdB/XQ+twNqQFBwPauCLf1O6LkMImvRxL4jO5AKFxfmQ86k/O0QYJ5lXv1UKQYL5+Ywlaov+JCxJao34OVcQUNH09lSvYSNJSla79UryUE4TRYdNM/fz8DAaFBw8eIDIyUvwxR0FBATIzM4UJpxUVFUKg0KAJEZpQwWBHsUtLS7XfMTUmCxMEMZGQnzvOFZXMku0bsHfzJprgNE6sc9iL8lMXkeMZjKTb6QgNLMaN0BqcC2mGS6ACNt58MT8WCn0QqQ+wKukuFxzEftbzf2QK5zf0ggRzReB32jDBjE2cx4cIsdF/DVXIDDR98i5XuJGkpdm88VvxUk4QRufatWsoKSkxGCbYVMjs7GzxxxxsMio7Zm0I3Z/LXre1teHmzZt6Q2JMDYUJgjACcvczXOHJvLxlI4K30q6ENdiwxwaVx88gz8MPKd7JCAssgnfoI1wMkeJwkBx2t/mi3ZLc7SOHQ9Jj/JCah2nRfGgw5E/hAVDveZELElX7/0svSDCd4gY+6sQZ8/dQ3p6DhgVvcgUcSVqKzdvXiZdygjA6rLhnGAoTERERCAgIwOXLl4XAIJfLxV8RYM/ZnW3sV3YHm0wm0z5juxFsV4LtTrDXbAcjNzdX53ebHgoTBGEEFJcvcsVpzfb12LVpk/Cr+BlpXht3b8XDI8dR4H4bqd6JiAjIh0/IQ3iENuJoUCvshzj5yNLcebMNDnESbEkvxqwYvg9iMB1DvdC1/SkuSDDP+HzLhYl5gV/zoeFJxv0r2q7Oh+RDuqOCtDxbbLeIl3KCMBmGwgTro6iurhZ2EdilzSxcGMLNzQ3p6elQq9XCMSfd7+n2TJSVleHGjRvCToi4j8KUmDxMsCYQlro8PDyEX5ubm8VfEairqxOaRQx9zxKaSwhiMBRenlwBy3Yk2M6E+HPS+FYfPoqiizeQfiMW0f658AuphGdoA070BAVHP74It3b3RTUJfRCL4zO4kDAU3QLPARv/jgsRgj/+Geb5f82FCeaD+P/kA8MQ7Iz/NdrO9YSKya9xBR1JjpXsFniCMBeGwoQurMmajZ43BKuNNVMkWfBgOxSGYL0VqampBvsoTInJwwQr+FlCYmkqPz9fCAqGYM0krBGls7NT2MoJCgrSPjP0P4q5m0sIYjDabl/XK25ZjwTrlWA9E+LClxyeNQedUXLuKu5cj0ScbzYCg8pxNVSC08EyOPubv6F5rNwbJMPe1Af4PCmbCwfDMeS2E7Du53yI6DPv6FtciNB4M2klFxSGZfzv0HpoLlfUkeRYKHPeK17KCcJkPClMsJBw9epV8ccCt27d0h6BYnWyoTDBwgirpdmQGHEfhakxeZjQhQUKlq6eBOtWZ+OvNIj/RxmL5hKCGIz2QB+9ApjGwQ7N2v0OKDvtjrtXwpDok4mQwFJ4hTwWGprZ5CM2zlRcVE8kd/sqsC+pBt+n5nGhYCRmX93AhQexB/1/5EKExo2R6/iAMBLjego5W7qjghxbW08eEi/lBGEyDBX1rPhnx5tYPctO6CQmJoq/IpCRkSH8RTsLEuXl5YiJiRF/RTj+pPlc3EdhaswWJlhAyMrKGtIILJa+WIOJBvH/KGPRXEIQg6GMjdQrkmkc7HrU29uh4sR55F4KQPKtFIQHFOFmaA3O9wQF10AFbG/xxTPZjl232uAYL8Hm9CJ8NMw+iIGcGZWEB+eXc8FBbNe6n2Oaz0ouRGh859YnaI/8Gz4cjFB1zDtoXk93VJBjo+Ka6YssgtBgKEywIOHj4yP8RTu7UkH3Qlzd77MQER8fLxyDYo3a7H4KMezz+vp64bVuewB7bWrMEibYjsSVK1eG3AjC0hc78qTBEppLCGIwVBmp2iJ6IoyDbbDdjqqjJ5Hv7oNU76SeoFCIWyHVcAttwpEgOfZaaUPzWOoY1YidafexMD6dCwOjcUlULKRHpnLBwZCpZ2dwAUJsZsIULhSMyqi/hDp8CqRfTuGKPZI0pe0h/X9pSRDEyDFLmNDAtma8vLzEH+vR1NSEtLQ08cdaxqq5hCAGQ12Ypy20rX0crHTnRjx0PYoCt1tIvxmPKP978AmpgkdoA471BAUHX74QJkfm3uAW7EmtworEO1wIMIZfRYShff//cKFhIG2D1nHhQeyJhO/5QGAMo/8GqsCP0LiM7qggzaMq1fCREoIghodZw8STeibY8SZ2Xoxt5xhiLJtLCGIwOh9WCYW4NYyDfXTIFUUXriPTKxqxfnfhH1yJy6H1OBncCid/vuAljaudX08gS36Eb1PvccW/Md0W5oPO3f/OBYaBVG78X8IxJnF4ELsixERhQmPMP6Ldey4a5v6JK/5I0ph2lBSKl3KCIEaAycME60Cvra0VmktYc0hYWJj4KwKs8YSdF2O9FQMxls0lBDEYXU2NQqE+1uNgHx9wQukZT2RfDUe8TxaCgu7jemgdzga3CA3NOw0Ut6TptfFWwDGxDhvSCzEjJoUr/I3t4eDL6N76z1xgGMwIj8VccDDkq14LIYl9mg8Bxjb239B2aQEkMyZxRSBJGsOueol4KScIYgSYPEyw5hI2HpZNZ2JBQvd2P90dBTadib3XVcxYNpcQxGB0q1QmHwcrcdyD8lMXkeMZjKTb6QgNLBYamtnkI5dARU/Byhex5NjqGN2AHWllmBdn3D6IwfTyPw6s/2suLDzJjUM44qQxKPFjvvg3kZ1x/w7FmfmQTHmVKwZJcsROfpVNhhEv5QRBjACThwmCmCik2WwZ8TjYhj02qDx+BnkefkjxTkZYYBG8Qx/hYogUh4PksLvNF6qkZWof2oI9aZX4JDGLK/RNbZy3HbD2L7ig8CRbtv8r3rixlAsNA2kbY6QRscMx/r/QeoDuqCCNY8P8KeIlnCCIEUJhgiCMxPEd2wyOg23cvRUPjxxHgfttpHonIiIgHz4hD+ER2oijwa2wp8lHVq+dvxz2KdX4OiWXK/DN4fTIJBR6fseFhKHqc/0zLjAM5nTfVVBH/owv+M1h3Gto2TWLKw5Jcjg2fbFEvIQTBDFCKEwQhBGoqamB7a7diPLLgV9IJTxDG3AiqBWOfnzhSY4PbW4r4JhQh5/SCzAj2vR9EAM5OzoetWcWcgFhOH4dNPBFdQNZFD+JL/TNqDr6PUh//JArEklyKEo3fiNexgmCGCEUJgjCCLC7T454RHAFJzm+ZA3s+2MasS29FHPj0rjC3tx+EhmF1kNvc+FgONbteU5oqhaHhSfpnvgVV+Cb3ai/gjpsGpq++IArFklyMFv27RQv4wRBjBCrDxODTX8iCHPAhgrY2NggJLOZKz7J8eG+sGbYplXg48RMrqAfK78PD4Zq3++5cDBcL3l/xQWFofhNxFq+uB8ro/8WyoBZaFj6Dlc0kqQh5WeOipdygiBGiMnDxFNPPSX+aNTo/sx33nnH4OcEYS6io6OFnYnsyk6uCCWtV7sAOexTq/FlSg5XyI+1dmHe6Nr5Ky4YjMRlAd9yQWEosoZtWfQ/8oX9WBrz/6H95jw0zH6DKx5JUtf2YD/xUk4QxAix+jAx0GuCMAfs/pR9+/YJPRMPGrq4gpS0Lm1usfsgarEuLR/Tx7APYjDPBLmhe/Pfc6FgJJYf/B8uJAzHuMQ5fEFvCcb9Cgr3+ZBMf40rIkmSqb6XLV7OCYIYIWYJEz4+PvjP//xPPP300wgJCdE+k8lkWL16NV544QWsWrVKuNlaw507dzBr1iw899xzeOmll4R7KDRoQgP7VaPm/UD/LIIwBbm5uTh16pTwWqHq5opT0vLddbMd+2MbsDW9BLNjU7ni3ZL083EB1v0lFwpG6gm/77iAMBwPxFnQUScDdsY/D8XJ+VwhSZJdzU2i1ZwgiJFiljCxc+dOtLW1ISgoSCjyNbBz5oWFhVAqlUII2Lt3r/YZO77ELqljz65du4bf//732mcD7UYM9s8iCFPAggQLFBrsfZVcsUpapvsimrA7rRxLEyynD2Iw069vA378My4QjNTutX+G2X5fcgFhOM4P/Jor4C3S+D+g1XEOV1CSE9P6uR/orOIEQYwWs4SJ5uZmvfcaXn31VW0DNTsu8vrrr2uf6cK+Iw4NA70e6J9FEMaGHW1iR5zYn10NpyJVXNFKWo52ga2wT32IL5LvcsW6pfphdBLKL67iwsBozTn+HhcORuLDuBf54t1CVce+juZtH3HFJTmxlP6wSmclJwhitJglTAz0/tlnn9UeU2I+88wz2mdNTU04fPiwcAxq0qRJXGh40mtD7wnCmLCma9Z8rfdZqporYMmx1cZHDsekx/gxNQ/Tovli3ZJdEBWHxuMzuSBgDJ0C1nLBYCR6J67kinbL9mdQR70P6XfTuCKTnBjKDtjprdsEQYyOMQ0TL7/88oCjXefOnQsXFxdERUUJR6EGCg0DvTb0niCMhWYcLPtVl6i8Dq6YJc3vzpttcIytx+a0Ysyy8D6IgVwVGY4259e4EGAMO3/6S0y5PbxbrwdyY9RPBgp2KzDqF1CHfoimz97nik1yfKu45q63bhMEMTrGNExs3rwZ+fn5UKlU8PT0FBquNbCm7JycHLS0tGD9+vUDhgbWFyGRSLjPDb0nCGOhGQcrhsbDjq0OkVLYpJdjcXwGV5xbkxsjAtCx5z+4EGAsE8/P4kLBSH331nIoo/6aL9atxZi/g9JvNhoWvc0VneT4VJkQI166CYIYBWMaJqRSKVauXInnn38e06ZNQ3FxsfYZa75+6623hN2Ls2fPDhgm1qxZg9/85jfc54beE4Qx0B0HK6a6icbDmtu9QTLsSX2AlcnZXFFujR4IvYbubf/KBQBjujNwHRcKRmNW4hS+SLc2Y/8F7V7z0fDR61zxSY4vOyvLxUs3QRCjwORhgiDGG7rjYMV0dAE23nzBSxpXWx859iXV4Pu0e5hmoCC3Vi8FngE2/C1X/BvTtk3/L972XsYFgtF4Mv57vji3VuOfhuLiAkim0R0V49Kpk3oWarV46SYIYhRQmCCIYSIeByvmZARNdDKFu261wTFegk3pRfgoxjr7IAYz4rYDsPZnXPFvbEM8l3JhYLR+GjKOwkSfnfEvQH5sHl+MklZt4+eLxEs2QRCjhMIEQQwDQ+Ngxfhm0kQnY+oQ1YRd6fexMC6dK8DHi7lX1nFFv6lcF2zcI07MV70Woj7m/3AF+bgw/r8hs6c7KsaLsv27xUs2QRCjhMIEQQwDQ+NgxWSUUxP2aN0bzPogqvBp0h2u8B5PzopKxKNzH3MFv6mU7nwKk24s5sKAMQxO/JgvxMeR6tg30bx5BlecktZlm99N8ZJNEMQoMVmYCA8Px6ZNm0hyXLl9+3ZuHKyYGik1YY9EWz85HJIf4bvUe1zRPR5dEhmLliOTuYLflN70WsmFAGNpG2ulI2KHY9TPoY6cjKZvpnJFKmkddpQUipdsgiBGicnCBEFMVLq6AdtbfLEs1vZ6LXZ5NXOfTyRtvHv7IDamFWLmOOyDGMg1EWFQOr7EFfum9ovAH7gQYCw/9F0FdiEcV4CPR6P/GqqQGWha/i5XrJKWa/2Mt4AB7rYiCGLkUJggCBNwOmrwJuwjnrG4ePEiLrh5wOFaGfd8vOsQ1Yid6WWYHz9++yAGcme4DzptnuUKfVNbY/8C/nh9IRcCjGlR/Gt84T2ejfl7KH3moGHBW1zhSlqe0rVfipdqgiCMAIUJgjABAXcGbsK2ud4kBAmNJ9z9ue+MR/eGtMAurRLLk7K4AnuieCzkErq3/BNX6JtDt9truOLf2HokfsUX3BPB2P+NtmvzUT/jDa6AJS3H1tOHxUs1QRBGwORhgl1MFxAQAA8PD+HX5uZm8VcEBvteZWUl3N3dBauqqrTf9/X11X6HICyJOxUDN2HvutGKc+cvaMPEUc9o7jvjRVt/BfalVGNNSi5XWE80vf2OAut/wRX55nJxwDdc8W9svw1fyxfaE8jOuGfRdm4eJFPojgpLVBkbKV6qCYIwAiYPE6zgLykpgVqtRn5+vhAUDDHY9zQhQhMqGAkJCSgtLdV+hyAsibqWbq6w1rjtaCRsnU7jmEcoDnvGwWac9U3suq2AY2Id1qcVYEZ0CldUT0STbuwCfvxzrsA3lyWHXuUKf1P4xo2laI35B67InnDGv4jWQ3O5YpYcW7vqHouXaoIgjIDJw4QuLCiwnYcnIf4e+9tb3ddtbW24efPmoLP+CWIs6e5xn5+SK7S3e1Rh07bd2O75mHtmze7s0TG6EdvTSzEvLo0rpieq06OSUOKxhivuze1Rv++5wt9UxifO4YvriWr8K5DZ0h0VlmDD4hniZZogCCNhtjDR0dGBrKwsREYOvs1o6HtsN4LtSrDdCfY6MzNz0BuICcISuJ4i6pvwUmCLrSu2nkjkinFrdV9oM+zSK7AsceL2QQzkvKgESE7N4wp7c9u99s8x03c1V/SbSue4H/mieoKrjnkbzevpjoqxtMVmo3iJJgjCSJglTLCdhitXruj1PBhioO/p9kyUlZUJF4exI1HiPgqCsCQy7uv3TWx1DcYW+3NcQW5t2gXIhT6Ir1JyuAKa7PXTiCjID77JFfZjYdapKVzBb0oXBq7himmyx6i/hCpiKqRfTeEKXdL0tt24LF6iCYIwEmYJExrKy8vh5eUl/phjsO8VFBQgNTXVYB8FQVgSTfL+vont7uXYtM0W269IuOLcGuztg6jFurR8fEh9EIO6NiII6r2/44r6sXJf4Fqu4De1D2Nf5Itpstfov4Eq6CM0fkJ3VJjTjor74iWaIAgjYdYwIe6FGIiBvtfd3Q1vb2+0trZyfRQEYYm4BCux43orNtscxLZTaVyRbsnuvNkOh9gGbEsvwZxY6oMYivtCb6Brx1NcQT9Wqn/6Bd6/9SlX7JvaW4mf8UU0qW/MP6D99lw0zHuTK3xJ49qw9CPx0kwQhBExeZi4desWamtrhWbpiooKhIWFib8iMJTvsc9jYmKE1+I+CoKwRHwz1dji4octDm5csW6p7guTYndaOT5OyOSKZXJgLwSeAzb+HVfQj6VxF+dxhb453BS1ji+eScPG/RvaLs+HZMbrXBFMGkeZi714aSYIwoiYPExIJBJh7OulS5eEgCCXy7XPdHcUBvuehsDAQNTX1wuvdfso2GuCsERiMiqwecce7LjayBXtluSewFbYpz7E6mTqgxiJQbcPAOt+zhXzY+3WwHVcoW8O37u1AsqoX/CFMzmgnfH/DsWZ+XRHhQlUxkeJl2aCIIyIycMEQUxU2HE9J6cD2H72Dle8W4I2rA8i+TF+TMvDtGi+QCaHZta1jcCPf8YV8mOtYus/4k83P+YKfXN5J/EDrmAmh2D879HqTHdUGM2pk9AtbxUvzwRBGBEKEwRhIvz8/HDt2jWciFBxhfxYuetmGxzi6rElvRizYlO5wpgcujOjklB14TOuiLcUA68s5wp8c3oq4Tu+UCaHbtyraLGZxRfH5LCUrvtSvDQTBGFkKEwQhAlgI4zt7e2FCxZDczq4ot7cOkRIYZN+H4vjM7iimBy+iyJjIT02nSvgLckfgsbmiJPGz0K+5wtkctiqY96FdO2HXJFMDk3FZRrQQhCmhsIEQRgZpVIJR0dHFBUVCe/v13Vxxb053BPUir2pD/B5cjZXDJMj98uIMLQ7vcIV75Zk4+6n8ZrXYq7AN6evei1CQ+yvuOKYHIFRfwV1+DQ0fTGZK5bJwe0oLhSt0ARBGBsKEwRhZNj4YqaGrm7AwU/JFfumcLePHI7JNfg+7R6mGSiEydG5NdwXHXbPccW7pXntxhdccT8WhiYu5QtjcuRG/y2UgR+hYcnbXNFM8jYsmMpmyuuszgRBmAKTh4mnnnpK/NGoMcXPJAhjwHYj2K4E253QhY2IFRf+xnLXrTY4xkmwOb0Is2KoD8JUHgq5gu5t/8IV7pbo54Hfc4X9WGgbQyNiTWLMP6Hdex4aZv+JK6DJfmWONnrrMEEQpsEqwwRBWCKsP4L1SbB+CTFltcY/6uQQ2YRd6fexMI76IEztVf+TwIa/4Yp2S/TB/v/CH68v5Ar7sfBD31U9xe/P+GKYNI5xv4TCYz4kH07iCmnyj1DGRYqXYoIgTIBZwkReXh7ef/99rFixAs3NzXrPdNF9HxwcjKeffhq//vWvMXPmTKSmphr8Hnt99uxZTJo0Sfh+SEiI9plMJsPq1avxwgsvYNWqVcLN2RoG+/mDPSOIgWCTm9gEJ0Owo077jHDUaW+wDHvSqvBZ0h2u4CVNY4z3HmDtX3BFu6V6zucbrqgfS4sTXuOLYNKodsY/B8XJnlAx+VWuoJ6o1s96F90qlXgpJgjCBJglTPz4449QKBSIiorCtm3b9J7povueFfMeHh7o7OwULqt74403DH6Pvd6xY4fw84OCgoTfp8HGxgaFhYXCkRMfHx/s3btX+2ywnz/YM4IwxL1793DgwAHhbomBuJ0xsqNOtn5yOCQ/wnepeVyhS5rO6ZFJKPD8gSvWLd0F/l9zBf1YeinhK674JU1k3P+P1v1zuMJ6Iirbv1u8BBMEYSLMEiaqqqqE1+3t7XjllVf0numi+37p0qXCrkJCQoJwfEQXcZjQ3Iotfvbqq6+io6NDeN3V1YXXX39d+2ywnz/YM4IQw25rZ0FV8+d8IEoeD/2ok413GxzjJdiYVoSZ1AdhdmdHJeDxmcVcoW7pFhz5E1fMj7XfRVDfhLlVx72O5u0fcQX2RFKVnixeggmCMBFmCROaZlRW0LOjQ7rPdNF939DQgPnz5+OZZ57Bc889h5ycHIPfG+xnPPvss8J7jexnaRjs5w/2jCDEXLp0SdgVexKdXYC97+BHnRyjG7EjvQzz49O5Apc0j8sioyFzfZcr1K3BQ/4/cMX8WPvGzaVojfl7ruAlTa86+n1Iv5/OFdrj3Yb5U3sW3E7xEkwQhIkwS5hISUkRXrO/5We9DbrPNDQ2NnLBgMGCyJUrV/DSSy9pPxtqmHj55Ze1OxMDYejnD+UZQTDu3LkDFxeXJ/4503ArnT/qZB/SAru0SqygPogx97uIEKj2/RdXpFuDXWt/JjQ8i4t5SzAhcTZX6JJmMuoXUIdNR9PnH3BF93i19YiTeOklCMKEmCVMsCZmdhQkNDQUdnZ22mesN4E1O7OQsXnzZr0g8O6778Lf318o0jQN0RqGGibYz8zPz4dKpYKnpydmzZqlfTbYzx/sGUFoaGlpEf48V1dXix8NSHFN71EnW38F9qVU45vUe1xBS46Nu0NvoWvX/+GKdGsx/cyHXBFvKTrHreWLXNK8xvwdlP6z0LB4/N9Rob6XLV56CYIwIWYJE6ygf/vtt/HFF1/oTVTSNEy/+OKLwlER3SCQlZWFyZMnC881oUPDUMOEVCrFypUr8fzzz2PatGkoLi7WPhvs5w/2jCA0XLhwAeHh4eKPB4UdddqVWYIZMSlcMUuOnaeC3NC9+R+4At2atAtcyxXxluKiwG/44pYcG2P/Ge1e89Aw63WuCB8PNnw8iy6qIwgzY/IwQRDjkbS0NBw5ckToAxouJ4rLuWKWHDt9/VyBn/6KK86tSdWGv8W73su5It6SfBj3Il/YkmNn3NNQuM2HZNprXEFuzcrPHhUvuQRBmBgKEwQxTJqammBra4va2lrxoyFxv1XOFbTk2JjqtR348c+54tzajPKwjEvqBvN20md8QUuOuZ3x/wHFsflcUW6tdpT1n0AgCMI8UJggiGHQ3d2NM2fOIDY2VvxoWHyfnssVtqT5/DA6CffdVnNFubW6KWgdV7xbmpujaESsRRv335Dts+47KhpXLhIvtQRBmAEKEwQxDJKSknD8+HEhVIyGwOparsAlzeOCyHg0nJjFFeTWqmz7PwvjV8XFu6X53q0VUEX9gi9iSYtSHfcGmjfP5Ap1a7Dt1jXxUksQhBkwWZhgjambNm0iyXElu21d95LEkaLo6MSsWLqMztyujIyA4uDrXEFuzfpeW8EV7pZqduIHXPFKWqI/gzpqMpq+ncYV7JZq/cy30S3vH/BCEIT5MFmYIAhicJwLSrlilzSdG8L90WH3AleMW7vfBFnuFCexpxK+M1C4khZr9F9DFfohmla8xxXvlqbM1VG8xBIEYSYoTBDEGHFP2sIVvKRpdAq9hq7t/8YV4tauxO7f8arXIq5ot1Q/D/2eL1hJyzfm76H0nYOGBW9yRbyl2FFeKl5iCYIwExQmCGIMWZ2azRW+pHF1DzwLbPxfXCE+HvT0/pIr2C1ZFnwaY37JF6ukdRj7v9F2bT7qZ7zBFfNjqfSnr8RLK0EQZsTkYYJdHBcQEAAPDw/h1+bmZvFXBC5evKinm5ub9lllZSXc3d0Fq6qqhM/Yz/X19dV+hyCsEWrENq1htx2BtT/jivDx4vKA77iC3dINS1rKF6mkdRn3LNouzIdkimXcUaGMjRAvrQRBmBGThwlW8JeUlECtVgs3YbNA8STu37+PzMxM7XtNiNCECkZCQgJKS2lbk7BulF1dWBifzhXB5OjNubKeK77HkxVOL3GFujVoF0MjYseN8b+F/PA8rrg3pw2LZwAdHeKllSAIM2LyMKELCxRsh2IwlEolfHx80NnZqf2M7VTovm5ra8PNmzdHdPswQVgabveruEKYHLn/t70zgYrqvNv4+ZJmbdO0PemXfqYnSRtTj61pjEaNJibNpjGJxioucTdqEjUC7opG425S6pK4xQ0RUVkEQdAgDDuK4gZxCYoY4y4KyiowM//P/8uZ63DfARW5zMy9z++c33GWCzMQuHke3vu+74emVDq7qq8UvvXmiq0jpKDuDr4fMYR4tSApmEL3NbklFc7sIgX9hrDEf6X6lAoAaGAarExUVlbS/v37KS4uTv1UNTIyMujYsWPVHuPRCB6V4NEJvs2jFllZWdWOAcBduVpeTu8n7JZCMbx7e8Ul0rVv35WCt+70vI+6RnwqBXV38XhyKzmQQre3IrE9XRvbgHtUdGxLlqv3vlQ3AODeaJAywSMSgYGB1eY8OIILR1BQkDjeHvs5Ezk5ORQcHCwunVLPowDAXfnmCJaJvVc/jY2hG/NayMFbh2Z997oU0N3JgNRPpSAKdaLpQSqP60D5n78rh/969vosH/WpFADgBBqkTNjIzc0VZaEm+PmEhAT1w9U4evQopaenO5xHAYC7crKoWArH8M6dsjOczNP/IoVuvfqfSPfZW8KRX8R6ySEU6sv4X1N59Ad0ta92e1RUHP1RfSoFADiBBi0Tt5szkZycLEYcasJqtVJoaCgVFRVJ8ygAcHcmHDgihWR4e7/dvp6sk56QArdeNXs/SB3CB0sB3Z1sF9KbiuN/LwdQqD8Tfk9lYV3pSrf63aPi2sRR6lMoAMBJaF4mtmzZQhcvXhSTpU+dOkUxMTHqQxTCwsLo8uXL6ocV+ONtIxfqeRQAuDt7rxRIQRnWbnDEd0RjHpUCt57dtepDKZy7o6mpneXgCfVr0v9RaWA3utyprVQM6mLF4Uz1KRQA4CQ0LxNcDnh52PXr14siUVxcrDynHlHgY3g1p5qIioqivLyqyVb28yj4NgB6YFRGlhSYoWNTQr4i8vqVFLb17rRobymYu6O+SbjUyYiak/9KpSvvbY+Ka+NHqk+dAAAnonmZAADcORiduL3vmdIo23+4FLKNYNn439LroX2lYO6O9oj6XAqa0EAm/4OKfLtKReFOrPjxoPrUCQBwIigTALgYnhidqNGP4lPo0vJuUsg2ijvX95JCuTt7NqmJHDKhsUxuTYXTO0uFoSYLxg1XnzIBAE4GZQIAFyMDoxMO7R9noqIF7aWAbSRH6+QSJ5thqQPlcAkNaUX8G1Tg3UkqD2orMverT5kAACeDMgGAC4LRiep6xkZTxey/S+HaSF6b+n/UNlhfIxMT40dLoRIaWNNDVLGzA+UPeVsqEWJUYvRn6lMlAMAFQJkAwAXJuIrRCZszY4LJMuUpKVwbzS1B7r0crCPfCutP5aZH5FAJjS3vUbGtM13t/Ub1UYmD+9SnSgCAC+DyZaJRo0YObwOgd7wyfpSCtdFcFb2GrOMfl4K1ER0W5SmFcT14KPUtOUxCyCb8gcq2dKUrH71GBd7D1KdIAICLgDIBgItyKP+aFK6NZFS4L5H3Q1KoNqIXZv+NWgd5SEFcD65IGSmHSAjtTWxElTl71KdIAICLoGmZaNeunbIHRFZWligD+/dXTZ7ix/l5prCwkIYOHUpNmjShTz75ROxwbQNlAhiZ6ZnHpJCttuNNpwRvodV+fvSfwE3UJSZZOsbd3LdpIpHnfVKoNqrrQj+TQrheHPzDKDk8Qmin+VBX9akRAOBCaFompk6dSgEBAeL28uXL6bnnnqPFixeL+7xhnY+Pj7g9bdo0OnbsmNiwLjw8nGbNmqV8DpQJYGTOlJTS+/G7pbDNdoxNpW4hkeS5aq34fbI5IXSrdKy7+L4pjX5eO1gK00b3420jpBCuF1sH9aCrCU9JARJCoekRspYcV58aAQAuhKZlwmQy0bBhVdc59uvXj+bPn089evQQ9/v37087d+4Ut1u3bk2VlZXitsViobZt21Z9AkKZAGBZ9ikRtDvGpdG/t0RT/1V+NHz+f2js5Mk0cs48GvX96mplYmxohBTS3UGPuETKX/K+FKSN7on/tpICuN6MSeslh0gIb2rJHqM+JQIAXAxNy0RZWRm99NJLVF5eTs2bNxeXM/GlTPxv06ZNqbi4WBz37LPPiqJg85lnnlE+B8oEMDJnz56lmPgEGvmfBaI8fDFrDg1aupI8NofRe3aXM43fEkHL/NfTnI1B9GFsihTUXd0hsTup9JvWUpCG/0NLIr6QwrfenJmIJWKhA5OeJKrMV58WAQAuhqZlgunbty+tXLmSBg0aJO53796d5s2bRx4eHsoxLVq0UEYm1KBMACNx8eJFSktLI39/f3H5n6+vr7j0b1V8EnX6IUkK4Xpwws5IqpzxvBSi4f+Q1es+6hwxVArfevODm19jZdwDcpiEhtbyyxL1KRIA4IJoXiZWr15NzZo1o3Xr1on7ixYtEnMnli5dqhwzYcIEOnLkiBjB4DkWnTt3Vp5DmQB65sqVK5Senk6BgYE0Y8YMcSlgaGgoHTx4UIzg2ai0WGnQrgNSEHd3fXdsJKvPk1KIhlUeXPa2FLz16omkl6UwCY2reXczIqvjPzICAFwLzctEbm6uKAG2VZ327dsn7nN5sFFQUECDBw+m559/njp27EjZ2dnKcygTQE/wzzr/DmzevJnmzJkj5Nv8GD9XG2mXr0ph3J3dsG050djfSAEa3nLeNi8pdOvVDSmfSoESGlfrle3qUyAAwEXRvEwAYGR4dIFHGXi0gUcdePSBRyF4NIJHJe6WL+9gqVh30BQ2h8jrASk8w1tWjn6E3gkbKIVuvToq1lsKlNCYmg9+oD71AQBcGJQJAOqR0tJSsacKz3Pg+Q4874HnP/A8CJ4Pca9cKrtBXRLTpXDuLvKeGIc3eEnBGcomr+kqBW49+2rIx1Rs+p0ULKHBTPgtWUtz1ac+AIALgzIBwD3Ae6McPXqUtm3bJuYD8d4qa9asoaSkJLESkxaEnj4nhXR3sEtcCp1f2UsKzdCxU6K9pcCtd1NTP5TDJTSUlp991ac8AICLgzIBwF1QUVFBx48fp+3bt9N3330nygOvVsZ7qpw+fVrsk6I1ZquVhu/JlMK6K9s7LoEKF70lBWbo2JKJv6f2oX2ksK13FyR7SuESGkfznlaYdA2AG6JZmeAN6caPHw+hrpw0aZLYzZ1/vk+ePFnjksZak329iN6rYWdsV3N43A9UPvdFKTDDmt0eaLwiwfaMHi4FTGgQTQ+TtfCA+lQHAHADNCsTAABtWZqdKwV3V3NazBYyT3tGCsuwdj2jjbOKk72tNnvQucS/yUET6l7L8QnqUxwAwE1AmQDATSmpNFOf1H1SgHcVl25fR9aJf5CCMqzd/Gl/pjZBPaWgbRTDUwdIQRPqW3Pa80TmEvUpDgDgJqBMAODG7L1SIFZIUgd5Z7slYhHRmEekoAxvb1DwJ1LANpKT4rFErNG0Xo1Vn9oAAG6E5mXCarXSrl27aP369WKt/QsXLqgPEfCGXVu2bBE7ZUdERFBeXp7yHG94x4+zPMnVdvzWrVuVYwAwKot/OimFeWe6O3gKkef9UkiGd+bgqC+kgG0k3wobQOWmh6XACfWp5cgn6lMaAMDN0LxM8LKZvLsvT1Q9deqUKBSOSE5OFuvzl5eXU0ZGBiUkJCjP2UqErVQwKSkpdOLECeUYAIxKmdlCg3cfkEJ9Q/tefCqdWPepFI7hnXt2TlMxb0AdsI3moZQ3pdAJ9ac5rTFR5XX1KQ0A4GZoXiaioqLuaKdfHpUoKysTt4uKiigsLEx5bu3atdVu88ZgISEhDbIMJwDuwNHrhdTJias7dYtLprxlH0nhGN6dq8M+l4K1Ef0+ZYQUPKHO5NWbru1Sn8oAAG6I5mViw4YNlJmZKf6NjIykwsJC9SGCgIAApRyYzWZxWZQNHo3gUQkeneDbPNLBoxgAgFusO/mLFPIbwoFxcVTs+6oUjOHd2yMSZYId/MMXcviEutJycob6FAYAcFM0LxN+fn60d+9esdkXX+YUG+t4ohUfV9N9+zkTOTk5FBwcLDYOU8+jAMDIVFqtNHJvw25mN3pnFFXMbCqFYnj3/rTwFSlUG9XWQT3oanwjKYBCfWjOeI3IalafwgAAbormZcLf31/Mg2B45IFHKByxcePGaiMTPFLhCJ6DkZ6e7nAeBQBG53RxKXVOSJdCvxbO+yGILD6NpFAM6+aiyFFSqDayO1N7SiEU6sDEP5C1NFd96gIAuDGalwmeC1FcXCxuc0moqUyEh4dTSUnVOtN8PH+cGl4Ziidw85wK9TwKAEAV0ecuSsG/vvWLWkU07rdSIIZ10+L5K3p/6xApUBvZWYlYIlaPWs/fuoQZAKAPNC8TvDITz5ngIpGbm1ttlSZ7du/eTYcOHRKrPh04cECs1qSGL5Oyfbx6HgUA4BZfHzkhFYD6ckfY10TeD0qBGNbdjBUdpDBtdD+MGCoFUejemn/sqz5VAQB0gOZlgksEL/vKly3xyk620QfGfkSB95XgUQcuBjwqwftIqOGPt+0/YT+Pgm8DAG5xw2yhT9MPSUXgXj24cawUhOG9OzvKSwrTsDudSG4pBVLonpp3NSWqvKY+VQEAdIDmZQIA4BzOlJTSR4l7pEJQFz8wpdEvq/tJIRjeu+VjH6W3tvSXgjTsToGpQ6VQCt3QhN+RtfiI+hQFANAJKBMA6JikS1ekYnC39jQlUMG3HaUQDOvHBL9uUoiGVY6Kw7wJ9/cBsl4KUZ+aAAA6AmUCAJ2zNDtXKgh36qexMVQ2/2UpAMP6c2K0txSiYZWvhnxMJabHHQRU6C5aTkxUn5IAADoDZQIAnVNpsZJnRpZUFG7n5JhwMk//qxR+Yf1ZPPkJahfSWwrR8JZpKR9KARW6h+YDHbCfBAAGAGUCAANw5UY59UndJxWGmly4fQNZJ/1RCr+wft22sZ8UnmF1FyZ5SiEVuoGpfyWqqFowBQCgb1AmADAIJwqLqUvi7Te02xy5hGjsr6XgC+vfEdFYxel29ooeIQdV6NrG/4ashfvVpyAAgE5BmQDAQKRevkod4+UCYTMpdAaR16+k0Avr37zpz1DroB5SeIbVbbXZg84n/k0OrNBFfYCsFwLUpx4AgI5BmQDAYAT9fFYqEe/FpdGxgC+kwAu1c2PoUCk4Q8duTRvgILRCV9SSO1t9ygEA6ByUCQAMiO/RWztkd4lPpovfe0hhF2pr/6iRUmiGjp0cP1oKrdD1tBwdqj7VAAAMAMoEAAaEV3gau/8w9Y0zUdGC16WgC7X19PwXpMAMa/btsIFUbnpYCq/QdTQf6ERkrVSfagAABgBlAgCDcr2ikkpWdJWCLtTe78NHSIEZ1m5myr+kAAtdQ/OelkTmQvUpBgBgEFAmADAyV08RTX1KCrtQQz3vo39HfiaFZVi7K1OwqpNLykvA3jinPrMAAAyEbstEo0aN1A8BABxxLoto4h/k0As18fC37aWgDG/vkBjsN+FyJj5B1qLD6jMKAKCBcXbm1W2ZAADcBSdTiMY8KgVfWP/6RnpKQRne3jZBPSk/4U9yoIXOMf4xsuYnqs8kAAAnoPsywV/gypUr6ZVXXqGnn36aduzYIR5v3749/fzzz+L2qVOn6I033lCOX7RoEXXo0EHcLywspKFDh1KTJk3ok08+oaKiIvE4k5+fT927d6cXX3yR1q1bV+2baX+7oKCABgwYID7HwIED6dq1a9WOc/T+ADAcP0YSeT0ghV9Yf1q8H6SO4YOloAzvzNi0nnKohQ1v/K/JeiVGfQYBwKXJzc2lN998k1544QWKi4tTHlfnztoy4/bt20VW/Mtf/kIffPABpaen3/a5du3aKXk3KytLvN7+/VWbOvLj/DxT2+uq3+PVq1epR48e4tiNGzdWy7w1vQ8taZAyMWXKFCopKaHo6GjxBTKzZ8+m1atXi9tr1qyhr776Sjne39+frl+/Lu5PmzaNjh07Rjdu3KDw8HCaNWtW1Se+yYQJE8Q3lwuHt7d3jWXCx8dHvFZxcbEoDpMnT652nKP3B4Ah2b8Jm9ZpaPrK96WADO/cWQnecrCFDavpEbLmbVOfOQBwefgP08uXL6eEhARq27at8rg6d9aWGTkj8rFms5mioqKUIlDbc1OnTqWAgKqNHPn1n3vuOVq8eLG4v3btWvF6TG2vq36PY8eOJT8/P5F/+bZ95q3pfWhJg5SJvLy8aveZjIwM6t27t7jdr18/Sk5Odnh869atqbKyark5i8VS7QegRYsWdOXKFXH79OnTNZaJNm3aKA2Pm1/Lli2V59SvZ/9xABiSPf5EnvdLQRjeu19Fe0sBGd65nSOHyuEWNpymh8l6aYv6jAGAW9CsWTMlM9qjzoG1ZUbOrVxKUlJSqLS0VHm8tudMJhMNGzZM3Oa8O3/+fDGqwPTv35927twpbtf2uur32Lx5c6VYqPNvTe9DSxqkTDi6z8Xg5ZdfFv9h//nPf1J5ebnyvNVqVY5/9tlnxWM2n3nmGeU5bl+2olFRUVFjmeDPwa/HcFOzH32o6f0BYGh2rRKrDqnDMKy7N8Y9Rm9s6SsFZHh35iS3kEMu1F7TQ2S9sFF9pgDAbeDsxxlQjaPcWVNm5MzarVs3kUUbN25MmZmZt32urKyMXnrpJZFzuQTwaAJfnsT/Nm3aVIxEMLW9rvo92n8t6vxb0/vQEqeVCWbcuHFi+GfQoEEOn2d49MFWGNS0atVKaZlnzpypsUxwu7P9x+J5FjzHwob69dT3ATAsyUulQAzrbqx/TykYw7t3Y+pQOehCbTU9SJbz/uozBABuBf/hmjOgGnXuqy0z2uBL7wMDA0U5UOPoub59+4pLl2x5l+f7zps3jzw8PJRjantd9XvkbGz7Ws6dOyc9zzh6H1rh1DIRGxsr2tX69esdPs/wvIgjR46IRsfXnHXu3Fl57ssvvxTXnXG74+Oeeuop5Tn7z8PPBQUFiXkR/B/Ty8vL4XGO7gNgaLhQ4JKnenEcLnGqFz3jvOSwCzX0AbKcXak+MwDgdvClRrxYz+7du6U5E/bUlhn/9a9/UWRkpPgjt22i8508x3Mh+DIrfn2G5/vy3ImlS5cqx9T2uur3yPMpli1bJvLvpEmTqj1f2/vQCqeWCf4m8H0eVXD0PMPXjQ0ePJief/556tixI2VnZyvP2VZz4v9A/I3nYSMb9p+HZ73zdWo83NOnTx9x39Fxju4DYHh2r8Gk7Hv0us+fqF1wbykYw7v3tZA+VBL/WwehF9a7pofIcm6t+owAgFvCqzm99dZb4i/+PI/Bhjr31ZYZeRWmd955RwR0lsP6nTzHr82vY1vVad++feI+/7HcRm2vq36PnJ95tINHHbiA2D9f2/vQCs3LRG0kJSXRu+++q374ruH2xStC9erVS/0UAKA+yAjEsrH3YPjmgVIohnV3d+oHcvCF9Wv8o2S9FKo+EwAAgIRTy8Tf//53ZRZ7XRgzZoyYvMKTTLp27Sr2qwAAaMShLUTeD0lBGd7ez6KxUV19ujAZu2FrasLjZL1a9/83AwCMhVPLBADAzTj6A9G4x6SwDGv20szG1DrIQwrEsO72jh4uB2BIZbGPUuymUbTR/1tKCh5KFXEPSMfc1sQ/kvXaLvVvPgAA1AjKBADg7ji9l2jy/0qhGTp2feinUhiG92arzR50PrGxHIQN7o/hHcQmWDZzIltLx9Rq8lNkLdJ+GUkAgL7QrEzw5Uvjx4+HUHfOnDmTfH19acWKFbRp0yaKiIgQP+88oYonU/Hldrw4AK/9rFsuZRNN/4sUnKFsn20jpDAM792I1P5yGDa4WeGdqpWJWbNmSecvCKExvZdpBbdDszIBgF7hXScvXrxIOTk5YtUE3mUyJiZGrKjA/wNfsmQJzZ07VyzdxvJtfoyf42P4WP4Y/lj+HPy5bDtZuhXXzxPNe1EKz/CWub4tpRAM60efeG8pTBvd0p2/oR82jqV1fqsofvNwKo99UDrGkeY9LxPdOKv+DQcAgDsCZQIADeHRCR6l4NEKHrXg0Qv+6wCPZvCoBo9u8CgHj3bwXw7cbtTjRiHRsk5SiIZVLo0YKYVgWD++HTaQyk0PS8EY3p3mzG5E5qqNsgAAoC6gTADgQrjlqIfFTBT8hRSkja7V6z7qEjFMCsGw/sxKeUMKx/DOtZyYRGS1qH+jAQDgrtC8TFy7do2ioqLELte8cQZvtFETvPX35s2b1Q+LTT5410D29OnT4jHezG7r1q2qIwEwDi436pG4GJvb2Zm55E0p/ML6dWXKCCkgwzvQ9AhZzlftxAsA0J6a8u2lS5dElvX396dt27aJzOwI3hV7x44dFBAQQImJiWQ2m5XnXCEja14muEj88ssv4gvnL7Kmnfj4r6ccbvgvrGps3yDbN4zhv76eOHFCdSQAoCYaZNTjSDTR+MelYG1Ev97mJYVfWL8O/WGUHJRh7SY9Sdb8pOq/twAAzagt34aGhioZOTMzk6Kjo9WHCOLj4yk7O1ts0sy7afMfAW24QkbWvExw2+IvnuF/+b4j+C+lx48fd/jNtn+Mb5eWllJISAhZLBieBUAL7mnUw+97ipjag3aOfpX2eb9AR7wa0ymvP1O+5++oYtSd7aJt9nyAjs14k47OfIcqvR6Wnnd1zaMfonfDsOu11rYJ6kkFCX+SAzN0qHn3P8hamqP+dQcAaEht+dYezsh8FY8jAgMDlSzNxSMsLEx5zhUysuZlglvWmTNnxBfP/9bUuviLZxx9s7lpcePi5sW3OdhkZWWpDwMAOAlp1CMhjmLmDaGgMZ1o7ZhutGRsH5o77lOaPG60kG/zY/wcHxNzs3ikjH6Z9ns3oxyvp2nHAi9xLmBjFo2Rwrqrm7q6sxR8oTbGpfaQQjOUNR/qejOtFKh/dQEAGlNbvrWnuLiYIiMj1Q8LNmzYoJQDvmTKvnS4QkbWvExcvnxZfHH8TeR/8/Ly1IdUw9E32/56MA4rwcHBouWprxEDALgQVivRjplEnvdXC9o8OsGjFDxawaMWPHrBoxgRY96mTWM+oBVje9OaVd8rZWLdmpU3P8d9UmB3ZadGeUuhF2rj7EQsEVurpofJ8rOv+rcTANDAOMq39vBlTnzJkyNiY2PFlQJcTEwmE/n5+SnPuUJG1rxMcMuyjUzwF1TTyISN232zjx49Sunp6Q6vEQMAuCBHthNN+qMUuGszxXeIUiZMC91rpajS8Y/T66F9pNALtbFz5DA5QMMqU54ha0Gq+jcSAOAEasu3fFnxnj171A8r8OJFnKd5hOLw4cM1ThlwVkbWvEzwzHPb0ExtcyZs1PbNtlqtYrJKUVGRdI0YAMCFKThDtLC9FLxr0jLqfjo5vS2dmP4aWTzda4WoHQG9pcALtfVkyktykDa45gPvEZVfUv8mAgCcRE1ZlS9vSk1NrbZCU23wik+OVoZyZkbWvEzwUlZ8LbVtzgSv7lQbtX3RPMSTkJAgbquvEQMAuDiWSqJIH+myJ73pvR2XODW0G1OGSmHasJoeIsvJGdg/AgAXw1G+5aVheXET2+TqmuCSwHm3vLxcXA5ly8L2ODMja14m7PeZ4H/t19B19I119JgN/njbnAv7a8T4NgDATTj6A5HPk1II14MFUxvRK8E9pbALtdUrFvMmhMlPkfVqrPo3DgDgAjjKt7zqku2SXps27G+fP39eHMtX+3Bh4EnYapyZkTUvEwAAIFF4iej7LlIYd3dDggZLQRdqb/vQPlQS/5gcrg2kOdODqPyy+jcNAAA0B2UCAOA80lYSjXtMCuXu6pCoUVLQhQ1jeur7UsA2hIlPkPVCgPo3CwAAGgyUCQCAc8nLIfpvWymYu5vnZzehVps9pJALG8ZFyZ5y0Na5YpL1jTPq3ygAAGhQUCYAAM7HYiaK/ZpozKNSSHcX/cI+lwIubDg/3j5CCtu6NeFxspxZpv4tAgAAp4AyAQBwHS4fJ1r0uhTU3cGe24ZLARc2nDwqdD7xOTl460xzxmtkLc1R/+YAAIDTcLsy0ahRI/VDCrU9BwBwE3jn7OQlRON+KwV2V/X4gtZSuIUNb2RaPyl868bEJ8hyZjmWfAUAuBwoEwAA1yT/NNHKrlJwd0W/jcDEa1dwSvxoOYTrQPPhAUTlF9W/IQAA4BJoWibatWunrG+blZUlwv7+/fvFfX6cn2cKCgpowIAB1KRJExo4cGC1vSj4YxYtWkQdOnRQ7tu4evUq9ejRQ3zcxo0bUSYA0CM/biP66q9SgHcVrV730wdbh0rBFja874QPoHLTQ1IYd1fNu/5O1vwE9W8EAAC4FJqWialTp4oNNpjly5fTc889R4sXLxb3eTMOHx8fcZv/Xb16tdhSfOXKlTR58mTlc3BB8Pf3p+vXryv3bYwdO5b8/PyosLBQ3EaZAECnVJQSRX1J5P2QFOad7f7l70qhFjrPH1PaS6Hc7Yx/jCyn5hJZytW/CQAA4HJoWiZMJhMNGzZM3O7Xrx/Nnz9fjCQw/fv3F1uIM23atFFGI3iUomXLllWfgKrKg21HP9t9G82bN1dKBm8ZjjIBgM7hCdouttndnCgvKdBC57kqdbgczt1I86GPyFp6Sv2TDwAALoumZaKsrIxeeuklKi8vF8GfRxD4kiT+t2nTpmIkgnn22WfJYqmaVGY2m+npp59WPgcXBCtPyLS7b4OP4+OZiooKlAkAjEK2iWh+cynYN7QVox+ht7YMkAItdJ7DYtxzvwnzntZkzY9X/6QDAIDLo2mZYPr27SsuXRo0aJC43717d5o3bx55eHgox/BIhK1Y5Ofn04svvqg8py4I9vdbtGghjmfOnTsnHQsA0DG8qs2u1UQ+f5JCfkOZtPbfUpiFzvWV4J5UkPCkFNZdVXNaY7Je2Mg/0OqfcAAAcAs0LxM8F6JZs2a0bt06cZ8nU/PciaVLlyrHTJgwgYKCgqikpEQUDy8vL+U5dUGwv89zK5YtWyZGOiZNmiQdCwAwADeKiHbMuHki+Z0U9rV2UpS3FGah8zWldpdCu8uZ9CRZTi/CvAgAgNujeZnIzc0VId+2qtO+ffvE/SNHjijH8KpMPKeicePG1KdPH3Hfhrog2N/nEsEjH3wJFZcR9bEAAANRfIUoYmKD7aJdMukP9GrIx1KQhc53TqKXHN5dxfjfkCXHh6iyQP0TDAAAbonmZQIAABqUa+eIgoZrvvJTVGA/KcRC17BL5DA5xDtbLhE/eRLdOKP+iQUAALcGZQIAoE+unycKH080/nGpCNSHo6JxiZMrm5vUXA70zjDh92Q5MRGbzgEAdAvKBABA35QWEO2cV68Tta9Of5raBPWUAix0HTelDpGDfUOa9L9kOTmDqOLWZbsAAKBHUCYAAMag8gZRynKimc9L5eBu3RQ8RAqv0LX0jvOWA35DmNyILD9/Q2QuVP8EAgCALtGsTPCGdOPHj4dQl86ePZvmzp0r5F3dV6xYIVyzZo1YDIANDg4Wvwc209PTxQIE7OHDhyknJ0fIGy7yEsc2gcbwkrIHgom+aSmVhDt1UNQXUniFrmX70D5UGv+YHPY10pzenCxnvyeylKl/4gAAQNdoViYA0DO8Y7st/J85c0YpBseOHVMKw969e6uVidDQUKVo8FLJtgLy3XffKcWEtS8tM2bMUB5fsGCB8jGrVq1SPhcbExOjvE5aWpryHrKyspT3durUqWqlxbbho6H5KZZoWSciz/ulwlCTv8x/gVpt9pDCK3Q901M7SaG/XjU9QuasXmTNT1L/ZAEAgGFAmQDAhSkqKlLC//nz55VikJ2drRQGNjY2VikT4eHhSslYv369UkB4bxf70sJ7s9hKy/Tp05XHfX19lY9h7UvL9u3blddJSUlRXv/gwYPKe2N5eWfb++bd6V2e/NNE0dOJpj0tlQe1q8KHS6EVuqaLkzXaDTv5z2Q5efPn5cY59U8SAAAYDpQJAIDYMNIW/i9evFitGNiXlvj4eKVMREREKCUjMDCwWgHhXe5t5cTHx0cpLV9++aXy+Ndff13tYzZt2qR8vqioKOV1EhMTldffv39/tfeWl5envO+ysnq4vIQvgTqynWiNR41Ly3aP/EwKrdA1/Xj7SLkI3IPmfa+T9eJmbDQHAAB2aF4mOKTs2LGDAgICRCio6dKKtWvXVtPPz095jje848tCWL6+nCkoKKCtW7cqxwAAXB8O/Lbwz0XAvhhwUbCVBj5X2MoEFwtbyeDCYV9AuJDYygkXFVtp4QJje5yLjf3HcPGxfT4uRLbX4aJkX5xysm4aModypr9KFz2foHzP39HeBW9T2w1Yxcld5MvRLiT+VSoFd6M5rbFYlclamqP+cQYAAEANUCb4f9B8SUZlZaXYDZv/J307Tp48We04W4mwlQqGL7E4ceKEcgwAANjgS6tspYUvubIvLXxJlq0w8HnEVib4Ei77S7rsC4jv3Jk012cMTfpyHI2ePFYpLeMmjKdRU7wVh80YRcNmVjlo7gjqP/9zYZ9vPiOPBUOrXDiEOi8dpNhhZT96Z1Vf4b/8PqbX1vcWttvQSwrHWsiB+4v1U2iO/39pWMAE6Xl3NzK1v1QQbisv63psBFkL0tQ/WgAAAFRoXib4r4BcJBgelQgLC1MdUZ0bN26Ia77tRzB4pML+dmlpKYWEhJDFYlEeBwAArSkz36Cdp1NpUpovvRbSh1pt6q6Ef/ad1VWlgO20fIBSGD76brBSJnosGKaUDHbIrC+UAjJ8mpdSTLwmj642Gd++tHz2lafyMYPnjFQ+V9+v7UrLTTsvuVVaOn7fX3lvb665VVoG+4+pNir870B9XcY1NWG0XBYcGf9rMmf1IOvlrbiMCQAA7gLNy8SGDRuU0M9FgSeE1kZGRoZYEcceHo3gUQkeneDb/BdFXqUGAACcBReL2F/SlGKhDrH1rX1peXvNrdLy3or+SmHosuRWaWH7fX2rtHwye6RSQD7/6lZpmfOfudXKRL8NXtJru7Pvhg+kctNDcnlgE58g8+EBZL24iajyuvo/MQAAgDtA8zLBq8zwkpQ8mmAymarNhVDDIxh8eYF69Rf7ORN8mQKv33/8+HFpHgUAADgDLhaJZ/fS7L3L6f3IT6VA68q+vqkPLVy3RBSJ+esWUttN+psTcjilvVIgxByI7NFkzU8gslaNmgMAAKg7mpeJwsJCioyMFCMUvFGXv7+/+hAFnlORkJCgfrgaR48eFZt/OZpHAQAArsDxgp/J7+gWGmaaSq2Dekjh1tXkeRNvbuovPa4H+fu/9cAMspyaS9aiw+r/VAAAAO4RzcuEPbzR1+bNm9UPKyQnJ4sRh5qwWq1i4y9ee189jwIAAFyRoooSMWrx3wN+1OeHsVLYhfVv35hxtPDgOko5t49KKkvV/0kAAADUI5qXCQ7/PIJQXl5OmZmZtY488OTsy5cvqx9W4MulbB+vnkcBAADugK1cLDjoJ0JvmyD9XVbUkLYN7kUDdk4k3wNryHRmN10vL1Z/ywEAAGiI5mWCd+3llZd4nwkuAjwJ24Z6RIEnZ9s/r4bXm+e16Rn7eRR8GwAA3JEb5nLKupJNm7KjaMquhdQtepQUmOEtu2wbTpN3LRDfrx+vHKdyixvssA4AADpG8zIBAADg7iisKKb0C4doY/Y2mpOxggbFTqI3tvSTgrWefT20Hw3cOZHmZXxPm49H075Lh+l6eZH6WwUAAMDJoEwAAICbcLEkT8wD2PBTJH2zfzV5J8+lHtu9qF1IbymMu4N8iRK//9E3vw7fA2tpU3a0+PrOFF1Qf+kAAABcFJQJAADQAXml+ZSZ9xNt/zmJAn/aRksyA+mrPUtoZOJMMfG7IZes5dWhOm8bTj13eNPwhK/E+1iaFSjKAu/Nsf/yEbpUckX9JQAAAHBDUCYAAMBgnC++JDx89YS4fIhHA7adSnBowE8RQvXj7K4LB8XHc4nhz4eCAAAAxgNlAgAAAAAAAFAnUCYAAAAAAAAAdQJlAgAAAAAAAFAnUCYAAAAAAAAAdQJlAgAAAAAAAFAnUCYAAAAAAAAAdQJlAgAAAAAAAFAnUCYAAAAAAAAAdQJlAgAAAAAAAFAnUCYAAAAAAAAAdQJlAgAAAAAAAFAnUCYAAAAAAAAAdQJlAgAAAAAAAFAnUCYAAAAAAAAAdQJlAgAAAAAAAFAnUCYAAAAAAAAAdQJlAgAAAAAAAFAnUCYAAAAAAAAAdQJlAgAAAAAAAFAnUCYAAAAAAAAAdQJlAgAAAAAAAFAnUCYAAAAAAAAAdeL/Aa+FS683hqCLAAAAAElFTkSuQmCC)"
      ]
    },
    {
      "cell_type": "code",
      "metadata": {
        "colab": {
          "base_uri": "https://localhost:8080/",
          "height": 1000
        },
        "id": "OPGduwTlrtpn",
        "outputId": "2fb77bd0-c4f3-440e-9db3-2f4ee0ca4991"
      },
      "source": [
        "# Total count of subsection for year 2019\n",
        "\n",
        "count_sub = pd.DataFrame(df3.subsection.value_counts())\n",
        "count_sub"
      ],
      "execution_count": null,
      "outputs": [
        {
          "data": {
            "text/html": [
              "<div>\n",
              "<style scoped>\n",
              "    .dataframe tbody tr th:only-of-type {\n",
              "        vertical-align: middle;\n",
              "    }\n",
              "\n",
              "    .dataframe tbody tr th {\n",
              "        vertical-align: top;\n",
              "    }\n",
              "\n",
              "    .dataframe thead th {\n",
              "        text-align: right;\n",
              "    }\n",
              "</style>\n",
              "<table border=\"1\" class=\"dataframe\">\n",
              "  <thead>\n",
              "    <tr style=\"text-align: right;\">\n",
              "      <th></th>\n",
              "      <th>subsection</th>\n",
              "    </tr>\n",
              "  </thead>\n",
              "  <tbody>\n",
              "    <tr>\n",
              "      <th>politics</th>\n",
              "      <td>422</td>\n",
              "    </tr>\n",
              "    <tr>\n",
              "      <th>asia</th>\n",
              "      <td>147</td>\n",
              "    </tr>\n",
              "    <tr>\n",
              "      <th>europe</th>\n",
              "      <td>136</td>\n",
              "    </tr>\n",
              "    <tr>\n",
              "      <th>family</th>\n",
              "      <td>97</td>\n",
              "    </tr>\n",
              "    <tr>\n",
              "      <th>television</th>\n",
              "      <td>90</td>\n",
              "    </tr>\n",
              "    <tr>\n",
              "      <th>sunday</th>\n",
              "      <td>89</td>\n",
              "    </tr>\n",
              "    <tr>\n",
              "      <th>live</th>\n",
              "      <td>60</td>\n",
              "    </tr>\n",
              "    <tr>\n",
              "      <th>middleeast</th>\n",
              "      <td>58</td>\n",
              "    </tr>\n",
              "    <tr>\n",
              "      <th>americas</th>\n",
              "      <td>52</td>\n",
              "    </tr>\n",
              "    <tr>\n",
              "      <th>move</th>\n",
              "      <td>43</td>\n",
              "    </tr>\n",
              "    <tr>\n",
              "      <th>economy</th>\n",
              "      <td>37</td>\n",
              "    </tr>\n",
              "    <tr>\n",
              "      <th>review</th>\n",
              "      <td>33</td>\n",
              "    </tr>\n",
              "    <tr>\n",
              "      <th>newyorktoday</th>\n",
              "      <td>31</td>\n",
              "    </tr>\n",
              "    <tr>\n",
              "      <th>mind</th>\n",
              "      <td>29</td>\n",
              "    </tr>\n",
              "    <tr>\n",
              "      <th>eat</th>\n",
              "      <td>27</td>\n",
              "    </tr>\n",
              "    <tr>\n",
              "      <th>music</th>\n",
              "      <td>19</td>\n",
              "    </tr>\n",
              "    <tr>\n",
              "      <th>canada</th>\n",
              "      <td>17</td>\n",
              "    </tr>\n",
              "    <tr>\n",
              "      <th>design</th>\n",
              "      <td>13</td>\n",
              "    </tr>\n",
              "    <tr>\n",
              "      <th>drinks</th>\n",
              "      <td>13</td>\n",
              "    </tr>\n",
              "    <tr>\n",
              "      <th>personaltech</th>\n",
              "      <td>12</td>\n",
              "    </tr>\n",
              "    <tr>\n",
              "      <th>media</th>\n",
              "      <td>11</td>\n",
              "    </tr>\n",
              "    <tr>\n",
              "      <th>dealbook</th>\n",
              "      <td>5</td>\n",
              "    </tr>\n",
              "    <tr>\n",
              "      <th>the-daily</th>\n",
              "      <td>5</td>\n",
              "    </tr>\n",
              "    <tr>\n",
              "      <th>dance</th>\n",
              "      <td>5</td>\n",
              "    </tr>\n",
              "    <tr>\n",
              "      <th>football</th>\n",
              "      <td>5</td>\n",
              "    </tr>\n",
              "    <tr>\n",
              "      <th>contributors</th>\n",
              "      <td>4</td>\n",
              "    </tr>\n",
              "    <tr>\n",
              "      <th>basketball</th>\n",
              "      <td>4</td>\n",
              "    </tr>\n",
              "    <tr>\n",
              "      <th>africa</th>\n",
              "      <td>4</td>\n",
              "    </tr>\n",
              "    <tr>\n",
              "      <th>international-world</th>\n",
              "      <td>2</td>\n",
              "    </tr>\n",
              "    <tr>\n",
              "      <th>booksupdate</th>\n",
              "      <td>2</td>\n",
              "    </tr>\n",
              "    <tr>\n",
              "      <th>australia</th>\n",
              "      <td>2</td>\n",
              "    </tr>\n",
              "  </tbody>\n",
              "</table>\n",
              "</div>"
            ],
            "text/plain": [
              "                     subsection\n",
              "politics                    422\n",
              "asia                        147\n",
              "europe                      136\n",
              "family                       97\n",
              "television                   90\n",
              "sunday                       89\n",
              "live                         60\n",
              "middleeast                   58\n",
              "americas                     52\n",
              "move                         43\n",
              "economy                      37\n",
              "review                       33\n",
              "newyorktoday                 31\n",
              "mind                         29\n",
              "eat                          27\n",
              "music                        19\n",
              "canada                       17\n",
              "design                       13\n",
              "drinks                       13\n",
              "personaltech                 12\n",
              "media                        11\n",
              "dealbook                      5\n",
              "the-daily                     5\n",
              "dance                         5\n",
              "football                      5\n",
              "contributors                  4\n",
              "basketball                    4\n",
              "africa                        4\n",
              "international-world           2\n",
              "booksupdate                   2\n",
              "australia                     2"
            ]
          },
          "execution_count": 17,
          "metadata": {},
          "output_type": "execute_result"
        }
      ]
    },
    {
      "cell_type": "markdown",
      "metadata": {
        "id": "cy9dGDYUWKCj"
      },
      "source": [
        "![count (1).png](data:image/png;base64,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)"
      ]
    },
    {
      "cell_type": "code",
      "metadata": {
        "colab": {
          "base_uri": "https://localhost:8080/",
          "height": 447
        },
        "id": "SRlFULy7bwUl",
        "outputId": "75a73c52-f184-462e-ea84-587052965258"
      },
      "source": [
        "#  Most number of section_subsection of articles\n",
        "\n",
        "section = df3['section']\n",
        "subsection = df3['subsection']\n",
        "sec_sub = pd.merge(section, subsection, left_index=True, right_index = True)\n",
        "sec_sub = pd.DataFrame(sec_sub.value_counts())\n",
        "sec_sub"
      ],
      "execution_count": null,
      "outputs": [
        {
          "output_type": "execute_result",
          "data": {
            "text/html": [
              "<div>\n",
              "<style scoped>\n",
              "    .dataframe tbody tr th:only-of-type {\n",
              "        vertical-align: middle;\n",
              "    }\n",
              "\n",
              "    .dataframe tbody tr th {\n",
              "        vertical-align: top;\n",
              "    }\n",
              "\n",
              "    .dataframe thead th {\n",
              "        text-align: right;\n",
              "    }\n",
              "</style>\n",
              "<table border=\"1\" class=\"dataframe\">\n",
              "  <thead>\n",
              "    <tr style=\"text-align: right;\">\n",
              "      <th></th>\n",
              "      <th></th>\n",
              "      <th>0</th>\n",
              "    </tr>\n",
              "    <tr>\n",
              "      <th>section</th>\n",
              "      <th>subsection</th>\n",
              "      <th></th>\n",
              "    </tr>\n",
              "  </thead>\n",
              "  <tbody>\n",
              "    <tr>\n",
              "      <th>us</th>\n",
              "      <th>politics</th>\n",
              "      <td>462</td>\n",
              "    </tr>\n",
              "    <tr>\n",
              "      <th rowspan=\"2\" valign=\"top\">world</th>\n",
              "      <th>asia</th>\n",
              "      <td>149</td>\n",
              "    </tr>\n",
              "    <tr>\n",
              "      <th>europe</th>\n",
              "      <td>137</td>\n",
              "    </tr>\n",
              "    <tr>\n",
              "      <th>opinion</th>\n",
              "      <th>sunday</th>\n",
              "      <td>107</td>\n",
              "    </tr>\n",
              "    <tr>\n",
              "      <th>well</th>\n",
              "      <th>family</th>\n",
              "      <td>97</td>\n",
              "    </tr>\n",
              "    <tr>\n",
              "      <th>...</th>\n",
              "      <th>...</th>\n",
              "      <td>...</td>\n",
              "    </tr>\n",
              "    <tr>\n",
              "      <th rowspan=\"2\" valign=\"top\">style</th>\n",
              "      <th>asia</th>\n",
              "      <td>1</td>\n",
              "    </tr>\n",
              "    <tr>\n",
              "      <th>americas</th>\n",
              "      <td>1</td>\n",
              "    </tr>\n",
              "    <tr>\n",
              "      <th rowspan=\"2\" valign=\"top\">magazine</th>\n",
              "      <th>mind</th>\n",
              "      <td>1</td>\n",
              "    </tr>\n",
              "    <tr>\n",
              "      <th>music</th>\n",
              "      <td>1</td>\n",
              "    </tr>\n",
              "    <tr>\n",
              "      <th>arts</th>\n",
              "      <th>americas</th>\n",
              "      <td>1</td>\n",
              "    </tr>\n",
              "  </tbody>\n",
              "</table>\n",
              "<p>312 rows × 1 columns</p>\n",
              "</div>"
            ],
            "text/plain": [
              "                       0\n",
              "section  subsection     \n",
              "us       politics    462\n",
              "world    asia        149\n",
              "         europe      137\n",
              "opinion  sunday      107\n",
              "well     family       97\n",
              "...                  ...\n",
              "style    asia          1\n",
              "         americas      1\n",
              "magazine mind          1\n",
              "         music         1\n",
              "arts     americas      1\n",
              "\n",
              "[312 rows x 1 columns]"
            ]
          },
          "metadata": {},
          "execution_count": 89
        }
      ]
    },
    {
      "cell_type": "code",
      "metadata": {
        "id": "3WEomld3f9O4"
      },
      "source": [
        "sec_sub.to_csv(r'sec_sub.csv', index = False)"
      ],
      "execution_count": null,
      "outputs": []
    },
    {
      "cell_type": "markdown",
      "metadata": {
        "id": "L7Q1k0x_f5kB"
      },
      "source": [
        ""
      ]
    },
    {
      "cell_type": "markdown",
      "metadata": {
        "id": "xwb5BfwKbky7"
      },
      "source": [
        "**Stats by Month**"
      ]
    },
    {
      "cell_type": "code",
      "metadata": {
        "colab": {
          "base_uri": "https://localhost:8080/",
          "height": 573
        },
        "id": "9O8prZhxvzKq",
        "outputId": "94340601-8df8-41ba-d558-b494af5a2b1d"
      },
      "source": [
        "#Count by month May \n",
        "\n",
        "sec = pd.DataFrame(df3[df3['month'] == 5]['section'])\n",
        "sec_df = pd.DataFrame(sec.section.value_counts())\n",
        "sec_df"
      ],
      "execution_count": null,
      "outputs": [
        {
          "output_type": "execute_result",
          "data": {
            "text/html": [
              "<div>\n",
              "<style scoped>\n",
              "    .dataframe tbody tr th:only-of-type {\n",
              "        vertical-align: middle;\n",
              "    }\n",
              "\n",
              "    .dataframe tbody tr th {\n",
              "        vertical-align: top;\n",
              "    }\n",
              "\n",
              "    .dataframe thead th {\n",
              "        text-align: right;\n",
              "    }\n",
              "</style>\n",
              "<table border=\"1\" class=\"dataframe\">\n",
              "  <thead>\n",
              "    <tr style=\"text-align: right;\">\n",
              "      <th></th>\n",
              "      <th>section</th>\n",
              "    </tr>\n",
              "  </thead>\n",
              "  <tbody>\n",
              "    <tr>\n",
              "      <th>nyregion</th>\n",
              "      <td>33</td>\n",
              "    </tr>\n",
              "    <tr>\n",
              "      <th>magazine</th>\n",
              "      <td>30</td>\n",
              "    </tr>\n",
              "    <tr>\n",
              "      <th>us</th>\n",
              "      <td>23</td>\n",
              "    </tr>\n",
              "    <tr>\n",
              "      <th>opinion</th>\n",
              "      <td>15</td>\n",
              "    </tr>\n",
              "    <tr>\n",
              "      <th>world</th>\n",
              "      <td>14</td>\n",
              "    </tr>\n",
              "    <tr>\n",
              "      <th>sports</th>\n",
              "      <td>12</td>\n",
              "    </tr>\n",
              "    <tr>\n",
              "      <th>upshot</th>\n",
              "      <td>9</td>\n",
              "    </tr>\n",
              "    <tr>\n",
              "      <th>well</th>\n",
              "      <td>7</td>\n",
              "    </tr>\n",
              "    <tr>\n",
              "      <th>health</th>\n",
              "      <td>5</td>\n",
              "    </tr>\n",
              "    <tr>\n",
              "      <th>books</th>\n",
              "      <td>5</td>\n",
              "    </tr>\n",
              "    <tr>\n",
              "      <th>travel</th>\n",
              "      <td>4</td>\n",
              "    </tr>\n",
              "    <tr>\n",
              "      <th>technology</th>\n",
              "      <td>3</td>\n",
              "    </tr>\n",
              "    <tr>\n",
              "      <th>arts</th>\n",
              "      <td>2</td>\n",
              "    </tr>\n",
              "    <tr>\n",
              "      <th>style</th>\n",
              "      <td>2</td>\n",
              "    </tr>\n",
              "    <tr>\n",
              "      <th>movies</th>\n",
              "      <td>2</td>\n",
              "    </tr>\n",
              "    <tr>\n",
              "      <th>reader-center</th>\n",
              "      <td>2</td>\n",
              "    </tr>\n",
              "    <tr>\n",
              "      <th>obituaries</th>\n",
              "      <td>2</td>\n",
              "    </tr>\n",
              "  </tbody>\n",
              "</table>\n",
              "</div>"
            ],
            "text/plain": [
              "               section\n",
              "nyregion            33\n",
              "magazine            30\n",
              "us                  23\n",
              "opinion             15\n",
              "world               14\n",
              "sports              12\n",
              "upshot               9\n",
              "well                 7\n",
              "health               5\n",
              "books                5\n",
              "travel               4\n",
              "technology           3\n",
              "arts                 2\n",
              "style                2\n",
              "movies               2\n",
              "reader-center        2\n",
              "obituaries           2"
            ]
          },
          "metadata": {},
          "execution_count": 55
        }
      ]
    },
    {
      "cell_type": "markdown",
      "metadata": {
        "id": "sD2iFLAWWotL"
      },
      "source": [
        "![Section count for May.png](data:image/png;base64,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)"
      ]
    },
    {
      "cell_type": "code",
      "metadata": {
        "colab": {
          "base_uri": "https://localhost:8080/"
        },
        "id": "uog4dYAdGiGa",
        "outputId": "682340c5-393a-4c90-db79-01873ae9ce92"
      },
      "source": [
        "# Mean \n",
        "\n",
        "mean_sec = sec_df['section'].mean();\n",
        "mean_sec"
      ],
      "execution_count": null,
      "outputs": [
        {
          "output_type": "execute_result",
          "data": {
            "text/plain": [
              "10.0"
            ]
          },
          "metadata": {},
          "execution_count": 50
        }
      ]
    },
    {
      "cell_type": "code",
      "metadata": {
        "colab": {
          "base_uri": "https://localhost:8080/"
        },
        "id": "_7V18EaaGh6m",
        "outputId": "67383cea-a946-45e5-aa03-93e818466a7a"
      },
      "source": [
        "# Median\n",
        "\n",
        "med_sec = sec_df['section'].median();\n",
        "med_sec"
      ],
      "execution_count": null,
      "outputs": [
        {
          "output_type": "execute_result",
          "data": {
            "text/plain": [
              "5.0"
            ]
          },
          "metadata": {},
          "execution_count": 51
        }
      ]
    },
    {
      "cell_type": "code",
      "metadata": {
        "colab": {
          "base_uri": "https://localhost:8080/",
          "height": 80
        },
        "id": "n-nImTJaHURG",
        "outputId": "99cf9bf9-37f3-41fc-813c-68bc838929a0"
      },
      "source": [
        "# Mode\n",
        "\n",
        "mod_sec = sec.mode();\n",
        "mod_sec"
      ],
      "execution_count": null,
      "outputs": [
        {
          "output_type": "execute_result",
          "data": {
            "text/html": [
              "<div>\n",
              "<style scoped>\n",
              "    .dataframe tbody tr th:only-of-type {\n",
              "        vertical-align: middle;\n",
              "    }\n",
              "\n",
              "    .dataframe tbody tr th {\n",
              "        vertical-align: top;\n",
              "    }\n",
              "\n",
              "    .dataframe thead th {\n",
              "        text-align: right;\n",
              "    }\n",
              "</style>\n",
              "<table border=\"1\" class=\"dataframe\">\n",
              "  <thead>\n",
              "    <tr style=\"text-align: right;\">\n",
              "      <th></th>\n",
              "      <th>section</th>\n",
              "    </tr>\n",
              "  </thead>\n",
              "  <tbody>\n",
              "    <tr>\n",
              "      <th>0</th>\n",
              "      <td>nyregion</td>\n",
              "    </tr>\n",
              "  </tbody>\n",
              "</table>\n",
              "</div>"
            ],
            "text/plain": [
              "    section\n",
              "0  nyregion"
            ]
          },
          "metadata": {},
          "execution_count": 56
        }
      ]
    },
    {
      "cell_type": "code",
      "metadata": {
        "colab": {
          "base_uri": "https://localhost:8080/",
          "height": 973
        },
        "id": "QD_0waT1JDiI",
        "outputId": "2155ac7f-1b84-4617-971d-f48583315036"
      },
      "source": [
        "# Count by month April\n",
        "\n",
        "sec1 = pd.DataFrame(df3[df3['month'] == 4]['section'])\n",
        "sec_df1 = pd.DataFrame(sec1.section.value_counts())\n",
        "sec_df1"
      ],
      "execution_count": null,
      "outputs": [
        {
          "output_type": "execute_result",
          "data": {
            "text/html": [
              "<div>\n",
              "<style scoped>\n",
              "    .dataframe tbody tr th:only-of-type {\n",
              "        vertical-align: middle;\n",
              "    }\n",
              "\n",
              "    .dataframe tbody tr th {\n",
              "        vertical-align: top;\n",
              "    }\n",
              "\n",
              "    .dataframe thead th {\n",
              "        text-align: right;\n",
              "    }\n",
              "</style>\n",
              "<table border=\"1\" class=\"dataframe\">\n",
              "  <thead>\n",
              "    <tr style=\"text-align: right;\">\n",
              "      <th></th>\n",
              "      <th>section</th>\n",
              "    </tr>\n",
              "  </thead>\n",
              "  <tbody>\n",
              "    <tr>\n",
              "      <th>opinion</th>\n",
              "      <td>731</td>\n",
              "    </tr>\n",
              "    <tr>\n",
              "      <th>us</th>\n",
              "      <td>655</td>\n",
              "    </tr>\n",
              "    <tr>\n",
              "      <th>crosswords</th>\n",
              "      <td>559</td>\n",
              "    </tr>\n",
              "    <tr>\n",
              "      <th>world</th>\n",
              "      <td>406</td>\n",
              "    </tr>\n",
              "    <tr>\n",
              "      <th>nyregion</th>\n",
              "      <td>317</td>\n",
              "    </tr>\n",
              "    <tr>\n",
              "      <th>well</th>\n",
              "      <td>253</td>\n",
              "    </tr>\n",
              "    <tr>\n",
              "      <th>business</th>\n",
              "      <td>162</td>\n",
              "    </tr>\n",
              "    <tr>\n",
              "      <th>health</th>\n",
              "      <td>138</td>\n",
              "    </tr>\n",
              "    <tr>\n",
              "      <th>arts</th>\n",
              "      <td>131</td>\n",
              "    </tr>\n",
              "    <tr>\n",
              "      <th>magazine</th>\n",
              "      <td>96</td>\n",
              "    </tr>\n",
              "    <tr>\n",
              "      <th>upshot</th>\n",
              "      <td>87</td>\n",
              "    </tr>\n",
              "    <tr>\n",
              "      <th>sports</th>\n",
              "      <td>85</td>\n",
              "    </tr>\n",
              "    <tr>\n",
              "      <th>dining</th>\n",
              "      <td>81</td>\n",
              "    </tr>\n",
              "    <tr>\n",
              "      <th>realestate</th>\n",
              "      <td>70</td>\n",
              "    </tr>\n",
              "    <tr>\n",
              "      <th>science</th>\n",
              "      <td>46</td>\n",
              "    </tr>\n",
              "    <tr>\n",
              "      <th>books</th>\n",
              "      <td>46</td>\n",
              "    </tr>\n",
              "    <tr>\n",
              "      <th>travel</th>\n",
              "      <td>43</td>\n",
              "    </tr>\n",
              "    <tr>\n",
              "      <th>theater</th>\n",
              "      <td>37</td>\n",
              "    </tr>\n",
              "    <tr>\n",
              "      <th>style</th>\n",
              "      <td>35</td>\n",
              "    </tr>\n",
              "    <tr>\n",
              "      <th>technology</th>\n",
              "      <td>33</td>\n",
              "    </tr>\n",
              "    <tr>\n",
              "      <th>movies</th>\n",
              "      <td>27</td>\n",
              "    </tr>\n",
              "    <tr>\n",
              "      <th>reader-center</th>\n",
              "      <td>21</td>\n",
              "    </tr>\n",
              "    <tr>\n",
              "      <th>lens</th>\n",
              "      <td>20</td>\n",
              "    </tr>\n",
              "    <tr>\n",
              "      <th>fashion</th>\n",
              "      <td>17</td>\n",
              "    </tr>\n",
              "    <tr>\n",
              "      <th>learning</th>\n",
              "      <td>17</td>\n",
              "    </tr>\n",
              "    <tr>\n",
              "      <th>obituaries</th>\n",
              "      <td>12</td>\n",
              "    </tr>\n",
              "    <tr>\n",
              "      <th>climate</th>\n",
              "      <td>11</td>\n",
              "    </tr>\n",
              "    <tr>\n",
              "      <th>podcasts</th>\n",
              "      <td>10</td>\n",
              "    </tr>\n",
              "    <tr>\n",
              "      <th>education</th>\n",
              "      <td>10</td>\n",
              "    </tr>\n",
              "    <tr>\n",
              "      <th>sunday-review</th>\n",
              "      <td>4</td>\n",
              "    </tr>\n",
              "  </tbody>\n",
              "</table>\n",
              "</div>"
            ],
            "text/plain": [
              "               section\n",
              "opinion            731\n",
              "us                 655\n",
              "crosswords         559\n",
              "world              406\n",
              "nyregion           317\n",
              "well               253\n",
              "business           162\n",
              "health             138\n",
              "arts               131\n",
              "magazine            96\n",
              "upshot              87\n",
              "sports              85\n",
              "dining              81\n",
              "realestate          70\n",
              "science             46\n",
              "books               46\n",
              "travel              43\n",
              "theater             37\n",
              "style               35\n",
              "technology          33\n",
              "movies              27\n",
              "reader-center       21\n",
              "lens                20\n",
              "fashion             17\n",
              "learning            17\n",
              "obituaries          12\n",
              "climate             11\n",
              "podcasts            10\n",
              "education           10\n",
              "sunday-review        4"
            ]
          },
          "metadata": {},
          "execution_count": 58
        }
      ]
    },
    {
      "cell_type": "markdown",
      "metadata": {
        "id": "5EkwySPmXWnH"
      },
      "source": [
        "![Section count for month April.png](data:image/png;base64,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)"
      ]
    },
    {
      "cell_type": "code",
      "metadata": {
        "colab": {
          "base_uri": "https://localhost:8080/"
        },
        "id": "hoeFkzIvJeCb",
        "outputId": "6a267d41-a33b-4b3f-eacd-06f5515e9510"
      },
      "source": [
        "# Mean \n",
        "\n",
        "mean_sec1 = sec_df1['section'].mean();\n",
        "mean_sec1"
      ],
      "execution_count": null,
      "outputs": [
        {
          "output_type": "execute_result",
          "data": {
            "text/plain": [
              "138.66666666666666"
            ]
          },
          "metadata": {},
          "execution_count": 59
        }
      ]
    },
    {
      "cell_type": "code",
      "metadata": {
        "colab": {
          "base_uri": "https://localhost:8080/"
        },
        "id": "pdUaRT5YJeKV",
        "outputId": "3af48cf0-d8dc-4fc6-e26f-6af04e1e8f7a"
      },
      "source": [
        "# Median \n",
        "\n",
        "med_sec1 = sec_df1['section'].median();\n",
        "med_sec1"
      ],
      "execution_count": null,
      "outputs": [
        {
          "output_type": "execute_result",
          "data": {
            "text/plain": [
              "46.0"
            ]
          },
          "metadata": {},
          "execution_count": 60
        }
      ]
    },
    {
      "cell_type": "code",
      "metadata": {
        "colab": {
          "base_uri": "https://localhost:8080/",
          "height": 80
        },
        "id": "FEM0Ia13JeUT",
        "outputId": "8e75df02-4ba8-4761-fa8a-aac15d1cf800"
      },
      "source": [
        "# Mode\n",
        "\n",
        "med_sec1 = sec1.mode();\n",
        "med_sec1"
      ],
      "execution_count": null,
      "outputs": [
        {
          "output_type": "execute_result",
          "data": {
            "text/html": [
              "<div>\n",
              "<style scoped>\n",
              "    .dataframe tbody tr th:only-of-type {\n",
              "        vertical-align: middle;\n",
              "    }\n",
              "\n",
              "    .dataframe tbody tr th {\n",
              "        vertical-align: top;\n",
              "    }\n",
              "\n",
              "    .dataframe thead th {\n",
              "        text-align: right;\n",
              "    }\n",
              "</style>\n",
              "<table border=\"1\" class=\"dataframe\">\n",
              "  <thead>\n",
              "    <tr style=\"text-align: right;\">\n",
              "      <th></th>\n",
              "      <th>section</th>\n",
              "    </tr>\n",
              "  </thead>\n",
              "  <tbody>\n",
              "    <tr>\n",
              "      <th>0</th>\n",
              "      <td>opinion</td>\n",
              "    </tr>\n",
              "  </tbody>\n",
              "</table>\n",
              "</div>"
            ],
            "text/plain": [
              "   section\n",
              "0  opinion"
            ]
          },
          "metadata": {},
          "execution_count": 62
        }
      ]
    },
    {
      "cell_type": "code",
      "metadata": {
        "colab": {
          "base_uri": "https://localhost:8080/",
          "height": 142
        },
        "id": "lPl1llm1J94L",
        "outputId": "31059360-15a5-4f38-9ae4-00b3f1c06fed"
      },
      "source": [
        "# Count by month March\n",
        "\n",
        "sec2 = pd.DataFrame(df3[df3['month'] == 3]['section'])\n",
        "sec_df2 = pd.DataFrame(sec2.section.value_counts())\n",
        "sec_df2"
      ],
      "execution_count": null,
      "outputs": [
        {
          "output_type": "execute_result",
          "data": {
            "text/html": [
              "<div>\n",
              "<style scoped>\n",
              "    .dataframe tbody tr th:only-of-type {\n",
              "        vertical-align: middle;\n",
              "    }\n",
              "\n",
              "    .dataframe tbody tr th {\n",
              "        vertical-align: top;\n",
              "    }\n",
              "\n",
              "    .dataframe thead th {\n",
              "        text-align: right;\n",
              "    }\n",
              "</style>\n",
              "<table border=\"1\" class=\"dataframe\">\n",
              "  <thead>\n",
              "    <tr style=\"text-align: right;\">\n",
              "      <th></th>\n",
              "      <th>section</th>\n",
              "    </tr>\n",
              "  </thead>\n",
              "  <tbody>\n",
              "    <tr>\n",
              "      <th>arts</th>\n",
              "      <td>6</td>\n",
              "    </tr>\n",
              "    <tr>\n",
              "      <th>world</th>\n",
              "      <td>2</td>\n",
              "    </tr>\n",
              "    <tr>\n",
              "      <th>theater</th>\n",
              "      <td>2</td>\n",
              "    </tr>\n",
              "  </tbody>\n",
              "</table>\n",
              "</div>"
            ],
            "text/plain": [
              "         section\n",
              "arts           6\n",
              "world          2\n",
              "theater        2"
            ]
          },
          "metadata": {},
          "execution_count": 64
        }
      ]
    },
    {
      "cell_type": "markdown",
      "metadata": {
        "id": "P3718Vn0X_DO"
      },
      "source": [
        "![Section count for March.png](data:image/png;base64,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)"
      ]
    },
    {
      "cell_type": "code",
      "metadata": {
        "colab": {
          "base_uri": "https://localhost:8080/"
        },
        "id": "7yOrjl_FKR49",
        "outputId": "5a955471-00cb-4dc1-8dff-54162fa79fbb"
      },
      "source": [
        "# Mean \n",
        "\n",
        "mean_sec2 = sec_df2['section'].mean();\n",
        "mean_sec2"
      ],
      "execution_count": null,
      "outputs": [
        {
          "output_type": "execute_result",
          "data": {
            "text/plain": [
              "3.3333333333333335"
            ]
          },
          "metadata": {},
          "execution_count": 65
        }
      ]
    },
    {
      "cell_type": "code",
      "metadata": {
        "colab": {
          "base_uri": "https://localhost:8080/"
        },
        "id": "CUT7CqDFKfJO",
        "outputId": "1782b8ab-38ae-479c-9f11-0a8c5b8672d2"
      },
      "source": [
        "# Median \n",
        "\n",
        "med_sec2 = sec_df2['section'].median();\n",
        "med_sec2"
      ],
      "execution_count": null,
      "outputs": [
        {
          "output_type": "execute_result",
          "data": {
            "text/plain": [
              "2.0"
            ]
          },
          "metadata": {},
          "execution_count": 66
        }
      ]
    },
    {
      "cell_type": "code",
      "metadata": {
        "colab": {
          "base_uri": "https://localhost:8080/"
        },
        "id": "83UO7V3uKfXN",
        "outputId": "6fc1debe-feff-4e48-fea8-4e846cebe53d"
      },
      "source": [
        "# Mode\n",
        "\n",
        "mod_sec2 = sec2['section'].mode();\n",
        "mod_sec2"
      ],
      "execution_count": null,
      "outputs": [
        {
          "output_type": "execute_result",
          "data": {
            "text/plain": [
              "0    arts\n",
              "dtype: object"
            ]
          },
          "metadata": {},
          "execution_count": 67
        }
      ]
    },
    {
      "cell_type": "markdown",
      "metadata": {
        "id": "ni-gkEK4K9xB"
      },
      "source": [
        "**Subsection my Month**"
      ]
    },
    {
      "cell_type": "code",
      "metadata": {
        "colab": {
          "base_uri": "https://localhost:8080/",
          "height": 326
        },
        "id": "ed1TrRrnLQUA",
        "outputId": "ad5027da-2ef3-477d-b5d9-04391c101482"
      },
      "source": [
        "#Count by month May \n",
        "\n",
        "sub = pd.DataFrame(df3[df3['month'] == 5]['subsection'])\n",
        "sub_df = pd.DataFrame(sub.subsection.value_counts())\n",
        "sub_df"
      ],
      "execution_count": null,
      "outputs": [
        {
          "output_type": "execute_result",
          "data": {
            "text/html": [
              "<div>\n",
              "<style scoped>\n",
              "    .dataframe tbody tr th:only-of-type {\n",
              "        vertical-align: middle;\n",
              "    }\n",
              "\n",
              "    .dataframe tbody tr th {\n",
              "        vertical-align: top;\n",
              "    }\n",
              "\n",
              "    .dataframe thead th {\n",
              "        text-align: right;\n",
              "    }\n",
              "</style>\n",
              "<table border=\"1\" class=\"dataframe\">\n",
              "  <thead>\n",
              "    <tr style=\"text-align: right;\">\n",
              "      <th></th>\n",
              "      <th>subsection</th>\n",
              "    </tr>\n",
              "  </thead>\n",
              "  <tbody>\n",
              "    <tr>\n",
              "      <th>politics</th>\n",
              "      <td>14</td>\n",
              "    </tr>\n",
              "    <tr>\n",
              "      <th>europe</th>\n",
              "      <td>8</td>\n",
              "    </tr>\n",
              "    <tr>\n",
              "      <th>move</th>\n",
              "      <td>7</td>\n",
              "    </tr>\n",
              "    <tr>\n",
              "      <th>americas</th>\n",
              "      <td>4</td>\n",
              "    </tr>\n",
              "    <tr>\n",
              "      <th>personaltech</th>\n",
              "      <td>3</td>\n",
              "    </tr>\n",
              "    <tr>\n",
              "      <th>review</th>\n",
              "      <td>3</td>\n",
              "    </tr>\n",
              "    <tr>\n",
              "      <th>asia</th>\n",
              "      <td>2</td>\n",
              "    </tr>\n",
              "    <tr>\n",
              "      <th>newyorktoday</th>\n",
              "      <td>2</td>\n",
              "    </tr>\n",
              "    <tr>\n",
              "      <th>booksupdate</th>\n",
              "      <td>2</td>\n",
              "    </tr>\n",
              "  </tbody>\n",
              "</table>\n",
              "</div>"
            ],
            "text/plain": [
              "              subsection\n",
              "politics              14\n",
              "europe                 8\n",
              "move                   7\n",
              "americas               4\n",
              "personaltech           3\n",
              "review                 3\n",
              "asia                   2\n",
              "newyorktoday           2\n",
              "booksupdate            2"
            ]
          },
          "metadata": {},
          "execution_count": 70
        }
      ]
    },
    {
      "cell_type": "markdown",
      "metadata": {
        "id": "hFW6x63rZUBq"
      },
      "source": [
        "![Subsection count for May.png](data:image/png;base64,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)"
      ]
    },
    {
      "cell_type": "code",
      "metadata": {
        "colab": {
          "base_uri": "https://localhost:8080/"
        },
        "id": "ojRuM9CWLoUJ",
        "outputId": "18588481-b77f-45dc-ce35-0e6177af64b2"
      },
      "source": [
        "#Mean \n",
        "\n",
        "mean_sub = sub_df['subsection'].mean();\n",
        "mean_sub"
      ],
      "execution_count": null,
      "outputs": [
        {
          "output_type": "execute_result",
          "data": {
            "text/plain": [
              "5.0"
            ]
          },
          "metadata": {},
          "execution_count": 72
        }
      ]
    },
    {
      "cell_type": "code",
      "metadata": {
        "colab": {
          "base_uri": "https://localhost:8080/"
        },
        "id": "JvcAuv7SMJXf",
        "outputId": "bab1ca4d-63ff-46fb-95fc-61605625a43c"
      },
      "source": [
        "#Median \n",
        "\n",
        "med_sub = sub_df['subsection'].median();\n",
        "med_sub"
      ],
      "execution_count": null,
      "outputs": [
        {
          "output_type": "execute_result",
          "data": {
            "text/plain": [
              "3.0"
            ]
          },
          "metadata": {},
          "execution_count": 73
        }
      ]
    },
    {
      "cell_type": "code",
      "metadata": {
        "colab": {
          "base_uri": "https://localhost:8080/"
        },
        "id": "X3_Xgdg0MJf1",
        "outputId": "28bb5278-9319-4fb3-9614-579bc2178b02"
      },
      "source": [
        "#Mode\n",
        "\n",
        "mod_sub = sub['subsection'].mode();\n",
        "mod_sub"
      ],
      "execution_count": null,
      "outputs": [
        {
          "output_type": "execute_result",
          "data": {
            "text/plain": [
              "0    politics\n",
              "dtype: object"
            ]
          },
          "metadata": {},
          "execution_count": 74
        }
      ]
    },
    {
      "cell_type": "code",
      "metadata": {
        "colab": {
          "base_uri": "https://localhost:8080/",
          "height": 973
        },
        "id": "0RMpWoY8LomC",
        "outputId": "8845f275-df27-4760-9ffa-5e3d5a508db4"
      },
      "source": [
        "# Count by month April\n",
        "\n",
        "sub2 = pd.DataFrame(df3[df3['month'] == 4]['subsection'])\n",
        "sub_df2 = pd.DataFrame(sub2.subsection.value_counts())\n",
        "sub_df2"
      ],
      "execution_count": null,
      "outputs": [
        {
          "output_type": "execute_result",
          "data": {
            "text/html": [
              "<div>\n",
              "<style scoped>\n",
              "    .dataframe tbody tr th:only-of-type {\n",
              "        vertical-align: middle;\n",
              "    }\n",
              "\n",
              "    .dataframe tbody tr th {\n",
              "        vertical-align: top;\n",
              "    }\n",
              "\n",
              "    .dataframe thead th {\n",
              "        text-align: right;\n",
              "    }\n",
              "</style>\n",
              "<table border=\"1\" class=\"dataframe\">\n",
              "  <thead>\n",
              "    <tr style=\"text-align: right;\">\n",
              "      <th></th>\n",
              "      <th>subsection</th>\n",
              "    </tr>\n",
              "  </thead>\n",
              "  <tbody>\n",
              "    <tr>\n",
              "      <th>politics</th>\n",
              "      <td>408</td>\n",
              "    </tr>\n",
              "    <tr>\n",
              "      <th>asia</th>\n",
              "      <td>145</td>\n",
              "    </tr>\n",
              "    <tr>\n",
              "      <th>europe</th>\n",
              "      <td>126</td>\n",
              "    </tr>\n",
              "    <tr>\n",
              "      <th>family</th>\n",
              "      <td>97</td>\n",
              "    </tr>\n",
              "    <tr>\n",
              "      <th>sunday</th>\n",
              "      <td>89</td>\n",
              "    </tr>\n",
              "    <tr>\n",
              "      <th>television</th>\n",
              "      <td>84</td>\n",
              "    </tr>\n",
              "    <tr>\n",
              "      <th>live</th>\n",
              "      <td>60</td>\n",
              "    </tr>\n",
              "    <tr>\n",
              "      <th>middleeast</th>\n",
              "      <td>58</td>\n",
              "    </tr>\n",
              "    <tr>\n",
              "      <th>americas</th>\n",
              "      <td>48</td>\n",
              "    </tr>\n",
              "    <tr>\n",
              "      <th>economy</th>\n",
              "      <td>37</td>\n",
              "    </tr>\n",
              "    <tr>\n",
              "      <th>move</th>\n",
              "      <td>36</td>\n",
              "    </tr>\n",
              "    <tr>\n",
              "      <th>review</th>\n",
              "      <td>30</td>\n",
              "    </tr>\n",
              "    <tr>\n",
              "      <th>mind</th>\n",
              "      <td>29</td>\n",
              "    </tr>\n",
              "    <tr>\n",
              "      <th>newyorktoday</th>\n",
              "      <td>29</td>\n",
              "    </tr>\n",
              "    <tr>\n",
              "      <th>eat</th>\n",
              "      <td>27</td>\n",
              "    </tr>\n",
              "    <tr>\n",
              "      <th>music</th>\n",
              "      <td>19</td>\n",
              "    </tr>\n",
              "    <tr>\n",
              "      <th>canada</th>\n",
              "      <td>17</td>\n",
              "    </tr>\n",
              "    <tr>\n",
              "      <th>design</th>\n",
              "      <td>13</td>\n",
              "    </tr>\n",
              "    <tr>\n",
              "      <th>drinks</th>\n",
              "      <td>13</td>\n",
              "    </tr>\n",
              "    <tr>\n",
              "      <th>media</th>\n",
              "      <td>11</td>\n",
              "    </tr>\n",
              "    <tr>\n",
              "      <th>personaltech</th>\n",
              "      <td>9</td>\n",
              "    </tr>\n",
              "    <tr>\n",
              "      <th>dance</th>\n",
              "      <td>5</td>\n",
              "    </tr>\n",
              "    <tr>\n",
              "      <th>dealbook</th>\n",
              "      <td>5</td>\n",
              "    </tr>\n",
              "    <tr>\n",
              "      <th>the-daily</th>\n",
              "      <td>5</td>\n",
              "    </tr>\n",
              "    <tr>\n",
              "      <th>football</th>\n",
              "      <td>5</td>\n",
              "    </tr>\n",
              "    <tr>\n",
              "      <th>basketball</th>\n",
              "      <td>4</td>\n",
              "    </tr>\n",
              "    <tr>\n",
              "      <th>contributors</th>\n",
              "      <td>4</td>\n",
              "    </tr>\n",
              "    <tr>\n",
              "      <th>africa</th>\n",
              "      <td>4</td>\n",
              "    </tr>\n",
              "    <tr>\n",
              "      <th>international-world</th>\n",
              "      <td>2</td>\n",
              "    </tr>\n",
              "    <tr>\n",
              "      <th>australia</th>\n",
              "      <td>2</td>\n",
              "    </tr>\n",
              "  </tbody>\n",
              "</table>\n",
              "</div>"
            ],
            "text/plain": [
              "                     subsection\n",
              "politics                    408\n",
              "asia                        145\n",
              "europe                      126\n",
              "family                       97\n",
              "sunday                       89\n",
              "television                   84\n",
              "live                         60\n",
              "middleeast                   58\n",
              "americas                     48\n",
              "economy                      37\n",
              "move                         36\n",
              "review                       30\n",
              "mind                         29\n",
              "newyorktoday                 29\n",
              "eat                          27\n",
              "music                        19\n",
              "canada                       17\n",
              "design                       13\n",
              "drinks                       13\n",
              "media                        11\n",
              "personaltech                  9\n",
              "dance                         5\n",
              "dealbook                      5\n",
              "the-daily                     5\n",
              "football                      5\n",
              "basketball                    4\n",
              "contributors                  4\n",
              "africa                        4\n",
              "international-world           2\n",
              "australia                     2"
            ]
          },
          "metadata": {},
          "execution_count": 75
        }
      ]
    },
    {
      "cell_type": "markdown",
      "metadata": {
        "id": "0oXRzwAIZ-5L"
      },
      "source": [
        "![Subsection count for April.png](data:image/png;base64,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)"
      ]
    },
    {
      "cell_type": "code",
      "metadata": {
        "colab": {
          "base_uri": "https://localhost:8080/"
        },
        "id": "QXmaVHD_NIfj",
        "outputId": "27bd0dd8-1ff8-4b70-83b8-05cfa551fef1"
      },
      "source": [
        "#Mean \n",
        "\n",
        "mean_sub2 = sub_df2['subsection'].mean();\n",
        "mean_sub2"
      ],
      "execution_count": null,
      "outputs": [
        {
          "output_type": "execute_result",
          "data": {
            "text/plain": [
              "47.36666666666667"
            ]
          },
          "metadata": {},
          "execution_count": 76
        }
      ]
    },
    {
      "cell_type": "code",
      "metadata": {
        "id": "tTPQFj-wNIrK"
      },
      "source": [
        "#Mean \n",
        "\n",
        "mean_sub2 = sub_df2['subsection'].mean();\n",
        "mean_sub2"
      ],
      "execution_count": null,
      "outputs": []
    },
    {
      "cell_type": "code",
      "metadata": {
        "colab": {
          "base_uri": "https://localhost:8080/"
        },
        "id": "RA2Ta3T1NppR",
        "outputId": "cb84a9fa-abd5-4d2d-d689-fa1c1c5ba5db"
      },
      "source": [
        "#Median \n",
        "\n",
        "med_sub2 = sub_df2['subsection'].median();\n",
        "med_sub2"
      ],
      "execution_count": null,
      "outputs": [
        {
          "output_type": "execute_result",
          "data": {
            "text/plain": [
              "23.0"
            ]
          },
          "metadata": {},
          "execution_count": 77
        }
      ]
    },
    {
      "cell_type": "code",
      "metadata": {
        "colab": {
          "base_uri": "https://localhost:8080/"
        },
        "id": "I4qHZu50Np0q",
        "outputId": "73259796-5daa-457b-b2be-1e43603b40b6"
      },
      "source": [
        "#Mode \n",
        "\n",
        "mod_sub2 = sub2['subsection'].mode();\n",
        "mod_sub2"
      ],
      "execution_count": null,
      "outputs": [
        {
          "output_type": "execute_result",
          "data": {
            "text/plain": [
              "0    politics\n",
              "dtype: object"
            ]
          },
          "metadata": {},
          "execution_count": 78
        }
      ]
    },
    {
      "cell_type": "code",
      "metadata": {
        "colab": {
          "base_uri": "https://localhost:8080/",
          "height": 110
        },
        "id": "kJywk_CrN2Yu",
        "outputId": "8132e716-c928-4171-f645-742eb973b291"
      },
      "source": [
        "#Count by month march\n",
        "\n",
        "sub3 = pd.DataFrame(df3[df3['month'] == 3]['subsection'])\n",
        "sub_df3 = pd.DataFrame(sub3.subsection.value_counts())\n",
        "sub_df3"
      ],
      "execution_count": null,
      "outputs": [
        {
          "output_type": "execute_result",
          "data": {
            "text/html": [
              "<div>\n",
              "<style scoped>\n",
              "    .dataframe tbody tr th:only-of-type {\n",
              "        vertical-align: middle;\n",
              "    }\n",
              "\n",
              "    .dataframe tbody tr th {\n",
              "        vertical-align: top;\n",
              "    }\n",
              "\n",
              "    .dataframe thead th {\n",
              "        text-align: right;\n",
              "    }\n",
              "</style>\n",
              "<table border=\"1\" class=\"dataframe\">\n",
              "  <thead>\n",
              "    <tr style=\"text-align: right;\">\n",
              "      <th></th>\n",
              "      <th>subsection</th>\n",
              "    </tr>\n",
              "  </thead>\n",
              "  <tbody>\n",
              "    <tr>\n",
              "      <th>television</th>\n",
              "      <td>6</td>\n",
              "    </tr>\n",
              "    <tr>\n",
              "      <th>europe</th>\n",
              "      <td>2</td>\n",
              "    </tr>\n",
              "  </tbody>\n",
              "</table>\n",
              "</div>"
            ],
            "text/plain": [
              "            subsection\n",
              "television           6\n",
              "europe               2"
            ]
          },
          "metadata": {},
          "execution_count": 79
        }
      ]
    },
    {
      "cell_type": "code",
      "metadata": {
        "colab": {
          "base_uri": "https://localhost:8080/"
        },
        "id": "2vi_KVKNOLIx",
        "outputId": "21e70d66-0298-42df-f604-eb59dddeb999"
      },
      "source": [
        "#mean\n",
        "\n",
        "mean_sub3 = sub_df3['subsection'].mean();\n",
        "mean_sub3"
      ],
      "execution_count": null,
      "outputs": [
        {
          "output_type": "execute_result",
          "data": {
            "text/plain": [
              "4.0"
            ]
          },
          "metadata": {},
          "execution_count": 80
        }
      ]
    },
    {
      "cell_type": "code",
      "metadata": {
        "colab": {
          "base_uri": "https://localhost:8080/"
        },
        "id": "dun4a8nIOLUH",
        "outputId": "8eead6e2-0ce9-4f4f-b0f9-c0a483caebe9"
      },
      "source": [
        "#median\n",
        "\n",
        "med_sub3 = sub_df3['subsection'].median();\n",
        "med_sub3"
      ],
      "execution_count": null,
      "outputs": [
        {
          "output_type": "execute_result",
          "data": {
            "text/plain": [
              "4.0"
            ]
          },
          "metadata": {},
          "execution_count": 81
        }
      ]
    },
    {
      "cell_type": "code",
      "metadata": {
        "colab": {
          "base_uri": "https://localhost:8080/"
        },
        "id": "HXa9WzAjP33z",
        "outputId": "36faf800-5b67-47b4-dddc-818dc91c8056"
      },
      "source": [
        "#mode\n",
        "\n",
        "mod_sub3 = sub3['subsection'].mode();\n",
        "mod_sub3"
      ],
      "execution_count": null,
      "outputs": [
        {
          "output_type": "execute_result",
          "data": {
            "text/plain": [
              "0    television\n",
              "dtype: object"
            ]
          },
          "metadata": {},
          "execution_count": 82
        }
      ]
    },
    {
      "cell_type": "code",
      "metadata": {
        "id": "GKpKchuEQAJo"
      },
      "source": [
        ""
      ],
      "execution_count": null,
      "outputs": []
    }
  ]
}