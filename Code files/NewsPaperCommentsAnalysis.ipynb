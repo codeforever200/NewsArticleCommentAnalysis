{
  "nbformat": 4,
  "nbformat_minor": 0,
  "metadata": {
    "colab": {
      "name": "NewsPaperCommentsAnalysis.ipynb",
      "provenance": []
    },
    "kernelspec": {
      "name": "python3",
      "display_name": "Python 3"
    },
    "language_info": {
      "name": "python"
    }
  },
  "cells": [
    {
      "cell_type": "code",
      "metadata": {
        "colab": {
          "base_uri": "https://localhost:8080/",
          "height": 17
        },
        "id": "rkf09Vw5v3zt",
        "outputId": "dbf95677-9c8d-4069-b8a7-0f3c07f9c684"
      },
      "source": [
        "import seaborn as sns\n",
        "import pandas as pd\n",
        "import numpy as np\n",
        "import cufflinks as cf\n",
        "import plotly.express as px\n",
        "import matplotlib.pylab as plt\n",
        "from pandas.api.types import CategoricalDtype\n",
        "from plotly.offline import download_plotlyjs,init_notebook_mode,plot,iplot\n",
        "init_notebook_mode(connected=True)\n",
        "cf.go_offline()\n",
        "sns.set_style(\"whitegrid\")"
      ],
      "execution_count": null,
      "outputs": [
        {
          "output_type": "display_data",
          "data": {
            "text/html": [
              "        <script type=\"text/javascript\">\n",
              "        window.PlotlyConfig = {MathJaxConfig: 'local'};\n",
              "        if (window.MathJax) {MathJax.Hub.Config({SVG: {font: \"STIX-Web\"}});}\n",
              "        if (typeof require !== 'undefined') {\n",
              "        require.undef(\"plotly\");\n",
              "        requirejs.config({\n",
              "            paths: {\n",
              "                'plotly': ['https://cdn.plot.ly/plotly-latest.min']\n",
              "            }\n",
              "        });\n",
              "        require(['plotly'], function(Plotly) {\n",
              "            window._Plotly = Plotly;\n",
              "        });\n",
              "        }\n",
              "        </script>\n",
              "        "
            ]
          },
          "metadata": {}
        },
        {
          "output_type": "display_data",
          "data": {
            "text/html": [
              "        <script type=\"text/javascript\">\n",
              "        window.PlotlyConfig = {MathJaxConfig: 'local'};\n",
              "        if (window.MathJax) {MathJax.Hub.Config({SVG: {font: \"STIX-Web\"}});}\n",
              "        if (typeof require !== 'undefined') {\n",
              "        require.undef(\"plotly\");\n",
              "        requirejs.config({\n",
              "            paths: {\n",
              "                'plotly': ['https://cdn.plot.ly/plotly-latest.min']\n",
              "            }\n",
              "        });\n",
              "        require(['plotly'], function(Plotly) {\n",
              "            window._Plotly = Plotly;\n",
              "        });\n",
              "        }\n",
              "        </script>\n",
              "        "
            ]
          },
          "metadata": {}
        }
      ]
    },
    {
      "cell_type": "code",
      "metadata": {
        "id": "REDFgnn4v8_G"
      },
      "source": [
        "df=pd.read_excel(\"/content/2019_12_1430196.xlsx\")"
      ],
      "execution_count": null,
      "outputs": []
    },
    {
      "cell_type": "code",
      "metadata": {
        "colab": {
          "base_uri": "https://localhost:8080/",
          "height": 496
        },
        "id": "_LJF6QFfw99Z",
        "outputId": "e19e4db3-3f38-4065-91f5-14956e5f8d8b"
      },
      "source": [
        "df.head()"
      ],
      "execution_count": null,
      "outputs": [
        {
          "output_type": "execute_result",
          "data": {
            "text/html": [
              "<div>\n",
              "<style scoped>\n",
              "    .dataframe tbody tr th:only-of-type {\n",
              "        vertical-align: middle;\n",
              "    }\n",
              "\n",
              "    .dataframe tbody tr th {\n",
              "        vertical-align: top;\n",
              "    }\n",
              "\n",
              "    .dataframe thead th {\n",
              "        text-align: right;\n",
              "    }\n",
              "</style>\n",
              "<table border=\"1\" class=\"dataframe\">\n",
              "  <thead>\n",
              "    <tr style=\"text-align: right;\">\n",
              "      <th></th>\n",
              "      <th>Unnamed: 0</th>\n",
              "      <th>index</th>\n",
              "      <th>approveDate</th>\n",
              "      <th>commentBody</th>\n",
              "      <th>commentID</th>\n",
              "      <th>commentSequence</th>\n",
              "      <th>commentTitle</th>\n",
              "      <th>commentType</th>\n",
              "      <th>createDate</th>\n",
              "      <th>depth</th>\n",
              "      <th>editorsSelection</th>\n",
              "      <th>isAnonymous</th>\n",
              "      <th>parentID</th>\n",
              "      <th>parentUserDisplayName</th>\n",
              "      <th>permID</th>\n",
              "      <th>picURL</th>\n",
              "      <th>recommendations</th>\n",
              "      <th>recommendedFlag</th>\n",
              "      <th>replies</th>\n",
              "      <th>replyCount</th>\n",
              "      <th>status</th>\n",
              "      <th>trusted</th>\n",
              "      <th>updateDate</th>\n",
              "      <th>userDisplayName</th>\n",
              "      <th>userID</th>\n",
              "      <th>userLocation</th>\n",
              "      <th>userTitle</th>\n",
              "      <th>userURL</th>\n",
              "    </tr>\n",
              "  </thead>\n",
              "  <tbody>\n",
              "    <tr>\n",
              "      <th>0</th>\n",
              "      <td>0</td>\n",
              "      <td>0</td>\n",
              "      <td>1575578237</td>\n",
              "      <td>That Climate Change is a crisis, no question a...</td>\n",
              "      <td>103979957</td>\n",
              "      <td>103979957</td>\n",
              "      <td>&lt;br\\//&gt;</td>\n",
              "      <td>comment</td>\n",
              "      <td>1575518751</td>\n",
              "      <td>1</td>\n",
              "      <td>False</td>\n",
              "      <td>False</td>\n",
              "      <td>NaN</td>\n",
              "      <td>NaN</td>\n",
              "      <td>103979957</td>\n",
              "      <td>NaN</td>\n",
              "      <td>0</td>\n",
              "      <td>0</td>\n",
              "      <td>[]</td>\n",
              "      <td>0</td>\n",
              "      <td>approved</td>\n",
              "      <td>0</td>\n",
              "      <td>1575578237</td>\n",
              "      <td>manfred marcus</td>\n",
              "      <td>47112177</td>\n",
              "      <td>Bolivia</td>\n",
              "      <td>NaN</td>\n",
              "      <td>NaN</td>\n",
              "    </tr>\n",
              "    <tr>\n",
              "      <th>1</th>\n",
              "      <td>1</td>\n",
              "      <td>1</td>\n",
              "      <td>1575577512</td>\n",
              "      <td>Here is the reality:\\n\\nHomo sapiens extinctio...</td>\n",
              "      <td>103982600</td>\n",
              "      <td>103982600</td>\n",
              "      <td>&lt;br\\//&gt;</td>\n",
              "      <td>comment</td>\n",
              "      <td>1575543345</td>\n",
              "      <td>1</td>\n",
              "      <td>False</td>\n",
              "      <td>False</td>\n",
              "      <td>NaN</td>\n",
              "      <td>NaN</td>\n",
              "      <td>103982600</td>\n",
              "      <td>NaN</td>\n",
              "      <td>0</td>\n",
              "      <td>0</td>\n",
              "      <td>[]</td>\n",
              "      <td>0</td>\n",
              "      <td>approved</td>\n",
              "      <td>0</td>\n",
              "      <td>1575581592</td>\n",
              "      <td>David Anderson</td>\n",
              "      <td>18110060</td>\n",
              "      <td>North Carolina</td>\n",
              "      <td>NaN</td>\n",
              "      <td>NaN</td>\n",
              "    </tr>\n",
              "    <tr>\n",
              "      <th>2</th>\n",
              "      <td>2</td>\n",
              "      <td>2</td>\n",
              "      <td>1575576290</td>\n",
              "      <td>FAIRNESS?  How fair is it that carbon pollutio...</td>\n",
              "      <td>103980103</td>\n",
              "      <td>103980103</td>\n",
              "      <td>&lt;br\\//&gt;</td>\n",
              "      <td>comment</td>\n",
              "      <td>1575519425</td>\n",
              "      <td>1</td>\n",
              "      <td>False</td>\n",
              "      <td>False</td>\n",
              "      <td>NaN</td>\n",
              "      <td>NaN</td>\n",
              "      <td>103980103</td>\n",
              "      <td>NaN</td>\n",
              "      <td>0</td>\n",
              "      <td>0</td>\n",
              "      <td>[]</td>\n",
              "      <td>0</td>\n",
              "      <td>approved</td>\n",
              "      <td>0</td>\n",
              "      <td>1575576290</td>\n",
              "      <td>John Jones</td>\n",
              "      <td>35001936</td>\n",
              "      <td>Cherry Hill NJ</td>\n",
              "      <td>NaN</td>\n",
              "      <td>NaN</td>\n",
              "    </tr>\n",
              "    <tr>\n",
              "      <th>3</th>\n",
              "      <td>3</td>\n",
              "      <td>3</td>\n",
              "      <td>1575563982</td>\n",
              "      <td>Donâ€™t forget to add fast fashion to this equ...</td>\n",
              "      <td>103981017</td>\n",
              "      <td>103981017</td>\n",
              "      <td>&lt;br\\//&gt;</td>\n",
              "      <td>comment</td>\n",
              "      <td>1575525285</td>\n",
              "      <td>1</td>\n",
              "      <td>False</td>\n",
              "      <td>False</td>\n",
              "      <td>NaN</td>\n",
              "      <td>NaN</td>\n",
              "      <td>103981017</td>\n",
              "      <td>NaN</td>\n",
              "      <td>0</td>\n",
              "      <td>0</td>\n",
              "      <td>[]</td>\n",
              "      <td>0</td>\n",
              "      <td>approved</td>\n",
              "      <td>0</td>\n",
              "      <td>1575563982</td>\n",
              "      <td>Rachel</td>\n",
              "      <td>54903404</td>\n",
              "      <td>North Dakota</td>\n",
              "      <td>NaN</td>\n",
              "      <td>NaN</td>\n",
              "    </tr>\n",
              "    <tr>\n",
              "      <th>4</th>\n",
              "      <td>4</td>\n",
              "      <td>4</td>\n",
              "      <td>1575563980</td>\n",
              "      <td>If Americans produce 17 tons each of CO2, that...</td>\n",
              "      <td>103983048</td>\n",
              "      <td>103983048</td>\n",
              "      <td>&lt;br\\//&gt;</td>\n",
              "      <td>comment</td>\n",
              "      <td>1575546432</td>\n",
              "      <td>1</td>\n",
              "      <td>False</td>\n",
              "      <td>False</td>\n",
              "      <td>NaN</td>\n",
              "      <td>NaN</td>\n",
              "      <td>103983048</td>\n",
              "      <td>NaN</td>\n",
              "      <td>1</td>\n",
              "      <td>0</td>\n",
              "      <td>[]</td>\n",
              "      <td>0</td>\n",
              "      <td>approved</td>\n",
              "      <td>0</td>\n",
              "      <td>1577344781</td>\n",
              "      <td>Bruce Rozenblit</td>\n",
              "      <td>38331232</td>\n",
              "      <td>Kansas City, MO</td>\n",
              "      <td>NaN</td>\n",
              "      <td>NaN</td>\n",
              "    </tr>\n",
              "  </tbody>\n",
              "</table>\n",
              "</div>"
            ],
            "text/plain": [
              "   Unnamed: 0  index  approveDate  ...     userLocation  userTitle  userURL\n",
              "0           0      0   1575578237  ...          Bolivia        NaN      NaN\n",
              "1           1      1   1575577512  ...   North Carolina        NaN      NaN\n",
              "2           2      2   1575576290  ...   Cherry Hill NJ        NaN      NaN\n",
              "3           3      3   1575563982  ...     North Dakota        NaN      NaN\n",
              "4           4      4   1575563980  ...  Kansas City, MO        NaN      NaN\n",
              "\n",
              "[5 rows x 28 columns]"
            ]
          },
          "metadata": {},
          "execution_count": 7
        }
      ]
    },
    {
      "cell_type": "code",
      "metadata": {
        "colab": {
          "base_uri": "https://localhost:8080/"
        },
        "id": "u1F7xlPXxBG5",
        "outputId": "505dc57f-ff1a-4e4e-db83-51f4173a1234"
      },
      "source": [
        "df.isna().sum().sort_values(ascending=False)"
      ],
      "execution_count": null,
      "outputs": [
        {
          "output_type": "execute_result",
          "data": {
            "text/plain": [
              "userURL                  50\n",
              "userTitle                50\n",
              "parentID                 50\n",
              "parentUserDisplayName    50\n",
              "picURL                   44\n",
              "userDisplayName           0\n",
              "editorsSelection          0\n",
              "index                     0\n",
              "approveDate               0\n",
              "commentBody               0\n",
              "commentID                 0\n",
              "commentSequence           0\n",
              "commentTitle              0\n",
              "commentType               0\n",
              "createDate                0\n",
              "depth                     0\n",
              "isAnonymous               0\n",
              "updateDate                0\n",
              "userLocation              0\n",
              "userID                    0\n",
              "permID                    0\n",
              "recommendations           0\n",
              "recommendedFlag           0\n",
              "replies                   0\n",
              "replyCount                0\n",
              "status                    0\n",
              "trusted                   0\n",
              "Unnamed: 0                0\n",
              "dtype: int64"
            ]
          },
          "metadata": {},
          "execution_count": 28
        }
      ]
    },
    {
      "cell_type": "markdown",
      "metadata": {
        "id": "yYk0xEV01Orw"
      },
      "source": [
        "###**Number of comments per UserID**"
      ]
    },
    {
      "cell_type": "code",
      "metadata": {
        "colab": {
          "base_uri": "https://localhost:8080/"
        },
        "id": "_05Ly1Q5xITy",
        "outputId": "8b9400d8-6d87-4a13-d042-8d5a780ce630"
      },
      "source": [
        "s=df[\"userID\"].value_counts().sort_values(ascending=False)\n",
        "s"
      ],
      "execution_count": null,
      "outputs": [
        {
          "output_type": "execute_result",
          "data": {
            "text/plain": [
              "48183969     2\n",
              "102912310    2\n",
              "54841678     2\n",
              "68358354     1\n",
              "76207175     1\n",
              "56122568     1\n",
              "5447187      1\n",
              "86094029     1\n",
              "5314511      1\n",
              "35001936     1\n",
              "73704721     1\n",
              "72108830     1\n",
              "64687788     1\n",
              "61319008     1\n",
              "52655875     1\n",
              "65975063     1\n",
              "64591704     1\n",
              "54903404     1\n",
              "10919504     1\n",
              "19926270     1\n",
              "60741395     1\n",
              "70354750     1\n",
              "90261957     1\n",
              "89661122     1\n",
              "71598178     1\n",
              "47112177     1\n",
              "40498339     1\n",
              "7435219      1\n",
              "34954663     1\n",
              "63321641     1\n",
              "49453908     1\n",
              "18110060     1\n",
              "69843538     1\n",
              "75215278     1\n",
              "77989539     1\n",
              "91212147     1\n",
              "38331232     1\n",
              "66282869     1\n",
              "72099382     1\n",
              "79972461     1\n",
              "21896305     1\n",
              "56727460     1\n",
              "57353517     1\n",
              "81585724     1\n",
              "28888288     1\n",
              "59585777     1\n",
              "66315474     1\n",
              "Name: userID, dtype: int64"
            ]
          },
          "metadata": {},
          "execution_count": 22
        }
      ]
    },
    {
      "cell_type": "markdown",
      "metadata": {
        "id": "m8OFncuM1emw"
      },
      "source": [
        "###**Location wise count of comments**"
      ]
    },
    {
      "cell_type": "code",
      "metadata": {
        "colab": {
          "base_uri": "https://localhost:8080/"
        },
        "id": "7pJevGiU1N0W",
        "outputId": "b3e62cef-0de3-42d9-9d90-f3a8de6db5a2"
      },
      "source": [
        "l=df[\"userLocation\"].value_counts().sort_values(ascending=False)\n",
        "l"
      ],
      "execution_count": null,
      "outputs": [
        {
          "output_type": "execute_result",
          "data": {
            "text/plain": [
              "Seattle                         3\n",
              "Westchester                     2\n",
              "Koloa, HI                       2\n",
              "USA                             2\n",
              "NYC                             1\n",
              "Berkeley CA                     1\n",
              "US                              1\n",
              "San Francisco                   1\n",
              "Bolivia                         1\n",
              "Norcal                          1\n",
              "Los Angeles                     1\n",
              "Lowertown MN                    1\n",
              "California                      1\n",
              "Columbus OH                     1\n",
              "WA                              1\n",
              "Boston                          1\n",
              "None of your business           1\n",
              "Las Vegas                       1\n",
              "White, New Jersey               1\n",
              "Florida                         1\n",
              "Longmont, COlorado              1\n",
              "St. Louis                       1\n",
              "North Carolina                  1\n",
              "Leadville, CO                   1\n",
              "North Dakota                    1\n",
              "East Coast                      1\n",
              "CA                              1\n",
              "Mill Valley, California         1\n",
              "Mountain Home, Idaho            1\n",
              "bklyn                           1\n",
              "Falls church, Va                1\n",
              "Cornwall Bridge, Connecticut    1\n",
              "Grass Valley, Ca                1\n",
              "Virginia                        1\n",
              "OH                              1\n",
              "Waverly, OH                     1\n",
              "Adelaide SA                     1\n",
              "Illyria                         1\n",
              "philadelphia                    1\n",
              "Kansas City, MO                 1\n",
              "Melbourne, Australia            1\n",
              "Cherry Hill NJ                  1\n",
              "Gainesville                     1\n",
              "Austin, TX                      1\n",
              "Fort Worth, TX                  1\n",
              "Name: userLocation, dtype: int64"
            ]
          },
          "metadata": {},
          "execution_count": 18
        }
      ]
    },
    {
      "cell_type": "markdown",
      "metadata": {
        "id": "DpRDUZgf19eU"
      },
      "source": [
        "###**Editors selection**"
      ]
    },
    {
      "cell_type": "code",
      "metadata": {
        "colab": {
          "base_uri": "https://localhost:8080/"
        },
        "id": "19UaVQiU1DEM",
        "outputId": "f4c1bcb3-f5a6-41da-ca7d-e7682e0c87d0"
      },
      "source": [
        "e=df[\"editorsSelection\"].value_counts().sort_values(ascending=False)\n",
        "e\n"
      ],
      "execution_count": null,
      "outputs": [
        {
          "output_type": "execute_result",
          "data": {
            "text/plain": [
              "False    42\n",
              "True      8\n",
              "Name: editorsSelection, dtype: int64"
            ]
          },
          "metadata": {},
          "execution_count": 19
        }
      ]
    },
    {
      "cell_type": "code",
      "metadata": {
        "colab": {
          "base_uri": "https://localhost:8080/",
          "height": 827
        },
        "id": "710IADjb5fED",
        "outputId": "83dbb3c8-7bfd-4eb4-c9ed-1860dbfa57ea"
      },
      "source": [
        "editorschoice= df.loc[(df['editorsSelection'] == True)]\n",
        "editorschoice"
      ],
      "execution_count": null,
      "outputs": [
        {
          "output_type": "execute_result",
          "data": {
            "text/html": [
              "<div>\n",
              "<style scoped>\n",
              "    .dataframe tbody tr th:only-of-type {\n",
              "        vertical-align: middle;\n",
              "    }\n",
              "\n",
              "    .dataframe tbody tr th {\n",
              "        vertical-align: top;\n",
              "    }\n",
              "\n",
              "    .dataframe thead th {\n",
              "        text-align: right;\n",
              "    }\n",
              "</style>\n",
              "<table border=\"1\" class=\"dataframe\">\n",
              "  <thead>\n",
              "    <tr style=\"text-align: right;\">\n",
              "      <th></th>\n",
              "      <th>Unnamed: 0</th>\n",
              "      <th>index</th>\n",
              "      <th>approveDate</th>\n",
              "      <th>commentBody</th>\n",
              "      <th>commentID</th>\n",
              "      <th>commentSequence</th>\n",
              "      <th>commentTitle</th>\n",
              "      <th>commentType</th>\n",
              "      <th>createDate</th>\n",
              "      <th>depth</th>\n",
              "      <th>editorsSelection</th>\n",
              "      <th>isAnonymous</th>\n",
              "      <th>parentID</th>\n",
              "      <th>parentUserDisplayName</th>\n",
              "      <th>permID</th>\n",
              "      <th>picURL</th>\n",
              "      <th>recommendations</th>\n",
              "      <th>recommendedFlag</th>\n",
              "      <th>replies</th>\n",
              "      <th>replyCount</th>\n",
              "      <th>status</th>\n",
              "      <th>trusted</th>\n",
              "      <th>updateDate</th>\n",
              "      <th>userDisplayName</th>\n",
              "      <th>userID</th>\n",
              "      <th>userLocation</th>\n",
              "      <th>userTitle</th>\n",
              "      <th>userURL</th>\n",
              "    </tr>\n",
              "  </thead>\n",
              "  <tbody>\n",
              "    <tr>\n",
              "      <th>15</th>\n",
              "      <td>15</td>\n",
              "      <td>15</td>\n",
              "      <td>1575516870</td>\n",
              "      <td>Most Americans think dealing with climate chan...</td>\n",
              "      <td>103967576</td>\n",
              "      <td>103967576</td>\n",
              "      <td>&lt;br\\//&gt;</td>\n",
              "      <td>comment</td>\n",
              "      <td>1575483559</td>\n",
              "      <td>1</td>\n",
              "      <td>True</td>\n",
              "      <td>False</td>\n",
              "      <td>NaN</td>\n",
              "      <td>NaN</td>\n",
              "      <td>103967576</td>\n",
              "      <td>NaN</td>\n",
              "      <td>50</td>\n",
              "      <td>0</td>\n",
              "      <td>[{'commentID': 103968274, 'status': 'approved'...</td>\n",
              "      <td>11</td>\n",
              "      <td>approved</td>\n",
              "      <td>0</td>\n",
              "      <td>1577805407</td>\n",
              "      <td>D</td>\n",
              "      <td>34954663</td>\n",
              "      <td>WA</td>\n",
              "      <td>NaN</td>\n",
              "      <td>NaN</td>\n",
              "    </tr>\n",
              "    <tr>\n",
              "      <th>16</th>\n",
              "      <td>16</td>\n",
              "      <td>16</td>\n",
              "      <td>1575516780</td>\n",
              "      <td>Fairness means you pay for what you pollute.  ...</td>\n",
              "      <td>103978405</td>\n",
              "      <td>103978405</td>\n",
              "      <td>&lt;br\\//&gt;</td>\n",
              "      <td>comment</td>\n",
              "      <td>1575512798</td>\n",
              "      <td>1</td>\n",
              "      <td>True</td>\n",
              "      <td>False</td>\n",
              "      <td>NaN</td>\n",
              "      <td>NaN</td>\n",
              "      <td>103978405</td>\n",
              "      <td>NaN</td>\n",
              "      <td>18</td>\n",
              "      <td>0</td>\n",
              "      <td>[{'commentID': 103978871, 'status': 'approved'...</td>\n",
              "      <td>4</td>\n",
              "      <td>approved</td>\n",
              "      <td>0</td>\n",
              "      <td>1575660569</td>\n",
              "      <td>Fair And Not Square</td>\n",
              "      <td>56122568</td>\n",
              "      <td>Grass Valley, Ca</td>\n",
              "      <td>NaN</td>\n",
              "      <td>NaN</td>\n",
              "    </tr>\n",
              "    <tr>\n",
              "      <th>17</th>\n",
              "      <td>17</td>\n",
              "      <td>17</td>\n",
              "      <td>1575516767</td>\n",
              "      <td>I hate to be the one to point this out, but th...</td>\n",
              "      <td>103976626</td>\n",
              "      <td>103976626</td>\n",
              "      <td>&lt;br\\//&gt;</td>\n",
              "      <td>comment</td>\n",
              "      <td>1575506937</td>\n",
              "      <td>1</td>\n",
              "      <td>True</td>\n",
              "      <td>False</td>\n",
              "      <td>NaN</td>\n",
              "      <td>NaN</td>\n",
              "      <td>103976626</td>\n",
              "      <td>NaN</td>\n",
              "      <td>7</td>\n",
              "      <td>0</td>\n",
              "      <td>[{'commentID': 103978193, 'status': 'approved'...</td>\n",
              "      <td>2</td>\n",
              "      <td>approved</td>\n",
              "      <td>0</td>\n",
              "      <td>1577808734</td>\n",
              "      <td>laurence</td>\n",
              "      <td>59585777</td>\n",
              "      <td>bklyn</td>\n",
              "      <td>NaN</td>\n",
              "      <td>NaN</td>\n",
              "    </tr>\n",
              "    <tr>\n",
              "      <th>18</th>\n",
              "      <td>18</td>\n",
              "      <td>18</td>\n",
              "      <td>1575516717</td>\n",
              "      <td>I have eliminated 80% of my driving miles beca...</td>\n",
              "      <td>103969918</td>\n",
              "      <td>103969918</td>\n",
              "      <td>&lt;br\\//&gt;</td>\n",
              "      <td>comment</td>\n",
              "      <td>1575489633</td>\n",
              "      <td>1</td>\n",
              "      <td>True</td>\n",
              "      <td>False</td>\n",
              "      <td>NaN</td>\n",
              "      <td>NaN</td>\n",
              "      <td>103969918</td>\n",
              "      <td>NaN</td>\n",
              "      <td>8</td>\n",
              "      <td>0</td>\n",
              "      <td>[{'commentID': 103982575, 'status': 'approved'...</td>\n",
              "      <td>1</td>\n",
              "      <td>approved</td>\n",
              "      <td>0</td>\n",
              "      <td>1577978975</td>\n",
              "      <td>John</td>\n",
              "      <td>66315474</td>\n",
              "      <td>Virginia</td>\n",
              "      <td>NaN</td>\n",
              "      <td>NaN</td>\n",
              "    </tr>\n",
              "    <tr>\n",
              "      <th>19</th>\n",
              "      <td>19</td>\n",
              "      <td>19</td>\n",
              "      <td>1575516704</td>\n",
              "      <td>Too much debate on climate change is driven by...</td>\n",
              "      <td>103969188</td>\n",
              "      <td>103969188</td>\n",
              "      <td>&lt;br\\//&gt;</td>\n",
              "      <td>comment</td>\n",
              "      <td>1575487644</td>\n",
              "      <td>1</td>\n",
              "      <td>True</td>\n",
              "      <td>False</td>\n",
              "      <td>NaN</td>\n",
              "      <td>NaN</td>\n",
              "      <td>103969188</td>\n",
              "      <td>NaN</td>\n",
              "      <td>15</td>\n",
              "      <td>0</td>\n",
              "      <td>[{'commentID': 103970932, 'status': 'approved'...</td>\n",
              "      <td>4</td>\n",
              "      <td>approved</td>\n",
              "      <td>0</td>\n",
              "      <td>1575660603</td>\n",
              "      <td>OneView</td>\n",
              "      <td>66282869</td>\n",
              "      <td>Boston</td>\n",
              "      <td>NaN</td>\n",
              "      <td>NaN</td>\n",
              "    </tr>\n",
              "    <tr>\n",
              "      <th>20</th>\n",
              "      <td>20</td>\n",
              "      <td>20</td>\n",
              "      <td>1575516680</td>\n",
              "      <td>Natural gas may have helped to reduce carbon d...</td>\n",
              "      <td>103971613</td>\n",
              "      <td>103971613</td>\n",
              "      <td>&lt;br\\//&gt;</td>\n",
              "      <td>comment</td>\n",
              "      <td>1575493969</td>\n",
              "      <td>1</td>\n",
              "      <td>True</td>\n",
              "      <td>False</td>\n",
              "      <td>NaN</td>\n",
              "      <td>NaN</td>\n",
              "      <td>103971613</td>\n",
              "      <td>NaN</td>\n",
              "      <td>16</td>\n",
              "      <td>0</td>\n",
              "      <td>[]</td>\n",
              "      <td>0</td>\n",
              "      <td>approved</td>\n",
              "      <td>0</td>\n",
              "      <td>1575565186</td>\n",
              "      <td>r2d2</td>\n",
              "      <td>28888288</td>\n",
              "      <td>Longmont, COlorado</td>\n",
              "      <td>NaN</td>\n",
              "      <td>NaN</td>\n",
              "    </tr>\n",
              "    <tr>\n",
              "      <th>21</th>\n",
              "      <td>21</td>\n",
              "      <td>21</td>\n",
              "      <td>1575516623</td>\n",
              "      <td>I applaud the author for mentioning car owners...</td>\n",
              "      <td>103979166</td>\n",
              "      <td>103979166</td>\n",
              "      <td>&lt;br\\//&gt;</td>\n",
              "      <td>comment</td>\n",
              "      <td>1575515750</td>\n",
              "      <td>1</td>\n",
              "      <td>True</td>\n",
              "      <td>False</td>\n",
              "      <td>NaN</td>\n",
              "      <td>NaN</td>\n",
              "      <td>103979166</td>\n",
              "      <td>NaN</td>\n",
              "      <td>9</td>\n",
              "      <td>0</td>\n",
              "      <td>[]</td>\n",
              "      <td>0</td>\n",
              "      <td>approved</td>\n",
              "      <td>0</td>\n",
              "      <td>1575601352</td>\n",
              "      <td>Alan</td>\n",
              "      <td>75215278</td>\n",
              "      <td>Columbus OH</td>\n",
              "      <td>NaN</td>\n",
              "      <td>NaN</td>\n",
              "    </tr>\n",
              "    <tr>\n",
              "      <th>24</th>\n",
              "      <td>24</td>\n",
              "      <td>24</td>\n",
              "      <td>1575516513</td>\n",
              "      <td>Sadly, but nonetheless telling is this simple ...</td>\n",
              "      <td>103968295</td>\n",
              "      <td>103968295</td>\n",
              "      <td>&lt;br\\//&gt;</td>\n",
              "      <td>comment</td>\n",
              "      <td>1575485295</td>\n",
              "      <td>1</td>\n",
              "      <td>True</td>\n",
              "      <td>False</td>\n",
              "      <td>NaN</td>\n",
              "      <td>NaN</td>\n",
              "      <td>103968295</td>\n",
              "      <td>NaN</td>\n",
              "      <td>5</td>\n",
              "      <td>0</td>\n",
              "      <td>[]</td>\n",
              "      <td>0</td>\n",
              "      <td>approved</td>\n",
              "      <td>0</td>\n",
              "      <td>1577544949</td>\n",
              "      <td>Alan C Gregory</td>\n",
              "      <td>72108830</td>\n",
              "      <td>Mountain Home, Idaho</td>\n",
              "      <td>NaN</td>\n",
              "      <td>NaN</td>\n",
              "    </tr>\n",
              "  </tbody>\n",
              "</table>\n",
              "</div>"
            ],
            "text/plain": [
              "    Unnamed: 0  index  approveDate  ...          userLocation  userTitle  userURL\n",
              "15          15     15   1575516870  ...                    WA        NaN      NaN\n",
              "16          16     16   1575516780  ...      Grass Valley, Ca        NaN      NaN\n",
              "17          17     17   1575516767  ...                 bklyn        NaN      NaN\n",
              "18          18     18   1575516717  ...              Virginia        NaN      NaN\n",
              "19          19     19   1575516704  ...                Boston        NaN      NaN\n",
              "20          20     20   1575516680  ...    Longmont, COlorado        NaN      NaN\n",
              "21          21     21   1575516623  ...           Columbus OH        NaN      NaN\n",
              "24          24     24   1575516513  ...  Mountain Home, Idaho        NaN      NaN\n",
              "\n",
              "[8 rows x 28 columns]"
            ]
          },
          "metadata": {},
          "execution_count": 12
        }
      ]
    },
    {
      "cell_type": "code",
      "metadata": {
        "colab": {
          "base_uri": "https://localhost:8080/"
        },
        "id": "MGzvYXFO6HNc",
        "outputId": "5005fa8f-34c4-4cd4-98a2-0fc15cc8cfdb"
      },
      "source": [
        "editorschoice.commentBody\n"
      ],
      "execution_count": null,
      "outputs": [
        {
          "output_type": "execute_result",
          "data": {
            "text/plain": [
              "15    Most Americans think dealing with climate chan...\n",
              "16    Fairness means you pay for what you pollute.  ...\n",
              "17    I hate to be the one to point this out, but th...\n",
              "18    I have eliminated 80% of my driving miles beca...\n",
              "19    Too much debate on climate change is driven by...\n",
              "20    Natural gas may have helped to reduce carbon d...\n",
              "21    I applaud the author for mentioning car owners...\n",
              "24    Sadly, but nonetheless telling is this simple ...\n",
              "Name: commentBody, dtype: object"
            ]
          },
          "metadata": {},
          "execution_count": 13
        }
      ]
    },
    {
      "cell_type": "markdown",
      "metadata": {
        "id": "-w6UqTke4ZFV"
      },
      "source": [
        "###**Reply Count**"
      ]
    },
    {
      "cell_type": "code",
      "metadata": {
        "colab": {
          "base_uri": "https://localhost:8080/"
        },
        "id": "t0qa2w_w1lI2",
        "outputId": "537bd051-a68c-4e84-9282-e79c1d130f76"
      },
      "source": [
        "e=df[\"replyCount\"].sort_values(ascending=False)\n",
        "e"
      ],
      "execution_count": null,
      "outputs": [
        {
          "output_type": "execute_result",
          "data": {
            "text/plain": [
              "15    11\n",
              "48     5\n",
              "38     5\n",
              "19     4\n",
              "46     4\n",
              "16     4\n",
              "40     2\n",
              "27     2\n",
              "28     2\n",
              "41     2\n",
              "17     2\n",
              "45     2\n",
              "47     2\n",
              "36     1\n",
              "35     1\n",
              "18     1\n",
              "11     0\n",
              "13     0\n",
              "12     0\n",
              "14     0\n",
              "49     0\n",
              "10     0\n",
              "9      0\n",
              "8      0\n",
              "7      0\n",
              "5      0\n",
              "4      0\n",
              "3      0\n",
              "2      0\n",
              "1      0\n",
              "6      0\n",
              "24     0\n",
              "20     0\n",
              "21     0\n",
              "44     0\n",
              "43     0\n",
              "42     0\n",
              "39     0\n",
              "37     0\n",
              "34     0\n",
              "33     0\n",
              "32     0\n",
              "31     0\n",
              "30     0\n",
              "29     0\n",
              "26     0\n",
              "25     0\n",
              "23     0\n",
              "22     0\n",
              "0      0\n",
              "Name: replyCount, dtype: int64"
            ]
          },
          "metadata": {},
          "execution_count": 26
        }
      ]
    },
    {
      "cell_type": "code",
      "metadata": {
        "id": "zg3iqhAV58DJ",
        "colab": {
          "base_uri": "https://localhost:8080/"
        },
        "outputId": "549f3a4c-1225-471e-e562-fa6dab1359f4"
      },
      "source": [
        "e=df[\"recommendations\"].sort_values(ascending=False)\n",
        "e"
      ],
      "execution_count": null,
      "outputs": [
        {
          "output_type": "execute_result",
          "data": {
            "text/plain": [
              "15    50\n",
              "48    37\n",
              "44    20\n",
              "39    20\n",
              "16    18\n",
              "20    16\n",
              "46    15\n",
              "19    15\n",
              "49    14\n",
              "43     9\n",
              "21     9\n",
              "18     8\n",
              "34     8\n",
              "29     7\n",
              "14     7\n",
              "17     7\n",
              "40     7\n",
              "47     6\n",
              "13     5\n",
              "24     5\n",
              "31     5\n",
              "41     5\n",
              "38     5\n",
              "27     3\n",
              "12     3\n",
              "35     2\n",
              "33     2\n",
              "45     2\n",
              "28     2\n",
              "9      2\n",
              "4      1\n",
              "37     1\n",
              "23     1\n",
              "26     1\n",
              "5      1\n",
              "6      1\n",
              "42     1\n",
              "7      0\n",
              "3      0\n",
              "2      0\n",
              "1      0\n",
              "30     0\n",
              "8      0\n",
              "10     0\n",
              "11     0\n",
              "36     0\n",
              "32     0\n",
              "22     0\n",
              "25     0\n",
              "0      0\n",
              "Name: recommendations, dtype: int64"
            ]
          },
          "metadata": {},
          "execution_count": 29
        }
      ]
    },
    {
      "cell_type": "markdown",
      "metadata": {
        "id": "Rs7S6FqEa0MX"
      },
      "source": [
        "# Exploring Reply and replyCount"
      ]
    },
    {
      "cell_type": "code",
      "metadata": {
        "id": "GuPjd4FbWGmi"
      },
      "source": [
        "import pandas as pd"
      ],
      "execution_count": 2,
      "outputs": []
    },
    {
      "cell_type": "code",
      "metadata": {
        "id": "Jmb2I58mSGD6"
      },
      "source": [
        "comm = \"/content/newspaper_comments.csv\""
      ],
      "execution_count": 6,
      "outputs": []
    },
    {
      "cell_type": "code",
      "metadata": {
        "id": "2BFD9EOSV4vl"
      },
      "source": [
        "df = pd.read_csv(comm)"
      ],
      "execution_count": 7,
      "outputs": []
    },
    {
      "cell_type": "code",
      "metadata": {
        "colab": {
          "base_uri": "https://localhost:8080/"
        },
        "id": "M_12x1yfXSL0",
        "outputId": "c5a1f306-e474-4758-d8f1-16a9d67b1ecb"
      },
      "source": [
        "df.keys()"
      ],
      "execution_count": null,
      "outputs": [
        {
          "output_type": "execute_result",
          "data": {
            "text/plain": [
              "Index(['Unnamed: 0', 'index', 'approveDate', 'commentBody', 'commentID',\n",
              "       'commentSequence', 'commentTitle', 'commentType', 'createDate', 'depth',\n",
              "       'editorsSelection', 'isAnonymous', 'parentID', 'parentUserDisplayName',\n",
              "       'permID', 'picURL', 'recommendations', 'recommendedFlag', 'replies',\n",
              "       'replyCount', 'status', 'trusted', 'updateDate', 'userDisplayName',\n",
              "       'userID', 'userLocation', 'userTitle', 'userURL'],\n",
              "      dtype='object')"
            ]
          },
          "metadata": {},
          "execution_count": 8
        }
      ]
    },
    {
      "cell_type": "code",
      "metadata": {
        "colab": {
          "base_uri": "https://localhost:8080/"
        },
        "id": "DGovhvhsYg1Z",
        "outputId": "e74d3cb8-f010-4593-de07-ef21e2d1bfe8"
      },
      "source": [
        "df[df['commentID'] == 103966915]['replyCount']"
      ],
      "execution_count": null,
      "outputs": [
        {
          "output_type": "execute_result",
          "data": {
            "text/plain": [
              "48    5\n",
              "Name: replyCount, dtype: int64"
            ]
          },
          "metadata": {},
          "execution_count": 9
        }
      ]
    },
    {
      "cell_type": "code",
      "metadata": {
        "id": "bGo1QonT3jO7"
      },
      "source": [
        "rep = df[df['commentID'] == 103966915]['replies']"
      ],
      "execution_count": null,
      "outputs": []
    },
    {
      "cell_type": "code",
      "metadata": {
        "colab": {
          "base_uri": "https://localhost:8080/"
        },
        "id": "jQ7UcTgK3wGD",
        "outputId": "0ec9bc5d-aeb7-4cc2-d927-5d478b4cccb5"
      },
      "source": [
        "for x in rep:\n",
        "  print (x)"
      ],
      "execution_count": null,
      "outputs": [
        {
          "output_type": "stream",
          "name": "stdout",
          "text": [
            "[{'commentID': 103967767, 'status': 'approved', 'commentSequence': 103967767, 'userID': 67154721, 'userDisplayName': 'Jim Linnane', 'userLocation': 'Bar Harbor', 'userTitle': 'NULL', 'userURL': 'NULL', 'picURL': None, 'commentTitle': '<br\\\\//>', 'commentBody': '@Rose Not to mention asking how those at the climate conference in Madrid traveled there. Do as I say and do not do as I do is not a fitting way to enlist others in the fight against climate changde.', 'createDate': '1575484030', 'updateDate': '1575518200', 'approveDate': '1575484031', 'recommendations': 4, 'replyCount': 0, 'replies': [], 'editorsSelection': False, 'parentID': 103966915, 'parentUserDisplayName': 'Rose', 'depth': 2, 'commentType': 'userReply', 'trusted': 0, 'recommendedFlag': 0, 'permID': '103967767', 'isAnonymous': False}, {'commentID': 103968347, 'status': 'approved', 'commentSequence': 103968347, 'userID': 66240999, 'userDisplayName': 'Steven Harrell', 'userLocation': 'DC', 'userTitle': 'NULL', 'userURL': 'NULL', 'picURL': None, 'commentTitle': '<br\\\\//>', 'commentBody': \"@Rose Yes and no.  Certainly there are folks in the US who contribute more to carbon outputs than others... but that's true of all countries.  We're getting close to the point where China has more jet setters than we do, as just one of many examples.  \\n\\nIn many ways, our worst are as bad as everyone else's, while our average is worse than everyone else's average.  Even when we remove our worst offenders from the equation, the simple answer is that ordinary, average Americans emit a lot more carbon than our peers.\\n\\nI say this because there's a terrible tendency in the United States to blame a few (truly) bad apples in order to excuse our rotten bunch.  All those Americans sitting behind the wheels of their single occupancy vehicles complaining about traffic ARE the traffic.  Now they complain about climate change... they ARE climate change, too.  We all need to take responsibility for our actions.\", 'createDate': '1575485453', 'updateDate': '1575553939', 'approveDate': '1575487641', 'recommendations': 3, 'replyCount': 0, 'replies': [], 'editorsSelection': False, 'parentID': 103966915, 'parentUserDisplayName': 'Rose', 'depth': 2, 'commentType': 'userReply', 'trusted': 0, 'recommendedFlag': 0, 'permID': '103968347', 'isAnonymous': False}, {'commentID': 103972554, 'status': 'approved', 'commentSequence': 103972554, 'userID': 66128618, 'userDisplayName': 'Deb E', 'userLocation': 'California', 'userTitle': 'NULL', 'userURL': 'NULL', 'picURL': None, 'commentTitle': '<br\\\\//>', 'commentBody': '@Rose  Too many people take international or transcontinental flights every week or two (not every month or two). It has to stop.', 'createDate': '1575496261', 'updateDate': '1575538413', 'approveDate': '1575496262', 'recommendations': 3, 'replyCount': 0, 'replies': [], 'editorsSelection': False, 'parentID': 103966915, 'parentUserDisplayName': 'Rose', 'depth': 2, 'commentType': 'userReply', 'trusted': 0, 'recommendedFlag': 0, 'permID': '103972554', 'isAnonymous': False}]\n"
          ]
        }
      ]
    },
    {
      "cell_type": "code",
      "metadata": {
        "colab": {
          "base_uri": "https://localhost:8080/"
        },
        "id": "pNTQRhfx3-MN",
        "outputId": "7b02d8bc-5dbd-4f40-e26f-34ae0955d17a"
      },
      "source": [
        "dep =df[df['commentID'] == 103966915]['depth']\n",
        "dep"
      ],
      "execution_count": null,
      "outputs": [
        {
          "output_type": "execute_result",
          "data": {
            "text/plain": [
              "48    1\n",
              "Name: depth, dtype: int64"
            ]
          },
          "metadata": {},
          "execution_count": 32
        }
      ]
    },
    {
      "cell_type": "code",
      "metadata": {
        "id": "pVABXC9w3POY"
      },
      "source": [
        " rep_comm = df['replies']"
      ],
      "execution_count": null,
      "outputs": []
    },
    {
      "cell_type": "code",
      "metadata": {
        "colab": {
          "base_uri": "https://localhost:8080/"
        },
        "id": "43hN9ln440yF",
        "outputId": "8e8df791-9442-489e-d8fa-998b23232b1e"
      },
      "source": [
        "for x in r:\n",
        "  print(x)"
      ],
      "execution_count": null,
      "outputs": [
        {
          "output_type": "stream",
          "name": "stdout",
          "text": [
            "[]\n",
            "[]\n",
            "[]\n",
            "[]\n",
            "[]\n",
            "[]\n",
            "[]\n",
            "[]\n",
            "[]\n",
            "[]\n",
            "[]\n",
            "[]\n",
            "[]\n",
            "[]\n",
            "[]\n",
            "[{'commentID': 103968274, 'status': 'approved', 'commentSequence': 103968274, 'userID': 50097185, 'userDisplayName': 'Marta', 'userLocation': 'NYC', 'userTitle': 'NULL', 'userURL': 'NULL', 'picURL': None, 'commentTitle': '<br\\\\//>', 'commentBody': 'Overemphasis on what individuals do is another reason there is no political will. \\n\\nMegacorps  have successfully directed attention to individual actions - but it’s industry that’s responsible for the vast majority of emissions and environmental degradation.  Not consumers.\\n\\nSure, individuals will need to change behavior- it’s all hands on deck now that we’ve dilly dallied.  Some actions, like reducing meat consumption, really help. \\n\\nBut pressuring politicians/demanding action on policies like carbon taxes, incentives for alternative energy, research into carbon sequestration will have far greater impact. Don’t let them change the conversation.', 'createDate': '1575485257', 'updateDate': '1577805382', 'approveDate': '1575485258', 'recommendations': 16, 'replyCount': 0, 'replies': [], 'editorsSelection': False, 'parentID': 103967576, 'parentUserDisplayName': 'D', 'depth': 2, 'commentType': 'userReply', 'trusted': 0, 'recommendedFlag': 0, 'permID': '103968274', 'isAnonymous': False}, {'commentID': 103968408, 'status': 'approved', 'commentSequence': 103968408, 'userID': 54841678, 'userDisplayName': 'John Patt', 'userLocation': 'Koloa, HI', 'userTitle': 'NULL', 'userURL': 'NULL', 'picURL': None, 'commentTitle': '<br\\\\//>', 'commentBody': \"@D You make valid points, but there is absolutely no reason why we can't install on-demand hot water heaters, or eat our left overs. We don't need to throw a towel or a pair of jeans in the laundry after they've been used just once.\", 'createDate': '1575485582', 'updateDate': '1575534431', 'approveDate': '1575485583', 'recommendations': 6, 'replyCount': 0, 'replies': [], 'editorsSelection': False, 'parentID': 103967576, 'parentUserDisplayName': 'D', 'depth': 2, 'commentType': 'userReply', 'trusted': 0, 'recommendedFlag': 0, 'permID': '103968408', 'isAnonymous': False}, {'commentID': 103969249, 'status': 'approved', 'commentSequence': 103969249, 'userID': 34954663, 'userDisplayName': 'D', 'userLocation': 'WA', 'userTitle': 'NULL', 'userURL': 'NULL', 'picURL': None, 'commentTitle': '<br\\\\//>', 'commentBody': \"@Marta   You're right that policies should regulate corporations rather than individuals, but my point is that will still affect individuals. Industry emits BECAUSE consumers consume. Oil companies are rich because people drive (or have their food driven to them); they are powerful because every single person in America depends on gasoline. Changing that alone would require an unprecedented, nearly unimaginable transformation of agriculture, employment, trade - not to mention the physical infrastructure and housing stock of every single city and town in the country. Those are changes in policy, not individual behavior, but they will dramatically affect individual lives - and individuals, not just corporations, will resist them fiercely.\\n\\nOf course we should have carbon taxes, but they're not just going to hit the CEOs, they're going affect all of us. They will make everything we do more difficult and expensive. That is their entire point, because the things we are doing are not sustainable. Alternative energy will hopefully keep the lights on, but it won't fly us across the country and back for Thanksgiving, mine the lithium that powers our smartphones, or fuel our two-day Amazon deliveries. But you can't win a city council race, let alone the Senate, telling people they have to give those things up. That's really why there's no political will to deal with this.\", 'createDate': '1575487803', 'updateDate': '1575568282', 'approveDate': '1575487804', 'recommendations': 15, 'replyCount': 0, 'replies': [], 'editorsSelection': False, 'parentID': 103968274, 'parentUserDisplayName': 'D', 'depth': 2, 'commentType': 'userReply', 'trusted': 0, 'recommendedFlag': 0, 'permID': '103969249', 'isAnonymous': False}]\n",
            "[{'commentID': 103978871, 'status': 'approved', 'commentSequence': 103978871, 'userID': 55864681, 'userDisplayName': 'otto', 'userLocation': 'rust belt', 'userTitle': 'NULL', 'userURL': 'NULL', 'picURL': None, 'commentTitle': '<br\\\\//>', 'commentBody': \"@Fair And Not Square \\n\\nSo just because I'm wealthy and can afford it, I should be able to pollute more?  It's like the new rage to build special pay lanes on our highways- If you are rich, you can get to work fast.  If you aren't you have to go bumper to bumper.  Whatever happened to equality?\", 'createDate': '1575514625', 'updateDate': '1575531364', 'approveDate': '1575514626', 'recommendations': 2, 'replyCount': 0, 'replies': [], 'editorsSelection': False, 'parentID': 103978405, 'parentUserDisplayName': 'Fair And Not Square', 'depth': 2, 'commentType': 'userReply', 'trusted': 0, 'recommendedFlag': 0, 'permID': '103978871', 'isAnonymous': False}, {'commentID': 103978886, 'status': 'approved', 'commentSequence': 103978886, 'userID': 75215278, 'userDisplayName': 'Alan', 'userLocation': 'Columbus OH', 'userTitle': 'NULL', 'userURL': 'NULL', 'picURL': None, 'commentTitle': '<br\\\\//>', 'commentBody': '@Fair And Not Square \\n\\nIf I handed you a million dollars and then flooded your entire country wiping out half the population, would you feel fairly compensated?\\n\\nLife and death, moral and some other irreversible decisions are not easy to monetize. A carbon tax is meant to be an negative incentive to encourage change, not an equitable trade off.', 'createDate': '1575514705', 'updateDate': '1575531381', 'approveDate': '1575514705', 'recommendations': 2, 'replyCount': 0, 'replies': [], 'editorsSelection': False, 'parentID': 103978405, 'parentUserDisplayName': 'Fair And Not Square', 'depth': 2, 'commentType': 'userReply', 'trusted': 0, 'recommendedFlag': 0, 'permID': '103978886', 'isAnonymous': False}, {'commentID': 103982335, 'status': 'approved', 'commentSequence': 103982335, 'userID': 34228478, 'userDisplayName': 'J c', 'userLocation': 'Ma', 'userTitle': 'NULL', 'userURL': 'NULL', 'picURL': None, 'commentTitle': '<br\\\\//>', 'commentBody': '@Alan \\n\\nThe idea is that putting a price on carbon would prevent most situations that you descibe compared to not putting a price on carbon. \\n\\nAnd for the flooding/displacement that does occur, a zero-net tax==where the money collected is refunded to each person equally==would mean that poor people would have essentially a UBI to make it through tough times. \\n\\nDon’t let the perfect be the enemy pf the good. A carbon tax would work. What’s you plan?', 'createDate': '1575541010', 'updateDate': '1575558323', 'approveDate': '1575541011', 'recommendations': 1, 'replyCount': 0, 'replies': [], 'editorsSelection': False, 'parentID': 103978886, 'parentUserDisplayName': 'Fair And Not Square', 'depth': 2, 'commentType': 'userReply', 'trusted': 0, 'recommendedFlag': 0, 'permID': '103982335', 'isAnonymous': False}]\n",
            "[{'commentID': 103978193, 'status': 'approved', 'commentSequence': 103978193, 'userID': 79234452, 'userDisplayName': 'Don', 'userLocation': 'Parent', 'userTitle': 'NULL', 'userURL': 'NULL', 'picURL': None, 'commentTitle': '<br\\\\//>', 'commentBody': 'It’s more than “damages” right? It’s damage to ecosystems, substantial and unpredictable chances to weather, increased disease, agricultural shifts, and more. Obviously Mother Nature doesn’t care one whit about our society, capitalism, or the way things are. She will do what she will do. And the projected outcomes from those for whom climate studies is more than just a hobby are pretty bad. We can continue to take the advice of those who like the status quo, but have no basis for their opinions, or we can act upon available information and make the needed changes to our way of life to create a suitable world for our kids. I pick the latter.', 'createDate': '1575512000', 'updateDate': '1575568347', 'approveDate': '1575512001', 'recommendations': 7, 'replyCount': 0, 'replies': [], 'editorsSelection': False, 'parentID': 103976626, 'parentUserDisplayName': 'laurence', 'depth': 2, 'commentType': 'userReply', 'trusted': 0, 'recommendedFlag': 0, 'permID': '103978193', 'isAnonymous': False}, {'commentID': 103981464, 'status': 'approved', 'commentSequence': 103981464, 'userID': 64591704, 'userDisplayName': 'Doug K', 'userLocation': 'San Francisco', 'userTitle': 'NULL', 'userURL': 'NULL', 'picURL': None, 'commentTitle': '<br\\\\//>', 'commentBody': '@laurence Given that the \"damage\" that experts are predicting is probably human extinction, I\\'m not sure how one mitigates that.\\n\\nOh, but too bad it would be too inconvenient to change.  There are zero technical barriers to changing. Only political ones.  You could electrify everything and use renewables to power it.  That\\'s not in dispute.  Funny, how we could devote 40% of GDP to defeating the Nazis, but can\\'t be bothered to devote much less than that to face a fare more implacable and dangerous enemy.', 'createDate': '1575529414', 'updateDate': '1575577511', 'approveDate': '1575577511', 'recommendations': 0, 'replyCount': 0, 'replies': [], 'editorsSelection': False, 'parentID': 103976626, 'parentUserDisplayName': 'laurence', 'depth': 2, 'commentType': 'userReply', 'trusted': 0, 'recommendedFlag': 0, 'permID': '103981464', 'isAnonymous': False}]\n",
            "[{'commentID': 103982575, 'status': 'approved', 'commentSequence': 103982575, 'userID': 71598178, 'userDisplayName': 'Scientist', 'userLocation': 'CA', 'userTitle': 'NULL', 'userURL': 'NULL', 'picURL': None, 'commentTitle': '<br\\\\//>', 'commentBody': '@John \\nWell, new technologies have been developed - solar, electric cars, bamboo toothbrushes. \\n\\nBut SUVs are INCREASING their proportion of vehicle sales. Odd, no?', 'createDate': '1575543147', 'updateDate': '1575543148', 'approveDate': '1575543148', 'recommendations': 0, 'replyCount': 0, 'replies': [], 'editorsSelection': False, 'parentID': 103969918, 'parentUserDisplayName': 'John', 'depth': 2, 'commentType': 'userReply', 'trusted': 0, 'recommendedFlag': 0, 'permID': '103982575', 'isAnonymous': False}]\n",
            "[{'commentID': 103970932, 'status': 'approved', 'commentSequence': 103970932, 'userID': 77926510, 'userDisplayName': 'Alan', 'userLocation': 'Toronto', 'userTitle': 'NULL', 'userURL': 'NULL', 'picURL': None, 'commentTitle': '<br\\\\//>', 'commentBody': '@OneView The scientists are well aware of the economic drivers, and they and the economists will both tell you the same thing: the best way to incentivise de-carbonisation is to build in the economic costs that climate change brings - i.e. a carbon tax.  If you had to pay much more for gasoline you would drive less, or switch to an electric car.', 'createDate': '1575492135', 'updateDate': '1575601282', 'approveDate': '1575492135', 'recommendations': 11, 'replyCount': 0, 'replies': [], 'editorsSelection': False, 'parentID': 103969188, 'parentUserDisplayName': 'OneView', 'depth': 2, 'commentType': 'userReply', 'trusted': 0, 'recommendedFlag': 0, 'permID': '103970932', 'isAnonymous': False}, {'commentID': 103972526, 'status': 'approved', 'commentSequence': 103972526, 'userID': 58758069, 'userDisplayName': 'Chris Winter', 'userLocation': 'San Jose, CA', 'userTitle': 'NULL', 'userURL': 'NULL', 'picURL': None, 'commentTitle': '<br\\\\//>', 'commentBody': '@OneView \\n\\n\"Eliminating cars and planes would certainly help, but is that realistic?\"\\n\\nNo, it certainly isn\\'t realistic. That\\'s why people are working on electric cars, electric boats, even electric airplanes. It\\'s why biofuels are being developed to replace petroleum-derived diesel fuel.\\n\\nHowever, the prospect of having to give up cars, air travel, and meat does make a handy club with which to beat those who advocate feasible ways of reducing CO2 emissions.', 'createDate': '1575496192', 'updateDate': '1575560155', 'approveDate': '1575496193', 'recommendations': 6, 'replyCount': 0, 'replies': [], 'editorsSelection': False, 'parentID': 103969188, 'parentUserDisplayName': 'OneView', 'depth': 2, 'commentType': 'userReply', 'trusted': 0, 'recommendedFlag': 0, 'permID': '103972526', 'isAnonymous': False}, {'commentID': 103981478, 'status': 'approved', 'commentSequence': 103981478, 'userID': 64591704, 'userDisplayName': 'Doug K', 'userLocation': 'San Francisco', 'userTitle': 'NULL', 'userURL': 'NULL', 'picURL': None, 'commentTitle': '<br\\\\//>', 'commentBody': \"@OneView We are eliminating gas cars one way or the other.  We can eliminate them by switching to EVs or we can elimintate them by eliminating the humans that drive them.  If we don't do the former, we are choosing the latter.\\n\\nI'd say that's pretty much an ethical issue.\", 'createDate': '1575529557', 'updateDate': '1575576379', 'approveDate': '1575576379', 'recommendations': 0, 'replyCount': 0, 'replies': [], 'editorsSelection': False, 'parentID': 103969188, 'parentUserDisplayName': 'OneView', 'depth': 2, 'commentType': 'userReply', 'trusted': 0, 'recommendedFlag': 0, 'permID': '103981478', 'isAnonymous': False}]\n",
            "[]\n",
            "[]\n",
            "[]\n",
            "[]\n",
            "[]\n",
            "[]\n",
            "[]\n",
            "[{'commentID': 103979083, 'status': 'approved', 'commentSequence': 103979083, 'userID': 38380250, 'userDisplayName': 'John Goudge', 'userLocation': 'Peotone, Il', 'userTitle': 'NULL', 'userURL': 'NULL', 'picURL': None, 'commentTitle': '<br\\\\//>', 'commentBody': '@hrichards Excellent, But there should be payments for those that capture and sequester carbon, and not geologically\\nRather than seeking fancy new technology, we have Nature in the form of photosynthesis  Properly managed farming and ranching can sequester several tons of CO2 per acre.  With over 900 million acres, that is a lot of CO2.  Given the low profit margins on conventional farming, farmers might find farming and ranching carbon more profitable.', 'createDate': '1575515480', 'updateDate': '1575598868', 'approveDate': '1575515481', 'recommendations': 1, 'replyCount': 0, 'replies': [], 'editorsSelection': False, 'parentID': 103973922, 'parentUserDisplayName': 'hrichards', 'depth': 2, 'commentType': 'userReply', 'trusted': 0, 'recommendedFlag': 0, 'permID': '103979083', 'isAnonymous': False}, {'commentID': 103979608, 'status': 'approved', 'commentSequence': 103979608, 'userID': 75215278, 'userDisplayName': 'Alan', 'userLocation': 'Columbus OH', 'userTitle': 'NULL', 'userURL': 'NULL', 'picURL': None, 'commentTitle': '<br\\\\//>', 'commentBody': '@hrichards \\n\\n\\nDoes the modeling reflect that such a policy will never last more than two election cycles and while it is in effect will positively crush people who live in small towns and rural areas whether they are poor or not?', 'createDate': '1575517285', 'updateDate': '1575517285', 'approveDate': '1575517285', 'recommendations': 0, 'replyCount': 0, 'replies': [], 'editorsSelection': False, 'parentID': 103973922, 'parentUserDisplayName': 'hrichards', 'depth': 2, 'commentType': 'userReply', 'trusted': 0, 'recommendedFlag': 0, 'permID': '103979608', 'isAnonymous': False}]\n",
            "[{'commentID': 103978148, 'status': 'approved', 'commentSequence': 103978148, 'userID': 76635407, 'userDisplayName': 'Joel', 'userLocation': 'California', 'userTitle': 'NULL', 'userURL': 'NULL', 'picURL': None, 'commentTitle': '<br\\\\//>', 'commentBody': '@John Patt \\n\\nThat would be nice but green electricity is not that plentiful yet except in few places. In those places with \"sequestered green electricity\" that would make sense. \\nAnywhere else you would be better shutting of polluting power plants, specially coal power plants and keeping the green electricity for residential service.\\n \\nCO2 capture requires significant energy and up conversion back to fuel is not that efficient using conventional green hydrogen sources. CO2 + NG (fossil fuel or bio-methane) would be a better bet in my mind for upgrading efficiently, still the energy cost of CO2 capture needs to be factored in this kind of analysis. Making jet fuel from CO2 would be nice since the  electric plane isn\\'t going to be a viable thing for a long time.', 'createDate': '1575511847', 'updateDate': '1575511848', 'approveDate': '1575511848', 'recommendations': 0, 'replyCount': 0, 'replies': [], 'editorsSelection': False, 'parentID': 103973225, 'parentUserDisplayName': 'John Patt', 'depth': 2, 'commentType': 'userReply', 'trusted': 0, 'recommendedFlag': 0, 'permID': '103978148', 'isAnonymous': False}, {'commentID': 103979138, 'status': 'approved', 'commentSequence': 103979138, 'userID': 38380250, 'userDisplayName': 'John Goudge', 'userLocation': 'Peotone, Il', 'userTitle': 'NULL', 'userURL': 'NULL', 'picURL': None, 'commentTitle': '<br\\\\//>', 'commentBody': \"@John Patt Yep.  Remember that Mother nature has figured out carbon capture using photosynthesis a few hundred million years ago.\\nProperly, managed Farming and Grazing can store over a Billion tons of CO2 a year in the US alone.  Forests ain't bad either.\", 'createDate': '1575515654', 'updateDate': '1575515654', 'approveDate': '1575515654', 'recommendations': 0, 'replyCount': 0, 'replies': [], 'editorsSelection': False, 'parentID': 103973225, 'parentUserDisplayName': 'John Patt', 'depth': 2, 'commentType': 'userReply', 'trusted': 0, 'recommendedFlag': 0, 'permID': '103979138', 'isAnonymous': False}]\n",
            "[]\n",
            "[]\n",
            "[]\n",
            "[]\n",
            "[]\n",
            "[]\n",
            "[{'commentID': 103972060, 'status': 'approved', 'commentSequence': 103972060, 'userID': 5447187, 'userDisplayName': 'Rose', 'userLocation': 'Seattle', 'userTitle': 'NULL', 'userURL': 'NULL', 'picURL': None, 'commentTitle': '<br\\\\//>', 'commentBody': '@Djt : What do you mean by structural base-line?', 'createDate': '1575495130', 'updateDate': '1575516538', 'approveDate': '1575516538', 'recommendations': 0, 'replyCount': 0, 'replies': [], 'editorsSelection': False, 'parentID': 103970694, 'parentUserDisplayName': 'Djt', 'depth': 2, 'commentType': 'userReply', 'trusted': 0, 'recommendedFlag': 0, 'permID': '103972060', 'isAnonymous': False}]\n",
            "[{'commentID': 103972294, 'status': 'approved', 'commentSequence': 103972294, 'userID': 58758069, 'userDisplayName': 'Chris Winter', 'userLocation': 'San Jose, CA', 'userTitle': 'NULL', 'userURL': 'NULL', 'picURL': None, 'commentTitle': '<br\\\\//>', 'commentBody': '@Jonathan Katz \\n\\n\"Deaths from pollution don\\'t come from carbon dioxide, which is harmless.\"\\n\\nThe folks living around Cameroon\\'s Lake Nyos in 1986 would disagree with you. Some 1,700 of them cannot disagree, because they were suffocated by a natural outburst of CO2.\\n\\nThe Apollo 13 astronauts would also disagree, but they managed to devise a way to scrub the CO2 that threatened them from the air in the spacecraft.\\n\\nIt is common to find indoor CO2 levels that cause drowsiness and complaint. That starts at the 1,000 ppm level. The legal limit for an 8-hour period is 5,000 ppm in many jurisdictions.\\n\\nCarbon dioxide is not harmless.\\n\\n<a href=\"https://www.kane.co.uk/knowledge-centre/what-are-safe-levels-of-co-and-co2-in-rooms\" target=\"_blank\">https://www.kane.co.uk/knowledge-centre/what-are-safe-levels-of-co-and-co2-in-rooms</a>\\n\\nIf we are to make progress against the harm global warming can bring, we must start by accepting facts.', 'createDate': '1575495637', 'updateDate': '1575495639', 'approveDate': '1575495639', 'recommendations': 0, 'replyCount': 0, 'replies': [], 'editorsSelection': False, 'parentID': 103970181, 'parentUserDisplayName': 'Jonathan Katz', 'depth': 2, 'commentType': 'userReply', 'trusted': 0, 'recommendedFlag': 0, 'permID': '103972294', 'isAnonymous': False}]\n",
            "[]\n",
            "[{'commentID': 103969633, 'status': 'approved', 'commentSequence': 103969633, 'userID': 58387191, 'userDisplayName': 'Phil Bacon', 'userLocation': 'Guilford CT', 'userTitle': 'NULL', 'userURL': 'NULL', 'picURL': None, 'commentTitle': '<br\\\\//>', 'commentBody': '@Justin,\\nYou are so  right! There is no solution! \\nAnd there never will be if you insist on continuing to drive your gas car to work, take plane trips and road trips to see friends, and continue carnivorous eating habits.\\n\\nHuge lifestyle changes will become necessary. “We’ve always done it this way” is no longer an excuse.', 'createDate': '1575488952', 'updateDate': '1575505680', 'approveDate': '1575488953', 'recommendations': 6, 'replyCount': 0, 'replies': [], 'editorsSelection': False, 'parentID': 103968926, 'parentUserDisplayName': 'Justin', 'depth': 2, 'commentType': 'userReply', 'trusted': 0, 'recommendedFlag': 0, 'permID': '103969633', 'isAnonymous': False}, {'commentID': 103970232, 'status': 'approved', 'commentSequence': 103970232, 'userID': 77989539, 'userDisplayName': 'Jonathan Katz', 'userLocation': 'St. Louis', 'userTitle': 'NULL', 'userURL': 'NULL', 'picURL': None, 'commentTitle': '<br\\\\//>', 'commentBody': '@Justin To change behavior requires incentives and penalties (taxes).', 'createDate': '1575490400', 'updateDate': '1575490400', 'approveDate': '1575490400', 'recommendations': 0, 'replyCount': 0, 'replies': [], 'editorsSelection': False, 'parentID': 103968926, 'parentUserDisplayName': 'Justin', 'depth': 2, 'commentType': 'userReply', 'trusted': 0, 'recommendedFlag': 0, 'permID': '103970232', 'isAnonymous': False}, {'commentID': 103970760, 'status': 'approved', 'commentSequence': 103970760, 'userID': 60741395, 'userDisplayName': 'Djt', 'userLocation': 'Norcal', 'userTitle': 'NULL', 'userURL': 'NULL', 'picURL': None, 'commentTitle': '<br\\\\//>', 'commentBody': \"@Justin Was this satire? You won't curtail your travel to save the environment?  \\n\\nWhat is each person on earth received a ration of 1 ton of emissions per year, and you had to buy emissions from others for your road trips.  Would that be OK?\", 'createDate': '1575491682', 'updateDate': '1575495043', 'approveDate': '1575493727', 'recommendations': 1, 'replyCount': 0, 'replies': [], 'editorsSelection': False, 'parentID': 103968926, 'parentUserDisplayName': 'Justin', 'depth': 2, 'commentType': 'userReply', 'trusted': 0, 'recommendedFlag': 0, 'permID': '103970760', 'isAnonymous': False}]\n",
            "[]\n",
            "[{'commentID': 103969298, 'status': 'approved', 'commentSequence': 103969298, 'userID': 57854600, 'userDisplayName': 'Steve of Brooklyn', 'userLocation': 'Brooklyn, NY', 'userTitle': 'NULL', 'userURL': 'NULL', 'picURL': None, 'commentTitle': '<br\\\\//>', 'commentBody': '@Mich \\n\\nIn preindustrial days there were about 1 billion people, not the 7 billion now or the 11 billion by century end.', 'createDate': '1575487946', 'updateDate': '1575487947', 'approveDate': '1575487947', 'recommendations': 0, 'replyCount': 0, 'replies': [], 'editorsSelection': False, 'parentID': 103968690, 'parentUserDisplayName': 'Mich', 'depth': 2, 'commentType': 'userReply', 'trusted': 0, 'recommendedFlag': 0, 'permID': '103969298', 'isAnonymous': False}, {'commentID': 103969771, 'status': 'approved', 'commentSequence': 103969771, 'userID': 65448010, 'userDisplayName': 'Marc McDermott', 'userLocation': 'Williamstown Ma', 'userTitle': 'NULL', 'userURL': 'NULL', 'picURL': None, 'commentTitle': '<br\\\\//>', 'commentBody': '@Mich \\nHow about the comfort of your children?', 'createDate': '1575489318', 'updateDate': '1575516537', 'approveDate': '1575516537', 'recommendations': 0, 'replyCount': 0, 'replies': [], 'editorsSelection': False, 'parentID': 103968690, 'parentUserDisplayName': 'Mich', 'depth': 2, 'commentType': 'userReply', 'trusted': 0, 'recommendedFlag': 0, 'permID': '103969771', 'isAnonymous': False}]\n",
            "[{'commentID': 103969098, 'status': 'approved', 'commentSequence': 103969098, 'userID': 66282869, 'userDisplayName': 'OneView', 'userLocation': 'Boston', 'userTitle': 'NULL', 'userURL': 'NULL', 'picURL': None, 'commentTitle': '<br\\\\//>', 'commentBody': '@Rich  But is the issue of carbon emissions the clean up or the growth?  If there was no growth starting today, the issue would go away, so the issue is with the current polluters, right?\\n\\nThe real question is the \"new factory\" wants to keep pollution, but wants the \"old factory\" to pay for the clean up to keep things in balance.', 'createDate': '1575487446', 'updateDate': '1575498514', 'approveDate': '1575487447', 'recommendations': 1, 'replyCount': 0, 'replies': [], 'editorsSelection': False, 'parentID': 103968405, 'parentUserDisplayName': 'Rich', 'depth': 2, 'commentType': 'userReply', 'trusted': 0, 'recommendedFlag': 0, 'permID': '103969098', 'isAnonymous': False}, {'commentID': 103978355, 'status': 'approved', 'commentSequence': 103978355, 'userID': 65975063, 'userDisplayName': 'Rich', 'userLocation': 'Berkeley CA', 'userTitle': 'NULL', 'userURL': 'NULL', 'picURL': 'https://s3.amazonaws.com/pimage.timespeople.nytimes.com/avatars/cropped-210a69af5db0d62237ee89f43279072aab871f43f75300b1c5f551f48d4a3934.jpg', 'commentTitle': '<br\\\\//>', 'commentBody': \"@OneView , Not exactly. Because of the long residence time of CO2 (>100 yrs) in the atmosphere, even if we stopped all emissions yesterday, the earth would continue warming for decades while the excess CO2 already emitted was slowly absorbed. Of course, this absorption would further acidify the ocean, with its own set of problems.\\n\\nContinuing to emit fossil CO2 adds to the atmospheric stock, so even greatly reducing emissions continues to make the problem worse, while holding emissions at their present level (e.g., no growth) guarantees catastrophe.\\n\\nMassive planting of forests could draw down carbon, assuming this outpaces deforestation and destruction by wildfires.\\n\\nBut given current emission rates and the lack of political will to treat this as a dire emergency, it's virtually guaranteed that the planet will soon be far less hospitable, whether it takes a decade or several.\", 'createDate': '1575512639', 'updateDate': '1575512640', 'approveDate': '1575512640', 'recommendations': 0, 'replyCount': 0, 'replies': [], 'editorsSelection': False, 'parentID': 103969098, 'parentUserDisplayName': 'Rich', 'depth': 2, 'commentType': 'userReply', 'trusted': 0, 'recommendedFlag': 0, 'permID': '103978355', 'isAnonymous': False}]\n",
            "[]\n",
            "[]\n",
            "[]\n",
            "[{'commentID': 103970856, 'status': 'approved', 'commentSequence': 103970856, 'userID': 60741395, 'userDisplayName': 'Djt', 'userLocation': 'Norcal', 'userTitle': 'NULL', 'userURL': 'NULL', 'picURL': None, 'commentTitle': '<br\\\\//>', 'commentBody': '@HO This is the only answer.  In a few decades, we will look back and realize that we should have done this.', 'createDate': '1575491915', 'updateDate': '1575493123', 'approveDate': '1575493123', 'recommendations': 0, 'replyCount': 0, 'replies': [], 'editorsSelection': False, 'parentID': 103967485, 'parentUserDisplayName': 'HO', 'depth': 2, 'commentType': 'userReply', 'trusted': 0, 'recommendedFlag': 0, 'permID': '103970856', 'isAnonymous': False}, {'commentID': 103968698, 'status': 'approved', 'commentSequence': 103968698, 'userID': 89661122, 'userDisplayName': 'Justin', 'userLocation': 'Florida', 'userTitle': 'NULL', 'userURL': 'NULL', 'picURL': None, 'commentTitle': '<br\\\\//>', 'commentBody': '@HO So you propose adding a new tax to individuals? Good luck with that. (Not gonna happen)', 'createDate': '1575486387', 'updateDate': '1575516538', 'approveDate': '1575516538', 'recommendations': 0, 'replyCount': 0, 'replies': [], 'editorsSelection': False, 'parentID': 103967485, 'parentUserDisplayName': 'HO', 'depth': 2, 'commentType': 'userReply', 'trusted': 0, 'recommendedFlag': 0, 'permID': '103968698', 'isAnonymous': False}]\n",
            "[{'commentID': 103968399, 'status': 'approved', 'commentSequence': 103968399, 'userID': 50097185, 'userDisplayName': 'Marta', 'userLocation': 'NYC', 'userTitle': 'NULL', 'userURL': 'NULL', 'picURL': None, 'commentTitle': '<br\\\\//>', 'commentBody': 'Nope. Overconsumption in the first world is really the issue. Reducing population in say, India, would have little impact. Because they aren’t generating that much carbon to begin with. Yet the overpopulation talking point is very popular among Americans using all the resources. It’s misdirection.', 'createDate': '1575485572', 'updateDate': '1575560107', 'approveDate': '1575485573', 'recommendations': 4, 'replyCount': 0, 'replies': [], 'editorsSelection': False, 'parentID': 103967455, 'parentUserDisplayName': 'Len Blumin', 'depth': 2, 'commentType': 'userReply', 'trusted': 0, 'recommendedFlag': 0, 'permID': '103968399', 'isAnonymous': False}, {'commentID': 103973840, 'status': 'approved', 'commentSequence': 103973840, 'userID': 5447187, 'userDisplayName': 'Rose', 'userLocation': 'Seattle', 'userTitle': 'NULL', 'userURL': 'NULL', 'picURL': None, 'commentTitle': '<br\\\\//>', 'commentBody': \"@Marta : Too many people in the industrial world is clearly the biggest problem when it comes to CO2 emissions. But it's hard to look at what's happening in India and not think they would be better off with fewer people. Have you seen the NYT article about air quality. New Delhi, for instance, is off the charts. \\n\\nTheir rivers are polluted, there's a shortage of arable land, forests are being razed in a desperate quest to create more farmland to feed more people.\\n\\nWe need to slowly be ramping down population everywhere -- in the industrialized world to tame carbon emissions, elsewhere to ease the suffering on people and the environment where real overpopulation is a problem.\", 'createDate': '1575499372', 'updateDate': '1575538585', 'approveDate': '1575499373', 'recommendations': 3, 'replyCount': 0, 'replies': [], 'editorsSelection': False, 'parentID': 103968399, 'parentUserDisplayName': 'Len Blumin', 'depth': 2, 'commentType': 'userReply', 'trusted': 0, 'recommendedFlag': 0, 'permID': '103973840', 'isAnonymous': False}, {'commentID': 103969284, 'status': 'approved', 'commentSequence': 103969284, 'userID': 66282869, 'userDisplayName': 'OneView', 'userLocation': 'Boston', 'userTitle': 'NULL', 'userURL': 'NULL', 'picURL': None, 'commentTitle': '<br\\\\//>', 'commentBody': '@Len Blumin The planet has no conception of \"fair\".  \\n\\nThat\\'s human attitude you impose on nature.  The planet doesn\\'t \"care\".', 'createDate': '1575487898', 'updateDate': '1575538590', 'approveDate': '1575516537', 'recommendations': 1, 'replyCount': 0, 'replies': [], 'editorsSelection': False, 'parentID': 103967455, 'parentUserDisplayName': 'Len Blumin', 'depth': 2, 'commentType': 'userReply', 'trusted': 0, 'recommendedFlag': 0, 'permID': '103969284', 'isAnonymous': False}]\n",
            "[{'commentID': 103967581, 'status': 'approved', 'commentSequence': 103967581, 'userID': 1445156, 'userDisplayName': 'John', 'userLocation': 'Pennsylvania', 'userTitle': 'NULL', 'userURL': 'NULL', 'picURL': None, 'commentTitle': '<br\\\\//>', 'commentBody': 'Exactly. When the Grim Reaper approaches, “fairness” is irrelevant.  If fairness were at issue, Wall Street bankers and leverage buyout artists would be forced to Supply free solar panels and birth control pills for whomever raises their hand.  But it’s not.  Let’s stop pretending there is or ever could be some perfect algorithm to fairly allocate responsibility which we can quarrel over while Blu Planet dies.', 'createDate': '1575483564', 'updateDate': '1575491119', 'approveDate': '1575483564', 'recommendations': 3, 'replyCount': 0, 'replies': [], 'editorsSelection': False, 'parentID': 103967064, 'parentUserDisplayName': 'Dick Purcell', 'depth': 2, 'commentType': 'userReply', 'trusted': 0, 'recommendedFlag': 0, 'permID': '103967581', 'isAnonymous': False}, {'commentID': 103971117, 'status': 'approved', 'commentSequence': 103971117, 'userID': 20101605, 'userDisplayName': 'Sheri Morita', 'userLocation': 'Vancouver, Canada', 'userTitle': 'NULL', 'userURL': 'NULL', 'picURL': None, 'commentTitle': '<br\\\\//>', 'commentBody': '@John - Blu Planet will not die due to rising temperatures. We will. Sadly, we will also take many other species with us. \\n\\nLife has flourished during much hotter conditions than those we will create. No doubt life will find a way this time too.  (<a href=\"https://www.climate.gov/news-features/climate-qa/whats-hottest-earths-ever-been\" target=\"_blank\">https://www.climate.gov/news-features/climate-qa/whats-hottest-earths-ever-been</a>)', 'createDate': '1575492622', 'updateDate': '1575528992', 'approveDate': '1575516539', 'recommendations': 1, 'replyCount': 0, 'replies': [], 'editorsSelection': False, 'parentID': 103967581, 'parentUserDisplayName': 'Dick Purcell', 'depth': 2, 'commentType': 'userReply', 'trusted': 0, 'recommendedFlag': 0, 'permID': '103971117', 'isAnonymous': False}]\n",
            "[{'commentID': 103967767, 'status': 'approved', 'commentSequence': 103967767, 'userID': 67154721, 'userDisplayName': 'Jim Linnane', 'userLocation': 'Bar Harbor', 'userTitle': 'NULL', 'userURL': 'NULL', 'picURL': None, 'commentTitle': '<br\\\\//>', 'commentBody': '@Rose Not to mention asking how those at the climate conference in Madrid traveled there. Do as I say and do not do as I do is not a fitting way to enlist others in the fight against climate changde.', 'createDate': '1575484030', 'updateDate': '1575518200', 'approveDate': '1575484031', 'recommendations': 4, 'replyCount': 0, 'replies': [], 'editorsSelection': False, 'parentID': 103966915, 'parentUserDisplayName': 'Rose', 'depth': 2, 'commentType': 'userReply', 'trusted': 0, 'recommendedFlag': 0, 'permID': '103967767', 'isAnonymous': False}, {'commentID': 103968347, 'status': 'approved', 'commentSequence': 103968347, 'userID': 66240999, 'userDisplayName': 'Steven Harrell', 'userLocation': 'DC', 'userTitle': 'NULL', 'userURL': 'NULL', 'picURL': None, 'commentTitle': '<br\\\\//>', 'commentBody': \"@Rose Yes and no.  Certainly there are folks in the US who contribute more to carbon outputs than others... but that's true of all countries.  We're getting close to the point where China has more jet setters than we do, as just one of many examples.  \\n\\nIn many ways, our worst are as bad as everyone else's, while our average is worse than everyone else's average.  Even when we remove our worst offenders from the equation, the simple answer is that ordinary, average Americans emit a lot more carbon than our peers.\\n\\nI say this because there's a terrible tendency in the United States to blame a few (truly) bad apples in order to excuse our rotten bunch.  All those Americans sitting behind the wheels of their single occupancy vehicles complaining about traffic ARE the traffic.  Now they complain about climate change... they ARE climate change, too.  We all need to take responsibility for our actions.\", 'createDate': '1575485453', 'updateDate': '1575553939', 'approveDate': '1575487641', 'recommendations': 3, 'replyCount': 0, 'replies': [], 'editorsSelection': False, 'parentID': 103966915, 'parentUserDisplayName': 'Rose', 'depth': 2, 'commentType': 'userReply', 'trusted': 0, 'recommendedFlag': 0, 'permID': '103968347', 'isAnonymous': False}, {'commentID': 103972554, 'status': 'approved', 'commentSequence': 103972554, 'userID': 66128618, 'userDisplayName': 'Deb E', 'userLocation': 'California', 'userTitle': 'NULL', 'userURL': 'NULL', 'picURL': None, 'commentTitle': '<br\\\\//>', 'commentBody': '@Rose  Too many people take international or transcontinental flights every week or two (not every month or two). It has to stop.', 'createDate': '1575496261', 'updateDate': '1575538413', 'approveDate': '1575496262', 'recommendations': 3, 'replyCount': 0, 'replies': [], 'editorsSelection': False, 'parentID': 103966915, 'parentUserDisplayName': 'Rose', 'depth': 2, 'commentType': 'userReply', 'trusted': 0, 'recommendedFlag': 0, 'permID': '103972554', 'isAnonymous': False}]\n",
            "[]\n"
          ]
        }
      ]
    },
    {
      "cell_type": "code",
      "metadata": {
        "colab": {
          "base_uri": "https://localhost:8080/"
        },
        "id": "a3UpOqxV7QzX",
        "outputId": "828b4047-cc76-44ea-8ee0-a0e7b0c4c699"
      },
      "source": [
        "for x in r:\n",
        "  if 'commentID' in x:\n",
        "    print(x)\n",
        "    "
      ],
      "execution_count": null,
      "outputs": [
        {
          "output_type": "stream",
          "name": "stdout",
          "text": [
            "[{'commentID': 103968274, 'status': 'approved', 'commentSequence': 103968274, 'userID': 50097185, 'userDisplayName': 'Marta', 'userLocation': 'NYC', 'userTitle': 'NULL', 'userURL': 'NULL', 'picURL': None, 'commentTitle': '<br\\\\//>', 'commentBody': 'Overemphasis on what individuals do is another reason there is no political will. \\n\\nMegacorps  have successfully directed attention to individual actions - but it’s industry that’s responsible for the vast majority of emissions and environmental degradation.  Not consumers.\\n\\nSure, individuals will need to change behavior- it’s all hands on deck now that we’ve dilly dallied.  Some actions, like reducing meat consumption, really help. \\n\\nBut pressuring politicians/demanding action on policies like carbon taxes, incentives for alternative energy, research into carbon sequestration will have far greater impact. Don’t let them change the conversation.', 'createDate': '1575485257', 'updateDate': '1577805382', 'approveDate': '1575485258', 'recommendations': 16, 'replyCount': 0, 'replies': [], 'editorsSelection': False, 'parentID': 103967576, 'parentUserDisplayName': 'D', 'depth': 2, 'commentType': 'userReply', 'trusted': 0, 'recommendedFlag': 0, 'permID': '103968274', 'isAnonymous': False}, {'commentID': 103968408, 'status': 'approved', 'commentSequence': 103968408, 'userID': 54841678, 'userDisplayName': 'John Patt', 'userLocation': 'Koloa, HI', 'userTitle': 'NULL', 'userURL': 'NULL', 'picURL': None, 'commentTitle': '<br\\\\//>', 'commentBody': \"@D You make valid points, but there is absolutely no reason why we can't install on-demand hot water heaters, or eat our left overs. We don't need to throw a towel or a pair of jeans in the laundry after they've been used just once.\", 'createDate': '1575485582', 'updateDate': '1575534431', 'approveDate': '1575485583', 'recommendations': 6, 'replyCount': 0, 'replies': [], 'editorsSelection': False, 'parentID': 103967576, 'parentUserDisplayName': 'D', 'depth': 2, 'commentType': 'userReply', 'trusted': 0, 'recommendedFlag': 0, 'permID': '103968408', 'isAnonymous': False}, {'commentID': 103969249, 'status': 'approved', 'commentSequence': 103969249, 'userID': 34954663, 'userDisplayName': 'D', 'userLocation': 'WA', 'userTitle': 'NULL', 'userURL': 'NULL', 'picURL': None, 'commentTitle': '<br\\\\//>', 'commentBody': \"@Marta   You're right that policies should regulate corporations rather than individuals, but my point is that will still affect individuals. Industry emits BECAUSE consumers consume. Oil companies are rich because people drive (or have their food driven to them); they are powerful because every single person in America depends on gasoline. Changing that alone would require an unprecedented, nearly unimaginable transformation of agriculture, employment, trade - not to mention the physical infrastructure and housing stock of every single city and town in the country. Those are changes in policy, not individual behavior, but they will dramatically affect individual lives - and individuals, not just corporations, will resist them fiercely.\\n\\nOf course we should have carbon taxes, but they're not just going to hit the CEOs, they're going affect all of us. They will make everything we do more difficult and expensive. That is their entire point, because the things we are doing are not sustainable. Alternative energy will hopefully keep the lights on, but it won't fly us across the country and back for Thanksgiving, mine the lithium that powers our smartphones, or fuel our two-day Amazon deliveries. But you can't win a city council race, let alone the Senate, telling people they have to give those things up. That's really why there's no political will to deal with this.\", 'createDate': '1575487803', 'updateDate': '1575568282', 'approveDate': '1575487804', 'recommendations': 15, 'replyCount': 0, 'replies': [], 'editorsSelection': False, 'parentID': 103968274, 'parentUserDisplayName': 'D', 'depth': 2, 'commentType': 'userReply', 'trusted': 0, 'recommendedFlag': 0, 'permID': '103969249', 'isAnonymous': False}]\n",
            "[{'commentID': 103978871, 'status': 'approved', 'commentSequence': 103978871, 'userID': 55864681, 'userDisplayName': 'otto', 'userLocation': 'rust belt', 'userTitle': 'NULL', 'userURL': 'NULL', 'picURL': None, 'commentTitle': '<br\\\\//>', 'commentBody': \"@Fair And Not Square \\n\\nSo just because I'm wealthy and can afford it, I should be able to pollute more?  It's like the new rage to build special pay lanes on our highways- If you are rich, you can get to work fast.  If you aren't you have to go bumper to bumper.  Whatever happened to equality?\", 'createDate': '1575514625', 'updateDate': '1575531364', 'approveDate': '1575514626', 'recommendations': 2, 'replyCount': 0, 'replies': [], 'editorsSelection': False, 'parentID': 103978405, 'parentUserDisplayName': 'Fair And Not Square', 'depth': 2, 'commentType': 'userReply', 'trusted': 0, 'recommendedFlag': 0, 'permID': '103978871', 'isAnonymous': False}, {'commentID': 103978886, 'status': 'approved', 'commentSequence': 103978886, 'userID': 75215278, 'userDisplayName': 'Alan', 'userLocation': 'Columbus OH', 'userTitle': 'NULL', 'userURL': 'NULL', 'picURL': None, 'commentTitle': '<br\\\\//>', 'commentBody': '@Fair And Not Square \\n\\nIf I handed you a million dollars and then flooded your entire country wiping out half the population, would you feel fairly compensated?\\n\\nLife and death, moral and some other irreversible decisions are not easy to monetize. A carbon tax is meant to be an negative incentive to encourage change, not an equitable trade off.', 'createDate': '1575514705', 'updateDate': '1575531381', 'approveDate': '1575514705', 'recommendations': 2, 'replyCount': 0, 'replies': [], 'editorsSelection': False, 'parentID': 103978405, 'parentUserDisplayName': 'Fair And Not Square', 'depth': 2, 'commentType': 'userReply', 'trusted': 0, 'recommendedFlag': 0, 'permID': '103978886', 'isAnonymous': False}, {'commentID': 103982335, 'status': 'approved', 'commentSequence': 103982335, 'userID': 34228478, 'userDisplayName': 'J c', 'userLocation': 'Ma', 'userTitle': 'NULL', 'userURL': 'NULL', 'picURL': None, 'commentTitle': '<br\\\\//>', 'commentBody': '@Alan \\n\\nThe idea is that putting a price on carbon would prevent most situations that you descibe compared to not putting a price on carbon. \\n\\nAnd for the flooding/displacement that does occur, a zero-net tax==where the money collected is refunded to each person equally==would mean that poor people would have essentially a UBI to make it through tough times. \\n\\nDon’t let the perfect be the enemy pf the good. A carbon tax would work. What’s you plan?', 'createDate': '1575541010', 'updateDate': '1575558323', 'approveDate': '1575541011', 'recommendations': 1, 'replyCount': 0, 'replies': [], 'editorsSelection': False, 'parentID': 103978886, 'parentUserDisplayName': 'Fair And Not Square', 'depth': 2, 'commentType': 'userReply', 'trusted': 0, 'recommendedFlag': 0, 'permID': '103982335', 'isAnonymous': False}]\n",
            "[{'commentID': 103978193, 'status': 'approved', 'commentSequence': 103978193, 'userID': 79234452, 'userDisplayName': 'Don', 'userLocation': 'Parent', 'userTitle': 'NULL', 'userURL': 'NULL', 'picURL': None, 'commentTitle': '<br\\\\//>', 'commentBody': 'It’s more than “damages” right? It’s damage to ecosystems, substantial and unpredictable chances to weather, increased disease, agricultural shifts, and more. Obviously Mother Nature doesn’t care one whit about our society, capitalism, or the way things are. She will do what she will do. And the projected outcomes from those for whom climate studies is more than just a hobby are pretty bad. We can continue to take the advice of those who like the status quo, but have no basis for their opinions, or we can act upon available information and make the needed changes to our way of life to create a suitable world for our kids. I pick the latter.', 'createDate': '1575512000', 'updateDate': '1575568347', 'approveDate': '1575512001', 'recommendations': 7, 'replyCount': 0, 'replies': [], 'editorsSelection': False, 'parentID': 103976626, 'parentUserDisplayName': 'laurence', 'depth': 2, 'commentType': 'userReply', 'trusted': 0, 'recommendedFlag': 0, 'permID': '103978193', 'isAnonymous': False}, {'commentID': 103981464, 'status': 'approved', 'commentSequence': 103981464, 'userID': 64591704, 'userDisplayName': 'Doug K', 'userLocation': 'San Francisco', 'userTitle': 'NULL', 'userURL': 'NULL', 'picURL': None, 'commentTitle': '<br\\\\//>', 'commentBody': '@laurence Given that the \"damage\" that experts are predicting is probably human extinction, I\\'m not sure how one mitigates that.\\n\\nOh, but too bad it would be too inconvenient to change.  There are zero technical barriers to changing. Only political ones.  You could electrify everything and use renewables to power it.  That\\'s not in dispute.  Funny, how we could devote 40% of GDP to defeating the Nazis, but can\\'t be bothered to devote much less than that to face a fare more implacable and dangerous enemy.', 'createDate': '1575529414', 'updateDate': '1575577511', 'approveDate': '1575577511', 'recommendations': 0, 'replyCount': 0, 'replies': [], 'editorsSelection': False, 'parentID': 103976626, 'parentUserDisplayName': 'laurence', 'depth': 2, 'commentType': 'userReply', 'trusted': 0, 'recommendedFlag': 0, 'permID': '103981464', 'isAnonymous': False}]\n",
            "[{'commentID': 103982575, 'status': 'approved', 'commentSequence': 103982575, 'userID': 71598178, 'userDisplayName': 'Scientist', 'userLocation': 'CA', 'userTitle': 'NULL', 'userURL': 'NULL', 'picURL': None, 'commentTitle': '<br\\\\//>', 'commentBody': '@John \\nWell, new technologies have been developed - solar, electric cars, bamboo toothbrushes. \\n\\nBut SUVs are INCREASING their proportion of vehicle sales. Odd, no?', 'createDate': '1575543147', 'updateDate': '1575543148', 'approveDate': '1575543148', 'recommendations': 0, 'replyCount': 0, 'replies': [], 'editorsSelection': False, 'parentID': 103969918, 'parentUserDisplayName': 'John', 'depth': 2, 'commentType': 'userReply', 'trusted': 0, 'recommendedFlag': 0, 'permID': '103982575', 'isAnonymous': False}]\n",
            "[{'commentID': 103970932, 'status': 'approved', 'commentSequence': 103970932, 'userID': 77926510, 'userDisplayName': 'Alan', 'userLocation': 'Toronto', 'userTitle': 'NULL', 'userURL': 'NULL', 'picURL': None, 'commentTitle': '<br\\\\//>', 'commentBody': '@OneView The scientists are well aware of the economic drivers, and they and the economists will both tell you the same thing: the best way to incentivise de-carbonisation is to build in the economic costs that climate change brings - i.e. a carbon tax.  If you had to pay much more for gasoline you would drive less, or switch to an electric car.', 'createDate': '1575492135', 'updateDate': '1575601282', 'approveDate': '1575492135', 'recommendations': 11, 'replyCount': 0, 'replies': [], 'editorsSelection': False, 'parentID': 103969188, 'parentUserDisplayName': 'OneView', 'depth': 2, 'commentType': 'userReply', 'trusted': 0, 'recommendedFlag': 0, 'permID': '103970932', 'isAnonymous': False}, {'commentID': 103972526, 'status': 'approved', 'commentSequence': 103972526, 'userID': 58758069, 'userDisplayName': 'Chris Winter', 'userLocation': 'San Jose, CA', 'userTitle': 'NULL', 'userURL': 'NULL', 'picURL': None, 'commentTitle': '<br\\\\//>', 'commentBody': '@OneView \\n\\n\"Eliminating cars and planes would certainly help, but is that realistic?\"\\n\\nNo, it certainly isn\\'t realistic. That\\'s why people are working on electric cars, electric boats, even electric airplanes. It\\'s why biofuels are being developed to replace petroleum-derived diesel fuel.\\n\\nHowever, the prospect of having to give up cars, air travel, and meat does make a handy club with which to beat those who advocate feasible ways of reducing CO2 emissions.', 'createDate': '1575496192', 'updateDate': '1575560155', 'approveDate': '1575496193', 'recommendations': 6, 'replyCount': 0, 'replies': [], 'editorsSelection': False, 'parentID': 103969188, 'parentUserDisplayName': 'OneView', 'depth': 2, 'commentType': 'userReply', 'trusted': 0, 'recommendedFlag': 0, 'permID': '103972526', 'isAnonymous': False}, {'commentID': 103981478, 'status': 'approved', 'commentSequence': 103981478, 'userID': 64591704, 'userDisplayName': 'Doug K', 'userLocation': 'San Francisco', 'userTitle': 'NULL', 'userURL': 'NULL', 'picURL': None, 'commentTitle': '<br\\\\//>', 'commentBody': \"@OneView We are eliminating gas cars one way or the other.  We can eliminate them by switching to EVs or we can elimintate them by eliminating the humans that drive them.  If we don't do the former, we are choosing the latter.\\n\\nI'd say that's pretty much an ethical issue.\", 'createDate': '1575529557', 'updateDate': '1575576379', 'approveDate': '1575576379', 'recommendations': 0, 'replyCount': 0, 'replies': [], 'editorsSelection': False, 'parentID': 103969188, 'parentUserDisplayName': 'OneView', 'depth': 2, 'commentType': 'userReply', 'trusted': 0, 'recommendedFlag': 0, 'permID': '103981478', 'isAnonymous': False}]\n",
            "[{'commentID': 103979083, 'status': 'approved', 'commentSequence': 103979083, 'userID': 38380250, 'userDisplayName': 'John Goudge', 'userLocation': 'Peotone, Il', 'userTitle': 'NULL', 'userURL': 'NULL', 'picURL': None, 'commentTitle': '<br\\\\//>', 'commentBody': '@hrichards Excellent, But there should be payments for those that capture and sequester carbon, and not geologically\\nRather than seeking fancy new technology, we have Nature in the form of photosynthesis  Properly managed farming and ranching can sequester several tons of CO2 per acre.  With over 900 million acres, that is a lot of CO2.  Given the low profit margins on conventional farming, farmers might find farming and ranching carbon more profitable.', 'createDate': '1575515480', 'updateDate': '1575598868', 'approveDate': '1575515481', 'recommendations': 1, 'replyCount': 0, 'replies': [], 'editorsSelection': False, 'parentID': 103973922, 'parentUserDisplayName': 'hrichards', 'depth': 2, 'commentType': 'userReply', 'trusted': 0, 'recommendedFlag': 0, 'permID': '103979083', 'isAnonymous': False}, {'commentID': 103979608, 'status': 'approved', 'commentSequence': 103979608, 'userID': 75215278, 'userDisplayName': 'Alan', 'userLocation': 'Columbus OH', 'userTitle': 'NULL', 'userURL': 'NULL', 'picURL': None, 'commentTitle': '<br\\\\//>', 'commentBody': '@hrichards \\n\\n\\nDoes the modeling reflect that such a policy will never last more than two election cycles and while it is in effect will positively crush people who live in small towns and rural areas whether they are poor or not?', 'createDate': '1575517285', 'updateDate': '1575517285', 'approveDate': '1575517285', 'recommendations': 0, 'replyCount': 0, 'replies': [], 'editorsSelection': False, 'parentID': 103973922, 'parentUserDisplayName': 'hrichards', 'depth': 2, 'commentType': 'userReply', 'trusted': 0, 'recommendedFlag': 0, 'permID': '103979608', 'isAnonymous': False}]\n",
            "[{'commentID': 103978148, 'status': 'approved', 'commentSequence': 103978148, 'userID': 76635407, 'userDisplayName': 'Joel', 'userLocation': 'California', 'userTitle': 'NULL', 'userURL': 'NULL', 'picURL': None, 'commentTitle': '<br\\\\//>', 'commentBody': '@John Patt \\n\\nThat would be nice but green electricity is not that plentiful yet except in few places. In those places with \"sequestered green electricity\" that would make sense. \\nAnywhere else you would be better shutting of polluting power plants, specially coal power plants and keeping the green electricity for residential service.\\n \\nCO2 capture requires significant energy and up conversion back to fuel is not that efficient using conventional green hydrogen sources. CO2 + NG (fossil fuel or bio-methane) would be a better bet in my mind for upgrading efficiently, still the energy cost of CO2 capture needs to be factored in this kind of analysis. Making jet fuel from CO2 would be nice since the  electric plane isn\\'t going to be a viable thing for a long time.', 'createDate': '1575511847', 'updateDate': '1575511848', 'approveDate': '1575511848', 'recommendations': 0, 'replyCount': 0, 'replies': [], 'editorsSelection': False, 'parentID': 103973225, 'parentUserDisplayName': 'John Patt', 'depth': 2, 'commentType': 'userReply', 'trusted': 0, 'recommendedFlag': 0, 'permID': '103978148', 'isAnonymous': False}, {'commentID': 103979138, 'status': 'approved', 'commentSequence': 103979138, 'userID': 38380250, 'userDisplayName': 'John Goudge', 'userLocation': 'Peotone, Il', 'userTitle': 'NULL', 'userURL': 'NULL', 'picURL': None, 'commentTitle': '<br\\\\//>', 'commentBody': \"@John Patt Yep.  Remember that Mother nature has figured out carbon capture using photosynthesis a few hundred million years ago.\\nProperly, managed Farming and Grazing can store over a Billion tons of CO2 a year in the US alone.  Forests ain't bad either.\", 'createDate': '1575515654', 'updateDate': '1575515654', 'approveDate': '1575515654', 'recommendations': 0, 'replyCount': 0, 'replies': [], 'editorsSelection': False, 'parentID': 103973225, 'parentUserDisplayName': 'John Patt', 'depth': 2, 'commentType': 'userReply', 'trusted': 0, 'recommendedFlag': 0, 'permID': '103979138', 'isAnonymous': False}]\n",
            "[{'commentID': 103972060, 'status': 'approved', 'commentSequence': 103972060, 'userID': 5447187, 'userDisplayName': 'Rose', 'userLocation': 'Seattle', 'userTitle': 'NULL', 'userURL': 'NULL', 'picURL': None, 'commentTitle': '<br\\\\//>', 'commentBody': '@Djt : What do you mean by structural base-line?', 'createDate': '1575495130', 'updateDate': '1575516538', 'approveDate': '1575516538', 'recommendations': 0, 'replyCount': 0, 'replies': [], 'editorsSelection': False, 'parentID': 103970694, 'parentUserDisplayName': 'Djt', 'depth': 2, 'commentType': 'userReply', 'trusted': 0, 'recommendedFlag': 0, 'permID': '103972060', 'isAnonymous': False}]\n",
            "[{'commentID': 103972294, 'status': 'approved', 'commentSequence': 103972294, 'userID': 58758069, 'userDisplayName': 'Chris Winter', 'userLocation': 'San Jose, CA', 'userTitle': 'NULL', 'userURL': 'NULL', 'picURL': None, 'commentTitle': '<br\\\\//>', 'commentBody': '@Jonathan Katz \\n\\n\"Deaths from pollution don\\'t come from carbon dioxide, which is harmless.\"\\n\\nThe folks living around Cameroon\\'s Lake Nyos in 1986 would disagree with you. Some 1,700 of them cannot disagree, because they were suffocated by a natural outburst of CO2.\\n\\nThe Apollo 13 astronauts would also disagree, but they managed to devise a way to scrub the CO2 that threatened them from the air in the spacecraft.\\n\\nIt is common to find indoor CO2 levels that cause drowsiness and complaint. That starts at the 1,000 ppm level. The legal limit for an 8-hour period is 5,000 ppm in many jurisdictions.\\n\\nCarbon dioxide is not harmless.\\n\\n<a href=\"https://www.kane.co.uk/knowledge-centre/what-are-safe-levels-of-co-and-co2-in-rooms\" target=\"_blank\">https://www.kane.co.uk/knowledge-centre/what-are-safe-levels-of-co-and-co2-in-rooms</a>\\n\\nIf we are to make progress against the harm global warming can bring, we must start by accepting facts.', 'createDate': '1575495637', 'updateDate': '1575495639', 'approveDate': '1575495639', 'recommendations': 0, 'replyCount': 0, 'replies': [], 'editorsSelection': False, 'parentID': 103970181, 'parentUserDisplayName': 'Jonathan Katz', 'depth': 2, 'commentType': 'userReply', 'trusted': 0, 'recommendedFlag': 0, 'permID': '103972294', 'isAnonymous': False}]\n",
            "[{'commentID': 103969633, 'status': 'approved', 'commentSequence': 103969633, 'userID': 58387191, 'userDisplayName': 'Phil Bacon', 'userLocation': 'Guilford CT', 'userTitle': 'NULL', 'userURL': 'NULL', 'picURL': None, 'commentTitle': '<br\\\\//>', 'commentBody': '@Justin,\\nYou are so  right! There is no solution! \\nAnd there never will be if you insist on continuing to drive your gas car to work, take plane trips and road trips to see friends, and continue carnivorous eating habits.\\n\\nHuge lifestyle changes will become necessary. “We’ve always done it this way” is no longer an excuse.', 'createDate': '1575488952', 'updateDate': '1575505680', 'approveDate': '1575488953', 'recommendations': 6, 'replyCount': 0, 'replies': [], 'editorsSelection': False, 'parentID': 103968926, 'parentUserDisplayName': 'Justin', 'depth': 2, 'commentType': 'userReply', 'trusted': 0, 'recommendedFlag': 0, 'permID': '103969633', 'isAnonymous': False}, {'commentID': 103970232, 'status': 'approved', 'commentSequence': 103970232, 'userID': 77989539, 'userDisplayName': 'Jonathan Katz', 'userLocation': 'St. Louis', 'userTitle': 'NULL', 'userURL': 'NULL', 'picURL': None, 'commentTitle': '<br\\\\//>', 'commentBody': '@Justin To change behavior requires incentives and penalties (taxes).', 'createDate': '1575490400', 'updateDate': '1575490400', 'approveDate': '1575490400', 'recommendations': 0, 'replyCount': 0, 'replies': [], 'editorsSelection': False, 'parentID': 103968926, 'parentUserDisplayName': 'Justin', 'depth': 2, 'commentType': 'userReply', 'trusted': 0, 'recommendedFlag': 0, 'permID': '103970232', 'isAnonymous': False}, {'commentID': 103970760, 'status': 'approved', 'commentSequence': 103970760, 'userID': 60741395, 'userDisplayName': 'Djt', 'userLocation': 'Norcal', 'userTitle': 'NULL', 'userURL': 'NULL', 'picURL': None, 'commentTitle': '<br\\\\//>', 'commentBody': \"@Justin Was this satire? You won't curtail your travel to save the environment?  \\n\\nWhat is each person on earth received a ration of 1 ton of emissions per year, and you had to buy emissions from others for your road trips.  Would that be OK?\", 'createDate': '1575491682', 'updateDate': '1575495043', 'approveDate': '1575493727', 'recommendations': 1, 'replyCount': 0, 'replies': [], 'editorsSelection': False, 'parentID': 103968926, 'parentUserDisplayName': 'Justin', 'depth': 2, 'commentType': 'userReply', 'trusted': 0, 'recommendedFlag': 0, 'permID': '103970760', 'isAnonymous': False}]\n",
            "[{'commentID': 103969298, 'status': 'approved', 'commentSequence': 103969298, 'userID': 57854600, 'userDisplayName': 'Steve of Brooklyn', 'userLocation': 'Brooklyn, NY', 'userTitle': 'NULL', 'userURL': 'NULL', 'picURL': None, 'commentTitle': '<br\\\\//>', 'commentBody': '@Mich \\n\\nIn preindustrial days there were about 1 billion people, not the 7 billion now or the 11 billion by century end.', 'createDate': '1575487946', 'updateDate': '1575487947', 'approveDate': '1575487947', 'recommendations': 0, 'replyCount': 0, 'replies': [], 'editorsSelection': False, 'parentID': 103968690, 'parentUserDisplayName': 'Mich', 'depth': 2, 'commentType': 'userReply', 'trusted': 0, 'recommendedFlag': 0, 'permID': '103969298', 'isAnonymous': False}, {'commentID': 103969771, 'status': 'approved', 'commentSequence': 103969771, 'userID': 65448010, 'userDisplayName': 'Marc McDermott', 'userLocation': 'Williamstown Ma', 'userTitle': 'NULL', 'userURL': 'NULL', 'picURL': None, 'commentTitle': '<br\\\\//>', 'commentBody': '@Mich \\nHow about the comfort of your children?', 'createDate': '1575489318', 'updateDate': '1575516537', 'approveDate': '1575516537', 'recommendations': 0, 'replyCount': 0, 'replies': [], 'editorsSelection': False, 'parentID': 103968690, 'parentUserDisplayName': 'Mich', 'depth': 2, 'commentType': 'userReply', 'trusted': 0, 'recommendedFlag': 0, 'permID': '103969771', 'isAnonymous': False}]\n",
            "[{'commentID': 103969098, 'status': 'approved', 'commentSequence': 103969098, 'userID': 66282869, 'userDisplayName': 'OneView', 'userLocation': 'Boston', 'userTitle': 'NULL', 'userURL': 'NULL', 'picURL': None, 'commentTitle': '<br\\\\//>', 'commentBody': '@Rich  But is the issue of carbon emissions the clean up or the growth?  If there was no growth starting today, the issue would go away, so the issue is with the current polluters, right?\\n\\nThe real question is the \"new factory\" wants to keep pollution, but wants the \"old factory\" to pay for the clean up to keep things in balance.', 'createDate': '1575487446', 'updateDate': '1575498514', 'approveDate': '1575487447', 'recommendations': 1, 'replyCount': 0, 'replies': [], 'editorsSelection': False, 'parentID': 103968405, 'parentUserDisplayName': 'Rich', 'depth': 2, 'commentType': 'userReply', 'trusted': 0, 'recommendedFlag': 0, 'permID': '103969098', 'isAnonymous': False}, {'commentID': 103978355, 'status': 'approved', 'commentSequence': 103978355, 'userID': 65975063, 'userDisplayName': 'Rich', 'userLocation': 'Berkeley CA', 'userTitle': 'NULL', 'userURL': 'NULL', 'picURL': 'https://s3.amazonaws.com/pimage.timespeople.nytimes.com/avatars/cropped-210a69af5db0d62237ee89f43279072aab871f43f75300b1c5f551f48d4a3934.jpg', 'commentTitle': '<br\\\\//>', 'commentBody': \"@OneView , Not exactly. Because of the long residence time of CO2 (>100 yrs) in the atmosphere, even if we stopped all emissions yesterday, the earth would continue warming for decades while the excess CO2 already emitted was slowly absorbed. Of course, this absorption would further acidify the ocean, with its own set of problems.\\n\\nContinuing to emit fossil CO2 adds to the atmospheric stock, so even greatly reducing emissions continues to make the problem worse, while holding emissions at their present level (e.g., no growth) guarantees catastrophe.\\n\\nMassive planting of forests could draw down carbon, assuming this outpaces deforestation and destruction by wildfires.\\n\\nBut given current emission rates and the lack of political will to treat this as a dire emergency, it's virtually guaranteed that the planet will soon be far less hospitable, whether it takes a decade or several.\", 'createDate': '1575512639', 'updateDate': '1575512640', 'approveDate': '1575512640', 'recommendations': 0, 'replyCount': 0, 'replies': [], 'editorsSelection': False, 'parentID': 103969098, 'parentUserDisplayName': 'Rich', 'depth': 2, 'commentType': 'userReply', 'trusted': 0, 'recommendedFlag': 0, 'permID': '103978355', 'isAnonymous': False}]\n",
            "[{'commentID': 103970856, 'status': 'approved', 'commentSequence': 103970856, 'userID': 60741395, 'userDisplayName': 'Djt', 'userLocation': 'Norcal', 'userTitle': 'NULL', 'userURL': 'NULL', 'picURL': None, 'commentTitle': '<br\\\\//>', 'commentBody': '@HO This is the only answer.  In a few decades, we will look back and realize that we should have done this.', 'createDate': '1575491915', 'updateDate': '1575493123', 'approveDate': '1575493123', 'recommendations': 0, 'replyCount': 0, 'replies': [], 'editorsSelection': False, 'parentID': 103967485, 'parentUserDisplayName': 'HO', 'depth': 2, 'commentType': 'userReply', 'trusted': 0, 'recommendedFlag': 0, 'permID': '103970856', 'isAnonymous': False}, {'commentID': 103968698, 'status': 'approved', 'commentSequence': 103968698, 'userID': 89661122, 'userDisplayName': 'Justin', 'userLocation': 'Florida', 'userTitle': 'NULL', 'userURL': 'NULL', 'picURL': None, 'commentTitle': '<br\\\\//>', 'commentBody': '@HO So you propose adding a new tax to individuals? Good luck with that. (Not gonna happen)', 'createDate': '1575486387', 'updateDate': '1575516538', 'approveDate': '1575516538', 'recommendations': 0, 'replyCount': 0, 'replies': [], 'editorsSelection': False, 'parentID': 103967485, 'parentUserDisplayName': 'HO', 'depth': 2, 'commentType': 'userReply', 'trusted': 0, 'recommendedFlag': 0, 'permID': '103968698', 'isAnonymous': False}]\n",
            "[{'commentID': 103968399, 'status': 'approved', 'commentSequence': 103968399, 'userID': 50097185, 'userDisplayName': 'Marta', 'userLocation': 'NYC', 'userTitle': 'NULL', 'userURL': 'NULL', 'picURL': None, 'commentTitle': '<br\\\\//>', 'commentBody': 'Nope. Overconsumption in the first world is really the issue. Reducing population in say, India, would have little impact. Because they aren’t generating that much carbon to begin with. Yet the overpopulation talking point is very popular among Americans using all the resources. It’s misdirection.', 'createDate': '1575485572', 'updateDate': '1575560107', 'approveDate': '1575485573', 'recommendations': 4, 'replyCount': 0, 'replies': [], 'editorsSelection': False, 'parentID': 103967455, 'parentUserDisplayName': 'Len Blumin', 'depth': 2, 'commentType': 'userReply', 'trusted': 0, 'recommendedFlag': 0, 'permID': '103968399', 'isAnonymous': False}, {'commentID': 103973840, 'status': 'approved', 'commentSequence': 103973840, 'userID': 5447187, 'userDisplayName': 'Rose', 'userLocation': 'Seattle', 'userTitle': 'NULL', 'userURL': 'NULL', 'picURL': None, 'commentTitle': '<br\\\\//>', 'commentBody': \"@Marta : Too many people in the industrial world is clearly the biggest problem when it comes to CO2 emissions. But it's hard to look at what's happening in India and not think they would be better off with fewer people. Have you seen the NYT article about air quality. New Delhi, for instance, is off the charts. \\n\\nTheir rivers are polluted, there's a shortage of arable land, forests are being razed in a desperate quest to create more farmland to feed more people.\\n\\nWe need to slowly be ramping down population everywhere -- in the industrialized world to tame carbon emissions, elsewhere to ease the suffering on people and the environment where real overpopulation is a problem.\", 'createDate': '1575499372', 'updateDate': '1575538585', 'approveDate': '1575499373', 'recommendations': 3, 'replyCount': 0, 'replies': [], 'editorsSelection': False, 'parentID': 103968399, 'parentUserDisplayName': 'Len Blumin', 'depth': 2, 'commentType': 'userReply', 'trusted': 0, 'recommendedFlag': 0, 'permID': '103973840', 'isAnonymous': False}, {'commentID': 103969284, 'status': 'approved', 'commentSequence': 103969284, 'userID': 66282869, 'userDisplayName': 'OneView', 'userLocation': 'Boston', 'userTitle': 'NULL', 'userURL': 'NULL', 'picURL': None, 'commentTitle': '<br\\\\//>', 'commentBody': '@Len Blumin The planet has no conception of \"fair\".  \\n\\nThat\\'s human attitude you impose on nature.  The planet doesn\\'t \"care\".', 'createDate': '1575487898', 'updateDate': '1575538590', 'approveDate': '1575516537', 'recommendations': 1, 'replyCount': 0, 'replies': [], 'editorsSelection': False, 'parentID': 103967455, 'parentUserDisplayName': 'Len Blumin', 'depth': 2, 'commentType': 'userReply', 'trusted': 0, 'recommendedFlag': 0, 'permID': '103969284', 'isAnonymous': False}]\n",
            "[{'commentID': 103967581, 'status': 'approved', 'commentSequence': 103967581, 'userID': 1445156, 'userDisplayName': 'John', 'userLocation': 'Pennsylvania', 'userTitle': 'NULL', 'userURL': 'NULL', 'picURL': None, 'commentTitle': '<br\\\\//>', 'commentBody': 'Exactly. When the Grim Reaper approaches, “fairness” is irrelevant.  If fairness were at issue, Wall Street bankers and leverage buyout artists would be forced to Supply free solar panels and birth control pills for whomever raises their hand.  But it’s not.  Let’s stop pretending there is or ever could be some perfect algorithm to fairly allocate responsibility which we can quarrel over while Blu Planet dies.', 'createDate': '1575483564', 'updateDate': '1575491119', 'approveDate': '1575483564', 'recommendations': 3, 'replyCount': 0, 'replies': [], 'editorsSelection': False, 'parentID': 103967064, 'parentUserDisplayName': 'Dick Purcell', 'depth': 2, 'commentType': 'userReply', 'trusted': 0, 'recommendedFlag': 0, 'permID': '103967581', 'isAnonymous': False}, {'commentID': 103971117, 'status': 'approved', 'commentSequence': 103971117, 'userID': 20101605, 'userDisplayName': 'Sheri Morita', 'userLocation': 'Vancouver, Canada', 'userTitle': 'NULL', 'userURL': 'NULL', 'picURL': None, 'commentTitle': '<br\\\\//>', 'commentBody': '@John - Blu Planet will not die due to rising temperatures. We will. Sadly, we will also take many other species with us. \\n\\nLife has flourished during much hotter conditions than those we will create. No doubt life will find a way this time too.  (<a href=\"https://www.climate.gov/news-features/climate-qa/whats-hottest-earths-ever-been\" target=\"_blank\">https://www.climate.gov/news-features/climate-qa/whats-hottest-earths-ever-been</a>)', 'createDate': '1575492622', 'updateDate': '1575528992', 'approveDate': '1575516539', 'recommendations': 1, 'replyCount': 0, 'replies': [], 'editorsSelection': False, 'parentID': 103967581, 'parentUserDisplayName': 'Dick Purcell', 'depth': 2, 'commentType': 'userReply', 'trusted': 0, 'recommendedFlag': 0, 'permID': '103971117', 'isAnonymous': False}]\n",
            "[{'commentID': 103967767, 'status': 'approved', 'commentSequence': 103967767, 'userID': 67154721, 'userDisplayName': 'Jim Linnane', 'userLocation': 'Bar Harbor', 'userTitle': 'NULL', 'userURL': 'NULL', 'picURL': None, 'commentTitle': '<br\\\\//>', 'commentBody': '@Rose Not to mention asking how those at the climate conference in Madrid traveled there. Do as I say and do not do as I do is not a fitting way to enlist others in the fight against climate changde.', 'createDate': '1575484030', 'updateDate': '1575518200', 'approveDate': '1575484031', 'recommendations': 4, 'replyCount': 0, 'replies': [], 'editorsSelection': False, 'parentID': 103966915, 'parentUserDisplayName': 'Rose', 'depth': 2, 'commentType': 'userReply', 'trusted': 0, 'recommendedFlag': 0, 'permID': '103967767', 'isAnonymous': False}, {'commentID': 103968347, 'status': 'approved', 'commentSequence': 103968347, 'userID': 66240999, 'userDisplayName': 'Steven Harrell', 'userLocation': 'DC', 'userTitle': 'NULL', 'userURL': 'NULL', 'picURL': None, 'commentTitle': '<br\\\\//>', 'commentBody': \"@Rose Yes and no.  Certainly there are folks in the US who contribute more to carbon outputs than others... but that's true of all countries.  We're getting close to the point where China has more jet setters than we do, as just one of many examples.  \\n\\nIn many ways, our worst are as bad as everyone else's, while our average is worse than everyone else's average.  Even when we remove our worst offenders from the equation, the simple answer is that ordinary, average Americans emit a lot more carbon than our peers.\\n\\nI say this because there's a terrible tendency in the United States to blame a few (truly) bad apples in order to excuse our rotten bunch.  All those Americans sitting behind the wheels of their single occupancy vehicles complaining about traffic ARE the traffic.  Now they complain about climate change... they ARE climate change, too.  We all need to take responsibility for our actions.\", 'createDate': '1575485453', 'updateDate': '1575553939', 'approveDate': '1575487641', 'recommendations': 3, 'replyCount': 0, 'replies': [], 'editorsSelection': False, 'parentID': 103966915, 'parentUserDisplayName': 'Rose', 'depth': 2, 'commentType': 'userReply', 'trusted': 0, 'recommendedFlag': 0, 'permID': '103968347', 'isAnonymous': False}, {'commentID': 103972554, 'status': 'approved', 'commentSequence': 103972554, 'userID': 66128618, 'userDisplayName': 'Deb E', 'userLocation': 'California', 'userTitle': 'NULL', 'userURL': 'NULL', 'picURL': None, 'commentTitle': '<br\\\\//>', 'commentBody': '@Rose  Too many people take international or transcontinental flights every week or two (not every month or two). It has to stop.', 'createDate': '1575496261', 'updateDate': '1575538413', 'approveDate': '1575496262', 'recommendations': 3, 'replyCount': 0, 'replies': [], 'editorsSelection': False, 'parentID': 103966915, 'parentUserDisplayName': 'Rose', 'depth': 2, 'commentType': 'userReply', 'trusted': 0, 'recommendedFlag': 0, 'permID': '103972554', 'isAnonymous': False}]\n"
          ]
        }
      ]
    },
    {
      "cell_type": "code",
      "metadata": {
        "colab": {
          "base_uri": "https://localhost:8080/",
          "height": 545
        },
        "id": "ZhXNT3WqyzJz",
        "outputId": "91988ac3-55ac-4e5d-8832-0271f76b0a2f"
      },
      "source": [
        "# dataframe of all the replies\n",
        "\n",
        "rep_df = pd.DataFrame(df.loc[df['replies'].str.contains('status')]['replies'])\n",
        "rep_df                     "
      ],
      "execution_count": 8,
      "outputs": [
        {
          "output_type": "execute_result",
          "data": {
            "text/html": [
              "<div>\n",
              "<style scoped>\n",
              "    .dataframe tbody tr th:only-of-type {\n",
              "        vertical-align: middle;\n",
              "    }\n",
              "\n",
              "    .dataframe tbody tr th {\n",
              "        vertical-align: top;\n",
              "    }\n",
              "\n",
              "    .dataframe thead th {\n",
              "        text-align: right;\n",
              "    }\n",
              "</style>\n",
              "<table border=\"1\" class=\"dataframe\">\n",
              "  <thead>\n",
              "    <tr style=\"text-align: right;\">\n",
              "      <th></th>\n",
              "      <th>replies</th>\n",
              "    </tr>\n",
              "  </thead>\n",
              "  <tbody>\n",
              "    <tr>\n",
              "      <th>15</th>\n",
              "      <td>[{'commentID': 103968274, 'status': 'approved'...</td>\n",
              "    </tr>\n",
              "    <tr>\n",
              "      <th>16</th>\n",
              "      <td>[{'commentID': 103978871, 'status': 'approved'...</td>\n",
              "    </tr>\n",
              "    <tr>\n",
              "      <th>17</th>\n",
              "      <td>[{'commentID': 103978193, 'status': 'approved'...</td>\n",
              "    </tr>\n",
              "    <tr>\n",
              "      <th>18</th>\n",
              "      <td>[{'commentID': 103982575, 'status': 'approved'...</td>\n",
              "    </tr>\n",
              "    <tr>\n",
              "      <th>19</th>\n",
              "      <td>[{'commentID': 103970932, 'status': 'approved'...</td>\n",
              "    </tr>\n",
              "    <tr>\n",
              "      <th>27</th>\n",
              "      <td>[{'commentID': 103979083, 'status': 'approved'...</td>\n",
              "    </tr>\n",
              "    <tr>\n",
              "      <th>28</th>\n",
              "      <td>[{'commentID': 103978148, 'status': 'approved'...</td>\n",
              "    </tr>\n",
              "    <tr>\n",
              "      <th>35</th>\n",
              "      <td>[{'commentID': 103972060, 'status': 'approved'...</td>\n",
              "    </tr>\n",
              "    <tr>\n",
              "      <th>36</th>\n",
              "      <td>[{'commentID': 103972294, 'status': 'approved'...</td>\n",
              "    </tr>\n",
              "    <tr>\n",
              "      <th>38</th>\n",
              "      <td>[{'commentID': 103969633, 'status': 'approved'...</td>\n",
              "    </tr>\n",
              "    <tr>\n",
              "      <th>40</th>\n",
              "      <td>[{'commentID': 103969298, 'status': 'approved'...</td>\n",
              "    </tr>\n",
              "    <tr>\n",
              "      <th>41</th>\n",
              "      <td>[{'commentID': 103969098, 'status': 'approved'...</td>\n",
              "    </tr>\n",
              "    <tr>\n",
              "      <th>45</th>\n",
              "      <td>[{'commentID': 103970856, 'status': 'approved'...</td>\n",
              "    </tr>\n",
              "    <tr>\n",
              "      <th>46</th>\n",
              "      <td>[{'commentID': 103968399, 'status': 'approved'...</td>\n",
              "    </tr>\n",
              "    <tr>\n",
              "      <th>47</th>\n",
              "      <td>[{'commentID': 103967581, 'status': 'approved'...</td>\n",
              "    </tr>\n",
              "    <tr>\n",
              "      <th>48</th>\n",
              "      <td>[{'commentID': 103967767, 'status': 'approved'...</td>\n",
              "    </tr>\n",
              "  </tbody>\n",
              "</table>\n",
              "</div>"
            ],
            "text/plain": [
              "                                              replies\n",
              "15  [{'commentID': 103968274, 'status': 'approved'...\n",
              "16  [{'commentID': 103978871, 'status': 'approved'...\n",
              "17  [{'commentID': 103978193, 'status': 'approved'...\n",
              "18  [{'commentID': 103982575, 'status': 'approved'...\n",
              "19  [{'commentID': 103970932, 'status': 'approved'...\n",
              "27  [{'commentID': 103979083, 'status': 'approved'...\n",
              "28  [{'commentID': 103978148, 'status': 'approved'...\n",
              "35  [{'commentID': 103972060, 'status': 'approved'...\n",
              "36  [{'commentID': 103972294, 'status': 'approved'...\n",
              "38  [{'commentID': 103969633, 'status': 'approved'...\n",
              "40  [{'commentID': 103969298, 'status': 'approved'...\n",
              "41  [{'commentID': 103969098, 'status': 'approved'...\n",
              "45  [{'commentID': 103970856, 'status': 'approved'...\n",
              "46  [{'commentID': 103968399, 'status': 'approved'...\n",
              "47  [{'commentID': 103967581, 'status': 'approved'...\n",
              "48  [{'commentID': 103967767, 'status': 'approved'..."
            ]
          },
          "metadata": {},
          "execution_count": 8
        }
      ]
    },
    {
      "cell_type": "code",
      "metadata": {
        "colab": {
          "base_uri": "https://localhost:8080/",
          "height": 545
        },
        "id": "16Cl7EAT4jKA",
        "outputId": "043c2fc1-584e-4a25-93d4-dd51d5ea6f9c"
      },
      "source": [
        "# data_frame of the commentIds which have replies\n",
        "\n",
        "par_df = pd.DataFrame(df.loc[df['replies'].str.contains('status')]['commentID'])\n",
        "par_df "
      ],
      "execution_count": 9,
      "outputs": [
        {
          "output_type": "execute_result",
          "data": {
            "text/html": [
              "<div>\n",
              "<style scoped>\n",
              "    .dataframe tbody tr th:only-of-type {\n",
              "        vertical-align: middle;\n",
              "    }\n",
              "\n",
              "    .dataframe tbody tr th {\n",
              "        vertical-align: top;\n",
              "    }\n",
              "\n",
              "    .dataframe thead th {\n",
              "        text-align: right;\n",
              "    }\n",
              "</style>\n",
              "<table border=\"1\" class=\"dataframe\">\n",
              "  <thead>\n",
              "    <tr style=\"text-align: right;\">\n",
              "      <th></th>\n",
              "      <th>commentID</th>\n",
              "    </tr>\n",
              "  </thead>\n",
              "  <tbody>\n",
              "    <tr>\n",
              "      <th>15</th>\n",
              "      <td>103967576</td>\n",
              "    </tr>\n",
              "    <tr>\n",
              "      <th>16</th>\n",
              "      <td>103978405</td>\n",
              "    </tr>\n",
              "    <tr>\n",
              "      <th>17</th>\n",
              "      <td>103976626</td>\n",
              "    </tr>\n",
              "    <tr>\n",
              "      <th>18</th>\n",
              "      <td>103969918</td>\n",
              "    </tr>\n",
              "    <tr>\n",
              "      <th>19</th>\n",
              "      <td>103969188</td>\n",
              "    </tr>\n",
              "    <tr>\n",
              "      <th>27</th>\n",
              "      <td>103973922</td>\n",
              "    </tr>\n",
              "    <tr>\n",
              "      <th>28</th>\n",
              "      <td>103973225</td>\n",
              "    </tr>\n",
              "    <tr>\n",
              "      <th>35</th>\n",
              "      <td>103970694</td>\n",
              "    </tr>\n",
              "    <tr>\n",
              "      <th>36</th>\n",
              "      <td>103970181</td>\n",
              "    </tr>\n",
              "    <tr>\n",
              "      <th>38</th>\n",
              "      <td>103968926</td>\n",
              "    </tr>\n",
              "    <tr>\n",
              "      <th>40</th>\n",
              "      <td>103968690</td>\n",
              "    </tr>\n",
              "    <tr>\n",
              "      <th>41</th>\n",
              "      <td>103968405</td>\n",
              "    </tr>\n",
              "    <tr>\n",
              "      <th>45</th>\n",
              "      <td>103967485</td>\n",
              "    </tr>\n",
              "    <tr>\n",
              "      <th>46</th>\n",
              "      <td>103967455</td>\n",
              "    </tr>\n",
              "    <tr>\n",
              "      <th>47</th>\n",
              "      <td>103967064</td>\n",
              "    </tr>\n",
              "    <tr>\n",
              "      <th>48</th>\n",
              "      <td>103966915</td>\n",
              "    </tr>\n",
              "  </tbody>\n",
              "</table>\n",
              "</div>"
            ],
            "text/plain": [
              "    commentID\n",
              "15  103967576\n",
              "16  103978405\n",
              "17  103976626\n",
              "18  103969918\n",
              "19  103969188\n",
              "27  103973922\n",
              "28  103973225\n",
              "35  103970694\n",
              "36  103970181\n",
              "38  103968926\n",
              "40  103968690\n",
              "41  103968405\n",
              "45  103967485\n",
              "46  103967455\n",
              "47  103967064\n",
              "48  103966915"
            ]
          },
          "metadata": {},
          "execution_count": 9
        }
      ]
    },
    {
      "cell_type": "code",
      "metadata": {
        "colab": {
          "base_uri": "https://localhost:8080/",
          "height": 545
        },
        "id": "vB4SVmTlEkvX",
        "outputId": "0a02eef7-b541-4619-d7e5-266e88e415df"
      },
      "source": [
        "# data_frame of the commentIds which have replies\n",
        "\n",
        "count_df = pd.DataFrame(df.loc[df['replies'].str.contains('status')]['replyCount'])\n",
        "count_df "
      ],
      "execution_count": 10,
      "outputs": [
        {
          "output_type": "execute_result",
          "data": {
            "text/html": [
              "<div>\n",
              "<style scoped>\n",
              "    .dataframe tbody tr th:only-of-type {\n",
              "        vertical-align: middle;\n",
              "    }\n",
              "\n",
              "    .dataframe tbody tr th {\n",
              "        vertical-align: top;\n",
              "    }\n",
              "\n",
              "    .dataframe thead th {\n",
              "        text-align: right;\n",
              "    }\n",
              "</style>\n",
              "<table border=\"1\" class=\"dataframe\">\n",
              "  <thead>\n",
              "    <tr style=\"text-align: right;\">\n",
              "      <th></th>\n",
              "      <th>replyCount</th>\n",
              "    </tr>\n",
              "  </thead>\n",
              "  <tbody>\n",
              "    <tr>\n",
              "      <th>15</th>\n",
              "      <td>11</td>\n",
              "    </tr>\n",
              "    <tr>\n",
              "      <th>16</th>\n",
              "      <td>4</td>\n",
              "    </tr>\n",
              "    <tr>\n",
              "      <th>17</th>\n",
              "      <td>2</td>\n",
              "    </tr>\n",
              "    <tr>\n",
              "      <th>18</th>\n",
              "      <td>1</td>\n",
              "    </tr>\n",
              "    <tr>\n",
              "      <th>19</th>\n",
              "      <td>4</td>\n",
              "    </tr>\n",
              "    <tr>\n",
              "      <th>27</th>\n",
              "      <td>2</td>\n",
              "    </tr>\n",
              "    <tr>\n",
              "      <th>28</th>\n",
              "      <td>2</td>\n",
              "    </tr>\n",
              "    <tr>\n",
              "      <th>35</th>\n",
              "      <td>1</td>\n",
              "    </tr>\n",
              "    <tr>\n",
              "      <th>36</th>\n",
              "      <td>1</td>\n",
              "    </tr>\n",
              "    <tr>\n",
              "      <th>38</th>\n",
              "      <td>5</td>\n",
              "    </tr>\n",
              "    <tr>\n",
              "      <th>40</th>\n",
              "      <td>2</td>\n",
              "    </tr>\n",
              "    <tr>\n",
              "      <th>41</th>\n",
              "      <td>2</td>\n",
              "    </tr>\n",
              "    <tr>\n",
              "      <th>45</th>\n",
              "      <td>2</td>\n",
              "    </tr>\n",
              "    <tr>\n",
              "      <th>46</th>\n",
              "      <td>4</td>\n",
              "    </tr>\n",
              "    <tr>\n",
              "      <th>47</th>\n",
              "      <td>2</td>\n",
              "    </tr>\n",
              "    <tr>\n",
              "      <th>48</th>\n",
              "      <td>5</td>\n",
              "    </tr>\n",
              "  </tbody>\n",
              "</table>\n",
              "</div>"
            ],
            "text/plain": [
              "    replyCount\n",
              "15          11\n",
              "16           4\n",
              "17           2\n",
              "18           1\n",
              "19           4\n",
              "27           2\n",
              "28           2\n",
              "35           1\n",
              "36           1\n",
              "38           5\n",
              "40           2\n",
              "41           2\n",
              "45           2\n",
              "46           4\n",
              "47           2\n",
              "48           5"
            ]
          },
          "metadata": {},
          "execution_count": 10
        }
      ]
    },
    {
      "cell_type": "code",
      "metadata": {
        "colab": {
          "base_uri": "https://localhost:8080/",
          "height": 545
        },
        "id": "sYrHJbCNCQNC",
        "outputId": "af177850-15be-400a-cfa0-407755594f76"
      },
      "source": [
        "# Above 3 dataframes are merged\n",
        "df3 = pd.merge(par_df, rep_df, left_index=True, right_index = True)\n",
        "new_df = pd.merge(df3, count_df, left_index=True, right_index = True)\n",
        "new_df"
      ],
      "execution_count": 11,
      "outputs": [
        {
          "output_type": "execute_result",
          "data": {
            "text/html": [
              "<div>\n",
              "<style scoped>\n",
              "    .dataframe tbody tr th:only-of-type {\n",
              "        vertical-align: middle;\n",
              "    }\n",
              "\n",
              "    .dataframe tbody tr th {\n",
              "        vertical-align: top;\n",
              "    }\n",
              "\n",
              "    .dataframe thead th {\n",
              "        text-align: right;\n",
              "    }\n",
              "</style>\n",
              "<table border=\"1\" class=\"dataframe\">\n",
              "  <thead>\n",
              "    <tr style=\"text-align: right;\">\n",
              "      <th></th>\n",
              "      <th>commentID</th>\n",
              "      <th>replies</th>\n",
              "      <th>replyCount</th>\n",
              "    </tr>\n",
              "  </thead>\n",
              "  <tbody>\n",
              "    <tr>\n",
              "      <th>15</th>\n",
              "      <td>103967576</td>\n",
              "      <td>[{'commentID': 103968274, 'status': 'approved'...</td>\n",
              "      <td>11</td>\n",
              "    </tr>\n",
              "    <tr>\n",
              "      <th>16</th>\n",
              "      <td>103978405</td>\n",
              "      <td>[{'commentID': 103978871, 'status': 'approved'...</td>\n",
              "      <td>4</td>\n",
              "    </tr>\n",
              "    <tr>\n",
              "      <th>17</th>\n",
              "      <td>103976626</td>\n",
              "      <td>[{'commentID': 103978193, 'status': 'approved'...</td>\n",
              "      <td>2</td>\n",
              "    </tr>\n",
              "    <tr>\n",
              "      <th>18</th>\n",
              "      <td>103969918</td>\n",
              "      <td>[{'commentID': 103982575, 'status': 'approved'...</td>\n",
              "      <td>1</td>\n",
              "    </tr>\n",
              "    <tr>\n",
              "      <th>19</th>\n",
              "      <td>103969188</td>\n",
              "      <td>[{'commentID': 103970932, 'status': 'approved'...</td>\n",
              "      <td>4</td>\n",
              "    </tr>\n",
              "    <tr>\n",
              "      <th>27</th>\n",
              "      <td>103973922</td>\n",
              "      <td>[{'commentID': 103979083, 'status': 'approved'...</td>\n",
              "      <td>2</td>\n",
              "    </tr>\n",
              "    <tr>\n",
              "      <th>28</th>\n",
              "      <td>103973225</td>\n",
              "      <td>[{'commentID': 103978148, 'status': 'approved'...</td>\n",
              "      <td>2</td>\n",
              "    </tr>\n",
              "    <tr>\n",
              "      <th>35</th>\n",
              "      <td>103970694</td>\n",
              "      <td>[{'commentID': 103972060, 'status': 'approved'...</td>\n",
              "      <td>1</td>\n",
              "    </tr>\n",
              "    <tr>\n",
              "      <th>36</th>\n",
              "      <td>103970181</td>\n",
              "      <td>[{'commentID': 103972294, 'status': 'approved'...</td>\n",
              "      <td>1</td>\n",
              "    </tr>\n",
              "    <tr>\n",
              "      <th>38</th>\n",
              "      <td>103968926</td>\n",
              "      <td>[{'commentID': 103969633, 'status': 'approved'...</td>\n",
              "      <td>5</td>\n",
              "    </tr>\n",
              "    <tr>\n",
              "      <th>40</th>\n",
              "      <td>103968690</td>\n",
              "      <td>[{'commentID': 103969298, 'status': 'approved'...</td>\n",
              "      <td>2</td>\n",
              "    </tr>\n",
              "    <tr>\n",
              "      <th>41</th>\n",
              "      <td>103968405</td>\n",
              "      <td>[{'commentID': 103969098, 'status': 'approved'...</td>\n",
              "      <td>2</td>\n",
              "    </tr>\n",
              "    <tr>\n",
              "      <th>45</th>\n",
              "      <td>103967485</td>\n",
              "      <td>[{'commentID': 103970856, 'status': 'approved'...</td>\n",
              "      <td>2</td>\n",
              "    </tr>\n",
              "    <tr>\n",
              "      <th>46</th>\n",
              "      <td>103967455</td>\n",
              "      <td>[{'commentID': 103968399, 'status': 'approved'...</td>\n",
              "      <td>4</td>\n",
              "    </tr>\n",
              "    <tr>\n",
              "      <th>47</th>\n",
              "      <td>103967064</td>\n",
              "      <td>[{'commentID': 103967581, 'status': 'approved'...</td>\n",
              "      <td>2</td>\n",
              "    </tr>\n",
              "    <tr>\n",
              "      <th>48</th>\n",
              "      <td>103966915</td>\n",
              "      <td>[{'commentID': 103967767, 'status': 'approved'...</td>\n",
              "      <td>5</td>\n",
              "    </tr>\n",
              "  </tbody>\n",
              "</table>\n",
              "</div>"
            ],
            "text/plain": [
              "    commentID                                            replies  replyCount\n",
              "15  103967576  [{'commentID': 103968274, 'status': 'approved'...          11\n",
              "16  103978405  [{'commentID': 103978871, 'status': 'approved'...           4\n",
              "17  103976626  [{'commentID': 103978193, 'status': 'approved'...           2\n",
              "18  103969918  [{'commentID': 103982575, 'status': 'approved'...           1\n",
              "19  103969188  [{'commentID': 103970932, 'status': 'approved'...           4\n",
              "27  103973922  [{'commentID': 103979083, 'status': 'approved'...           2\n",
              "28  103973225  [{'commentID': 103978148, 'status': 'approved'...           2\n",
              "35  103970694  [{'commentID': 103972060, 'status': 'approved'...           1\n",
              "36  103970181  [{'commentID': 103972294, 'status': 'approved'...           1\n",
              "38  103968926  [{'commentID': 103969633, 'status': 'approved'...           5\n",
              "40  103968690  [{'commentID': 103969298, 'status': 'approved'...           2\n",
              "41  103968405  [{'commentID': 103969098, 'status': 'approved'...           2\n",
              "45  103967485  [{'commentID': 103970856, 'status': 'approved'...           2\n",
              "46  103967455  [{'commentID': 103968399, 'status': 'approved'...           4\n",
              "47  103967064  [{'commentID': 103967581, 'status': 'approved'...           2\n",
              "48  103966915  [{'commentID': 103967767, 'status': 'approved'...           5"
            ]
          },
          "metadata": {},
          "execution_count": 11
        }
      ]
    },
    {
      "cell_type": "code",
      "metadata": {
        "id": "RBe5FhEm8m1m"
      },
      "source": [
        ""
      ],
      "execution_count": 19,
      "outputs": []
    },
    {
      "cell_type": "markdown",
      "metadata": {
        "id": "9s7c7SjTmNDX"
      },
      "source": [
        "# Visualizing Data"
      ]
    },
    {
      "cell_type": "code",
      "metadata": {
        "id": "vu2uyEXeFIW0"
      },
      "source": [
        "import networkx as nx\n",
        "import matplotlib.pyplot as plt\n",
        "%matplotlib inline"
      ],
      "execution_count": null,
      "outputs": []
    },
    {
      "cell_type": "code",
      "metadata": {
        "id": "BYmckQSOG0_4"
      },
      "source": [
        "depth_graph = nx.from_pandas_edgelist(df, source = \"commentID\", target = \"depth\")"
      ],
      "execution_count": null,
      "outputs": []
    },
    {
      "cell_type": "code",
      "metadata": {
        "colab": {
          "base_uri": "https://localhost:8080/"
        },
        "id": "JQgOIKLxHpVj",
        "outputId": "1c466f83-33d0-475a-af7a-855f9d33fdee"
      },
      "source": [
        "type (depth_graph)"
      ],
      "execution_count": null,
      "outputs": [
        {
          "output_type": "execute_result",
          "data": {
            "text/plain": [
              "networkx.classes.graph.Graph"
            ]
          },
          "metadata": {},
          "execution_count": 9
        }
      ]
    },
    {
      "cell_type": "code",
      "metadata": {
        "colab": {
          "base_uri": "https://localhost:8080/",
          "height": 35
        },
        "id": "HPDinGKtHyBF",
        "outputId": "757269de-228c-49c6-c4aa-5a7105921f9a"
      },
      "source": [
        "nx.info(depth_graph)"
      ],
      "execution_count": null,
      "outputs": [
        {
          "output_type": "execute_result",
          "data": {
            "application/vnd.google.colaboratory.intrinsic+json": {
              "type": "string"
            },
            "text/plain": [
              "'Graph with 51 nodes and 50 edges'"
            ]
          },
          "metadata": {},
          "execution_count": 10
        }
      ]
    },
    {
      "cell_type": "code",
      "metadata": {
        "colab": {
          "base_uri": "https://localhost:8080/"
        },
        "id": "9FMkXb2NH4Jb",
        "outputId": "519a192c-3eaf-4a94-b425-f97a16792259"
      },
      "source": [
        "depth_graph.nodes()"
      ],
      "execution_count": null,
      "outputs": [
        {
          "output_type": "execute_result",
          "data": {
            "text/plain": [
              "NodeView((103979957, 1, 103982600, 103980103, 103981017, 103983048, 103981423, 103979428, 103982826, 103981660, 103981263, 103981241, 103980936, 103980641, 103980494, 103979619, 103967576, 103978405, 103976626, 103969918, 103969188, 103971613, 103979166, 103969595, 103972443, 103968295, 103977795, 103976392, 103973922, 103973225, 103972175, 103971611, 103971041, 103969392, 103971459, 103971403, 103970694, 103970181, 103969818, 103968926, 103968897, 103968690, 103968405, 103968329, 103967815, 103967583, 103967485, 103967455, 103967064, 103966915, 103966806))"
            ]
          },
          "metadata": {},
          "execution_count": 11
        }
      ]
    },
    {
      "cell_type": "code",
      "metadata": {
        "colab": {
          "base_uri": "https://localhost:8080/"
        },
        "id": "BQivQxg0IJwa",
        "outputId": "370aebce-71b1-4c34-805f-dfe9b600b50a"
      },
      "source": [
        "depth_graph.edges()"
      ],
      "execution_count": null,
      "outputs": [
        {
          "output_type": "execute_result",
          "data": {
            "text/plain": [
              "EdgeView([(103979957, 1), (1, 103982600), (1, 103980103), (1, 103981017), (1, 103983048), (1, 103981423), (1, 103979428), (1, 103982826), (1, 103981660), (1, 103981263), (1, 103981241), (1, 103980936), (1, 103980641), (1, 103980494), (1, 103979619), (1, 103967576), (1, 103978405), (1, 103976626), (1, 103969918), (1, 103969188), (1, 103971613), (1, 103979166), (1, 103969595), (1, 103972443), (1, 103968295), (1, 103977795), (1, 103976392), (1, 103973922), (1, 103973225), (1, 103972175), (1, 103971611), (1, 103971041), (1, 103969392), (1, 103971459), (1, 103971403), (1, 103970694), (1, 103970181), (1, 103969818), (1, 103968926), (1, 103968897), (1, 103968690), (1, 103968405), (1, 103968329), (1, 103967815), (1, 103967583), (1, 103967485), (1, 103967455), (1, 103967064), (1, 103966915), (1, 103966806)])"
            ]
          },
          "metadata": {},
          "execution_count": 12
        }
      ]
    },
    {
      "cell_type": "code",
      "metadata": {
        "colab": {
          "base_uri": "https://localhost:8080/",
          "height": 319
        },
        "id": "PxF6SQyhIoNr",
        "outputId": "291064bd-586f-4549-a0eb-6bfea1b2dd63"
      },
      "source": [
        "nx.draw(depth_graph, with_labels = True)"
      ],
      "execution_count": null,
      "outputs": [
        {
          "output_type": "display_data",
          "data": {
            "image/png": "[encoded data removed]",
            "text/plain": [
              "<Figure size 432x288 with 1 Axes>"
            ]
          },
          "metadata": {}
        }
      ]
    },
    {
      "cell_type": "markdown",
      "metadata": {
        "id": "4Nv19ekMJSLg"
      },
      "source": [
        "The above graph is indicating that all the comments have depth 1"
      ]
    },
    {
      "cell_type": "code",
      "metadata": {
        "colab": {
          "base_uri": "https://localhost:8080/"
        },
        "id": "znCIG59fJbhG",
        "outputId": "4988fea3-f690-48ac-b96a-6ed97eef3745"
      },
      "source": [
        "nx.degree(depth_graph)"
      ],
      "execution_count": null,
      "outputs": [
        {
          "output_type": "execute_result",
          "data": {
            "text/plain": [
              "DegreeView({103979957: 1, 1: 50, 103982600: 1, 103980103: 1, 103981017: 1, 103983048: 1, 103981423: 1, 103979428: 1, 103982826: 1, 103981660: 1, 103981263: 1, 103981241: 1, 103980936: 1, 103980641: 1, 103980494: 1, 103979619: 1, 103967576: 1, 103978405: 1, 103976626: 1, 103969918: 1, 103969188: 1, 103971613: 1, 103979166: 1, 103969595: 1, 103972443: 1, 103968295: 1, 103977795: 1, 103976392: 1, 103973922: 1, 103973225: 1, 103972175: 1, 103971611: 1, 103971041: 1, 103969392: 1, 103971459: 1, 103971403: 1, 103970694: 1, 103970181: 1, 103969818: 1, 103968926: 1, 103968897: 1, 103968690: 1, 103968405: 1, 103968329: 1, 103967815: 1, 103967583: 1, 103967485: 1, 103967455: 1, 103967064: 1, 103966915: 1, 103966806: 1})"
            ]
          },
          "metadata": {},
          "execution_count": 16
        }
      ]
    },
    {
      "cell_type": "code",
      "metadata": {
        "id": "ZvVeV9WtjAYk"
      },
      "source": [
        "rep_graph = nx.from_pandas_edgelist(df, source = \"commentID\", target = \"replyCount\")"
      ],
      "execution_count": null,
      "outputs": []
    },
    {
      "cell_type": "code",
      "metadata": {
        "colab": {
          "base_uri": "https://localhost:8080/",
          "height": 35
        },
        "id": "W7X-llPil2uT",
        "outputId": "83bbe2e3-55f9-4fb6-ce98-a42f9aa7b3af"
      },
      "source": [
        "nx.info(rep_graph)"
      ],
      "execution_count": null,
      "outputs": [
        {
          "output_type": "execute_result",
          "data": {
            "application/vnd.google.colaboratory.intrinsic+json": {
              "type": "string"
            },
            "text/plain": [
              "'Graph with 56 nodes and 50 edges'"
            ]
          },
          "metadata": {},
          "execution_count": 24
        }
      ]
    },
    {
      "cell_type": "code",
      "metadata": {
        "colab": {
          "base_uri": "https://localhost:8080/"
        },
        "id": "Zyg3JihLmEIS",
        "outputId": "16cd7f2b-bb3e-4329-f10d-89624b11e75e"
      },
      "source": [
        "rep_graph.edges"
      ],
      "execution_count": null,
      "outputs": [
        {
          "output_type": "execute_result",
          "data": {
            "text/plain": [
              "EdgeView([(103979957, 0), (0, 103982600), (0, 103980103), (0, 103981017), (0, 103983048), (0, 103981423), (0, 103979428), (0, 103982826), (0, 103981660), (0, 103981263), (0, 103981241), (0, 103980936), (0, 103980641), (0, 103980494), (0, 103979619), (0, 103971613), (0, 103979166), (0, 103969595), (0, 103972443), (0, 103968295), (0, 103977795), (0, 103976392), (0, 103972175), (0, 103971611), (0, 103971041), (0, 103969392), (0, 103971459), (0, 103971403), (0, 103969818), (0, 103968897), (0, 103968329), (0, 103967815), (0, 103967583), (0, 103966806), (103967576, 11), (103978405, 4), (4, 103969188), (4, 103967455), (103976626, 2), (2, 103973922), (2, 103973225), (2, 103968690), (2, 103968405), (2, 103967485), (2, 103967064), (103969918, 1), (1, 103970694), (1, 103970181), (103968926, 5), (5, 103966915)])"
            ]
          },
          "metadata": {},
          "execution_count": 25
        }
      ]
    },
    {
      "cell_type": "code",
      "metadata": {
        "colab": {
          "base_uri": "https://localhost:8080/",
          "height": 1000
        },
        "id": "5MPx4PcEkATi",
        "outputId": "ccab874b-65e2-480f-ce2d-5f273058a26e"
      },
      "source": [
        "plt.figure(figsize=(20,20))\n",
        "nx.draw(depth_graph, with_labels = True)\n",
        "plt.show()"
      ],
      "execution_count": null,
      "outputs": [
        {
          "output_type": "display_data",
          "data": {
            "image/png": "[encoded data removed]",
            "text/plain": [
              "<Figure size 1440x1440 with 1 Axes>"
            ]
          },
          "metadata": {}
        }
      ]
    }
  ]
}