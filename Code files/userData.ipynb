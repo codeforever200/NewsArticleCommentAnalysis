{
  "nbformat": 4,
  "nbformat_minor": 0,
  "metadata": {
    "colab": {
      "name": "userData.ipynb",
      "provenance": []
    },
    "kernelspec": {
      "name": "python3",
      "display_name": "Python 3"
    },
    "language_info": {
      "name": "python"
    }
  },
  "cells": [
    {
      "cell_type": "code",
      "metadata": {
        "id": "LCWzcUGKt1vL"
      },
      "source": [
        "import numpy as np\n",
        "import pandas as pd\n",
        "import pylab as pl"
      ],
      "execution_count": 46,
      "outputs": []
    },
    {
      "cell_type": "code",
      "metadata": {
        "id": "xzvnKbrKzP_Z"
      },
      "source": [
        "df1 = pd.read_csv(\"/content/2009_12_220211.csv\")\n",
        "df2 = pd.read_csv(\"/content/2009_12_220208.csv\")\n",
        "df3 = pd.read_csv(\"/content/2009_12_220206.csv\")\n",
        "df4 = pd.read_csv(\"/content/2019_12_1429491.csv\")\n",
        "df5 = pd.read_csv(\"/content/2019_12_1429496.csv\")\n",
        "df6 = pd.read_csv(\"/content/2019_12_1429506.csv\")\n",
        "df7 = pd.read_csv(\"/content/2019_12_1429510.csv\")\n",
        "df8 = pd.read_csv(\"/content/2019_12_1429512.csv\")\n",
        "df9 = pd.read_csv(\"/content/2019_12_1429515.csv\")\n",
        "df10 = pd.read_csv(\"/content/2019_12_1429518.csv\")\n",
        "df11 = pd.read_csv(\"/content/2019_12_1429524.csv\")\n",
        "df12 = pd.read_csv(\"/content/2019_12_1429531.csv\")\n",
        "df13 = pd.read_csv(\"/content/2019_12_1429541.csv\")\n",
        "df14 = pd.read_csv(\"/content/2019_12_1429545.csv\")\n",
        "df15 = pd.read_csv(\"/content/2019_12_1429546.csv\")\n",
        "df16 = pd.read_csv(\"/content/2019_12_1429552.csv\")\n",
        "df17 = pd.read_csv(\"/content/2019_12_1429554.csv\")\n",
        "df18 = pd.read_csv(\"/content/2019_12_1429557.csv\")\n",
        "df19 = pd.read_csv(\"/content/2019_12_1429558.csv\")\n",
        "df20 = pd.read_csv(\"/content/2019_12_1429559.csv\")\n",
        "df21 = pd.read_csv(\"/content/2019_12_1430196.csv\")\n",
        "df22 = pd.read_csv(\"/content/2019_12_1429561.csv\")\n",
        "df23 = pd.read_csv(\"/content/2019_12_1429562.csv\")\n",
        "df24 = pd.read_csv(\"/content/2019_12_1429575.csv\")\n",
        "df25 = pd.read_csv(\"/content/2019_12_1429589.csv\")\n",
        "df26 = pd.read_csv(\"/content/2019_12_1429594.csv\")\n",
        "df27 = pd.read_csv(\"/content/2019_12_1429603.csv\")\n",
        "df28 = pd.read_csv(\"/content/2019_12_1429611.csv\")\n",
        "df29 = pd.read_csv(\"/content/2019_12_1429621.csv\")\n",
        "df30 = pd.read_csv(\"/content/2019_12_1429629.csv\")\n",
        "df31 = pd.read_csv(\"/content/2019_12_1429632.csv\")\n",
        "df32 = pd.read_csv(\"/content/2019_12_1429638.csv\")\n",
        "df33 = pd.read_csv(\"/content/2019_12_1429640.csv\")\n",
        "df34 = pd.read_csv(\"/content/2019_12_1429644.csv\")\n",
        "df35 = pd.read_csv(\"/content/2019_12_1429655.csv\")\n",
        "df36 = pd.read_csv(\"/content/2019_12_1429656.csv\")\n",
        "df37 = pd.read_csv(\"/content/2019_12_1429659.csv\")\n",
        "df38 = pd.read_csv(\"/content/2019_12_1429660.csv\")\n",
        "df39 = pd.read_csv(\"/content/2019_12_1429661.csv\")\n",
        "df40 = pd.read_csv(\"/content/2019_12_1429663.csv\")\n",
        "df41 = pd.read_csv(\"/content/2019_12_1429664.csv\")\n",
        "df42 = pd.read_csv(\"/content/2019_12_1429688.csv\")\n",
        "df43 = pd.read_csv(\"/content/2019_12_1429689.csv\")\n",
        "df44 = pd.read_csv(\"/content/2019_12_1429705.csv\")\n",
        "df45 = pd.read_csv(\"/content/2019_12_1429710.csv\")\n",
        "df46 = pd.read_csv(\"/content/2019_12_1429719.csv\")\n",
        "df47 = pd.read_csv(\"/content/2019_12_1429724.csv\")\n",
        "df48 = pd.read_csv(\"/content/2019_12_1429726.csv\")\n",
        "df49 = pd.read_csv(\"/content/2019_12_1429728.csv\")\n",
        "df50 = pd.read_csv(\"/content/2019_12_1429730.csv\")\n",
        "df51 = pd.read_csv(\"/content/2019_12_1429733.csv\")\n",
        "df52 = pd.read_csv(\"/content/2019_12_1429738.csv\")\n",
        "df52 = pd.read_csv(\"/content/2019_12_1429739.csv\")\n",
        "df53 = pd.read_csv(\"/content/2019_12_1429740.csv\")\n",
        "df54 = pd.read_csv(\"/content/2019_12_1429747.csv\")\n",
        "df55 = pd.read_csv(\"/content/2019_12_1429750.csv\")\n",
        "df56 = pd.read_csv(\"/content/2019_12_1429755.csv\")\n",
        "df57 = pd.read_csv(\"/content/2019_12_1429765.csv\")\n",
        "df58 = pd.read_csv(\"/content/2019_12_1429771.csv\")\n",
        "df59 = pd.read_csv(\"/content/2019_12_1429773.csv\")\n",
        "df60 = pd.read_csv(\"/content/2019_12_1429774.csv\")\n",
        "df61 = pd.read_csv(\"/content/2019_12_1429790.csv\")\n",
        "df62 = pd.read_csv(\"/content/2019_12_1429791.csv\")\n",
        "df63 = pd.read_csv(\"/content/2019_12_1429794.csv\")\n",
        "df64 = pd.read_csv(\"/content/2019_12_1429803.csv\")\n",
        "df65 = pd.read_csv(\"/content/2019_12_1429816.csv\")\n",
        "df66 = pd.read_csv(\"/content/2019_12_1429819.csv\")\n",
        "df67 = pd.read_csv(\"/content/2019_12_1429832.csv\")\n",
        "df68 = pd.read_csv(\"/content/2019_12_1429834.csv\")\n",
        "df69 = pd.read_csv(\"/content/2019_12_1429836.csv\")\n",
        "df70 = pd.read_csv(\"/content/2019_12_1429837.csv\")\n",
        "df71 = pd.read_csv(\"/content/2019_12_1429838.csv\")\n",
        "df72 = pd.read_csv(\"/content/2019_12_1429849.csv\")\n",
        "df73 = pd.read_csv(\"/content/2019_12_1429850.csv\")\n",
        "df74 = pd.read_csv(\"/content/2019_12_1429857.csv\")\n",
        "df75 = pd.read_csv(\"/content/2019_12_1429866.csv\")\n",
        "df76 = pd.read_csv(\"/content/2019_12_1429868.csv\")\n",
        "df77 = pd.read_csv(\"/content/2019_12_1429869.csv\")\n",
        "df78 = pd.read_csv(\"/content/2019_12_1429872.csv\")\n",
        "df79 = pd.read_csv(\"/content/2019_12_1429873.csv\")\n",
        "df80 = pd.read_csv(\"/content/2019_12_1429885.csv\")\n",
        "df81 = pd.read_csv(\"/content/2019_12_1429886.csv\")\n",
        "df82 = pd.read_csv(\"/content/2019_12_1429897.csv\")\n",
        "df83 = pd.read_csv(\"/content/2019_12_1429899.csv\")\n",
        "df84 = pd.read_csv(\"/content/2019_12_1429902.csv\")\n",
        "df85 = pd.read_csv(\"/content/2019_12_1429922.csv\")\n",
        "df86 = pd.read_csv(\"/content/2019_12_1429931.csv\")\n",
        "df87 = pd.read_csv(\"/content/2019_12_1429932.csv\")\n",
        "df88 = pd.read_csv(\"/content/2019_12_1429933.csv\")\n",
        "df89 = pd.read_csv(\"/content/2019_12_1429934.csv\")\n",
        "df90 = pd.read_csv(\"/content/2019_12_1429935.csv\")\n",
        "df91 = pd.read_csv(\"/content/2019_12_1429936.csv\")\n",
        "df92 = pd.read_csv(\"/content/2019_12_1429938.csv\")\n",
        "df93 = pd.read_csv(\"/content/2019_12_1429939.csv\")\n",
        "df94 = pd.read_csv(\"/content/2019_12_1429940.csv\")\n",
        "df95 = pd.read_csv(\"/content/2019_12_1429941.csv\")\n",
        "df96 = pd.read_csv(\"/content/2019_12_1429954.csv\")\n",
        "df97 = pd.read_csv(\"/content/2019_12_1429962.csv\")\n",
        "df98 = pd.read_csv(\"/content/2019_12_1429965.csv\")\n",
        "df99 = pd.read_csv(\"/content/2019_12_1429967.csv\")\n",
        "df100 = pd.read_csv(\"/content/2019_12_1429969.csv\")\n",
        "\n",
        "\n",
        "\n",
        "\n"
      ],
      "execution_count": 47,
      "outputs": []
    },
    {
      "cell_type": "code",
      "metadata": {
        "colab": {
          "base_uri": "https://localhost:8080/",
          "height": 1000
        },
        "id": "FckO9RGMLZ2Z",
        "outputId": "5dce0f58-c4de-4ca7-863f-76c5b31d8f13"
      },
      "source": [
        "concat_df1 = pd.concat ([df1, df2, df3, df4, df5, df6, df7, df8, df9, df10, df11, df12, df13, df14, df15, df16, df17, df18, df19, df20, \n",
        "                    df21, df22, df23, df24, df25, df26, df27, df28, df29, df30, df31, df32, df33, df34, df35, df36, df37, df38, df39, df40,\n",
        "                    df41, df42, df43, df44, df45, df46, df47, df48, df49, df50, df51, df52, df53, df54, df55, df56, df57, df58, df59, df60,\n",
        "                    df61, df62, df63, df64, df65, df66, df67, df68, df69, df70, df71, df72, df73, df74, df75, df76, df77, df78, df79, df80,\n",
        "                    df81, df82, df83, df84, df85, df86, df87, df88, df89, df90, df91, df92, df93, df94, df95, df96, df97, df98, df99, df100], axis = 0)\n",
        "concat_df1"
      ],
      "execution_count": 48,
      "outputs": [
        {
          "output_type": "execute_result",
          "data": {
            "text/html": [
              "<div>\n",
              "<style scoped>\n",
              "    .dataframe tbody tr th:only-of-type {\n",
              "        vertical-align: middle;\n",
              "    }\n",
              "\n",
              "    .dataframe tbody tr th {\n",
              "        vertical-align: top;\n",
              "    }\n",
              "\n",
              "    .dataframe thead th {\n",
              "        text-align: right;\n",
              "    }\n",
              "</style>\n",
              "<table border=\"1\" class=\"dataframe\">\n",
              "  <thead>\n",
              "    <tr style=\"text-align: right;\">\n",
              "      <th></th>\n",
              "      <th>Unnamed: 0</th>\n",
              "      <th>index</th>\n",
              "      <th>approveDate</th>\n",
              "      <th>commentBody</th>\n",
              "      <th>commentID</th>\n",
              "      <th>commentSequence</th>\n",
              "      <th>commentTitle</th>\n",
              "      <th>commentType</th>\n",
              "      <th>createDate</th>\n",
              "      <th>depth</th>\n",
              "      <th>editorsSelection</th>\n",
              "      <th>isAnonymous</th>\n",
              "      <th>parentID</th>\n",
              "      <th>parentUserDisplayName</th>\n",
              "      <th>permID</th>\n",
              "      <th>picURL</th>\n",
              "      <th>recommendations</th>\n",
              "      <th>recommendedFlag</th>\n",
              "      <th>replies</th>\n",
              "      <th>replyCount</th>\n",
              "      <th>status</th>\n",
              "      <th>trusted</th>\n",
              "      <th>updateDate</th>\n",
              "      <th>userDisplayName</th>\n",
              "      <th>userID</th>\n",
              "      <th>userLocation</th>\n",
              "      <th>userTitle</th>\n",
              "      <th>userURL</th>\n",
              "    </tr>\n",
              "  </thead>\n",
              "  <tbody>\n",
              "    <tr>\n",
              "      <th>0</th>\n",
              "      <td>0</td>\n",
              "      <td>0</td>\n",
              "      <td>1262264550</td>\n",
              "      <td>Lack of access to banks isn't specific to deve...</td>\n",
              "      <td>1355677</td>\n",
              "      <td>1355677</td>\n",
              "      <td>&lt;br\\//&gt;</td>\n",
              "      <td>comment</td>\n",
              "      <td>1509452665</td>\n",
              "      <td>1</td>\n",
              "      <td>False</td>\n",
              "      <td>False</td>\n",
              "      <td>NaN</td>\n",
              "      <td>NaN</td>\n",
              "      <td>1355677</td>\n",
              "      <td>NaN</td>\n",
              "      <td>0</td>\n",
              "      <td>0</td>\n",
              "      <td>[]</td>\n",
              "      <td>0</td>\n",
              "      <td>approved</td>\n",
              "      <td>0</td>\n",
              "      <td>1534863431</td>\n",
              "      <td>Teresa</td>\n",
              "      <td>58214065</td>\n",
              "      <td>New York</td>\n",
              "      <td>NaN</td>\n",
              "      <td>NaN</td>\n",
              "    </tr>\n",
              "    <tr>\n",
              "      <th>1</th>\n",
              "      <td>1</td>\n",
              "      <td>1</td>\n",
              "      <td>1262264524</td>\n",
              "      <td>Wow! Talk about cognitive dissonance.  I was e...</td>\n",
              "      <td>1355627</td>\n",
              "      <td>1355627</td>\n",
              "      <td>&lt;br\\//&gt;</td>\n",
              "      <td>comment</td>\n",
              "      <td>1509452754</td>\n",
              "      <td>1</td>\n",
              "      <td>False</td>\n",
              "      <td>False</td>\n",
              "      <td>NaN</td>\n",
              "      <td>NaN</td>\n",
              "      <td>1355627</td>\n",
              "      <td>NaN</td>\n",
              "      <td>0</td>\n",
              "      <td>0</td>\n",
              "      <td>[]</td>\n",
              "      <td>0</td>\n",
              "      <td>approved</td>\n",
              "      <td>0</td>\n",
              "      <td>1534863431</td>\n",
              "      <td>Annette Keller</td>\n",
              "      <td>16124230</td>\n",
              "      <td>College Park, MD</td>\n",
              "      <td>NaN</td>\n",
              "      <td>NaN</td>\n",
              "    </tr>\n",
              "    <tr>\n",
              "      <th>2</th>\n",
              "      <td>2</td>\n",
              "      <td>2</td>\n",
              "      <td>1262264492</td>\n",
              "      <td>Have followed your treks and agree that micros...</td>\n",
              "      <td>1355610</td>\n",
              "      <td>1355610</td>\n",
              "      <td>&lt;br\\//&gt;</td>\n",
              "      <td>comment</td>\n",
              "      <td>1509452775</td>\n",
              "      <td>1</td>\n",
              "      <td>False</td>\n",
              "      <td>False</td>\n",
              "      <td>NaN</td>\n",
              "      <td>NaN</td>\n",
              "      <td>1355610</td>\n",
              "      <td>NaN</td>\n",
              "      <td>0</td>\n",
              "      <td>0</td>\n",
              "      <td>[]</td>\n",
              "      <td>0</td>\n",
              "      <td>approved</td>\n",
              "      <td>0</td>\n",
              "      <td>1534863431</td>\n",
              "      <td>PapaJ</td>\n",
              "      <td>55273455</td>\n",
              "      <td>La porte, Tejas</td>\n",
              "      <td>NaN</td>\n",
              "      <td>NaN</td>\n",
              "    </tr>\n",
              "    <tr>\n",
              "      <th>3</th>\n",
              "      <td>3</td>\n",
              "      <td>3</td>\n",
              "      <td>1262264382</td>\n",
              "      <td>Capitalism is a failed ideology and the only t...</td>\n",
              "      <td>1354862</td>\n",
              "      <td>1354862</td>\n",
              "      <td>&lt;br\\//&gt;</td>\n",
              "      <td>comment</td>\n",
              "      <td>1509452824</td>\n",
              "      <td>1</td>\n",
              "      <td>False</td>\n",
              "      <td>False</td>\n",
              "      <td>NaN</td>\n",
              "      <td>NaN</td>\n",
              "      <td>1354862</td>\n",
              "      <td>NaN</td>\n",
              "      <td>0</td>\n",
              "      <td>0</td>\n",
              "      <td>[]</td>\n",
              "      <td>0</td>\n",
              "      <td>approved</td>\n",
              "      <td>0</td>\n",
              "      <td>1534863431</td>\n",
              "      <td>PK</td>\n",
              "      <td>4855835</td>\n",
              "      <td>Lincoln</td>\n",
              "      <td>NaN</td>\n",
              "      <td>NaN</td>\n",
              "    </tr>\n",
              "    <tr>\n",
              "      <th>4</th>\n",
              "      <td>4</td>\n",
              "      <td>4</td>\n",
              "      <td>1262264382</td>\n",
              "      <td>You write \"This 'don’t pay' effort has been or...</td>\n",
              "      <td>1354865</td>\n",
              "      <td>1354865</td>\n",
              "      <td>&lt;br\\//&gt;</td>\n",
              "      <td>comment</td>\n",
              "      <td>1509452537</td>\n",
              "      <td>1</td>\n",
              "      <td>False</td>\n",
              "      <td>False</td>\n",
              "      <td>NaN</td>\n",
              "      <td>NaN</td>\n",
              "      <td>1354865</td>\n",
              "      <td>NaN</td>\n",
              "      <td>0</td>\n",
              "      <td>0</td>\n",
              "      <td>[]</td>\n",
              "      <td>0</td>\n",
              "      <td>approved</td>\n",
              "      <td>0</td>\n",
              "      <td>1534863431</td>\n",
              "      <td>Sam D</td>\n",
              "      <td>6517152</td>\n",
              "      <td>Wayne, PA</td>\n",
              "      <td>NaN</td>\n",
              "      <td>NaN</td>\n",
              "    </tr>\n",
              "    <tr>\n",
              "      <th>...</th>\n",
              "      <td>...</td>\n",
              "      <td>...</td>\n",
              "      <td>...</td>\n",
              "      <td>...</td>\n",
              "      <td>...</td>\n",
              "      <td>...</td>\n",
              "      <td>...</td>\n",
              "      <td>...</td>\n",
              "      <td>...</td>\n",
              "      <td>...</td>\n",
              "      <td>...</td>\n",
              "      <td>...</td>\n",
              "      <td>...</td>\n",
              "      <td>...</td>\n",
              "      <td>...</td>\n",
              "      <td>...</td>\n",
              "      <td>...</td>\n",
              "      <td>...</td>\n",
              "      <td>...</td>\n",
              "      <td>...</td>\n",
              "      <td>...</td>\n",
              "      <td>...</td>\n",
              "      <td>...</td>\n",
              "      <td>...</td>\n",
              "      <td>...</td>\n",
              "      <td>...</td>\n",
              "      <td>...</td>\n",
              "      <td>...</td>\n",
              "    </tr>\n",
              "    <tr>\n",
              "      <th>95</th>\n",
              "      <td>95</td>\n",
              "      <td>20</td>\n",
              "      <td>1575547225</td>\n",
              "      <td>The reason such a depraved individual could ru...</td>\n",
              "      <td>103980128</td>\n",
              "      <td>103980128</td>\n",
              "      <td>&lt;br\\//&gt;</td>\n",
              "      <td>comment</td>\n",
              "      <td>1575519548</td>\n",
              "      <td>1</td>\n",
              "      <td>False</td>\n",
              "      <td>False</td>\n",
              "      <td>NaN</td>\n",
              "      <td>NaN</td>\n",
              "      <td>103980128</td>\n",
              "      <td>NaN</td>\n",
              "      <td>12</td>\n",
              "      <td>0</td>\n",
              "      <td>[]</td>\n",
              "      <td>0</td>\n",
              "      <td>approved</td>\n",
              "      <td>0</td>\n",
              "      <td>1575887273</td>\n",
              "      <td>Jack</td>\n",
              "      <td>25065134</td>\n",
              "      <td>California</td>\n",
              "      <td>NaN</td>\n",
              "      <td>NaN</td>\n",
              "    </tr>\n",
              "    <tr>\n",
              "      <th>96</th>\n",
              "      <td>96</td>\n",
              "      <td>21</td>\n",
              "      <td>1575547221</td>\n",
              "      <td>As a retired law enforcement officer, I am jus...</td>\n",
              "      <td>103963796</td>\n",
              "      <td>103963796</td>\n",
              "      <td>&lt;br\\//&gt;</td>\n",
              "      <td>comment</td>\n",
              "      <td>1575474525</td>\n",
              "      <td>1</td>\n",
              "      <td>False</td>\n",
              "      <td>False</td>\n",
              "      <td>NaN</td>\n",
              "      <td>NaN</td>\n",
              "      <td>103963796</td>\n",
              "      <td>https://s3.amazonaws.com/pimage.timespeople.ny...</td>\n",
              "      <td>17</td>\n",
              "      <td>0</td>\n",
              "      <td>[]</td>\n",
              "      <td>0</td>\n",
              "      <td>approved</td>\n",
              "      <td>0</td>\n",
              "      <td>1577666371</td>\n",
              "      <td>mr. trout</td>\n",
              "      <td>63575033</td>\n",
              "      <td>reno nv</td>\n",
              "      <td>NaN</td>\n",
              "      <td>NaN</td>\n",
              "    </tr>\n",
              "    <tr>\n",
              "      <th>97</th>\n",
              "      <td>97</td>\n",
              "      <td>22</td>\n",
              "      <td>1575547216</td>\n",
              "      <td>Great article!  The man should have been sente...</td>\n",
              "      <td>103965054</td>\n",
              "      <td>103965054</td>\n",
              "      <td>&lt;br\\//&gt;</td>\n",
              "      <td>comment</td>\n",
              "      <td>1575477662</td>\n",
              "      <td>1</td>\n",
              "      <td>False</td>\n",
              "      <td>False</td>\n",
              "      <td>NaN</td>\n",
              "      <td>NaN</td>\n",
              "      <td>103965054</td>\n",
              "      <td>NaN</td>\n",
              "      <td>4</td>\n",
              "      <td>0</td>\n",
              "      <td>[]</td>\n",
              "      <td>0</td>\n",
              "      <td>approved</td>\n",
              "      <td>0</td>\n",
              "      <td>1576315346</td>\n",
              "      <td>scott t</td>\n",
              "      <td>79237310</td>\n",
              "      <td>Bend Oregon</td>\n",
              "      <td>NaN</td>\n",
              "      <td>NaN</td>\n",
              "    </tr>\n",
              "    <tr>\n",
              "      <th>98</th>\n",
              "      <td>98</td>\n",
              "      <td>23</td>\n",
              "      <td>1575547208</td>\n",
              "      <td>\"Why did prosecutors rely on him as an informa...</td>\n",
              "      <td>103967936</td>\n",
              "      <td>103967936</td>\n",
              "      <td>&lt;br\\//&gt;</td>\n",
              "      <td>comment</td>\n",
              "      <td>1575484451</td>\n",
              "      <td>1</td>\n",
              "      <td>False</td>\n",
              "      <td>False</td>\n",
              "      <td>NaN</td>\n",
              "      <td>NaN</td>\n",
              "      <td>103967936</td>\n",
              "      <td>NaN</td>\n",
              "      <td>14</td>\n",
              "      <td>0</td>\n",
              "      <td>[]</td>\n",
              "      <td>0</td>\n",
              "      <td>approved</td>\n",
              "      <td>0</td>\n",
              "      <td>1575857084</td>\n",
              "      <td>J.I.M.</td>\n",
              "      <td>79172267</td>\n",
              "      <td>Florida</td>\n",
              "      <td>NaN</td>\n",
              "      <td>NaN</td>\n",
              "    </tr>\n",
              "    <tr>\n",
              "      <th>99</th>\n",
              "      <td>99</td>\n",
              "      <td>24</td>\n",
              "      <td>1575547207</td>\n",
              "      <td>Why did prosecutors rely on this liar's testim...</td>\n",
              "      <td>103969216</td>\n",
              "      <td>103969216</td>\n",
              "      <td>&lt;br\\//&gt;</td>\n",
              "      <td>comment</td>\n",
              "      <td>1575487721</td>\n",
              "      <td>1</td>\n",
              "      <td>False</td>\n",
              "      <td>False</td>\n",
              "      <td>NaN</td>\n",
              "      <td>NaN</td>\n",
              "      <td>103969216</td>\n",
              "      <td>NaN</td>\n",
              "      <td>15</td>\n",
              "      <td>0</td>\n",
              "      <td>[]</td>\n",
              "      <td>0</td>\n",
              "      <td>approved</td>\n",
              "      <td>0</td>\n",
              "      <td>1577740098</td>\n",
              "      <td>WeAreWeary</td>\n",
              "      <td>92611076</td>\n",
              "      <td>West Coast</td>\n",
              "      <td>NaN</td>\n",
              "      <td>NaN</td>\n",
              "    </tr>\n",
              "  </tbody>\n",
              "</table>\n",
              "<p>5282 rows × 28 columns</p>\n",
              "</div>"
            ],
            "text/plain": [
              "    Unnamed: 0  index  approveDate  ...      userLocation  userTitle  userURL\n",
              "0            0      0   1262264550  ...          New York        NaN      NaN\n",
              "1            1      1   1262264524  ...  College Park, MD        NaN      NaN\n",
              "2            2      2   1262264492  ...   La porte, Tejas        NaN      NaN\n",
              "3            3      3   1262264382  ...           Lincoln        NaN      NaN\n",
              "4            4      4   1262264382  ...         Wayne, PA        NaN      NaN\n",
              "..         ...    ...          ...  ...               ...        ...      ...\n",
              "95          95     20   1575547225  ...        California        NaN      NaN\n",
              "96          96     21   1575547221  ...           reno nv        NaN      NaN\n",
              "97          97     22   1575547216  ...       Bend Oregon        NaN      NaN\n",
              "98          98     23   1575547208  ...           Florida        NaN      NaN\n",
              "99          99     24   1575547207  ...        West Coast        NaN      NaN\n",
              "\n",
              "[5282 rows x 28 columns]"
            ]
          },
          "metadata": {},
          "execution_count": 48
        }
      ]
    },
    {
      "cell_type": "code",
      "metadata": {
        "id": "-793tTAAPp9q"
      },
      "source": [
        "concat_df1.to_csv(r'concat_df1.csv', index = False)"
      ],
      "execution_count": 49,
      "outputs": []
    },
    {
      "cell_type": "markdown",
      "metadata": {
        "id": "-DpYbdSo-ewF"
      },
      "source": [
        "No of times a user commented"
      ]
    },
    {
      "cell_type": "code",
      "metadata": {
        "colab": {
          "base_uri": "https://localhost:8080/",
          "height": 417
        },
        "id": "2jW4P1ic0jPJ",
        "outputId": "f9077cb9-4f01-447a-b332-1c62b689cf2c"
      },
      "source": [
        "count_ids = pd.DataFrame(concat_df1.userID.value_counts())\n",
        "count_ids"
      ],
      "execution_count": 50,
      "outputs": [
        {
          "output_type": "execute_result",
          "data": {
            "text/html": [
              "<div>\n",
              "<style scoped>\n",
              "    .dataframe tbody tr th:only-of-type {\n",
              "        vertical-align: middle;\n",
              "    }\n",
              "\n",
              "    .dataframe tbody tr th {\n",
              "        vertical-align: top;\n",
              "    }\n",
              "\n",
              "    .dataframe thead th {\n",
              "        text-align: right;\n",
              "    }\n",
              "</style>\n",
              "<table border=\"1\" class=\"dataframe\">\n",
              "  <thead>\n",
              "    <tr style=\"text-align: right;\">\n",
              "      <th></th>\n",
              "      <th>userID</th>\n",
              "    </tr>\n",
              "  </thead>\n",
              "  <tbody>\n",
              "    <tr>\n",
              "      <th>77908724</th>\n",
              "      <td>13</td>\n",
              "    </tr>\n",
              "    <tr>\n",
              "      <th>61986282</th>\n",
              "      <td>11</td>\n",
              "    </tr>\n",
              "    <tr>\n",
              "      <th>64397379</th>\n",
              "      <td>9</td>\n",
              "    </tr>\n",
              "    <tr>\n",
              "      <th>66771657</th>\n",
              "      <td>8</td>\n",
              "    </tr>\n",
              "    <tr>\n",
              "      <th>73444633</th>\n",
              "      <td>7</td>\n",
              "    </tr>\n",
              "    <tr>\n",
              "      <th>...</th>\n",
              "      <td>...</td>\n",
              "    </tr>\n",
              "    <tr>\n",
              "      <th>72297079</th>\n",
              "      <td>1</td>\n",
              "    </tr>\n",
              "    <tr>\n",
              "      <th>56613997</th>\n",
              "      <td>1</td>\n",
              "    </tr>\n",
              "    <tr>\n",
              "      <th>52261992</th>\n",
              "      <td>1</td>\n",
              "    </tr>\n",
              "    <tr>\n",
              "      <th>15860838</th>\n",
              "      <td>1</td>\n",
              "    </tr>\n",
              "    <tr>\n",
              "      <th>75685888</th>\n",
              "      <td>1</td>\n",
              "    </tr>\n",
              "  </tbody>\n",
              "</table>\n",
              "<p>4385 rows × 1 columns</p>\n",
              "</div>"
            ],
            "text/plain": [
              "          userID\n",
              "77908724      13\n",
              "61986282      11\n",
              "64397379       9\n",
              "66771657       8\n",
              "73444633       7\n",
              "...          ...\n",
              "72297079       1\n",
              "56613997       1\n",
              "52261992       1\n",
              "15860838       1\n",
              "75685888       1\n",
              "\n",
              "[4385 rows x 1 columns]"
            ]
          },
          "metadata": {},
          "execution_count": 50
        }
      ]
    },
    {
      "cell_type": "code",
      "metadata": {
        "colab": {
          "base_uri": "https://localhost:8080/",
          "height": 417
        },
        "id": "sh5Jfe6U02d6",
        "outputId": "fbdf8845-7119-4a72-bd9d-8083b6216b6b"
      },
      "source": [
        "count_ids.reset_index(level=0, inplace = True)\n",
        "count_ids.rename(columns = {'index':'userID', 'userID':'count'}, inplace = True)\n",
        "count_ids"
      ],
      "execution_count": 51,
      "outputs": [
        {
          "output_type": "execute_result",
          "data": {
            "text/html": [
              "<div>\n",
              "<style scoped>\n",
              "    .dataframe tbody tr th:only-of-type {\n",
              "        vertical-align: middle;\n",
              "    }\n",
              "\n",
              "    .dataframe tbody tr th {\n",
              "        vertical-align: top;\n",
              "    }\n",
              "\n",
              "    .dataframe thead th {\n",
              "        text-align: right;\n",
              "    }\n",
              "</style>\n",
              "<table border=\"1\" class=\"dataframe\">\n",
              "  <thead>\n",
              "    <tr style=\"text-align: right;\">\n",
              "      <th></th>\n",
              "      <th>userID</th>\n",
              "      <th>count</th>\n",
              "    </tr>\n",
              "  </thead>\n",
              "  <tbody>\n",
              "    <tr>\n",
              "      <th>0</th>\n",
              "      <td>77908724</td>\n",
              "      <td>13</td>\n",
              "    </tr>\n",
              "    <tr>\n",
              "      <th>1</th>\n",
              "      <td>61986282</td>\n",
              "      <td>11</td>\n",
              "    </tr>\n",
              "    <tr>\n",
              "      <th>2</th>\n",
              "      <td>64397379</td>\n",
              "      <td>9</td>\n",
              "    </tr>\n",
              "    <tr>\n",
              "      <th>3</th>\n",
              "      <td>66771657</td>\n",
              "      <td>8</td>\n",
              "    </tr>\n",
              "    <tr>\n",
              "      <th>4</th>\n",
              "      <td>73444633</td>\n",
              "      <td>7</td>\n",
              "    </tr>\n",
              "    <tr>\n",
              "      <th>...</th>\n",
              "      <td>...</td>\n",
              "      <td>...</td>\n",
              "    </tr>\n",
              "    <tr>\n",
              "      <th>4380</th>\n",
              "      <td>72297079</td>\n",
              "      <td>1</td>\n",
              "    </tr>\n",
              "    <tr>\n",
              "      <th>4381</th>\n",
              "      <td>56613997</td>\n",
              "      <td>1</td>\n",
              "    </tr>\n",
              "    <tr>\n",
              "      <th>4382</th>\n",
              "      <td>52261992</td>\n",
              "      <td>1</td>\n",
              "    </tr>\n",
              "    <tr>\n",
              "      <th>4383</th>\n",
              "      <td>15860838</td>\n",
              "      <td>1</td>\n",
              "    </tr>\n",
              "    <tr>\n",
              "      <th>4384</th>\n",
              "      <td>75685888</td>\n",
              "      <td>1</td>\n",
              "    </tr>\n",
              "  </tbody>\n",
              "</table>\n",
              "<p>4385 rows × 2 columns</p>\n",
              "</div>"
            ],
            "text/plain": [
              "        userID  count\n",
              "0     77908724     13\n",
              "1     61986282     11\n",
              "2     64397379      9\n",
              "3     66771657      8\n",
              "4     73444633      7\n",
              "...        ...    ...\n",
              "4380  72297079      1\n",
              "4381  56613997      1\n",
              "4382  52261992      1\n",
              "4383  15860838      1\n",
              "4384  75685888      1\n",
              "\n",
              "[4385 rows x 2 columns]"
            ]
          },
          "metadata": {},
          "execution_count": 51
        }
      ]
    },
    {
      "cell_type": "code",
      "metadata": {
        "id": "eWhrCTgdk75b"
      },
      "source": [
        "count_ids.to_csv(r'count_ids.csv', index = False)"
      ],
      "execution_count": 52,
      "outputs": []
    },
    {
      "cell_type": "code",
      "metadata": {
        "colab": {
          "base_uri": "https://localhost:8080/"
        },
        "id": "Xm1Dy0z_i0zr",
        "outputId": "0053ed0c-9459-425a-98cc-67a3ca4d48aa"
      },
      "source": [
        "# computing mean of all users_ids counts\n",
        "\n",
        "mean_count = count_ids['count'].mean();\n",
        "mean_count"
      ],
      "execution_count": 53,
      "outputs": [
        {
          "output_type": "execute_result",
          "data": {
            "text/plain": [
              "1.2045610034207526"
            ]
          },
          "metadata": {},
          "execution_count": 53
        }
      ]
    },
    {
      "cell_type": "code",
      "metadata": {
        "colab": {
          "base_uri": "https://localhost:8080/"
        },
        "id": "TSaNhh2njbEy",
        "outputId": "d77ac3d8-e5e4-438b-eb71-1086a1b60d9f"
      },
      "source": [
        "median_count = count_ids['count'].median();\n",
        "median_count"
      ],
      "execution_count": 54,
      "outputs": [
        {
          "output_type": "execute_result",
          "data": {
            "text/plain": [
              "1.0"
            ]
          },
          "metadata": {},
          "execution_count": 54
        }
      ]
    },
    {
      "cell_type": "code",
      "metadata": {
        "colab": {
          "base_uri": "https://localhost:8080/"
        },
        "id": "zAkfr_rtjpRl",
        "outputId": "72641667-92ba-4044-f1fa-3175e851f185"
      },
      "source": [
        "print(concat_df1['userID'].mode())"
      ],
      "execution_count": 55,
      "outputs": [
        {
          "output_type": "stream",
          "name": "stdout",
          "text": [
            "0    77908724\n",
            "dtype: int64\n"
          ]
        }
      ]
    },
    {
      "cell_type": "code",
      "metadata": {
        "colab": {
          "base_uri": "https://localhost:8080/",
          "height": 314
        },
        "id": "2R8pzjmG1l4d",
        "outputId": "cd8acadc-f484-4360-c32f-dda33fc333fc"
      },
      "source": [
        "hist = count_ids.hist(column = ['count'])\n",
        "pl.figure(figsize = (300,300))"
      ],
      "execution_count": 56,
      "outputs": [
        {
          "output_type": "execute_result",
          "data": {
            "text/plain": [
              "<Figure size 21600x21600 with 0 Axes>"
            ]
          },
          "metadata": {},
          "execution_count": 56
        },
        {
          "output_type": "display_data",
          "data": {
            "image/png": "[encoded data removed]",
            "text/plain": [
              "<Figure size 432x288 with 1 Axes>"
            ]
          },
          "metadata": {
            "needs_background": "light"
          }
        },
        {
          "output_type": "display_data",
          "data": {
            "text/plain": [
              "<Figure size 21600x21600 with 0 Axes>"
            ]
          },
          "metadata": {}
        }
      ]
    },
    {
      "cell_type": "markdown",
      "metadata": {
        "id": "fgUrhN_C-wCn"
      },
      "source": [
        "Areas from where most comments come"
      ]
    },
    {
      "cell_type": "code",
      "metadata": {
        "colab": {
          "base_uri": "https://localhost:8080/",
          "height": 417
        },
        "id": "bqOqXRlw-2PK",
        "outputId": "4ce4abd0-2088-4d53-8b58-49f15cddeb5b"
      },
      "source": [
        "count_area = pd.DataFrame(concat_df1.userLocation.value_counts())\n",
        "count_area"
      ],
      "execution_count": 57,
      "outputs": [
        {
          "output_type": "execute_result",
          "data": {
            "text/html": [
              "<div>\n",
              "<style scoped>\n",
              "    .dataframe tbody tr th:only-of-type {\n",
              "        vertical-align: middle;\n",
              "    }\n",
              "\n",
              "    .dataframe tbody tr th {\n",
              "        vertical-align: top;\n",
              "    }\n",
              "\n",
              "    .dataframe thead th {\n",
              "        text-align: right;\n",
              "    }\n",
              "</style>\n",
              "<table border=\"1\" class=\"dataframe\">\n",
              "  <thead>\n",
              "    <tr style=\"text-align: right;\">\n",
              "      <th></th>\n",
              "      <th>userLocation</th>\n",
              "    </tr>\n",
              "  </thead>\n",
              "  <tbody>\n",
              "    <tr>\n",
              "      <th>NYC</th>\n",
              "      <td>183</td>\n",
              "    </tr>\n",
              "    <tr>\n",
              "      <th>New York</th>\n",
              "      <td>113</td>\n",
              "    </tr>\n",
              "    <tr>\n",
              "      <th>California</th>\n",
              "      <td>100</td>\n",
              "    </tr>\n",
              "    <tr>\n",
              "      <th>USA</th>\n",
              "      <td>79</td>\n",
              "    </tr>\n",
              "    <tr>\n",
              "      <th>NY</th>\n",
              "      <td>77</td>\n",
              "    </tr>\n",
              "    <tr>\n",
              "      <th>...</th>\n",
              "      <td>...</td>\n",
              "    </tr>\n",
              "    <tr>\n",
              "      <th>Sydney, Australia</th>\n",
              "      <td>1</td>\n",
              "    </tr>\n",
              "    <tr>\n",
              "      <th>Santa Fe/Austin</th>\n",
              "      <td>1</td>\n",
              "    </tr>\n",
              "    <tr>\n",
              "      <th>Deep fried in Texas</th>\n",
              "      <td>1</td>\n",
              "    </tr>\n",
              "    <tr>\n",
              "      <th>belmont, MA</th>\n",
              "      <td>1</td>\n",
              "    </tr>\n",
              "    <tr>\n",
              "      <th>Flemington</th>\n",
              "      <td>1</td>\n",
              "    </tr>\n",
              "  </tbody>\n",
              "</table>\n",
              "<p>1918 rows × 1 columns</p>\n",
              "</div>"
            ],
            "text/plain": [
              "                     userLocation\n",
              "NYC                           183\n",
              "New York                      113\n",
              "California                    100\n",
              "USA                            79\n",
              "NY                             77\n",
              "...                           ...\n",
              "Sydney, Australia               1\n",
              "Santa Fe/Austin                 1\n",
              "Deep fried in Texas             1\n",
              "belmont, MA                     1\n",
              "Flemington                      1\n",
              "\n",
              "[1918 rows x 1 columns]"
            ]
          },
          "metadata": {},
          "execution_count": 57
        }
      ]
    },
    {
      "cell_type": "code",
      "metadata": {
        "colab": {
          "base_uri": "https://localhost:8080/",
          "height": 417
        },
        "id": "pcLHIDPV_yWc",
        "outputId": "151e4b36-e66c-4874-99ba-ff5741017a58"
      },
      "source": [
        "count_area.reset_index(level=0, inplace = True)\n",
        "count_area.rename(columns = {'index':'userLocation', 'userLocation':'count'}, inplace = True)\n",
        "count_area"
      ],
      "execution_count": 58,
      "outputs": [
        {
          "output_type": "execute_result",
          "data": {
            "text/html": [
              "<div>\n",
              "<style scoped>\n",
              "    .dataframe tbody tr th:only-of-type {\n",
              "        vertical-align: middle;\n",
              "    }\n",
              "\n",
              "    .dataframe tbody tr th {\n",
              "        vertical-align: top;\n",
              "    }\n",
              "\n",
              "    .dataframe thead th {\n",
              "        text-align: right;\n",
              "    }\n",
              "</style>\n",
              "<table border=\"1\" class=\"dataframe\">\n",
              "  <thead>\n",
              "    <tr style=\"text-align: right;\">\n",
              "      <th></th>\n",
              "      <th>userLocation</th>\n",
              "      <th>count</th>\n",
              "    </tr>\n",
              "  </thead>\n",
              "  <tbody>\n",
              "    <tr>\n",
              "      <th>0</th>\n",
              "      <td>NYC</td>\n",
              "      <td>183</td>\n",
              "    </tr>\n",
              "    <tr>\n",
              "      <th>1</th>\n",
              "      <td>New York</td>\n",
              "      <td>113</td>\n",
              "    </tr>\n",
              "    <tr>\n",
              "      <th>2</th>\n",
              "      <td>California</td>\n",
              "      <td>100</td>\n",
              "    </tr>\n",
              "    <tr>\n",
              "      <th>3</th>\n",
              "      <td>USA</td>\n",
              "      <td>79</td>\n",
              "    </tr>\n",
              "    <tr>\n",
              "      <th>4</th>\n",
              "      <td>NY</td>\n",
              "      <td>77</td>\n",
              "    </tr>\n",
              "    <tr>\n",
              "      <th>...</th>\n",
              "      <td>...</td>\n",
              "      <td>...</td>\n",
              "    </tr>\n",
              "    <tr>\n",
              "      <th>1913</th>\n",
              "      <td>Sydney, Australia</td>\n",
              "      <td>1</td>\n",
              "    </tr>\n",
              "    <tr>\n",
              "      <th>1914</th>\n",
              "      <td>Santa Fe/Austin</td>\n",
              "      <td>1</td>\n",
              "    </tr>\n",
              "    <tr>\n",
              "      <th>1915</th>\n",
              "      <td>Deep fried in Texas</td>\n",
              "      <td>1</td>\n",
              "    </tr>\n",
              "    <tr>\n",
              "      <th>1916</th>\n",
              "      <td>belmont, MA</td>\n",
              "      <td>1</td>\n",
              "    </tr>\n",
              "    <tr>\n",
              "      <th>1917</th>\n",
              "      <td>Flemington</td>\n",
              "      <td>1</td>\n",
              "    </tr>\n",
              "  </tbody>\n",
              "</table>\n",
              "<p>1918 rows × 2 columns</p>\n",
              "</div>"
            ],
            "text/plain": [
              "             userLocation  count\n",
              "0                     NYC    183\n",
              "1                New York    113\n",
              "2              California    100\n",
              "3                     USA     79\n",
              "4                      NY     77\n",
              "...                   ...    ...\n",
              "1913    Sydney, Australia      1\n",
              "1914      Santa Fe/Austin      1\n",
              "1915  Deep fried in Texas      1\n",
              "1916          belmont, MA      1\n",
              "1917           Flemington      1\n",
              "\n",
              "[1918 rows x 2 columns]"
            ]
          },
          "metadata": {},
          "execution_count": 58
        }
      ]
    },
    {
      "cell_type": "code",
      "metadata": {
        "id": "dvGFh3N-B8QM"
      },
      "source": [
        "count_area.to_csv(r'count_area.csv', index = False)"
      ],
      "execution_count": 65,
      "outputs": []
    },
    {
      "cell_type": "code",
      "metadata": {
        "colab": {
          "base_uri": "https://localhost:8080/"
        },
        "id": "Fqapd_v4_jhE",
        "outputId": "61ec9e05-1f0c-4736-c3c5-81ce10bbbf2d"
      },
      "source": [
        "mean_count = count_area['count'].mean();\n",
        "mean_count"
      ],
      "execution_count": 59,
      "outputs": [
        {
          "output_type": "execute_result",
          "data": {
            "text/plain": [
              "2.7528675703858188"
            ]
          },
          "metadata": {},
          "execution_count": 59
        }
      ]
    },
    {
      "cell_type": "code",
      "metadata": {
        "colab": {
          "base_uri": "https://localhost:8080/"
        },
        "id": "NSmGMZyFARVR",
        "outputId": "ad10bb9a-e157-4713-8a95-0cf394b31fa1"
      },
      "source": [
        "median_count = count_area['count'].median();\n",
        "median_count"
      ],
      "execution_count": 60,
      "outputs": [
        {
          "output_type": "execute_result",
          "data": {
            "text/plain": [
              "1.0"
            ]
          },
          "metadata": {},
          "execution_count": 60
        }
      ]
    },
    {
      "cell_type": "code",
      "metadata": {
        "colab": {
          "base_uri": "https://localhost:8080/"
        },
        "id": "6ngLX4lTAcx2",
        "outputId": "9e760075-53a5-48d9-88bd-a26366910a9f"
      },
      "source": [
        "print(concat_df1['userLocation'].mode())"
      ],
      "execution_count": 61,
      "outputs": [
        {
          "output_type": "stream",
          "name": "stdout",
          "text": [
            "0    NYC\n",
            "dtype: object\n"
          ]
        }
      ]
    },
    {
      "cell_type": "code",
      "metadata": {
        "colab": {
          "base_uri": "https://localhost:8080/",
          "height": 314
        },
        "id": "ix8hd5Q5BP87",
        "outputId": "c1ee3aa8-b592-4a51-eeac-f890e1c5e735"
      },
      "source": [
        "hist = count_area.hist(column = ['count'])\n",
        "pl.figure(figsize = (300,300))"
      ],
      "execution_count": 64,
      "outputs": [
        {
          "output_type": "execute_result",
          "data": {
            "text/plain": [
              "<Figure size 21600x21600 with 0 Axes>"
            ]
          },
          "metadata": {},
          "execution_count": 64
        },
        {
          "output_type": "display_data",
          "data": {
            "image/png": "[encoded data removed]",
            "text/plain": [
              "<Figure size 432x288 with 1 Axes>"
            ]
          },
          "metadata": {
            "needs_background": "light"
          }
        },
        {
          "output_type": "display_data",
          "data": {
            "text/plain": [
              "<Figure size 21600x21600 with 0 Axes>"
            ]
          },
          "metadata": {}
        }
      ]
    }
  ]
}